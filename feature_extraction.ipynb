{
 "cells": [
  {
   "cell_type": "code",
   "execution_count": 1,
   "metadata": {},
   "outputs": [],
   "source": [
    "import pandas as pd\n",
    "import numpy as np"
   ]
  },
  {
   "cell_type": "code",
   "execution_count": 11,
   "metadata": {},
   "outputs": [
    {
     "name": "stdout",
     "output_type": "stream",
     "text": [
      "['1.https://www.youtube.com/\\n', '2.https://www.google.com/search?q=some+valid+links&rlz=1C1RXQR_enIN993IN995&oq=some+valid+links&aqs=chrome..69i57j0i22i30j0i390i650l4.10499j0j7&sourceid=chrome&ie=UTF-8\\n', '3.https://www.makeuseof.com/tag/4-quick-sites-that-let-you-check-if-links-are-safe/\\n', '4.https://safeweb.norton.com/\\n', '5.https://www.mcafee.com/en-in/index.html\\n', '6.https://www.mcafee.com/en-in/antivirus/mcafee-total-protection.html\\n', '7.https://www.mcafee.com/support/\\n', '8.https://www.mcafee.com/en-in/antivirus/free.html\\n', '9.https://www.google.com/\\n', '10.https://translate.google.com/\\n', '11.https://www.google.com/maps/@15.8954619,80.7610164,7z\\n', '12.https://news.google.com/home?hl=en-IN&gl=IN&ceid=IN:en\\n', '13.https://www.hackerrank.com/\\n', '14.https://numpy.org/\\n', '16.https://accounts.google.com/signin/chrome/sync/identifier?ssp=1&email_hint=ramyareddymrs%40gmail.com&continue=https%3A%2F%2Fwww.google.com%2F&flowName=GlifDesktopChromeSync\\n', '17.https://news.google.com/home?hl=en-IN&gl=IN&ceid=IN:en\\n', '18.https://moz.com/domain-analysis/www.blogger.com\\n', '19.https://www.blogger.com/about/\\n', '20.https://www.linkedin.com/\\n', '21.https://support.google.com/\\n', '22.https://www.apple.com/\\n', '23.https://www.microsoft.com/en-in/\\n', '24.https://play.google.com/store/games?pli=1\\n', '25.https://wordpress.org/\\n', '26.https://en.wikipedia.org/wiki/Main_Page\\n', '27.https://plus.google.com/\\n', '28.https://www.cloudflare.com/en-in/\\n', '29.https://www.google.com/maps/@15.8954619,80.7610164,7z\\n', '30.https://docs.google.com/document/u/0/\\n', '31.https://www.whatsapp.com/\\n', '32.https://www.mozilla.org/en-US/\\n', '33.https://sites.google.com/u/0/new?pli=1&authuser=0\\n', '34.https://european-union.europa.eu/select-language?destination=/node/1\\n', '35.https://www.adobe.com/\\n', '36.https://myaccount.google.com/\\n', '37.https://drive.google.com/\\n', '38.https://www.amazon.com/\\n', '39.https://policies.google.com/\\n', '40.https://www.uol.com.br/\\n', '41.https://vk.com/\\n', '42.https://telegram.org/\\n', '43.https://github.com/\\n', '44.https://www.istockphoto.com/\\n', '46.https://www.facebook.com/\\n', '47.https://pt.wikipedia.org/wiki/Wikip%C3%A9dia:P%C3%A1gina_principal\\n', '48.https://www.msn.com/en-in\\n', '49.https://myspace.com/\\n', '50.https://www.forbes.com/\\n', '51.https://accounts.google.com/v3/signin/confirmidentifier?dsh=S1611201834%3A1681463642268291&continue=https%3A%2F%2Ffeedburner.google.com&ifkv=AQMjQ7TOhmcO9pzgcNXuPSpwdVNgQSKj8rticbKviuulCd1MqyIjzMGm2CIosCbFAg9UzklP5Rn1Yg&service=feedburner&flowName=GlifWebSignIn&flowEntry=ServiceLogin\\n', '52.https://login.live.com/login.srf?wa=wsignin1.0&rpsnv=13&ct=1681463682&rver=7.0.6737.0&wp=MBI_SSL&wreply=https%3a%2f%2foutlook.live.com%2fowa%2f%3fRpsCsrfState%3d7e1ea613-15f8-2ac7-8ab0-079e1daee43f&id=292841&aadredir=1&CBCXT=out&lw=1&fl=dob%2cflname%2cwld&cobrandid=90015\\n', '53.https://www.opera.com/\\n', '54.https://medium.com/\\n', '55.https://www.bbc.com/\\n', '56.https://edition.cnn.com/\\n', '57.https://www.nih.gov/\\n', '58.https://www.weebly.com/in\\n', '59.https://fr.wikipedia.org/wiki/Wikip%C3%A9dia:Accueil_principal\\n', '60.https://buydomains.com/\\n', '61.https://www.google.co.jp/\\n', '62.https://www.google.com/chrome/\\n', '63.https://www.who.int/\\n', '64.https://draft.blogger.com/about/\\n', '65.https://www.brandbucket.com/\\n', '66.https://www.paypal.com/in/home\\n', '67.https://www.shopify.com/\\n', '68.https://www.jimdo.com/\\n', '69.https://creativecommons.org/\\n', '70.https://www.wikimedia.org/\\n', '71.https://en.gravatar.com/\\n', '72.https://developers.google.com/\\n', '73.https://enable-javascript.com/\\n', '74.https://www.imdb.com/\\n', '75.https://www.theguardian.com/international\\n', '76.https://wordpress.com/\\n', '77.https://www.google.de/\\n', '78.https://ok.ru/\\n', '80.https://globo.com/\\n', '81.https://www.yahoo.com/?guccounter=1&guce_referrer=aHR0cHM6Ly9tb3ouY29tL3RvcDUwMA&guce_referrer_sig=AQAAAIhlQkmcTWJw5NAcDLFlpkRibSiF4qpkRJZ4cQ82yj6f5SIPEqKpHf7L9YEMZoIJAdwD1ymL2a_BH7E4Qct3SpIQRgQEtSJ2-TjSghGVJurfG55aIbn4A07JN2YskZjFY5nt7yd9filBLToRV8vwRy8bQvcy1ZNw-e6QkSLffjNt\\n', '82.https://www.google.com.br/\\n', '83.https://www.nytimes.com/\\n', '84.https://www.dailymotion.com/in\\n', '85.https://www.google.es/\\n', '86.https://es.wikipedia.org/wiki/Wikipedia:Portada\\n', '87.https://www.gstatic.com/\\n', '88.https://www.dropbox.com/\\n', '89.https://line.me/en/\\n', '90.https://www.domainmarket.com/\\n', '91.https://photos.google.com/\\n', '92.https://www.cdc.gov/\\n', '93.https://telegram.org/\\n', '94.https://www.aliexpress.com/\\n', '95.https://www.fandom.com/\\n', '96.https://www.hugedomains.com/\\n', '98.https://www.foxnews.com/\\n', '100.https://www.amazon.co.jp/\\n', '101.https://www.researchgate.net/\\n', '102.https://www.gov.uk/\\n', '103.https://pixabay.com/\\n', '104.https://discord.com/\\n', '105.https://www.un.org/\\n', '106.https://www.amazon.co.uk/\\n', '107.https://www.amazon.de/\\n', '108.https://www.4shared.com/\\n', '109.https://www.fandom.com/explore\\n', '110.https://estadao.com.br/\\n', '111.https://www.instagram.com/\\n', '112.https://www.independent.co.uk/asia?CMP=ILC-refresh\\n', '113.https://www.samsung.com/in/\\n', '114.https://www.google.pl/\\n', '115.https://soundcloud.com/\\n', '116.https://www.bloomberg.com/asia\\n', '117.https://twitter.com/\\n', '118.https://www.businessinsider.in/?r=US&IR=T\\n', '119.https://www.google.com/\\n', '120.https://news.yahoo.com/\\n', '121.https://www.ig.com.br/\\n', '122.https://issuu.com/\\n', '123.https://de.wikipedia.org/wiki/Wikipedia:Hauptseite\\n', '124.https://api.whatsapp.com/\\n', '125.https://www.indiatimes.com/\\n', '126.https://www.bing.com/?toWww=1&redig=010E0225AC0E4FEF9F4A5E74F35ACCB0\\n', '127.https://bitly.com/\\n', '128.https://myaccount.google.com/\\n', '129.https://www.assine.abril.com.br/novoassine/home.html?redirect=abrilcom\\n', '130.https://www.netvibes.com/consent?url=https%3A%2F%2Fwww.netvibes.com%2F\\n', '131.https://www.dailymail.co.uk/home/index.html\\n', '132.https://www.usatoday.com/\\n', '133.https://www.huffpost.com/\\n', '134.https://www.scribd.com/\\n', '135.https://www.huffpost.com/\\n', '136.https://www.shutterstock.com/\\n', '138.https://www.nature.com/\\n', '139.https://www.bbc.com/\\n', '140.https://www.abc.es/\\n', '141.https://www.webmd.com/\\n', '142.https://get.google.com/albumarchive/118222072966580349531\\n', '143.https://www.afternic.com/\\n', '144.https://www.nasa.gov/\\n', '145.https://www.reuters.com/\\n', '146.https://archive.org/\\n', '147.https://www.ft.com/\\n', '148.https://www.terra.com.br/\\n', '149.https://www.cnet.com/\\n', '150.https://youradchoices.com/\\n', '151.https://developers.googleblog.com/2018/03/transitioning-google-url-shortener.html\\n', '152.https://forms.gle/\\n', '153.https://www.namecheap.com/\\n', '154.https://time.com/\\n', '155.https://www.youronlinechoices.com/\\n', '156.https://www.thesun.co.uk/\\n', '157.https://mail.ru/\\n', '158.https://www.plesk.com/\\n', '159.https://www.gov.br/planalto/pt-br\\n', '160.https://www.hatena.ne.jp/\\n', '161.https://cpanel.net/\\n', '162.https://www.office.com/\\n', '163.https://www.mirror.co.uk/\\n', '164.https://marketingplatform.google.com/about/\\n', '165.https://imageshack.com/\\n', '166.https://www.telegraph.co.uk/\\n', '167.https://in.pinterest.com/\\n', '168.https://www.change.org/\\n', '169.https://www.amazon.es/\\n', '170.https://ru.wikipedia.org/wiki/%D0%97%D0%B0%D0%B3%D0%BB%D0%B0%D0%B2%D0%BD%D0%B0%D1%8F_%D1%81%D1%82%D1%80%D0%B0%D0%BD%D0%B8%D1%86%D0%B0\\n', '171.https://disk.yandex.com/\\n', '172.https://elpais.com/\\n', '173.https://it.wikipedia.org/wiki/Pagina_principale\\n', '174.https://www.washingtonpost.com/\\n', '175.https://wordpress.com/\\n', '176.https://www.w3.org/\\n', '177.https://mail.google.com/mail/u/0/#inbox\\n', '178.https://ria.ru/\\n', '179.https://www.francetvinfo.fr/\\n', '180.https://www.theguardian.com/international\\n', '181.https://www.gnu.org/\\n', '182.https://www.wikipedia.org/\\n', '183.https://bandcamp.com/\\n', '184.https://www.wix.com/\\n', '185.https://www.tmz.com/\\n', '186.https://global.oup.com/?cc=gb\\n', '187.https://www.lemonde.fr/\\n', '188.https://www.walmart.com/\\n', '189.https://nginx.org/\\n', '190.https://www.yelp.com/\\n', '191.https://www.amazon.fr/\\n', '192.https://search.yahoo.com/\\n', '193.https://www.abc.net.au/\\n', '194.https://www.liveinternet.ru/\\n', '195.https://discord.com/\\n', '196.https://www.ietf.org/\\n', '197.https://www.dreamstime.com/\\n', '198.https://www.hp.com/in-en/home.html\\n', '199.https://www.berkeley.edu/\\n', '200.https://www.secureserver.net/\\n', '201.https://www.addthis.com/\\n', '202.https://photos1.blogger.com/\\n', '203.https://www.cointernet.com.co/\\n', '204.https://www.biglobe.ne.jp/\\n', '205.https://home.pl/\\n', '206.https://abcnews.go.com/\\n', '207.https://www.ebay.com/\\n', '208.https://zoom.us/\\n', '209.https://techcrunch.com/\\n', '210.https://www.ftc.gov/\\n', '211.https://www.buzzfeed.com/in\\n', '212.https://calendar.google.com/calendar/u/0/r\\n', '213.https://www.britannica.com/\\n', '214.https://www.yahoo.co.jp/\\n', '215.https://www.smh.com.au/\\n', '216.https://thenai.org/\\n', '217.https://www.amazon.com/\\n', '218.https://www.ovhcloud.com/en/\\n', '219.https://www.radiofrance.fr/\\n', '220.https://ja.wikipedia.org/wiki/%E3%83%A1%E3%82%A4%E3%83%B3%E3%83%9A%E3%83%BC%E3%82%B8\\n', '221.https://www.express.co.uk/\\n', '222.https://www.npr.org/\\n', '223.https://disqus.com/\\n', '224.https://www.ibm.com/in-en\\n', '225.https://www.kickstarter.com/\\n', '226.https://www.php.net/\\n', '227.https://news.google.com/\\n', '228.https://www.google.nl/\\n', '229.https://plos.org/\\n', '230.https://offset.com/\\n', '231.https://www.netflix.com/in/\\n', '232.https://www.newsweek.com/\\n', '233.https://proof.ovh.net/\\n', '234.https://www.economist.com/\\n', '235.https://www.rakuten.co.jp/\\n', '236.https://www.urbandictionary.com/\\n', '237.https://imageshack.com/\\n', '238.https://www.000webhost.com/\\n', '239.https://themeforest.net/\\n', '240.https://www.aol.com/\\n', '241.https://www.huawei.com/en/?ic_medium=direct&ic_source=surlent\\n', '242.https://www.zdf.de/\\n', '243.https://www.canada.ca/']\n"
     ]
    }
   ],
   "source": [
    "fl=open(r'legit.txt','r')\n",
    "tempurls=fl.readlines()\n",
    "print(tempurls)"
   ]
  },
  {
   "cell_type": "code",
   "execution_count": 5,
   "metadata": {},
   "outputs": [],
   "source": [
    "tempurls=tempurls[:len(tempurls)-1]"
   ]
  },
  {
   "cell_type": "code",
   "execution_count": 4,
   "metadata": {},
   "outputs": [
    {
     "data": {
      "text/plain": [
       "['1.https://www.youtube.com/\\n',\n",
       " '2.https://www.google.com/search?q=some+valid+links&rlz=1C1RXQR_enIN993IN995&oq=some+valid+links&aqs=chrome..69i57j0i22i30j0i390i650l4.10499j0j7&sourceid=chrome&ie=UTF-8\\n',\n",
       " '3.https://www.makeuseof.com/tag/4-quick-sites-that-let-you-check-if-links-are-safe/\\n',\n",
       " '4.https://safeweb.norton.com/\\n',\n",
       " '5.https://www.mcafee.com/en-in/index.html\\n',\n",
       " '6.https://www.mcafee.com/en-in/antivirus/mcafee-total-protection.html\\n',\n",
       " '7.https://www.mcafee.com/support/\\n',\n",
       " '8.https://www.mcafee.com/en-in/antivirus/free.html\\n',\n",
       " '9.https://www.google.com/\\n',\n",
       " '10.https://translate.google.com/\\n',\n",
       " '11.https://www.google.com/maps/@15.8954619,80.7610164,7z\\n',\n",
       " '12.https://news.google.com/home?hl=en-IN&gl=IN&ceid=IN:en\\n',\n",
       " '13.https://www.hackerrank.com/\\n',\n",
       " '14.https://numpy.org/\\n',\n",
       " '16.https://accounts.google.com/signin/chrome/sync/identifier?ssp=1&email_hint=ramyareddymrs%40gmail.com&continue=https%3A%2F%2Fwww.google.com%2F&flowName=GlifDesktopChromeSync\\n',\n",
       " '17.https://news.google.com/home?hl=en-IN&gl=IN&ceid=IN:en\\n',\n",
       " '18.https://moz.com/domain-analysis/www.blogger.com\\n',\n",
       " '19.https://www.blogger.com/about/\\n',\n",
       " '20.https://www.linkedin.com/\\n',\n",
       " '21.https://support.google.com/\\n',\n",
       " '22.https://www.apple.com/\\n',\n",
       " '23.https://www.microsoft.com/en-in/\\n',\n",
       " '24.https://play.google.com/store/games?pli=1\\n',\n",
       " '25.https://wordpress.org/\\n',\n",
       " '26.https://en.wikipedia.org/wiki/Main_Page\\n',\n",
       " '27.https://plus.google.com/\\n',\n",
       " '28.https://www.cloudflare.com/en-in/\\n',\n",
       " '29.https://www.google.com/maps/@15.8954619,80.7610164,7z\\n',\n",
       " '30.https://docs.google.com/document/u/0/\\n',\n",
       " '31.https://www.whatsapp.com/\\n',\n",
       " '32.https://www.mozilla.org/en-US/\\n',\n",
       " '33.https://sites.google.com/u/0/new?pli=1&authuser=0\\n',\n",
       " '34.https://european-union.europa.eu/select-language?destination=/node/1\\n',\n",
       " '35.https://www.adobe.com/\\n',\n",
       " '36.https://myaccount.google.com/\\n',\n",
       " '37.https://drive.google.com/\\n',\n",
       " '38.https://www.amazon.com/\\n',\n",
       " '39.https://policies.google.com/\\n',\n",
       " '40.https://www.uol.com.br/\\n',\n",
       " '41.https://vk.com/\\n',\n",
       " '42.https://telegram.org/\\n',\n",
       " '43.https://github.com/\\n',\n",
       " '44.https://www.istockphoto.com/\\n',\n",
       " '46.https://www.facebook.com/\\n',\n",
       " '47.https://pt.wikipedia.org/wiki/Wikip%C3%A9dia:P%C3%A1gina_principal\\n',\n",
       " '48.https://www.msn.com/en-in\\n',\n",
       " '49.https://myspace.com/\\n',\n",
       " '50.https://www.forbes.com/\\n',\n",
       " '51.https://accounts.google.com/v3/signin/confirmidentifier?dsh=S1611201834%3A1681463642268291&continue=https%3A%2F%2Ffeedburner.google.com&ifkv=AQMjQ7TOhmcO9pzgcNXuPSpwdVNgQSKj8rticbKviuulCd1MqyIjzMGm2CIosCbFAg9UzklP5Rn1Yg&service=feedburner&flowName=GlifWebSignIn&flowEntry=ServiceLogin\\n',\n",
       " '52.https://login.live.com/login.srf?wa=wsignin1.0&rpsnv=13&ct=1681463682&rver=7.0.6737.0&wp=MBI_SSL&wreply=https%3a%2f%2foutlook.live.com%2fowa%2f%3fRpsCsrfState%3d7e1ea613-15f8-2ac7-8ab0-079e1daee43f&id=292841&aadredir=1&CBCXT=out&lw=1&fl=dob%2cflname%2cwld&cobrandid=90015\\n',\n",
       " '53.https://www.opera.com/\\n',\n",
       " '54.https://medium.com/\\n',\n",
       " '55.https://www.bbc.com/\\n',\n",
       " '56.https://edition.cnn.com/\\n',\n",
       " '57.https://www.nih.gov/\\n',\n",
       " '58.https://www.weebly.com/in\\n',\n",
       " '59.https://fr.wikipedia.org/wiki/Wikip%C3%A9dia:Accueil_principal\\n',\n",
       " '60.https://buydomains.com/\\n',\n",
       " '61.https://www.google.co.jp/\\n',\n",
       " '62.https://www.google.com/chrome/\\n',\n",
       " '63.https://www.who.int/\\n',\n",
       " '64.https://draft.blogger.com/about/\\n',\n",
       " '65.https://www.brandbucket.com/\\n',\n",
       " '66.https://www.paypal.com/in/home\\n',\n",
       " '67.https://www.shopify.com/\\n',\n",
       " '68.https://www.jimdo.com/\\n',\n",
       " '69.https://creativecommons.org/\\n',\n",
       " '70.https://www.wikimedia.org/\\n',\n",
       " '71.https://en.gravatar.com/\\n',\n",
       " '72.https://developers.google.com/\\n',\n",
       " '73.https://enable-javascript.com/\\n',\n",
       " '74.https://www.imdb.com/\\n',\n",
       " '75.https://www.theguardian.com/international\\n',\n",
       " '76.https://wordpress.com/\\n',\n",
       " '77.https://www.google.de/\\n',\n",
       " '78.https://ok.ru/\\n',\n",
       " '80.https://globo.com/\\n',\n",
       " '81.https://www.yahoo.com/?guccounter=1&guce_referrer=aHR0cHM6Ly9tb3ouY29tL3RvcDUwMA&guce_referrer_sig=AQAAAIhlQkmcTWJw5NAcDLFlpkRibSiF4qpkRJZ4cQ82yj6f5SIPEqKpHf7L9YEMZoIJAdwD1ymL2a_BH7E4Qct3SpIQRgQEtSJ2-TjSghGVJurfG55aIbn4A07JN2YskZjFY5nt7yd9filBLToRV8vwRy8bQvcy1ZNw-e6QkSLffjNt\\n',\n",
       " '82.https://www.google.com.br/\\n',\n",
       " '83.https://www.nytimes.com/\\n',\n",
       " '84.https://www.dailymotion.com/in\\n',\n",
       " '85.https://www.google.es/\\n',\n",
       " '86.https://es.wikipedia.org/wiki/Wikipedia:Portada\\n',\n",
       " '87.https://www.gstatic.com/\\n',\n",
       " '88.https://www.dropbox.com/\\n',\n",
       " '89.https://line.me/en/\\n',\n",
       " '90.https://www.domainmarket.com/\\n',\n",
       " '91.https://photos.google.com/\\n',\n",
       " '92.https://www.cdc.gov/\\n',\n",
       " '93.https://telegram.org/\\n',\n",
       " '94.https://www.aliexpress.com/\\n',\n",
       " '95.https://www.fandom.com/\\n',\n",
       " '96.https://www.hugedomains.com/\\n',\n",
       " '98.https://www.foxnews.com/\\n',\n",
       " '100.https://www.amazon.co.jp/\\n',\n",
       " '101.https://www.researchgate.net/\\n',\n",
       " '102.https://www.gov.uk/\\n',\n",
       " '103.https://pixabay.com/\\n',\n",
       " '104.https://discord.com/\\n',\n",
       " '105.https://www.un.org/\\n',\n",
       " '106.https://www.amazon.co.uk/\\n',\n",
       " '107.https://www.amazon.de/\\n',\n",
       " '108.https://www.4shared.com/\\n',\n",
       " '109.https://www.fandom.com/explore\\n',\n",
       " '110.https://estadao.com.br/\\n',\n",
       " '111.https://www.instagram.com/\\n',\n",
       " '112.https://www.independent.co.uk/asia?CMP=ILC-refresh\\n',\n",
       " '113.https://www.samsung.com/in/\\n',\n",
       " '114.https://www.google.pl/\\n',\n",
       " '115.https://soundcloud.com/\\n',\n",
       " '116.https://www.bloomberg.com/asia\\n',\n",
       " '117.https://twitter.com/\\n',\n",
       " '118.https://www.businessinsider.in/?r=US&IR=T\\n',\n",
       " '119.https://www.google.com/\\n',\n",
       " '120.https://news.yahoo.com/\\n',\n",
       " '121.https://www.ig.com.br/\\n',\n",
       " '122.https://issuu.com/\\n',\n",
       " '123.https://de.wikipedia.org/wiki/Wikipedia:Hauptseite\\n',\n",
       " '124.https://api.whatsapp.com/\\n',\n",
       " '125.https://www.indiatimes.com/\\n',\n",
       " '126.https://www.bing.com/?toWww=1&redig=010E0225AC0E4FEF9F4A5E74F35ACCB0\\n',\n",
       " '127.https://bitly.com/\\n',\n",
       " '128.https://myaccount.google.com/\\n',\n",
       " '129.https://www.assine.abril.com.br/novoassine/home.html?redirect=abrilcom\\n',\n",
       " '130.https://www.netvibes.com/consent?url=https%3A%2F%2Fwww.netvibes.com%2F\\n',\n",
       " '131.https://www.dailymail.co.uk/home/index.html\\n',\n",
       " '132.https://www.usatoday.com/\\n',\n",
       " '133.https://www.huffpost.com/\\n',\n",
       " '134.https://www.scribd.com/\\n',\n",
       " '135.https://www.huffpost.com/\\n',\n",
       " '136.https://www.shutterstock.com/\\n',\n",
       " '138.https://www.nature.com/\\n',\n",
       " '139.https://www.bbc.com/\\n',\n",
       " '140.https://www.abc.es/\\n',\n",
       " '141.https://www.webmd.com/\\n',\n",
       " '142.https://get.google.com/albumarchive/118222072966580349531\\n',\n",
       " '143.https://www.afternic.com/\\n',\n",
       " '144.https://www.nasa.gov/\\n',\n",
       " '145.https://www.reuters.com/\\n',\n",
       " '146.https://archive.org/\\n',\n",
       " '147.https://www.ft.com/\\n',\n",
       " '148.https://www.terra.com.br/\\n',\n",
       " '149.https://www.cnet.com/\\n',\n",
       " '150.https://youradchoices.com/\\n',\n",
       " '151.https://developers.googleblog.com/2018/03/transitioning-google-url-shortener.html\\n',\n",
       " '152.https://forms.gle/\\n',\n",
       " '153.https://www.namecheap.com/\\n',\n",
       " '154.https://time.com/\\n',\n",
       " '155.https://www.youronlinechoices.com/\\n',\n",
       " '156.https://www.thesun.co.uk/\\n',\n",
       " '157.https://mail.ru/\\n',\n",
       " '158.https://www.plesk.com/\\n',\n",
       " '159.https://www.gov.br/planalto/pt-br\\n',\n",
       " '160.https://www.hatena.ne.jp/\\n',\n",
       " '161.https://cpanel.net/\\n',\n",
       " '162.https://www.office.com/\\n',\n",
       " '163.https://www.mirror.co.uk/\\n',\n",
       " '164.https://marketingplatform.google.com/about/\\n',\n",
       " '165.https://imageshack.com/\\n',\n",
       " '166.https://www.telegraph.co.uk/\\n',\n",
       " '167.https://in.pinterest.com/\\n',\n",
       " '168.https://www.change.org/\\n',\n",
       " '169.https://www.amazon.es/\\n',\n",
       " '170.https://ru.wikipedia.org/wiki/%D0%97%D0%B0%D0%B3%D0%BB%D0%B0%D0%B2%D0%BD%D0%B0%D1%8F_%D1%81%D1%82%D1%80%D0%B0%D0%BD%D0%B8%D1%86%D0%B0\\n',\n",
       " '171.https://disk.yandex.com/\\n',\n",
       " '172.https://elpais.com/\\n',\n",
       " '173.https://it.wikipedia.org/wiki/Pagina_principale\\n',\n",
       " '174.https://www.washingtonpost.com/\\n',\n",
       " '175.https://wordpress.com/\\n',\n",
       " '176.https://www.w3.org/\\n',\n",
       " '177.https://mail.google.com/mail/u/0/#inbox\\n',\n",
       " '178.https://ria.ru/\\n',\n",
       " '179.https://www.francetvinfo.fr/\\n',\n",
       " '180.https://www.theguardian.com/international\\n',\n",
       " '181.https://www.gnu.org/\\n',\n",
       " '182.https://www.wikipedia.org/\\n',\n",
       " '183.https://bandcamp.com/\\n',\n",
       " '184.https://www.wix.com/\\n',\n",
       " '185.https://www.tmz.com/\\n',\n",
       " '186.https://global.oup.com/?cc=gb\\n',\n",
       " '187.https://www.lemonde.fr/\\n',\n",
       " '188.https://www.walmart.com/\\n',\n",
       " '189.https://nginx.org/\\n',\n",
       " '190.https://www.yelp.com/\\n',\n",
       " '191.https://www.amazon.fr/\\n',\n",
       " '192.https://search.yahoo.com/\\n',\n",
       " '193.https://www.abc.net.au/\\n',\n",
       " '194.https://www.liveinternet.ru/\\n',\n",
       " '195.https://discord.com/\\n',\n",
       " '196.https://www.ietf.org/\\n',\n",
       " '197.https://www.dreamstime.com/\\n',\n",
       " '198.https://www.hp.com/in-en/home.html\\n',\n",
       " '199.https://www.berkeley.edu/\\n',\n",
       " '200.https://www.secureserver.net/\\n',\n",
       " '201.https://www.addthis.com/\\n',\n",
       " '202.https://photos1.blogger.com/\\n',\n",
       " '203.https://www.cointernet.com.co/\\n',\n",
       " '204.https://www.biglobe.ne.jp/\\n',\n",
       " '205.https://home.pl/\\n',\n",
       " '206.https://abcnews.go.com/\\n',\n",
       " '207.https://www.ebay.com/\\n',\n",
       " '208.https://zoom.us/\\n',\n",
       " '209.https://techcrunch.com/\\n',\n",
       " '210.https://www.ftc.gov/\\n',\n",
       " '211.https://www.buzzfeed.com/in\\n',\n",
       " '212.https://calendar.google.com/calendar/u/0/r\\n',\n",
       " '213.https://www.britannica.com/\\n',\n",
       " '214.https://www.yahoo.co.jp/\\n',\n",
       " '215.https://www.smh.com.au/\\n',\n",
       " '216.https://thenai.org/\\n',\n",
       " '217.https://www.amazon.com/\\n',\n",
       " '218.https://www.ovhcloud.com/en/\\n',\n",
       " '219.https://www.radiofrance.fr/\\n',\n",
       " '220.https://ja.wikipedia.org/wiki/%E3%83%A1%E3%82%A4%E3%83%B3%E3%83%9A%E3%83%BC%E3%82%B8\\n',\n",
       " '221.https://www.express.co.uk/\\n',\n",
       " '222.https://www.npr.org/\\n',\n",
       " '223.https://disqus.com/\\n',\n",
       " '224.https://www.ibm.com/in-en\\n',\n",
       " '225.https://www.kickstarter.com/\\n',\n",
       " '226.https://www.php.net/\\n',\n",
       " '227.https://news.google.com/\\n',\n",
       " '228.https://www.google.nl/\\n',\n",
       " '229.https://plos.org/\\n',\n",
       " '230.https://offset.com/\\n',\n",
       " '231.https://www.netflix.com/in/\\n',\n",
       " '232.https://www.newsweek.com/\\n',\n",
       " '233.https://proof.ovh.net/\\n',\n",
       " '234.https://www.economist.com/\\n',\n",
       " '235.https://www.rakuten.co.jp/\\n',\n",
       " '236.https://www.urbandictionary.com/\\n',\n",
       " '237.https://imageshack.com/\\n',\n",
       " '238.https://www.000webhost.com/\\n',\n",
       " '239.https://themeforest.net/\\n',\n",
       " '240.https://www.aol.com/\\n',\n",
       " '241.https://www.huawei.com/en/?ic_medium=direct&ic_source=surlent\\n',\n",
       " '242.https://www.zdf.de/\\n',\n",
       " '243.https://www.canada.ca/']"
      ]
     },
     "execution_count": 4,
     "metadata": {},
     "output_type": "execute_result"
    }
   ],
   "source": [
    "tempurls"
   ]
  },
  {
   "cell_type": "code",
   "execution_count": 14,
   "metadata": {},
   "outputs": [
    {
     "data": {
      "text/plain": [
       "'https://www.youtube.com/'"
      ]
     },
     "execution_count": 14,
     "metadata": {},
     "output_type": "execute_result"
    }
   ],
   "source": [
    "tempurls[0][:len(tempurls[0])-1]"
   ]
  },
  {
   "cell_type": "code",
   "execution_count": 15,
   "metadata": {},
   "outputs": [
    {
     "name": "stdout",
     "output_type": "stream",
     "text": [
      "['https://www.youtube.com/', 'https://www.google.com/search?q=some+valid+links&rlz=1C1RXQR_enIN993IN995&oq=some+valid+links&aqs=chrome..69i57j0i22i30j0i390i650l4.10499j0j7&sourceid=chrome&ie=UTF-8', 'https://www.makeuseof.com/tag/4-quick-sites-that-let-you-check-if-links-are-safe/', 'https://safeweb.norton.com/', 'https://www.mcafee.com/en-in/index.html', 'https://www.mcafee.com/en-in/antivirus/mcafee-total-protection.html', 'https://www.mcafee.com/support/', 'https://www.mcafee.com/en-in/antivirus/free.html', 'https://www.google.com/', 'https://translate.google.com/', 'https://www.google.com/maps/@15.8954619,80.7610164,7z', 'https://news.google.com/home?hl=en-IN&gl=IN&ceid=IN:en', 'https://www.hackerrank.com/', 'https://numpy.org/', 'https://accounts.google.com/signin/chrome/sync/identifier?ssp=1&email_hint=ramyareddymrs%40gmail.com&continue=https%3A%2F%2Fwww.google.com%2F&flowName=GlifDesktopChromeSync', 'https://news.google.com/home?hl=en-IN&gl=IN&ceid=IN:en', 'https://moz.com/domain-analysis/www.blogger.com', 'https://www.blogger.com/about/', 'https://www.linkedin.com/', 'https://support.google.com/', 'https://www.apple.com/', 'https://www.microsoft.com/en-in/', 'https://play.google.com/store/games?pli=1', 'https://wordpress.org/', 'https://en.wikipedia.org/wiki/Main_Page', 'https://plus.google.com/', 'https://www.cloudflare.com/en-in/', 'https://www.google.com/maps/@15.8954619,80.7610164,7z', 'https://docs.google.com/document/u/0/', 'https://www.whatsapp.com/', 'https://www.mozilla.org/en-US/', 'https://sites.google.com/u/0/new?pli=1&authuser=0', 'https://european-union.europa.eu/select-language?destination=/node/1', 'https://www.adobe.com/', 'https://myaccount.google.com/', 'https://drive.google.com/', 'https://www.amazon.com/', 'https://policies.google.com/', 'https://www.uol.com.br/', 'https://vk.com/', 'https://telegram.org/', 'https://github.com/', 'https://www.istockphoto.com/', 'https://www.facebook.com/', 'https://pt.wikipedia.org/wiki/Wikip%C3%A9dia:P%C3%A1gina_principal', 'https://www.msn.com/en-in', 'https://myspace.com/', 'https://www.forbes.com/', 'https://accounts.google.com/v3/signin/confirmidentifier?dsh=S1611201834%3A1681463642268291&continue=https%3A%2F%2Ffeedburner.google.com&ifkv=AQMjQ7TOhmcO9pzgcNXuPSpwdVNgQSKj8rticbKviuulCd1MqyIjzMGm2CIosCbFAg9UzklP5Rn1Yg&service=feedburner&flowName=GlifWebSignIn&flowEntry=ServiceLogin', 'https://login.live.com/login.srf?wa=wsignin1.0&rpsnv=13&ct=1681463682&rver=7.0.6737.0&wp=MBI_SSL&wreply=https%3a%2f%2foutlook.live.com%2fowa%2f%3fRpsCsrfState%3d7e1ea613-15f8-2ac7-8ab0-079e1daee43f&id=292841&aadredir=1&CBCXT=out&lw=1&fl=dob%2cflname%2cwld&cobrandid=90015', 'https://www.opera.com/', 'https://medium.com/', 'https://www.bbc.com/', 'https://edition.cnn.com/', 'https://www.nih.gov/', 'https://www.weebly.com/in', 'https://fr.wikipedia.org/wiki/Wikip%C3%A9dia:Accueil_principal', 'https://buydomains.com/', 'https://www.google.co.jp/', 'https://www.google.com/chrome/', 'https://www.who.int/', 'https://draft.blogger.com/about/', 'https://www.brandbucket.com/', 'https://www.paypal.com/in/home', 'https://www.shopify.com/', 'https://www.jimdo.com/', 'https://creativecommons.org/', 'https://www.wikimedia.org/', 'https://en.gravatar.com/', 'https://developers.google.com/', 'https://enable-javascript.com/', 'https://www.imdb.com/', 'https://www.theguardian.com/international', 'https://wordpress.com/', 'https://www.google.de/', 'https://ok.ru/', 'https://globo.com/', 'https://www.yahoo.com/?guccounter=1&guce_referrer=aHR0cHM6Ly9tb3ouY29tL3RvcDUwMA&guce_referrer_sig=AQAAAIhlQkmcTWJw5NAcDLFlpkRibSiF4qpkRJZ4cQ82yj6f5SIPEqKpHf7L9YEMZoIJAdwD1ymL2a_BH7E4Qct3SpIQRgQEtSJ2-TjSghGVJurfG55aIbn4A07JN2YskZjFY5nt7yd9filBLToRV8vwRy8bQvcy1ZNw-e6QkSLffjNt', 'https://www.google.com.br/', 'https://www.nytimes.com/', 'https://www.dailymotion.com/in', 'https://www.google.es/', 'https://es.wikipedia.org/wiki/Wikipedia:Portada', 'https://www.gstatic.com/', 'https://www.dropbox.com/', 'https://line.me/en/', 'https://www.domainmarket.com/', 'https://photos.google.com/', 'https://www.cdc.gov/', 'https://telegram.org/', 'https://www.aliexpress.com/', 'https://www.fandom.com/', 'https://www.hugedomains.com/', 'https://www.foxnews.com/', 'https://www.amazon.co.jp/', 'https://www.researchgate.net/', 'https://www.gov.uk/', 'https://pixabay.com/', 'https://discord.com/', 'https://www.un.org/', 'https://www.amazon.co.uk/', 'https://www.amazon.de/', 'https://www.4shared.com/', 'https://www.fandom.com/explore', 'https://estadao.com.br/', 'https://www.instagram.com/', 'https://www.independent.co.uk/asia?CMP=ILC-refresh', 'https://www.samsung.com/in/', 'https://www.google.pl/', 'https://soundcloud.com/', 'https://www.bloomberg.com/asia', 'https://twitter.com/', 'https://www.businessinsider.in/?r=US&IR=T', 'https://www.google.com/', 'https://news.yahoo.com/', 'https://www.ig.com.br/', 'https://issuu.com/', 'https://de.wikipedia.org/wiki/Wikipedia:Hauptseite', 'https://api.whatsapp.com/', 'https://www.indiatimes.com/', 'https://www.bing.com/?toWww=1&redig=010E0225AC0E4FEF9F4A5E74F35ACCB0', 'https://bitly.com/', 'https://myaccount.google.com/', 'https://www.assine.abril.com.br/novoassine/home.html?redirect=abrilcom', 'https://www.netvibes.com/consent?url=https%3A%2F%2Fwww.netvibes.com%2F', 'https://www.dailymail.co.uk/home/index.html', 'https://www.usatoday.com/', 'https://www.huffpost.com/', 'https://www.scribd.com/', 'https://www.huffpost.com/', 'https://www.shutterstock.com/', 'https://www.nature.com/', 'https://www.bbc.com/', 'https://www.abc.es/', 'https://www.webmd.com/', 'https://get.google.com/albumarchive/118222072966580349531', 'https://www.afternic.com/', 'https://www.nasa.gov/', 'https://www.reuters.com/', 'https://archive.org/', 'https://www.ft.com/', 'https://www.terra.com.br/', 'https://www.cnet.com/', 'https://youradchoices.com/', 'https://developers.googleblog.com/2018/03/transitioning-google-url-shortener.html', 'https://forms.gle/', 'https://www.namecheap.com/', 'https://time.com/', 'https://www.youronlinechoices.com/', 'https://www.thesun.co.uk/', 'https://mail.ru/', 'https://www.plesk.com/', 'https://www.gov.br/planalto/pt-br', 'https://www.hatena.ne.jp/', 'https://cpanel.net/', 'https://www.office.com/', 'https://www.mirror.co.uk/', 'https://marketingplatform.google.com/about/', 'https://imageshack.com/', 'https://www.telegraph.co.uk/', 'https://in.pinterest.com/', 'https://www.change.org/', 'https://www.amazon.es/', 'https://ru.wikipedia.org/wiki/%D0%97%D0%B0%D0%B3%D0%BB%D0%B0%D0%B2%D0%BD%D0%B0%D1%8F_%D1%81%D1%82%D1%80%D0%B0%D0%BD%D0%B8%D1%86%D0%B0', 'https://disk.yandex.com/', 'https://elpais.com/', 'https://it.wikipedia.org/wiki/Pagina_principale', 'https://www.washingtonpost.com/', 'https://wordpress.com/', 'https://www.w3.org/', 'https://mail.google.com/mail/u/0/#inbox', 'https://ria.ru/', 'https://www.francetvinfo.fr/', 'https://www.theguardian.com/international', 'https://www.gnu.org/', 'https://www.wikipedia.org/', 'https://bandcamp.com/', 'https://www.wix.com/', 'https://www.tmz.com/', 'https://global.oup.com/?cc=gb', 'https://www.lemonde.fr/', 'https://www.walmart.com/', 'https://nginx.org/', 'https://www.yelp.com/', 'https://www.amazon.fr/', 'https://search.yahoo.com/', 'https://www.abc.net.au/', 'https://www.liveinternet.ru/', 'https://discord.com/', 'https://www.ietf.org/', 'https://www.dreamstime.com/', 'https://www.hp.com/in-en/home.html', 'https://www.berkeley.edu/', 'https://www.secureserver.net/', 'https://www.addthis.com/', 'https://photos1.blogger.com/', 'https://www.cointernet.com.co/', 'https://www.biglobe.ne.jp/', 'https://home.pl/', 'https://abcnews.go.com/', 'https://www.ebay.com/', 'https://zoom.us/', 'https://techcrunch.com/', 'https://www.ftc.gov/', 'https://www.buzzfeed.com/in', 'https://calendar.google.com/calendar/u/0/r', 'https://www.britannica.com/', 'https://www.yahoo.co.jp/', 'https://www.smh.com.au/', 'https://thenai.org/', 'https://www.amazon.com/', 'https://www.ovhcloud.com/en/', 'https://www.radiofrance.fr/', 'https://ja.wikipedia.org/wiki/%E3%83%A1%E3%82%A4%E3%83%B3%E3%83%9A%E3%83%BC%E3%82%B8', 'https://www.express.co.uk/', 'https://www.npr.org/', 'https://disqus.com/', 'https://www.ibm.com/in-en', 'https://www.kickstarter.com/', 'https://www.php.net/', 'https://news.google.com/', 'https://www.google.nl/', 'https://plos.org/', 'https://offset.com/', 'https://www.netflix.com/in/', 'https://www.newsweek.com/', 'https://proof.ovh.net/', 'https://www.economist.com/', 'https://www.rakuten.co.jp/', 'https://www.urbandictionary.com/', 'https://imageshack.com/', 'https://www.000webhost.com/', 'https://themeforest.net/', 'https://www.aol.com/', 'https://www.huawei.com/en/?ic_medium=direct&ic_source=surlent', 'https://www.zdf.de/', 'https://www.canada.ca']\n"
     ]
    }
   ],
   "source": [
    "for i in range(len(tempurls)):\n",
    "    k=len(tempurls[i])\n",
    "    tempurls[i] = tempurls[i][:k-1]\n",
    "print(tempurls)"
   ]
  },
  {
   "cell_type": "code",
   "execution_count": 16,
   "metadata": {},
   "outputs": [
    {
     "name": "stdout",
     "output_type": "stream",
     "text": [
      "https://www.youtube.com/ [1, 1, 1, 1, 1, 1, 0, 1, 1, 1, 1, 1, -1, -1, -1, 1, -1, -1, 1, -1, -1, -1, 1, 1, 1, -1, 1, 1, 1, 0.04, 6, 0, 0, 0, 0, 7, 3, 19.0, 0, 0, 13, 24, 0, 1]\n",
      "https://www.google.com/search?q=some+valid+links&rlz=1C1RXQR_enIN993IN995&oq=some+valid+links&aqs=chrome..69i57j0i22i30j0i390i650l4.10499j0j7&sourceid=chrome&ie=UTF-8 [1, -1, 1, 1, 1, 1, -1, 1, 1, -1, 1, 1, -1, -1, 0, 1, -1, -1, 1, -1, -1, -1, 1, 1, 1, -1, 1, -1, 1, 0.04, 27, 2, 0, 1, 1, 8, 1, 7.308, 0, 0, 12, 166, 0, 1]\n",
      "https://www.makeuseof.com/tag/4-quick-sites-that-let-you-check-if-links-are-safe/ [1, -1, 1, 1, 1, 1, 0, -1, 1, -1, 1, 1, -1, -1, -1, -1, -1, -1, -1, -1, -1, -1, -1, 1, 1, -1, 1, -1, 1, 0.69, 18, 0, 0, 0, 0, 9, 2, 63.0, 0, 0, 15, 81, 0, 1]\n",
      "https://safeweb.norton.com/ [1, 1, 1, 1, 1, 1, 0, 1, 1, 1, 1, 1, -1, -1, 0, 0, -1, -1, 1, -1, -1, -1, 1, 1, 1, -1, 1, -1, 1, 0.04, 6, 0, 0, 0, 0, 7, 3, 22.0, 0, 0, 16, 27, 0, 1]\n",
      "https://www.mcafee.com/en-in/index.html [1, 1, 1, 1, 1, 1, -1, 1, 1, -1, 1, 1, -1, -1, 0, 1, -1, -1, 1, -1, -1, -1, 1, 1, 1, -1, 1, -1, 1, 0.44, 9, 0, 0, 0, 0, 6, 2, 31.0, 0, 0, 12, 39, 0, 1]\n",
      "https://www.mcafee.com/en-in/antivirus/mcafee-total-protection.html [1, 0, 1, 1, 1, 1, -1, 1, 1, -1, 1, 1, -1, -1, 0, 1, -1, -1, 1, -1, -1, -1, 1, 1, 1, -1, 1, -1, 1, 0.67, 12, 0, 0, 0, 0, 10, 2, 56.0, 0, 0, 12, 67, 0, 1]\n",
      "https://www.mcafee.com/support/ [1, 1, 1, 1, 1, 1, 0, 1, 1, -1, 1, 1, -1, -1, 1, 1, -1, -1, 1, -1, -1, 1, 1, 1, 1, -1, 1, 1, 1, 0.29, 7, 0, 0, 0, 0, 7, 3, 25.0, 0, 0, 12, 31, 0, 1]\n",
      "https://www.mcafee.com/en-in/antivirus/free.html [1, 1, 1, 1, 1, 1, -1, 1, 1, -1, 1, 1, -1, -1, 0, 1, -1, -1, 1, -1, -1, -1, 1, 1, 1, -1, 1, -1, 1, 0.54, 10, 0, 0, 0, 0, 9, 2, 39.0, 0, 0, 12, 48, 0, 1]\n",
      "https://www.google.com/ [1, 1, 1, 1, 1, 1, 0, 1, 1, -1, 1, 1, -1, -1, 0, 0, -1, -1, 1, -1, -1, -1, 1, 1, 1, -1, 1, -1, 1, 0.04, 6, 0, 0, 0, 0, 6, 3, 18.0, 0, 0, 12, 23, 0, 1]\n",
      "https://translate.google.com/ [1, 1, 1, 1, 1, 1, 0, 1, 1, 1, 1, 1, -1, -1, 0, 1, -1, -1, 1, -1, -1, -1, 1, 1, 1, -1, 1, -1, 1, 0.03, 6, 0, 0, 0, 0, 9, 3, 24.0, 0, 0, 18, 29, 0, 1]\n",
      "https://www.google.com/maps/@15.8954619,80.7610164,7z [1, 1, 1, -1, 1, 1, -1, 1, 1, 1, 1, 1, 0, -1, 0, 1, -1, -1, 1, -1, -1, -1, 1, 1, 1, -1, 1, 1, 1, 0.58, 12, 0, 0, 0, 0, 6, 1, 23.0, 0, 0, 12, 53, 0, 1]\n",
      "https://news.google.com/home?hl=en-IN&gl=IN&ceid=IN:en [1, 0, 1, 1, 1, 1, 0, 1, 1, -1, 1, 1, -1, -1, 1, 1, -1, -1, 1, -1, -1, -1, 1, 1, 1, -1, 1, 0, 1, 0.09, 14, 0, 0, 1, 1, 6, 2, 5.0, 0, 0, 13, 54, 0, 1]\n",
      "https://www.hackerrank.com/ [1, 1, 1, 1, 1, 1, 0, 1, 1, -1, 1, 1, 0, -1, 0, 1, -1, -1, 1, -1, -1, -1, 1, 1, 1, -1, 1, 1, 1, 0.04, 6, 0, 0, 0, 0, 10, 3, 22.0, 0, 0, 16, 27, 0, 1]\n",
      "https://numpy.org/ [1, 1, 1, 1, 1, 1, 1, 1, 1, 1, 1, 1, -1, -1, 1, 0, -1, -1, 1, -1, -1, -1, 1, 1, 1, -1, 1, -1, 1, 0.06, 5, 0, 0, 0, 0, 5, 3, 14.0, 0, 0, 8, 18, 0, 1]\n",
      "https://accounts.google.com/signin/chrome/sync/identifier?ssp=1&email_hint=ramyareddymrs%40gmail.com&continue=https%3A%2F%2Fwww.google.com%2F&flowName=GlifDesktopChromeSync [1, -1, 1, 1, 1, 1, -1, 1, 1, -1, 1, 1, 0, -1, 0, 1, -1, -1, 1, -1, -1, -1, 1, 1, 1, -1, 1, 0, 1, 0.17, 26, 2, 1, 1, 1, 21, 1, 13.1, 0, 0, 17, 172, 0, 1]\n",
      "https://news.google.com/home?hl=en-IN&gl=IN&ceid=IN:en [1, 0, 1, 1, 1, 1, 0, 1, 1, -1, 1, 1, -1, -1, 1, 1, -1, -1, 1, -1, -1, -1, 1, 1, 1, -1, 1, 0, 1, 0.09, 14, 0, 0, 1, 1, 6, 2, 5.0, 0, 0, 13, 54, 0, 1]\n",
      "https://moz.com/domain-analysis/www.blogger.com [1, 1, 1, 1, 1, 1, -1, 1, 1, 1, 1, 1, 0, -1, -1, 0, -1, -1, 1, -1, -1, -1, 1, 1, 1, -1, 1, 1, 1, 0.68, 9, 0, 0, 0, 0, 8, 3, 39.0, 0, 0, 6, 47, 0, 1]\n",
      "https://www.blogger.com/about/ [1, 1, 1, 1, 1, 1, 0, 1, 1, 1, 1, 1, -1, -1, 0, 1, -1, -1, 1, -1, -1, -1, 1, 1, 1, -1, 1, -1, 1, 0.23, 7, 0, 0, 0, 0, 7, 3, 24.0, 0, 0, 13, 30, 0, 1]\n",
      "https://www.linkedin.com/ [1, 1, 1, 1, 1, 1, 0, 1, 1, 1, 1, 1, -1, -1, 1, 1, -1, -1, 1, -1, -1, -1, 1, 1, 1, -1, 1, -1, 1, 0.04, 6, 0, 0, 0, 0, 8, 3, 20.0, 0, 0, 14, 25, 0, 1]\n",
      "https://support.google.com/ [1, 1, 1, 1, 1, 1, 0, 1, 1, 1, 1, 1, -1, -1, 0, 0, -1, -1, 1, -1, -1, -1, 1, 1, 1, -1, 1, -1, 1, 0.04, 6, 0, 0, 0, 0, 7, 3, 22.0, 0, 0, 16, 27, 0, 1]\n",
      "https://www.apple.com/ [1, 1, 1, 1, 1, 1, 0, 1, 1, 1, 1, 1, 0, -1, -1, 0, -1, -1, 1, -1, -1, -1, 1, 1, 1, -1, 1, -1, 1, 0.05, 6, 0, 0, 0, 0, 5, 3, 17.0, 0, 0, 11, 22, 0, 1]\n",
      "https://www.microsoft.com/en-in/ [1, 1, -1, 1, 1, 1, 0, -1, 1, -1, 1, 1, 0, -1, 0, 1, -1, -1, 1, -1, -1, -1, 1, 1, 1, -1, 1, 0, 1, 0.22, 8, 0, 0, 0, 0, 9, 2, 25.0, 0, 0, 15, 32, 0, 1]\n",
      "https://play.google.com/store/games?pli=1 [1, 1, 1, 1, 1, 1, 0, 1, 1, 1, 1, 1, -1, -1, -1, 1, -1, -1, 1, -1, -1, -1, 1, 1, 1, -1, 1, -1, 1, 0.29, 9, 0, 0, 1, 1, 6, 3, 32.0, 0, 0, 13, 41, 0, 1]\n",
      "https://wordpress.org/ [1, 1, 1, 1, 1, 1, 1, 1, 1, 1, 1, 1, -1, -1, -1, 1, -1, -1, 1, -1, -1, -1, 1, 1, 1, -1, 1, -1, 1, 0.05, 5, 0, 0, 0, 0, 9, 3, 18.0, 0, 0, 12, 22, 0, 1]\n",
      "https://en.wikipedia.org/wiki/Main_Page [1, 1, 1, 1, 1, 1, 0, 1, 1, -1, 1, 1, -1, -1, 0, 0, -1, -1, 1, -1, -1, -1, 1, 1, 1, -1, 1, -1, 1, 0.38, 8, 0, 0, 0, 0, 9, 2, 10.0, 0, 0, 14, 39, 0, 1]\n",
      "https://plus.google.com/ [1, 1, 1, 1, 1, 1, 0, 1, 1, -1, 1, 1, -1, -1, 0, 1, -1, -1, 0, -1, -1, -1, 1, 1, 1, -1, 1, -1, 1, 0.04, 6, 0, 0, 0, 0, 6, 3, 19.0, 0, 0, 13, 24, 0, 1]\n",
      "https://www.cloudflare.com/en-in/ [1, 1, 1, 1, 1, 1, 0, 1, 1, -1, 1, 1, -1, -1, -1, 1, -1, -1, 1, -1, -1, -1, 1, 1, 1, -1, 1, -1, 1, 0.21, 8, 0, 0, 0, 0, 10, 2, 26.0, 0, 0, 16, 33, 0, 1]\n",
      "https://www.google.com/maps/@15.8954619,80.7610164,7z [1, 1, 1, -1, 1, 1, -1, 1, 1, 1, 1, 1, 0, -1, 0, 1, -1, -1, 1, -1, -1, -1, 1, 1, 1, -1, 1, 1, 1, 0.58, 12, 0, 0, 0, 0, 6, 1, 23.0, 0, 0, 12, 53, 0, 1]\n",
      "https://docs.google.com/document/u/0/ [1, 1, 1, 1, 1, 1, 0, 1, 1, -1, 1, 1, -1, -1, 1, 1, -1, -1, 0, -1, -1, -1, 1, 1, 1, -1, 1, -1, 1, 0.38, 9, 0, 0, 0, 0, 8, 1, 28.0, 0, 0, 13, 37, 0, 1]\n",
      "https://www.whatsapp.com/ [1, 1, 1, 1, 1, 1, 0, 1, 1, -1, 1, 1, -1, -1, 1, 1, -1, -1, 1, -1, -1, -1, 1, 1, 1, -1, 1, -1, 1, 0.04, 6, 0, 0, 0, 0, 8, 3, 20.0, 0, 0, 14, 25, 0, 1]\n",
      "https://www.mozilla.org/en-US/ [1, 1, 1, 1, 1, 1, 0, 1, 1, -1, 1, 1, -1, -1, -1, 0, -1, -1, 1, -1, -1, -1, 1, 1, 1, -1, 1, -1, 1, 0.23, 8, 0, 0, 0, 0, 7, 2, 7.0, 0, 0, 13, 30, 0, 1]\n",
      "https://sites.google.com/u/0/new?pli=1&authuser=0 [1, 1, 1, 1, 1, 1, 0, 1, 1, -1, 1, 1, -1, -1, 0, 1, -1, -1, 0, -1, -1, -1, 1, 1, 1, -1, 1, -1, 1, 0.16, 12, 0, 0, 1, 1, 8, 1, 35.0, 0, 0, 14, 49, 0, 1]\n",
      "https://european-union.europa.eu/select-language?destination=/node/1 [1, 0, 1, 1, 1, -1, 0, 1, -1, 1, 1, 1, -1, -1, -1, 1, -1, -1, 1, -1, -1, -1, 1, -1, -1, -1, 1, 0, 1, 0.24, 12, 0, 0, 1, 1, 11, 2, 56.0, 0, 0, 21, 68, 1, 1]\n",
      "https://www.adobe.com/ [1, 1, 1, 1, 1, 1, 0, 1, 1, -1, 1, 1, 0, -1, 0, 1, -1, -1, 1, -1, -1, -1, 1, 1, 1, -1, 1, 1, 1, 0.05, 6, 0, 0, 0, 0, 5, 3, 17.0, 0, 0, 11, 22, 0, 1]\n",
      "https://myaccount.google.com/ [1, 1, 1, 1, 1, 1, 0, 1, 1, -1, 1, 1, -1, -1, 1, 1, -1, -1, 0, -1, -1, -1, 1, 1, 1, -1, 1, 1, 1, 0.03, 6, 0, 0, 0, 0, 9, 3, 24.0, 0, 0, 18, 29, 0, 1]\n",
      "https://drive.google.com/ [1, 1, 1, 1, 1, 1, 0, 1, 1, -1, 1, 1, -1, -1, 0, 1, -1, -1, 0, -1, -1, -1, 1, 1, 1, -1, 1, -1, 1, 0.04, 6, 0, 0, 0, 0, 6, 3, 20.0, 0, 0, 14, 25, 0, 1]\n",
      "https://www.amazon.com/ [1, 1, 1, 1, 1, 1, 0, 1, 1, -1, 1, 1, -1, -1, 0, 0, -1, -1, 1, -1, -1, -1, 1, 1, 1, -1, 1, -1, 1, 0.04, 6, 0, 1, 0, 0, 6, 3, 18.0, 0, 0, 12, 23, 0, 1]\n",
      "https://policies.google.com/ [1, 1, 1, 1, 1, 1, 0, 1, 1, 1, 1, 1, -1, -1, 1, 1, -1, -1, 1, -1, -1, -1, 1, 1, 1, -1, 1, -1, 1, 0.04, 6, 0, 0, 0, 0, 8, 3, 23.0, 0, 0, 17, 28, 0, 1]\n",
      "https://www.uol.com.br/ [1, 1, 1, 1, 1, 1, -1, 1, 1, 1, 1, 1, -1, -1, 1, 1, -1, -1, 1, -1, -1, -1, 1, 1, 1, -1, 1, -1, 1, 0.04, 7, 0, 0, 0, 0, 5, 2, 17.0, 0, 0, 11, 23, 0, 1]\n",
      "https://vk.com/ [1, 1, 1, 1, 1, 1, 1, 1, 1, 1, 1, 1, -1, -1, -1, 1, -1, -1, 1, -1, -1, -1, 1, 1, 1, -1, 1, -1, 1, 0.07, 5, 0, 0, 0, 0, 5, 2, 11.0, 0, 0, 5, 15, 0, 1]\n",
      "https://telegram.org/ [1, 1, 1, 1, 1, 1, 1, 1, 1, 1, 1, 1, -1, -1, -1, 1, -1, -1, 1, -1, -1, -1, 1, 1, 1, -1, 1, -1, 1, 0.05, 5, 0, 0, 0, 0, 8, 3, 17.0, 0, 0, 11, 21, 0, 1]\n",
      "https://github.com/ [1, 1, 1, 1, 1, 1, 1, 1, 1, -1, 1, 1, -1, -1, 1, 0, -1, -1, 1, -1, -1, -1, 1, 1, 1, -1, 1, -1, 1, 0.05, 5, 0, 0, 0, 0, 6, 3, 15.0, 0, 0, 9, 19, 0, 1]\n",
      "https://www.istockphoto.com/ [1, 1, 1, 1, 1, 1, 0, 1, 1, -1, 1, 1, 0, -1, 0, 1, -1, -1, 1, -1, -1, -1, 1, 1, 1, -1, 1, 1, 1, 0.04, 6, 0, 0, 0, 0, 11, 3, 23.0, 0, 0, 17, 28, 0, 1]\n",
      "https://www.facebook.com/ [1, 1, 1, 1, 1, 1, 0, 1, 1, -1, 1, 1, -1, -1, 1, 0, -1, -1, 1, -1, -1, -1, 1, 1, 1, -1, 1, -1, 1, 0.04, 6, 0, 0, 0, 0, 8, 3, 20.0, 0, 0, 14, 25, 0, 1]\n",
      "https://pt.wikipedia.org/wiki/Wikip%C3%A9dia:P%C3%A1gina_principal [1, 0, 1, 1, 1, 1, 0, 1, 1, -1, 1, 1, -1, -1, 0, 0, -1, -1, 1, -1, -1, -1, 1, 1, 1, -1, 1, -1, 1, 0.64, 13, 0, 0, 0, 0, 9, 1, 6.286, 0, 0, 14, 66, 0, 1]\n",
      "https://www.msn.com/en-in [1, 1, 1, 1, 1, 1, 0, 1, 1, 1, 1, 1, -1, -1, 0, 0, -1, -1, 1, -1, -1, -1, 1, 1, 1, -1, 1, -1, 1, 0.24, 7, 0, 0, 0, 0, 5, 2, 19.0, 0, 0, 9, 25, 0, 1]\n",
      "https://myspace.com/ [1, 1, 1, 1, 1, 1, 1, -1, 1, -1, 1, 1, -1, -1, -1, -1, -1, -1, -1, -1, -1, -1, -1, 1, 1, -1, 1, -1, 1, 0.05, 5, 0, 0, 0, 0, 7, 3, 16.0, 0, 0, 10, 20, 0, 1]\n",
      "https://www.forbes.com/ [1, 1, 1, 1, 1, 1, 0, 1, 1, -1, 1, 1, -1, -1, 1, 1, -1, -1, 1, -1, -1, -1, 1, 1, 1, -1, 1, -1, 1, 0.04, 6, 0, 0, 0, 0, 6, 3, 18.0, 0, 0, 12, 23, 0, 1]\n",
      "https://accounts.google.com/v3/signin/confirmidentifier?dsh=S1611201834%3A1681463642268291&continue=https%3A%2F%2Ffeedburner.google.com&ifkv=AQMjQ7TOhmcO9pzgcNXuPSpwdVNgQSKj8rticbKviuulCd1MqyIjzMGm2CIosCbFAg9UzklP5Rn1Yg&service=feedburner&flowName=GlifWebSignIn&flowEntry=ServiceLogin [1, -1, 1, 1, 1, 1, -1, 1, 1, -1, 1, 1, 0, -1, 0, 1, -1, -1, 1, -1, -1, -1, 1, 1, 1, -1, 1, 0, 1, 0.1, 26, 2, 0, 1, 1, 19, 1, 3.911, 0, 0, 17, 284, 0, 1]\n",
      "https://login.live.com/login.srf?wa=wsignin1.0&rpsnv=13&ct=1681463682&rver=7.0.6737.0&wp=MBI_SSL&wreply=https%3a%2f%2foutlook.live.com%2fowa%2f%3fRpsCsrfState%3d7e1ea613-15f8-2ac7-8ab0-079e1daee43f&id=292841&aadredir=1&CBCXT=out&lw=1&fl=dob%2cflname%2cwld&cobrandid=90015 [1, -1, 1, 1, 1, 1, -1, 1, 1, -1, 1, 1, 0, -1, 1, 1, -1, -1, 1, -1, -1, -1, 1, 1, 1, -1, 1, -1, 1, 0.04, 51, 0, 0, 1, 1, 13, 1, 9.733, 0, 0, 12, 271, 0, 1]\n",
      "https://www.opera.com/ [1, 1, 1, 1, 1, 1, 0, 1, 1, -1, 1, 1, -1, -1, 0, 0, -1, -1, 1, -1, -1, -1, 1, 1, 1, -1, 1, -1, 1, 0.05, 6, 0, 0, 0, 0, 5, 3, 17.0, 0, 0, 11, 22, 0, 1]\n",
      "https://medium.com/ [1, 1, 1, 1, 1, 1, 1, 1, 1, -1, 1, 1, -1, -1, -1, 1, -1, -1, 1, -1, -1, -1, 1, 1, 1, -1, 1, -1, 1, 0.05, 5, 0, 0, 0, 0, 6, 3, 15.0, 0, 0, 9, 19, 0, 1]\n",
      "https://www.bbc.com/ [1, 1, 1, 1, 1, 1, 0, 1, 1, -1, 1, 1, -1, -1, 1, 0, -1, -1, 1, -1, -1, -1, 1, 1, 1, -1, 1, -1, 1, 0.05, 6, 0, 0, 0, 0, 5, 3, 15.0, 0, 0, 9, 20, 0, 1]\n",
      "https://edition.cnn.com/ [1, 1, 1, 1, 1, 1, 0, 1, 1, 1, 1, 1, -1, -1, 1, 0, -1, -1, 1, -1, -1, -1, 1, 1, 1, -1, 1, -1, 1, 0.04, 6, 0, 0, 0, 0, 7, 3, 19.0, 0, 0, 13, 24, 0, 1]\n",
      "https://www.nih.gov/ [1, 1, 1, 1, 1, 1, 0, 1, -1, 1, 1, 1, -1, -1, 0, 0, -1, -1, 1, -1, -1, -1, 1, -1, -1, -1, 1, -1, 1, 0.05, 6, 0, 0, 0, 0, 5, 3, 15.0, 0, 0, 9, 20, 0, 1]\n",
      "https://www.weebly.com/in [1, 1, 1, 1, 1, 1, 0, 1, 1, 1, 1, 1, -1, -1, -1, 1, -1, -1, 1, -1, -1, -1, 1, 1, 1, -1, 1, -1, 1, 0.12, 6, 0, 0, 0, 0, 6, 2, 20.0, 0, 0, 12, 25, 0, 1]\n",
      "https://fr.wikipedia.org/wiki/Wikip%C3%A9dia:Accueil_principal [1, 0, 1, 1, 1, 1, 0, 1, 1, -1, 1, 1, -1, -1, 0, 0, -1, -1, 1, -1, -1, -1, 1, 1, 1, -1, 1, -1, 1, 0.61, 11, 0, 0, 0, 0, 9, 1, 9.2, 0, 0, 14, 62, 0, 1]\n",
      "https://buydomains.com/ [1, 1, 1, 1, 1, 1, 1, 1, 1, -1, 1, 1, -1, -1, 0, 1, -1, -1, 0, -1, -1, 1, 1, 1, 1, -1, 1, -1, 1, 0.04, 5, 0, 0, 0, 0, 10, 3, 19.0, 0, 0, 13, 23, 0, 1]\n",
      "https://www.google.co.jp/ [1, 1, 1, 1, 1, 1, -1, 1, -1, -1, 1, 1, -1, -1, 0, 0, -1, -1, 1, -1, -1, -1, 1, -1, -1, -1, 1, -1, 1, 0.04, 7, 0, 0, 0, 0, 6, 2, 19.0, 0, 0, 13, 25, 0, 1]\n",
      "https://www.google.com/chrome/ [1, 1, 1, 1, 1, 1, 0, 1, 1, -1, 1, 1, -1, -1, 0, 1, -1, -1, 1, -1, -1, -1, 1, 1, 1, -1, 1, -1, 1, 0.27, 7, 0, 0, 0, 0, 6, 3, 24.0, 0, 0, 12, 30, 0, 1]\n",
      "https://www.who.int/ [1, 1, 1, 1, 1, 1, 0, 1, -1, 1, 1, 1, -1, -1, 0, 1, -1, -1, 1, -1, -1, -1, 1, -1, -1, -1, 1, -1, 1, 0.05, 6, 0, 0, 0, 0, 5, 3, 15.0, 0, 0, 9, 20, 0, 1]\n",
      "https://draft.blogger.com/about/ [1, 1, 1, 1, 1, 1, 0, 1, 1, 1, 1, 1, -1, -1, 0, 1, -1, -1, 1, -1, -1, -1, 1, 1, 1, -1, 1, -1, 1, 0.22, 7, 0, 0, 0, 0, 7, 3, 26.0, 0, 0, 15, 32, 0, 1]\n",
      "https://www.brandbucket.com/ [1, 1, -1, 1, 1, 1, 0, 1, 1, 1, 1, 1, 0, -1, -1, 0, -1, -1, 1, -1, -1, -1, 1, 1, 1, -1, 1, 1, 1, 0.04, 6, 0, 0, 0, 0, 11, 3, 23.0, 0, 0, 17, 28, 0, 1]\n",
      "https://www.paypal.com/in/home [1, 1, 1, 1, 1, 1, 0, 1, 1, 1, 1, 1, -1, -1, 1, 1, -1, -1, 1, -1, -1, -1, 1, 1, 1, -1, 1, -1, 1, 0.27, 7, 0, 1, 0, 0, 6, 2, 24.0, 0, 0, 12, 30, 0, 1]\n",
      "https://www.shopify.com/ [1, 1, 1, 1, 1, 1, 0, 1, 1, -1, 1, 1, -1, -1, 0, 0, -1, -1, 1, -1, -1, -1, 1, 1, 1, -1, 1, -1, 1, 0.04, 6, 0, 0, 0, 0, 7, 3, 19.0, 0, 0, 13, 24, 0, 1]\n",
      "https://www.jimdo.com/ [1, 1, 1, 1, 1, 1, 0, -1, 1, 1, 1, 1, -1, -1, -1, 1, -1, -1, 1, -1, -1, -1, 1, 1, 1, -1, 1, -1, 1, 0.05, 6, 0, 0, 0, 0, 5, 3, 17.0, 0, 0, 11, 22, 0, 1]\n",
      "https://creativecommons.org/ [1, 1, 1, 1, 1, 1, 1, 1, 1, 1, 1, 1, -1, -1, -1, 1, -1, -1, 1, -1, -1, -1, 1, 1, 1, -1, 1, -1, 1, 0.04, 5, 0, 0, 0, 0, 15, 3, 24.0, 0, 0, 18, 28, 0, 1]\n",
      "https://www.wikimedia.org/ [1, 1, 1, 1, 1, 1, 0, 1, 1, -1, 1, 1, -1, -1, 1, 1, -1, -1, 1, -1, -1, -1, 1, 1, 1, -1, 1, -1, 1, 0.04, 6, 0, 0, 0, 0, 9, 3, 21.0, 0, 0, 15, 26, 0, 1]\n",
      "https://en.gravatar.com/ [1, 1, 1, 1, 1, 1, 0, 1, 1, 1, 1, 1, -1, -1, 0, 1, -1, -1, 1, -1, -1, -1, 1, 1, 1, -1, 1, -1, 1, 0.04, 6, 0, 0, 0, 0, 8, 2, 19.0, 0, 0, 13, 24, 0, 1]\n",
      "https://developers.google.com/ [1, 1, 1, 1, 1, 1, 0, 1, 1, 1, 1, 1, -1, -1, 0, 1, -1, -1, 1, -1, -1, -1, 1, 1, 1, -1, 1, -1, 1, 0.03, 6, 0, 0, 0, 0, 10, 3, 25.0, 0, 0, 19, 30, 0, 1]\n",
      "https://enable-javascript.com/ [1, 1, -1, 1, 1, -1, 1, 1, 1, -1, 1, 1, -1, -1, -1, 0, -1, -1, 1, -1, -1, -1, 1, 1, 1, -1, 1, -1, 1, 0.03, 6, 0, 0, 0, 0, 10, 3, 25.0, 0, 0, 19, 30, 1, 1]\n",
      "https://www.imdb.com/ [1, 1, 1, 1, 1, 1, 0, 1, 1, -1, 1, 1, 0, -1, 0, 1, -1, -1, 1, -1, -1, -1, 1, 1, 1, -1, 1, 1, 1, 0.05, 6, 0, 0, 0, 0, 5, 3, 16.0, 0, 0, 10, 21, 0, 1]\n",
      "https://www.theguardian.com/international [1, 1, 1, 1, 1, 1, 0, 1, 1, -1, 1, 1, -1, -1, 0, 0, -1, -1, 1, -1, -1, -1, 1, 1, 1, -1, 1, -1, 1, 0.34, 6, 0, 0, 0, 0, 13, 3, 36.0, 0, 0, 17, 41, 0, 1]\n",
      "https://wordpress.com/ [1, 1, 1, 1, 1, 1, 1, 1, 1, -1, 1, 1, -1, -1, 0, 1, -1, -1, 1, -1, -1, -1, 1, 1, 1, -1, 1, -1, 1, 0.05, 5, 0, 0, 0, 0, 9, 3, 18.0, 0, 0, 12, 22, 0, 1]\n",
      "https://www.google.de/ [1, 1, 1, 1, 1, 1, 0, 1, -1, -1, 1, 1, -1, -1, 0, 0, -1, -1, 1, -1, -1, -1, 1, -1, -1, -1, 1, -1, 1, 0.05, 6, 0, 0, 0, 0, 6, 2, 17.0, 0, 0, 11, 22, 0, 1]\n",
      "https://ok.ru/ [1, 1, 1, 1, 1, 1, 1, -1, 1, 1, 1, 1, -1, -1, 0, 0, -1, -1, 1, -1, -1, -1, 1, 1, 1, -1, 1, -1, 1, 0.07, 5, 0, 0, 0, 0, 5, 2, 10.0, 0, 0, 4, 14, 0, 1]\n",
      "https://globo.com/ [1, 1, 1, 1, 1, 1, 1, 1, 1, -1, 1, 1, -1, -1, 0, 1, -1, -1, 1, -1, -1, -1, 1, 1, 1, -1, 1, -1, 1, 0.06, 5, 0, 0, 0, 0, 5, 3, 14.0, 0, 0, 8, 18, 0, 1]\n",
      "https://www.yahoo.com/?guccounter=1&guce_referrer=aHR0cHM6Ly9tb3ouY29tL3RvcDUwMA&guce_referrer_sig=AQAAAIhlQkmcTWJw5NAcDLFlpkRibSiF4qpkRJZ4cQ82yj6f5SIPEqKpHf7L9YEMZoIJAdwD1ymL2a_BH7E4Qct3SpIQRgQEtSJ2-TjSghGVJurfG55aIbn4A07JN2YskZjFY5nt7yd9filBLToRV8vwRy8bQvcy1ZNw-e6QkSLffjNt [1, -1, 1, 1, 1, 1, 0, 1, 1, 1, 1, 1, -1, -1, 1, 0, -1, -1, 1, -1, -1, -1, 1, 1, 1, -1, 1, -1, 1, 0.0, 18, 0, 0, 1, 1, 16, 1, 1.478, 0, 0, 11, 275, 0, 1]\n",
      "https://www.google.com.br/ [1, 1, 1, 1, 1, 1, -1, 1, 1, -1, 1, 1, -1, -1, 0, 0, -1, -1, 1, -1, -1, -1, 1, 1, 1, -1, 1, -1, 1, 0.04, 7, 0, 0, 0, 0, 6, 2, 20.0, 0, 0, 14, 26, 0, 1]\n",
      "https://www.nytimes.com/ [1, 1, 1, 1, 1, 1, 0, 1, 1, -1, 1, 1, -1, -1, 0, 1, -1, -1, 1, -1, -1, -1, 1, 1, 1, -1, 1, -1, 1, 0.04, 6, 0, 0, 0, 0, 7, 3, 19.0, 0, 0, 13, 24, 0, 1]\n",
      "https://www.dailymotion.com/in [1, 1, 1, 1, 1, 1, 0, 1, 1, -1, 1, 1, -1, -1, 1, 1, -1, -1, 1, -1, -1, -1, 1, 1, 1, -1, 1, 1, 1, 0.1, 6, 0, 0, 0, 0, 11, 2, 25.0, 0, 0, 17, 30, 0, 1]\n",
      "https://www.google.es/ [1, 1, 1, 1, 1, 1, 0, 1, -1, -1, 1, 1, -1, -1, 0, 0, -1, -1, 1, -1, -1, -1, 1, -1, -1, -1, 1, -1, 1, 0.05, 6, 0, 0, 0, 0, 6, 2, 17.0, 0, 0, 11, 22, 0, 1]\n",
      "https://es.wikipedia.org/wiki/Wikipedia:Portada [1, 1, 1, 1, 1, 1, 0, 1, 1, -1, 1, 1, -1, -1, 0, 0, -1, -1, 1, -1, -1, -1, 1, 1, 1, -1, 1, -1, 1, 0.49, 8, 0, 0, 0, 0, 9, 2, 12.667, 0, 0, 14, 47, 0, 1]\n",
      "https://www.gstatic.com/ [1, 1, 1, 1, 1, 1, 0, 1, 1, -1, 1, 1, 0, -1, 0, 1, -1, -1, 1, -1, -1, -1, 1, 1, 1, -1, 1, 0, 1, 0.04, 6, 0, 0, 0, 0, 7, 3, 19.0, 0, 0, 13, 24, 0, 1]\n",
      "https://www.dropbox.com/ [1, 1, -1, 1, 1, 1, 0, 1, 1, -1, 1, 1, -1, -1, 0, 1, -1, -1, 1, -1, -1, -1, 1, 1, 1, -1, 1, 1, 1, 0.04, 6, 0, 0, 0, 0, 7, 3, 19.0, 0, 0, 13, 24, 0, 1]\n",
      "https://line.me/en/ [1, 1, 1, 1, 1, 1, 1, 1, 1, -1, 1, 1, -1, -1, -1, 1, -1, -1, 1, -1, -1, -1, 1, 1, 1, -1, 1, -1, 1, 0.21, 6, 0, 0, 0, 0, 5, 2, 14.0, 0, 0, 6, 19, 0, 1]\n",
      "https://www.domainmarket.com/ [1, 1, -1, 1, 1, 1, 0, 1, 1, -1, 1, 1, -1, -1, 0, 1, -1, -1, 1, -1, -1, -1, 1, 1, 1, -1, 1, -1, 1, 0.03, 6, 0, 0, 0, 0, 12, 3, 24.0, 0, 0, 18, 29, 0, 1]\n",
      "https://photos.google.com/ [1, 1, 1, 1, 1, 1, 0, 1, 1, -1, 1, 1, -1, -1, 1, 1, -1, -1, 1, -1, -1, -1, 1, 1, 1, -1, 1, -1, 1, 0.04, 6, 0, 0, 0, 0, 6, 3, 21.0, 0, 0, 15, 26, 0, 1]\n",
      "https://www.cdc.gov/ [1, 1, 1, 1, 1, 1, 0, 1, -1, -1, 1, 1, -1, -1, 0, 0, -1, -1, 1, -1, -1, -1, 1, -1, -1, -1, 1, -1, 1, 0.05, 6, 0, 0, 0, 0, 5, 3, 15.0, 0, 0, 9, 20, 0, 1]\n",
      "https://telegram.org/ [1, 1, 1, 1, 1, 1, 1, 1, 1, 1, 1, 1, -1, -1, -1, 1, -1, -1, 1, -1, -1, -1, 1, 1, 1, -1, 1, -1, 1, 0.05, 5, 0, 0, 0, 0, 8, 3, 17.0, 0, 0, 11, 21, 0, 1]\n",
      "https://www.aliexpress.com/ [1, 1, 1, 1, 1, 1, 0, -1, 1, -1, 1, 1, -1, -1, -1, -1, -1, -1, -1, -1, -1, -1, -1, 1, 1, -1, 1, -1, 1, 0.04, 6, 0, 0, 0, 0, 10, 3, 22.0, 0, 0, 16, 27, 0, 1]\n",
      "https://www.fandom.com/ [1, 1, 1, 1, 1, 1, 0, 1, 1, 1, 1, 1, -1, -1, 0, 0, -1, -1, 1, -1, -1, -1, 1, 1, 1, -1, 1, -1, 1, 0.04, 6, 0, 0, 0, 0, 6, 3, 18.0, 0, 0, 12, 23, 0, 1]\n",
      "https://www.hugedomains.com/ [1, 1, 1, 1, 1, 1, 0, 1, 1, -1, 1, 1, -1, -1, 1, 0, -1, -1, 1, -1, -1, -1, 1, 1, 1, -1, 1, -1, 1, 0.04, 6, 0, 0, 0, 0, 11, 3, 23.0, 0, 0, 17, 28, 0, 1]\n",
      "https://www.foxnews.com/ [1, 1, 1, 1, 1, 1, 0, 1, 1, -1, 1, 1, -1, -1, 1, 0, -1, -1, 1, -1, -1, -1, 1, 1, 1, -1, 1, -1, 1, 0.04, 6, 0, 0, 0, 0, 7, 3, 19.0, 0, 0, 13, 24, 0, 1]\n",
      "https://www.amazon.co.jp/ [1, 1, 1, 1, 1, 1, -1, 1, -1, -1, 1, 1, -1, -1, 1, 0, -1, -1, 1, -1, -1, -1, 1, -1, -1, -1, 1, 0, 1, 0.04, 7, 0, 1, 0, 0, 6, 2, 19.0, 0, 0, 13, 25, 0, 1]\n",
      "https://www.researchgate.net/ [1, 1, 1, 1, 1, 1, 0, 1, 1, -1, 1, 1, -1, -1, 0, 1, -1, -1, 1, -1, -1, -1, 1, 1, 1, -1, 1, -1, 1, 0.03, 6, 0, 0, 0, 0, 12, 3, 24.0, 0, 0, 18, 29, 0, 1]\n",
      "https://www.gov.uk/ [1, 1, 1, 1, 1, 1, 0, 1, -1, 1, 1, 1, -1, -1, -1, 0, -1, -1, 1, -1, -1, -1, 1, 1, 1, -1, 1, 1, 1, 0.05, 6, 0, 0, 0, 0, 5, 2, 14.0, 0, 0, 8, 19, 0, 1]\n",
      "https://pixabay.com/ [1, 1, 1, 1, 1, 1, 1, 1, 1, 1, 1, 1, 0, -1, -1, 0, -1, -1, 1, -1, -1, -1, 1, 1, 1, -1, 1, 1, 1, 0.05, 5, 0, 0, 0, 0, 7, 3, 16.0, 0, 0, 10, 20, 0, 1]\n",
      "https://discord.com/ [1, 1, 1, 1, 1, 1, 1, 1, 1, -1, 1, 1, -1, -1, -1, 1, -1, -1, 1, -1, -1, -1, 1, 1, 1, -1, 1, 1, 1, 0.05, 5, 0, 0, 0, 0, 7, 3, 16.0, 0, 0, 10, 20, 0, 1]\n",
      "https://www.un.org/ [1, 1, 1, 1, 1, 1, 0, 1, 1, -1, 1, 1, 0, -1, 0, 1, -1, -1, 1, -1, -1, -1, 1, 1, 1, -1, 1, 1, 1, 0.05, 6, 0, 0, 0, 0, 5, 2, 14.0, 0, 0, 8, 19, 0, 1]\n",
      "https://www.amazon.co.uk/ [1, 1, 1, 1, 1, 1, -1, 1, 1, -1, 1, 1, -1, -1, 1, 0, -1, -1, 1, -1, -1, -1, 1, 1, 1, -1, 1, -1, 1, 0.04, 7, 0, 1, 0, 0, 6, 2, 19.0, 0, 0, 13, 25, 0, 1]\n",
      "https://www.amazon.de/ [1, 1, 1, 1, 1, 1, 0, 1, -1, -1, 1, 1, -1, -1, 1, 0, -1, -1, 1, -1, -1, -1, 1, -1, -1, -1, 1, 0, 1, 0.05, 6, 0, 1, 0, 0, 6, 2, 17.0, 0, 0, 11, 22, 0, 1]\n",
      "https://www.4shared.com/ [1, 1, 1, 1, 1, 1, 0, 1, 1, -1, 1, 1, -1, -1, 0, 1, -1, -1, 1, -1, -1, -1, 1, 1, 1, -1, 1, -1, 1, 0.04, 6, 0, 0, 0, 0, 6, 3, 18.0, 1, 0, 12, 24, 0, 1]\n",
      "https://www.fandom.com/explore [1, 1, 1, 1, 1, 1, 0, 1, 1, -1, 1, 1, -1, -1, 0, 0, -1, -1, 1, -1, -1, -1, 1, 1, 1, -1, 1, -1, 1, 0.27, 6, 0, 0, 0, 0, 7, 3, 25.0, 0, 0, 12, 30, 0, 1]\n",
      "https://estadao.com.br/ [1, 1, 1, 1, 1, 1, 0, 1, 1, -1, 1, 1, -1, -1, 0, 1, -1, -1, 1, -1, -1, -1, 1, 1, 1, -1, 1, -1, 1, 0.04, 6, 0, 0, 0, 0, 7, 2, 18.0, 0, 0, 12, 23, 0, 1]\n",
      "https://www.instagram.com/ [1, 1, 1, 1, 1, 1, 0, 1, 1, -1, 1, 1, -1, -1, 0, 1, -1, -1, 1, -1, -1, -1, 1, 1, 1, -1, 1, 1, 1, 0.04, 6, 0, 0, 0, 0, 9, 3, 21.0, 0, 0, 15, 26, 0, 1]\n",
      "https://www.independent.co.uk/asia?CMP=ILC-refresh [1, 1, -1, 1, 1, 1, -1, 1, 1, -1, 1, 1, -1, -1, 0, 1, -1, -1, 1, -1, -1, -1, 1, 1, 1, -1, 1, -1, 1, 0.1, 10, 0, 0, 1, 1, 11, 2, 5.0, 0, 0, 18, 50, 0, 1]\n",
      "https://www.samsung.com/in/ [1, 1, 1, 1, 1, 1, 0, 1, 1, -1, 1, 1, -1, -1, 1, 0, -1, -1, 1, -1, -1, -1, 1, 1, 1, -1, 1, -1, 1, 0.15, 7, 0, 0, 0, 0, 7, 2, 21.0, 0, 0, 13, 27, 0, 1]\n",
      "https://www.google.pl/ [1, 1, 1, 1, 1, 1, 0, 1, 1, -1, 1, 1, -1, -1, 0, 0, -1, -1, 1, -1, -1, -1, 1, 1, 1, -1, 1, -1, 1, 0.05, 6, 0, 0, 0, 0, 6, 2, 17.0, 0, 0, 11, 22, 0, 1]\n",
      "https://soundcloud.com/ [1, 1, 1, 1, 1, 1, 1, 1, 1, -1, 1, 1, 0, -1, 0, 1, -1, -1, 1, -1, -1, -1, 1, 1, 1, -1, 1, -1, 1, 0.04, 5, 0, 0, 0, 0, 10, 3, 19.0, 0, 0, 13, 23, 0, 1]\n",
      "https://www.bloomberg.com/asia [1, 1, 1, 1, 1, 1, 0, 1, 1, -1, 1, 1, 0, -1, -1, 1, -1, -1, 1, -1, -1, -1, 1, 1, 1, -1, 1, 1, 1, 0.17, 6, 0, 0, 0, 0, 9, 3, 25.0, 0, 0, 15, 30, 0, 1]\n",
      "https://twitter.com/ [1, 1, 1, 1, 1, 1, 1, 1, 1, -1, 1, 1, -1, -1, 0, -1, -1, -1, 1, -1, -1, -1, 1, 1, 1, -1, 1, -1, 1, 0.05, 5, 0, 0, 0, 0, 7, 3, 16.0, 0, 0, 10, 20, 0, 1]\n",
      "https://www.businessinsider.in/?r=US&IR=T [1, 1, 1, 1, 1, 1, 0, 1, 1, -1, 1, 1, -1, -1, 0, 1, -1, -1, 1, -1, -1, -1, 1, 1, 1, -1, 1, -1, 1, 0.02, 10, 0, 0, 1, 1, 15, 1, 4.5, 0, 0, 20, 41, 0, 1]\n",
      "https://www.google.com/ [1, 1, 1, 1, 1, 1, 0, 1, 1, -1, 1, 1, -1, -1, 0, 0, -1, -1, 1, -1, -1, -1, 1, 1, 1, -1, 1, -1, 1, 0.04, 6, 0, 0, 0, 0, 6, 3, 18.0, 0, 0, 12, 23, 0, 1]\n",
      "https://news.yahoo.com/ [1, 1, 1, 1, 1, 1, 0, 1, 1, -1, 1, 1, -1, -1, 1, 0, -1, -1, 1, -1, -1, -1, 1, 1, 1, -1, 1, -1, 1, 0.04, 6, 0, 0, 0, 0, 5, 3, 18.0, 0, 0, 12, 23, 0, 1]\n",
      "https://www.ig.com.br/ [1, 1, 1, 1, 1, 1, -1, 1, 1, -1, 1, 1, -1, -1, 1, 0, -1, -1, 1, -1, -1, -1, 1, 1, 1, -1, 1, -1, 1, 0.05, 7, 0, 0, 0, 0, 5, 2, 16.0, 0, 0, 10, 22, 0, 1]\n",
      "https://issuu.com/ [1, 1, 1, 1, 1, 1, 1, 1, 1, 1, 1, 1, -1, -1, 0, 0, -1, -1, 1, -1, -1, -1, 1, 1, 1, -1, 1, -1, 1, 0.06, 5, 0, 0, 0, 0, 5, 3, 14.0, 0, 0, 8, 18, 0, 1]\n",
      "https://de.wikipedia.org/wiki/Wikipedia:Hauptseite [1, 1, 1, 1, 1, 1, 0, 1, 1, -1, 1, 1, -1, -1, 0, 0, -1, -1, 1, -1, -1, -1, 1, 1, 1, -1, 1, -1, 1, 0.52, 8, 0, 0, 0, 0, 10, 2, 13.667, 0, 0, 14, 50, 0, 1]\n",
      "https://api.whatsapp.com/ [1, 1, 1, 1, 1, 1, 0, 1, 1, -1, 1, 1, -1, -1, 1, 1, -1, -1, 1, -1, -1, -1, 1, 1, 1, -1, 1, -1, 1, 0.04, 6, 0, 0, 0, 0, 8, 3, 20.0, 0, 0, 14, 25, 0, 1]\n",
      "https://www.indiatimes.com/ [1, 1, 1, 1, 1, 1, 0, 1, 1, -1, 1, 1, -1, -1, 0, 1, -1, -1, 1, -1, -1, -1, 1, 1, 1, -1, 1, -1, 1, 0.04, 6, 0, 0, 0, 0, 10, 3, 22.0, 0, 0, 16, 27, 0, 1]\n",
      "https://www.bing.com/?toWww=1&redig=010E0225AC0E4FEF9F4A5E74F35ACCB0 [1, 0, 1, 1, 1, 1, 0, 1, 1, 1, 1, 1, -1, -1, 1, 1, -1, -1, 1, -1, -1, -1, 1, 1, 1, -1, 1, 1, 1, 0.01, 10, 0, 0, 1, 1, 5, 1, 1.471, 0, 0, 10, 68, 0, 1]\n",
      "https://bitly.com/ [1, 1, -1, 1, 1, 1, 1, 1, 1, -1, 1, 1, -1, -1, 1, 0, -1, -1, 1, -1, -1, -1, 1, 1, 1, -1, 1, -1, 1, 0.06, 5, 0, 0, 0, 0, 5, 3, 14.0, 0, 0, 8, 18, 0, 1]\n",
      "https://myaccount.google.com/ [1, 1, 1, 1, 1, 1, 0, 1, 1, -1, 1, 1, -1, -1, 1, 1, -1, -1, 0, -1, -1, -1, 1, 1, 1, -1, 1, 1, 1, 0.03, 6, 0, 0, 0, 0, 9, 3, 24.0, 0, 0, 18, 29, 0, 1]\n",
      "https://www.assine.abril.com.br/novoassine/home.html?redirect=abrilcom [1, 0, 1, 1, 1, 1, -1, 1, 1, 1, 1, 1, -1, -1, 0, 1, -1, -1, 1, -1, -1, -1, 1, 1, 1, -1, 1, -1, 1, 0.3, 12, 0, 0, 1, 1, 10, 2, 59.0, 0, 0, 19, 70, 0, 1]\n",
      "https://www.netvibes.com/consent?url=https%3A%2F%2Fwww.netvibes.com%2F [1, 0, 1, 1, 1, 1, -1, 1, 1, -1, 1, 1, -1, -1, 1, 1, -1, -1, 1, -1, -1, -1, 1, 1, 1, -1, 1, -1, 1, 0.11, 14, 0, 0, 1, 1, 8, 1, 9.8, 0, 0, 14, 70, 0, 1]\n",
      "https://www.dailymail.co.uk/home/index.html [1, 1, 1, 1, 1, 1, -1, -1, 1, -1, 1, 1, -1, -1, -1, -1, -1, -1, -1, -1, -1, -1, -1, 1, 1, -1, 1, -1, 1, 0.37, 9, 0, 0, 0, 0, 9, 2, 35.0, 0, 0, 16, 43, 0, 1]\n",
      "https://www.usatoday.com/ [1, 1, 1, 1, 1, 1, 0, 1, 1, -1, 1, 1, -1, -1, 1, 1, -1, -1, 1, -1, -1, -1, 1, 1, 1, -1, 1, -1, 1, 0.04, 6, 0, 0, 0, 0, 8, 3, 20.0, 0, 0, 14, 25, 0, 1]\n",
      "https://www.huffpost.com/ [1, 1, -1, 1, 1, 1, 0, -1, 1, 1, 1, 1, -1, -1, 0, 1, -1, -1, 1, -1, -1, -1, 1, 1, 1, -1, 1, -1, 1, 0.04, 6, 0, 0, 0, 0, 8, 3, 20.0, 0, 0, 14, 25, 0, 1]\n",
      "https://www.scribd.com/ [1, 1, 1, 1, 1, 1, 0, 1, 1, -1, 1, 1, -1, -1, 0, 1, -1, -1, 1, -1, -1, -1, 1, 1, 1, -1, 1, -1, 1, 0.04, 6, 0, 0, 0, 0, 6, 3, 18.0, 0, 0, 12, 23, 0, 1]\n",
      "https://www.huffpost.com/ [1, 1, -1, 1, 1, 1, 0, -1, 1, 1, 1, 1, -1, -1, 0, 1, -1, -1, 1, -1, -1, -1, 1, 1, 1, -1, 1, -1, 1, 0.04, 6, 0, 0, 0, 0, 8, 3, 20.0, 0, 0, 14, 25, 0, 1]\n",
      "https://www.shutterstock.com/ [1, 1, 1, 1, 1, 1, 0, 1, 1, -1, 1, 1, 0, -1, 0, 1, -1, -1, 1, -1, -1, -1, 1, 1, 1, -1, 1, 1, 1, 0.03, 6, 0, 0, 0, 0, 12, 3, 24.0, 0, 0, 18, 29, 0, 1]\n",
      "https://www.nature.com/ [1, 1, 1, 1, 1, 1, 0, 1, 1, 1, 1, 1, -1, -1, -1, 0, -1, -1, 0, -1, -1, -1, 1, 1, 1, -1, 1, -1, 1, 0.04, 6, 0, 0, 0, 0, 6, 3, 18.0, 0, 0, 12, 23, 0, 1]\n",
      "https://www.bbc.com/ [1, 1, 1, 1, 1, 1, 0, 1, 1, -1, 1, 1, -1, -1, 1, 0, -1, -1, 1, -1, -1, -1, 1, 1, 1, -1, 1, -1, 1, 0.05, 6, 0, 0, 0, 0, 5, 3, 15.0, 0, 0, 9, 20, 0, 1]\n",
      "https://www.abc.es/ [1, 1, 1, 1, 1, 1, 0, 1, -1, -1, 1, 1, 0, -1, 0, 1, -1, -1, 1, -1, -1, -1, 1, -1, -1, -1, 1, 1, 1, 0.05, 6, 0, 0, 0, 0, 5, 2, 14.0, 0, 0, 8, 19, 0, 1]\n",
      "https://www.webmd.com/ [1, 1, 1, 1, 1, 1, 0, 1, 1, 1, 1, 1, -1, -1, 0, 1, -1, -1, 1, -1, -1, -1, 1, 1, 1, -1, 1, 1, 1, 0.05, 6, 0, 0, 0, 0, 5, 3, 17.0, 0, 0, 11, 22, 0, 1]\n",
      "https://get.google.com/albumarchive/118222072966580349531 [1, 0, 1, 1, 1, 1, 0, 1, 1, -1, 1, 1, -1, -1, 0, 1, -1, -1, 0, -1, -1, -1, 1, 1, 1, -1, 1, -1, 1, 0.61, 7, 0, 0, 0, 0, 12, 3, 30.0, 0, 0, 12, 57, 0, 1]\n",
      "https://www.afternic.com/ [1, 1, 1, 1, 1, 1, 0, 1, 1, 1, 1, 1, -1, -1, 0, 0, -1, -1, 1, -1, -1, -1, 1, 1, 1, -1, 1, -1, 1, 0.04, 6, 0, 0, 0, 0, 8, 3, 20.0, 0, 0, 14, 25, 0, 1]\n",
      "https://www.nasa.gov/ [1, 1, 1, 1, 1, 1, 0, 1, -1, -1, 1, 1, -1, -1, 0, 1, -1, -1, 1, -1, -1, -1, 1, -1, -1, -1, 1, 1, 1, 0.05, 6, 0, 0, 0, 0, 5, 3, 16.0, 0, 0, 10, 21, 0, 1]\n",
      "https://www.reuters.com/ [1, 1, 1, 1, 1, 1, 0, 1, 1, -1, 1, 1, -1, -1, 0, 1, -1, -1, 1, -1, -1, -1, 1, 1, 1, -1, 1, -1, 1, 0.04, 6, 0, 0, 0, 0, 7, 3, 19.0, 0, 0, 13, 24, 0, 1]\n",
      "https://archive.org/ [1, 1, 1, 1, 1, 1, 1, 1, 1, 1, 1, 1, 0, -1, 0, 1, -1, -1, 1, -1, -1, -1, 1, 1, 1, -1, 1, 1, 1, 0.05, 5, 0, 0, 0, 0, 7, 3, 16.0, 0, 0, 10, 20, 0, 1]\n",
      "https://www.ft.com/ [1, 1, -1, 1, 1, 1, 0, 1, 1, 1, 1, 1, -1, -1, -1, 0, -1, -1, 1, -1, -1, -1, 1, 1, 1, -1, 1, -1, 1, 0.05, 6, 0, 0, 0, 0, 5, 2, 14.0, 0, 0, 8, 19, 0, 1]\n",
      "https://www.terra.com.br/ [1, 1, 1, 1, 1, 1, -1, 1, 1, 1, 1, 1, -1, -1, 1, 1, -1, -1, 1, -1, -1, -1, 1, 1, 1, -1, 1, -1, 1, 0.04, 7, 0, 0, 0, 0, 5, 2, 19.0, 0, 0, 13, 25, 0, 1]\n",
      "https://www.cnet.com/ [1, 1, -1, 1, 1, 1, 0, 1, 1, 1, 1, 1, -1, -1, -1, 1, -1, -1, 1, -1, -1, -1, 1, 1, 1, -1, 1, -1, 1, 0.05, 6, 0, 0, 0, 0, 5, 3, 16.0, 0, 0, 10, 21, 0, 1]\n",
      "https://youradchoices.com/ [1, 1, 1, 1, 1, 1, 1, 1, 1, 1, 1, 1, -1, -1, -1, 1, -1, -1, 1, -1, -1, -1, 1, 1, 1, -1, 1, -1, 1, 0.04, 5, 0, 0, 0, 0, 13, 3, 22.0, 0, 0, 16, 26, 0, 1]\n",
      "https://developers.googleblog.com/2018/03/transitioning-google-url-shortener.html [1, -1, 1, 1, 1, 1, -1, 1, 1, -1, 1, 1, -1, -1, 0, 0, -1, -1, 1, -1, -1, -1, 1, 1, 1, -1, 1, -1, 1, 0.59, 12, 0, 0, 0, 0, 13, 3, 64.0, 0, 0, 23, 81, 0, 1]\n",
      "Error trying to connect to socket: closing socket - [Errno 11001] getaddrinfo failed\n",
      "https://forms.gle/ [1, 1, 1, 1, 1, 1, 1, 1, -1, -1, 1, 1, -1, -1, 0, 1, -1, -1, 1, -1, -1, -1, 1, -1, -1, -1, 1, 1, 1, 0.06, 5, 0, 0, 0, 0, 5, 3, 14.0, 0, 0, 8, 18, 0, 1]\n",
      "https://www.namecheap.com/ [1, 1, 1, 1, 1, 1, 0, 1, 1, -1, 1, 1, -1, -1, 0, 1, -1, -1, 1, -1, -1, -1, 1, 1, 1, -1, 1, -1, 1, 0.04, 6, 0, 0, 0, 0, 9, 3, 21.0, 0, 0, 15, 26, 0, 1]\n",
      "https://time.com/ [1, 1, 1, 1, 1, 1, 1, 1, 1, 1, 1, 1, -1, -1, 0, 0, -1, -1, 1, -1, -1, -1, 1, 1, 1, -1, 1, -1, 1, 0.06, 5, 0, 0, 0, 0, 5, 3, 13.0, 0, 0, 7, 17, 0, 1]\n",
      "https://www.youronlinechoices.com/ [1, 1, 1, 1, 1, 1, 0, 1, 1, 1, 1, 1, -1, -1, -1, 1, -1, -1, 1, -1, -1, -1, 1, 1, 1, -1, 1, -1, 1, 0.03, 6, 0, 0, 0, 0, 17, 3, 29.0, 0, 0, 23, 34, 0, 1]\n",
      "https://www.thesun.co.uk/ [1, 1, 1, 1, 1, 1, -1, 1, 1, 1, 1, 1, -1, -1, 0, 0, -1, -1, 1, -1, -1, -1, 1, 1, 1, -1, 1, -1, 1, 0.04, 7, 0, 0, 0, 0, 6, 2, 19.0, 0, 0, 13, 25, 0, 1]\n",
      "https://mail.ru/ [1, 1, 1, 1, 1, 1, 1, 1, 1, -1, 1, 1, -1, -1, -1, 1, -1, -1, 1, -1, -1, -1, 1, 1, 1, -1, 1, -1, 1, 0.06, 5, 0, 0, 0, 0, 5, 2, 12.0, 0, 0, 6, 16, 0, 1]\n",
      "https://www.plesk.com/ [1, 1, 1, 1, 1, 1, 0, 1, 1, 1, 1, 1, -1, -1, -1, 0, -1, -1, 1, -1, -1, -1, 1, 1, 1, -1, 1, -1, 1, 0.05, 6, 0, 0, 0, 0, 5, 3, 17.0, 0, 0, 11, 22, 0, 1]\n",
      "https://www.gov.br/planalto/pt-br [1, 1, 1, 1, 1, 1, 0, 1, -1, -1, 1, 1, -1, -1, -1, 1, -1, -1, 1, -1, -1, -1, 1, 1, 1, -1, 1, -1, 1, 0.45, 8, 0, 0, 0, 0, 8, 2, 26.0, 0, 0, 8, 33, 0, 1]\n",
      "https://www.hatena.ne.jp/ [1, 1, 1, 1, 1, 1, -1, 1, -1, 1, 1, 1, -1, -1, 0, 1, -1, -1, 1, -1, -1, -1, 1, -1, -1, -1, 1, -1, 1, 0.04, 7, 0, 0, 0, 0, 6, 2, 19.0, 0, 0, 13, 25, 0, 1]\n",
      "https://cpanel.net/ [1, 1, 1, 1, 1, 1, 1, 1, 1, 1, 1, 1, -1, -1, 0, 1, -1, -1, 1, -1, -1, -1, 1, 1, 1, -1, 1, -1, 1, 0.05, 5, 0, 0, 0, 0, 6, 3, 15.0, 0, 0, 9, 19, 0, 1]\n",
      "https://www.office.com/ [1, 1, 1, 1, 1, 1, 0, 1, 1, -1, 1, 1, -1, -1, 1, 1, -1, -1, 1, -1, -1, -1, 1, 1, 1, -1, 1, 1, 1, 0.04, 6, 0, 0, 0, 0, 6, 3, 18.0, 0, 0, 12, 23, 0, 1]\n",
      "https://www.mirror.co.uk/ [1, 1, 1, 1, 1, 1, -1, 1, 1, -1, 1, 1, 0, -1, 0, 1, -1, -1, 1, -1, -1, -1, 1, 1, 1, -1, 1, 1, 1, 0.04, 7, 0, 0, 0, 0, 6, 2, 19.0, 0, 0, 13, 25, 0, 1]\n",
      "https://marketingplatform.google.com/about/ [1, 1, 1, 1, 1, 1, 0, 1, 1, 1, 1, 1, -1, -1, 1, 1, -1, -1, 1, -1, -1, -1, 1, 1, 1, -1, 1, 0, 1, 0.16, 7, 0, 0, 0, 0, 17, 3, 37.0, 0, 0, 26, 43, 0, 1]\n",
      "https://imageshack.com/ [1, 1, 1, 1, 1, 1, 1, 1, 1, 1, 1, 1, -1, -1, 1, 1, -1, -1, 1, -1, -1, -1, 1, 1, 1, -1, 1, -1, 1, 0.04, 5, 0, 0, 0, 0, 10, 3, 19.0, 0, 0, 13, 23, 0, 1]\n",
      "https://www.telegraph.co.uk/ [1, 1, 1, 1, 1, 1, -1, 1, 1, -1, 1, 1, -1, -1, 1, 1, -1, -1, 1, -1, -1, -1, 1, 1, 1, -1, 1, -1, 1, 0.04, 7, 0, 0, 0, 0, 9, 2, 22.0, 0, 0, 16, 28, 0, 1]\n",
      "https://in.pinterest.com/ [1, 1, -1, 1, 1, 1, 0, 1, 1, -1, 1, 1, 0, -1, 1, 1, -1, -1, 1, -1, -1, -1, 1, 1, 1, -1, 1, 1, 1, 0.04, 6, 0, 0, 0, 0, 9, 2, 20.0, 0, 0, 14, 25, 0, 1]\n",
      "https://www.change.org/ [1, 1, 1, 1, 1, 1, 0, 1, 1, -1, 1, 1, -1, -1, 1, 1, -1, -1, 1, -1, -1, -1, 1, 1, 1, -1, 1, -1, 1, 0.04, 6, 0, 0, 0, 0, 6, 3, 18.0, 0, 0, 12, 23, 0, 1]\n",
      "https://www.amazon.es/ [1, 1, 1, 1, 1, 1, 0, 1, -1, -1, 1, 1, -1, -1, 0, 1, -1, -1, 1, -1, -1, -1, 1, -1, -1, -1, 1, 0, 1, 0.05, 6, 0, 1, 0, 0, 6, 2, 17.0, 0, 0, 11, 22, 0, 1]\n",
      "https://ru.wikipedia.org/wiki/%D0%97%D0%B0%D0%B3%D0%BB%D0%B0%D0%B2%D0%BD%D0%B0%D1%8F_%D1%81%D1%82%D1%80%D0%B0%D0%BD%D0%B8%D1%86%D0%B0 [1, -1, 1, 1, 1, 1, 0, 1, 1, -1, 1, 1, -1, -1, 0, 0, -1, -1, 1, -1, -1, -1, 1, 1, 1, -1, 1, -1, 1, 0.82, 42, 0, 0, 0, 0, 9, 1, 0.727, 0, 0, 14, 133, 0, 1]\n",
      "https://disk.yandex.com/ [1, 1, -1, 1, 1, 1, 0, 1, 1, -1, 1, 1, -1, -1, 1, 0, -1, -1, 1, -1, -1, -1, 1, 1, 1, -1, 1, -1, 1, 0.04, 6, 0, 0, 0, 0, 6, 3, 19.0, 0, 0, 13, 24, 0, 1]\n",
      "https://elpais.com/ [1, 1, 1, 1, 1, 1, 1, 1, 1, -1, 1, 1, -1, -1, 0, 0, -1, -1, 1, -1, -1, -1, 1, 1, 1, -1, 1, -1, 1, 0.05, 5, 0, 0, 0, 0, 6, 3, 15.0, 0, 0, 9, 19, 0, 1]\n",
      "https://it.wikipedia.org/wiki/Pagina_principale [1, 1, 1, 1, 1, 1, 0, 1, 1, -1, 1, 1, -1, -1, 0, 0, -1, -1, 1, -1, -1, -1, 1, 1, 1, -1, 1, -1, 1, 0.49, 8, 0, 0, 0, 0, 10, 2, 19.5, 0, 0, 14, 47, 0, 1]\n",
      "https://www.washingtonpost.com/ [1, 1, -1, 1, 1, 1, 0, -1, 1, 1, 1, 1, -1, -1, 0, 1, -1, -1, 1, -1, -1, -1, 1, 1, 1, -1, 1, -1, 1, 0.03, 6, 0, 0, 0, 0, 14, 3, 26.0, 0, 0, 20, 31, 0, 1]\n",
      "https://wordpress.com/ [1, 1, 1, 1, 1, 1, 1, 1, 1, -1, 1, 1, -1, -1, 0, 1, -1, -1, 1, -1, -1, -1, 1, 1, 1, -1, 1, -1, 1, 0.05, 5, 0, 0, 0, 0, 9, 3, 18.0, 0, 0, 12, 22, 0, 1]\n",
      "https://www.w3.org/ [1, 1, 1, 1, 1, 1, 0, 1, 1, -1, 1, 1, -1, -1, 0, 1, -1, -1, 1, -1, -1, -1, 1, 1, 1, -1, 1, -1, 1, 0.05, 6, 0, 0, 0, 0, 5, 1, 13.0, 1, 0, 7, 19, 0, 1]\n",
      "https://mail.google.com/mail/u/0/#inbox [1, 1, 1, 1, 1, 1, 0, 1, 1, -1, 1, 1, -1, -1, 0, 1, -1, -1, 0, -1, -1, -1, 1, 1, 1, -1, 1, -1, 1, 0.26, 10, 0, 0, 0, 0, 6, 1, 29.0, 0, 0, 13, 39, 0, 1]\n",
      "https://ria.ru/ [1, 1, 1, 1, 1, 1, 1, 1, 1, 1, 1, 1, -1, -1, -1, 0, -1, -1, 1, -1, -1, -1, 1, 1, 1, -1, 1, -1, 1, 0.07, 5, 0, 0, 0, 0, 5, 2, 11.0, 0, 0, 5, 15, 0, 1]\n",
      "https://www.francetvinfo.fr/ [1, 1, 1, 1, 1, 1, 0, 1, 1, 1, 1, 1, -1, -1, -1, 1, -1, -1, 1, -1, -1, -1, 1, 1, 1, -1, 1, -1, 1, 0.04, 6, 0, 0, 0, 0, 12, 2, 23.0, 0, 0, 17, 28, 0, 1]\n",
      "https://www.theguardian.com/international [1, 1, 1, 1, 1, 1, 0, 1, 1, -1, 1, 1, -1, -1, 0, 0, -1, -1, 1, -1, -1, -1, 1, 1, 1, -1, 1, -1, 1, 0.34, 6, 0, 0, 0, 0, 13, 3, 36.0, 0, 0, 17, 41, 0, 1]\n",
      "https://www.gnu.org/ [1, 1, 1, 1, 1, 1, 0, 1, 1, 1, 1, 1, -1, -1, 1, 0, -1, -1, 1, -1, -1, -1, 1, 1, 1, -1, 1, -1, 1, 0.05, 6, 0, 0, 0, 0, 5, 3, 15.0, 0, 0, 9, 20, 0, 1]\n",
      "https://www.wikipedia.org/ [1, 1, 1, 1, 1, 1, 0, 1, 1, 1, 1, 1, -1, -1, 0, 1, -1, -1, 1, -1, -1, -1, 1, 1, 1, -1, 1, -1, 1, 0.04, 6, 0, 0, 0, 0, 9, 3, 21.0, 0, 0, 15, 26, 0, 1]\n",
      "https://bandcamp.com/ [1, 1, 1, 1, 1, 1, 1, 1, 1, -1, 1, 1, -1, -1, 1, 0, -1, -1, 1, -1, -1, -1, 1, 1, 1, -1, 1, -1, 1, 0.05, 5, 0, 0, 0, 0, 8, 3, 17.0, 0, 0, 11, 21, 0, 1]\n",
      "https://www.wix.com/ [1, 1, -1, 1, 1, 1, 0, 1, 1, 1, 1, 1, -1, -1, 0, 1, -1, -1, 1, -1, -1, -1, 1, 1, 1, -1, 1, -1, 1, 0.05, 6, 0, 0, 0, 0, 5, 3, 15.0, 0, 0, 9, 20, 0, 1]\n",
      "https://www.tmz.com/ [1, 1, 1, 1, 1, 1, 0, 1, 1, 1, 1, 1, -1, -1, 1, 0, -1, -1, 1, -1, -1, 1, 1, 1, 1, -1, 1, -1, 1, 0.05, 6, 0, 0, 0, 0, 5, 3, 15.0, 0, 0, 9, 20, 0, 1]\n",
      "https://global.oup.com/?cc=gb [1, 1, 1, 1, 1, 1, 0, 1, 1, -1, 1, 1, -1, -1, 0, 1, -1, -1, 1, -1, -1, -1, 1, 1, 1, -1, 1, -1, 1, 0.03, 8, 0, 0, 1, 1, 6, 2, 22.0, 0, 0, 12, 29, 0, 1]\n",
      "https://www.lemonde.fr/ [1, 1, 1, 1, 1, 1, 0, 1, 1, 1, 1, 1, -1, -1, -1, 1, -1, -1, 1, -1, -1, -1, 1, 1, 1, -1, 1, -1, 1, 0.04, 6, 0, 0, 0, 0, 7, 2, 18.0, 0, 0, 12, 23, 0, 1]\n",
      "https://www.walmart.com/ [1, 1, -1, 1, 1, 1, 0, -1, 1, -1, 1, 1, -1, -1, 1, 0, -1, -1, 1, -1, -1, -1, 1, 1, 1, -1, 1, 1, 1, 0.04, 6, 0, 0, 0, 0, 7, 3, 19.0, 0, 0, 13, 24, 0, 1]\n",
      "https://nginx.org/ [1, 1, 1, 1, 1, 1, 1, 1, 1, -1, 1, 1, -1, -1, -1, 1, -1, -1, 1, -1, -1, -1, 1, 1, 1, -1, 1, -1, 1, 0.06, 5, 0, 0, 0, 0, 5, 3, 14.0, 0, 0, 8, 18, 0, 1]\n",
      "https://www.yelp.com/ [1, 1, 1, 1, 1, 1, 0, 1, 1, -1, 1, 1, -1, -1, 1, 0, -1, -1, 1, -1, -1, -1, 1, 1, 1, -1, 1, -1, 1, 0.05, 6, 0, 0, 0, 0, 5, 3, 16.0, 0, 0, 10, 21, 0, 1]\n",
      "https://www.amazon.fr/ [1, 1, 1, 1, 1, 1, 0, 1, 1, -1, 1, 1, -1, -1, 1, 0, -1, -1, 1, -1, -1, -1, 1, 1, 1, -1, 1, 0, 1, 0.05, 6, 0, 1, 0, 0, 6, 2, 17.0, 0, 0, 11, 22, 0, 1]\n",
      "https://search.yahoo.com/ [1, 1, 1, 1, 1, 1, 0, 1, 1, -1, 1, 1, 0, -1, 1, 1, -1, -1, 1, -1, -1, -1, 1, 1, 1, -1, 1, -1, 1, 0.04, 6, 0, 0, 0, 0, 6, 3, 20.0, 0, 0, 14, 25, 0, 1]\n",
      "https://www.abc.net.au/ [1, 1, 1, 1, 1, 1, -1, 1, -1, -1, 1, 1, -1, -1, -1, 1, -1, -1, 1, -1, -1, -1, 1, -1, -1, -1, 1, -1, 1, 0.04, 7, 0, 0, 0, 0, 5, 2, 17.0, 0, 0, 11, 23, 0, 1]\n",
      "https://www.liveinternet.ru/ [1, 1, 1, 1, 1, 1, 0, 1, 1, 1, 1, 1, -1, -1, 0, 0, -1, -1, 1, -1, -1, 1, 1, 1, 1, -1, 1, -1, 1, 0.04, 6, 0, 0, 0, 0, 12, 2, 23.0, 0, 0, 17, 28, 0, 1]\n",
      "https://discord.com/ [1, 1, 1, 1, 1, 1, 1, 1, 1, -1, 1, 1, -1, -1, -1, 1, -1, -1, 1, -1, -1, -1, 1, 1, 1, -1, 1, 1, 1, 0.05, 5, 0, 0, 0, 0, 7, 3, 16.0, 0, 0, 10, 20, 0, 1]\n",
      "https://www.ietf.org/ [1, 1, 1, 1, 1, 1, 0, 1, 1, -1, 1, 1, -1, -1, 1, 0, -1, -1, 1, -1, -1, -1, 1, 1, 1, -1, 1, -1, 1, 0.05, 6, 0, 0, 0, 0, 5, 3, 16.0, 0, 0, 10, 21, 0, 1]\n",
      "https://www.dreamstime.com/ [1, 1, 1, 1, 1, 1, 0, 1, 1, 1, 1, 1, -1, -1, 0, 1, -1, -1, 1, -1, -1, -1, 1, 1, 1, -1, 1, -1, 1, 0.04, 6, 0, 0, 0, 0, 10, 3, 22.0, 0, 0, 16, 27, 0, 1]\n",
      "https://www.hp.com/in-en/home.html [1, 1, 1, 1, 1, 1, -1, 1, 1, -1, 1, 1, -1, -1, 1, 1, -1, -1, 1, -1, -1, -1, 1, 1, 1, -1, 1, -1, 1, 0.47, 9, 0, 0, 0, 0, 5, 2, 26.0, 0, 0, 8, 34, 0, 1]\n",
      "https://www.berkeley.edu/ [1, 1, 1, 1, 1, 1, 0, 1, -1, -1, 1, 1, 0, -1, 0, 1, -1, -1, 1, -1, -1, -1, 1, -1, -1, -1, 1, 1, 1, 0.04, 6, 0, 0, 0, 0, 8, 3, 20.0, 0, 0, 14, 25, 0, 1]\n",
      "https://www.secureserver.net/ [1, 1, 1, 1, 1, 1, 0, 1, 1, -1, 1, 1, 0, -1, 1, 1, -1, -1, 1, -1, -1, -1, 1, 1, 1, -1, 1, 0, 1, 0.03, 6, 0, 0, 0, 0, 12, 3, 24.0, 0, 0, 18, 29, 0, 1]\n",
      "https://www.addthis.com/ [1, 1, 1, 1, 1, 1, 0, 1, 1, -1, 1, 1, -1, -1, 0, 1, -1, -1, 1, -1, -1, -1, 1, 1, 1, -1, 1, 1, 1, 0.04, 6, 0, 0, 0, 0, 7, 3, 19.0, 0, 0, 13, 24, 0, 1]\n",
      "https://photos1.blogger.com/ [1, 1, 1, 1, 1, 1, 0, 1, 1, -1, 1, 1, 0, -1, 0, 1, -1, -1, 1, -1, -1, -1, 1, 1, 1, -1, 1, 1, 1, 0.04, 6, 0, 0, 0, 0, 7, 3, 22.0, 1, 0, 16, 28, 0, 1]\n",
      "https://www.cointernet.com.co/ [1, 1, -1, 1, 1, 1, -1, 1, 1, 1, 1, 1, -1, -1, 0, 0, -1, -1, 1, -1, -1, -1, 1, 1, 1, -1, 1, -1, 1, 0.03, 7, 0, 0, 0, 0, 10, 2, 24.0, 0, 0, 18, 30, 0, 1]\n",
      "https://www.biglobe.ne.jp/ [1, 1, 1, 1, 1, 1, -1, 1, -1, 1, 1, 1, -1, -1, 0, 0, -1, -1, 1, -1, -1, -1, 1, -1, -1, -1, 1, -1, 1, 0.04, 7, 0, 0, 0, 0, 7, 2, 20.0, 0, 0, 14, 26, 0, 1]\n",
      "https://home.pl/ [1, 1, 1, 1, 1, 1, 1, 1, 1, 1, 1, 1, -1, -1, 0, 1, -1, -1, 1, -1, -1, -1, 1, 1, 1, -1, 1, 1, 1, 0.06, 5, 0, 0, 0, 0, 5, 2, 12.0, 0, 0, 6, 16, 0, 1]\n",
      "https://abcnews.go.com/ [1, 1, 1, 1, 1, 1, 0, 1, 1, -1, 1, 1, -1, -1, 1, 1, -1, -1, 1, -1, -1, -1, 1, 1, 1, -1, 1, 1, 1, 0.04, 6, 0, 0, 0, 0, 7, 2, 18.0, 0, 0, 12, 23, 0, 1]\n",
      "https://www.ebay.com/ [1, 1, 1, 1, 1, 1, 0, 1, 1, -1, 1, 1, -1, -1, 1, 1, -1, -1, 1, 1, -1, -1, 1, 1, 1, -1, 1, -1, 1, 0.05, 6, 0, 0, 0, 0, 5, 3, 16.0, 0, 0, 10, 21, 0, 1]\n",
      "https://zoom.us/ [1, 1, 1, 1, 1, 1, 1, 1, 1, -1, 1, 1, -1, -1, -1, 1, -1, -1, 1, -1, -1, -1, 1, 1, 1, -1, 1, -1, 1, 0.06, 5, 0, 0, 0, 0, 5, 2, 12.0, 0, 0, 6, 16, 0, 1]\n",
      "https://techcrunch.com/ [1, 1, 1, 1, 1, 1, 1, 1, 1, 1, 1, 1, -1, -1, 0, 1, -1, -1, 1, -1, -1, -1, 1, 1, 1, -1, 1, -1, 1, 0.04, 5, 0, 0, 0, 0, 10, 3, 19.0, 0, 0, 13, 23, 0, 1]\n",
      "https://www.ftc.gov/ [1, 1, 1, 1, 1, 1, 0, 1, -1, 1, 1, 1, -1, -1, 0, 0, -1, -1, 1, -1, -1, -1, 1, -1, -1, -1, 1, -1, 1, 0.05, 6, 0, 0, 0, 0, 5, 3, 15.0, 0, 0, 9, 20, 0, 1]\n",
      "https://www.buzzfeed.com/in [1, 1, 1, 1, 1, 1, 0, 1, 1, 1, 1, 1, -1, -1, 0, 1, -1, -1, 1, -1, -1, -1, 1, 1, 1, -1, 1, -1, 1, 0.11, 6, 0, 0, 0, 0, 8, 2, 22.0, 0, 0, 14, 27, 0, 1]\n",
      "https://calendar.google.com/calendar/u/0/r [1, 1, 1, 1, 1, 1, 0, 1, 1, -1, 1, 1, -1, -1, 0, 1, -1, -1, 1, -1, -1, -1, 1, 1, 1, -1, 1, 1, 1, 0.36, 9, 0, 0, 0, 0, 8, 1, 33.0, 0, 0, 17, 42, 0, 1]\n",
      "https://www.britannica.com/ [1, 1, 1, 1, 1, 1, 0, 1, 1, -1, 1, 1, -1, -1, 1, 0, -1, -1, 1, -1, -1, -1, 1, 1, 1, -1, 1, -1, 1, 0.04, 6, 0, 0, 0, 0, 10, 3, 22.0, 0, 0, 16, 27, 0, 1]\n",
      "https://www.yahoo.co.jp/ [1, 1, 1, 1, 1, 1, -1, -1, -1, -1, 1, 1, -1, -1, 1, 0, -1, -1, 1, -1, -1, -1, 1, -1, -1, -1, 1, -1, 1, 0.04, 7, 0, 0, 0, 0, 5, 2, 18.0, 0, 0, 12, 24, 0, 1]\n",
      "https://www.smh.com.au/ [1, 1, 1, 1, 1, 1, -1, 1, -1, -1, 1, 1, -1, -1, 0, 1, -1, -1, 1, -1, -1, -1, 1, -1, -1, -1, 1, -1, 1, 0.04, 7, 0, 0, 0, 0, 5, 2, 17.0, 0, 0, 11, 23, 0, 1]\n",
      "https://thenai.org/ [1, 1, 1, 1, 1, 1, 1, 1, 1, -1, 1, 1, 0, -1, 0, 1, -1, -1, 1, -1, -1, -1, 1, 1, 1, -1, 1, 1, 1, 0.05, 5, 0, 0, 0, 0, 6, 3, 15.0, 0, 0, 9, 19, 0, 1]\n",
      "https://www.amazon.com/ [1, 1, 1, 1, 1, 1, 0, 1, 1, -1, 1, 1, -1, -1, 0, 0, -1, -1, 1, -1, -1, -1, 1, 1, 1, -1, 1, -1, 1, 0.04, 6, 0, 1, 0, 0, 6, 3, 18.0, 0, 0, 12, 23, 0, 1]\n",
      "https://www.ovhcloud.com/en/ [1, 1, 1, 1, 1, 1, 0, 1, 1, 1, 1, 1, -1, -1, 0, 0, -1, -1, 1, -1, -1, -1, 1, 1, 1, -1, 1, -1, 1, 0.14, 7, 0, 0, 0, 0, 8, 2, 22.0, 0, 0, 14, 28, 0, 1]\n",
      "https://www.radiofrance.fr/ [1, 1, 1, 1, 1, 1, 0, 1, 1, -1, 1, 1, -1, -1, 0, 1, -1, -1, 1, -1, -1, -1, 1, 1, 1, -1, 1, -1, 1, 0.04, 6, 0, 0, 0, 0, 11, 2, 22.0, 0, 0, 16, 27, 0, 1]\n",
      "https://ja.wikipedia.org/wiki/%E3%83%A1%E3%82%A4%E3%83%B3%E3%83%9A%E3%83%BC%E3%82%B8 [1, -1, 1, 1, 1, 1, 0, 1, 1, -1, 1, 1, -1, -1, 0, 0, -1, -1, 1, -1, -1, -1, 1, 1, 1, -1, 1, -1, 1, 0.71, 25, 0, 0, 0, 0, 9, 1, 1.714, 0, 0, 14, 84, 0, 1]\n",
      "https://www.express.co.uk/ [1, 1, 1, 1, 1, 1, -1, 1, 1, -1, 1, 1, -1, -1, 1, 1, -1, -1, 1, -1, -1, -1, 1, 1, 1, -1, 1, -1, 1, 0.04, 7, 0, 0, 0, 0, 7, 2, 20.0, 0, 0, 14, 26, 0, 1]\n",
      "https://www.npr.org/ [1, 1, 1, 1, 1, 1, 0, 1, 1, 1, 1, 1, -1, -1, 1, 1, -1, -1, 1, -1, -1, -1, 1, 1, 1, -1, 1, -1, 1, 0.05, 6, 0, 0, 0, 0, 5, 3, 15.0, 0, 0, 9, 20, 0, 1]\n",
      "https://disqus.com/ [1, 1, 1, 1, 1, 1, 1, 1, 1, -1, 1, 1, -1, -1, 1, 1, -1, -1, 1, -1, -1, -1, 1, 1, 1, -1, 1, 1, 1, 0.05, 5, 0, 0, 0, 0, 6, 3, 15.0, 0, 0, 9, 19, 0, 1]\n",
      "https://www.ibm.com/in-en [1, 1, 1, 1, 1, 1, 0, 1, 1, 1, 1, 1, -1, -1, 0, 1, -1, -1, 1, -1, -1, -1, 1, 1, 1, -1, 1, 0, 1, 0.24, 7, 0, 0, 0, 0, 5, 2, 19.0, 0, 0, 9, 25, 0, 1]\n",
      "https://www.kickstarter.com/ [1, 1, 1, 1, 1, 1, 0, 1, 1, 1, 1, 1, -1, -1, 0, 1, -1, -1, 1, -1, -1, -1, 1, 1, 1, -1, 1, 1, 1, 0.04, 6, 0, 0, 0, 0, 11, 3, 23.0, 0, 0, 17, 28, 0, 1]\n",
      "https://www.php.net/ [1, 1, 1, 1, 1, 1, 0, 1, 1, 1, 1, 1, -1, -1, 0, 0, -1, -1, 1, -1, -1, -1, 1, 1, 1, -1, 1, -1, 1, 0.05, 6, 0, 0, 0, 0, 5, 3, 15.0, 0, 0, 9, 20, 0, 1]\n",
      "https://news.google.com/ [1, 1, 1, 1, 1, 1, 0, 1, 1, 1, 1, 1, -1, -1, 1, 1, -1, -1, 1, -1, -1, -1, 1, 1, 1, -1, 1, 0, 1, 0.04, 6, 0, 0, 0, 0, 6, 3, 19.0, 0, 0, 13, 24, 0, 1]\n",
      "https://www.google.nl/ [1, 1, 1, 1, 1, 1, 0, 1, -1, -1, 1, 1, -1, -1, 0, 0, -1, -1, 1, -1, -1, -1, 1, 1, 1, -1, 1, -1, 1, 0.05, 6, 0, 0, 0, 0, 6, 2, 17.0, 0, 0, 11, 22, 0, 1]\n",
      "https://plos.org/ [1, 1, 1, 1, 1, 1, 1, 1, 1, 1, 1, 1, -1, -1, -1, 1, -1, -1, 1, -1, -1, -1, 1, 1, 1, -1, 1, -1, 1, 0.06, 5, 0, 0, 0, 0, 5, 3, 13.0, 0, 0, 7, 17, 0, 1]\n",
      "https://offset.com/ [1, 1, -1, 1, 1, 1, 1, 1, 1, -1, 1, 1, -1, -1, -1, 0, -1, -1, 1, -1, -1, -1, 1, 1, 1, -1, 1, -1, 1, 0.05, 5, 0, 0, 0, 0, 6, 3, 15.0, 0, 0, 9, 19, 0, 1]\n",
      "https://www.netflix.com/in/ [1, 1, -1, 1, 1, 1, 0, 1, 1, -1, 1, 1, -1, -1, 1, 1, -1, -1, 1, -1, -1, -1, 1, 1, 1, -1, 1, 0, 1, 0.15, 7, 0, 0, 0, 0, 7, 2, 21.0, 0, 0, 13, 27, 0, 1]\n",
      "https://www.newsweek.com/ [1, 1, 1, 1, 1, 1, 0, 1, 1, -1, 1, 1, 0, -1, 0, 1, -1, -1, 1, -1, -1, -1, 1, 1, 1, -1, 1, 1, 1, 0.04, 6, 0, 0, 0, 0, 8, 3, 20.0, 0, 0, 14, 25, 0, 1]\n",
      "https://proof.ovh.net/ [1, 1, 1, 1, 1, 1, 0, 1, 1, -1, 1, 1, -1, -1, 0, 1, -1, -1, 1, -1, -1, -1, 1, 1, 1, -1, 1, -1, 1, 0.05, 6, 0, 0, 0, 0, 5, 3, 17.0, 0, 0, 11, 22, 0, 1]\n",
      "https://www.economist.com/ [1, 1, -1, 1, 1, 1, 0, 1, 1, -1, 1, 1, -1, -1, 0, 0, -1, -1, 1, -1, -1, -1, 1, 1, 1, -1, 1, -1, 1, 0.04, 6, 0, 0, 0, 0, 9, 3, 21.0, 0, 0, 15, 26, 0, 1]\n",
      "https://www.rakuten.co.jp/ [1, 1, 1, 1, 1, 1, -1, -1, -1, -1, 1, 1, -1, -1, 0, 1, -1, -1, 1, -1, -1, -1, 1, -1, -1, -1, 1, -1, 1, 0.04, 7, 0, 0, 0, 0, 7, 2, 20.0, 0, 0, 14, 26, 0, 1]\n",
      "https://www.urbandictionary.com/ [1, 1, 1, 1, 1, 1, 0, 1, 1, -1, 1, 1, -1, -1, 0, 0, -1, -1, 1, -1, -1, -1, 1, 1, 1, -1, 1, 1, 1, 0.03, 6, 0, 0, 0, 0, 15, 3, 27.0, 0, 0, 21, 32, 0, 1]\n",
      "https://imageshack.com/ [1, 1, 1, 1, 1, 1, 1, 1, 1, 1, 1, 1, -1, -1, 1, 1, -1, -1, 1, -1, -1, -1, 1, 1, 1, -1, 1, -1, 1, 0.04, 5, 0, 0, 0, 0, 10, 3, 19.0, 0, 0, 13, 23, 0, 1]\n",
      "https://www.000webhost.com/ [1, 1, -1, 1, 1, 1, 0, 1, 1, 1, 1, 1, 0, -1, -1, 0, -1, -1, 1, -1, -1, -1, 1, 1, 1, -1, 1, 1, 1, 0.04, 6, 0, 0, 0, 0, 7, 3, 19.0, 3, 0, 13, 27, 0, 1]\n",
      "https://themeforest.net/ [1, 1, 1, 1, 1, 1, 1, 1, 1, -1, 1, 1, -1, -1, 1, 0, -1, -1, 1, -1, -1, -1, 1, 1, 1, -1, 1, -1, 1, 0.04, 5, 0, 0, 0, 0, 11, 3, 20.0, 0, 0, 14, 24, 0, 1]\n",
      "https://www.aol.com/ [1, 1, 1, 1, 1, 1, 0, 1, 1, -1, 1, 1, -1, -1, 1, 0, -1, -1, 1, -1, -1, -1, 1, 1, 1, -1, 1, -1, 1, 0.05, 6, 0, 0, 0, 0, 5, 3, 15.0, 0, 0, 9, 20, 0, 1]\n",
      "https://www.huawei.com/en/?ic_medium=direct&ic_source=surlent [1, 0, 1, 1, 1, 1, 0, 1, 1, -1, 1, 1, -1, -1, -1, 0, -1, -1, 1, -1, -1, -1, 1, 1, 1, -1, 1, -1, 1, 0.07, 13, 0, 0, 1, 1, 7, 2, 49.0, 0, 0, 12, 61, 0, 1]\n",
      "https://www.zdf.de/ [1, 1, 1, 1, 1, 1, 0, 1, -1, -1, 1, 1, -1, -1, 0, 0, -1, -1, 1, -1, -1, -1, 1, -1, -1, -1, 1, -1, 1, 0.05, 6, 0, 0, 0, 0, 5, 2, 14.0, 0, 0, 8, 19, 0, 1]\n",
      "https://www.canada.ca [1, 1, 1, 1, 1, 1, 0, -1, 1, 1, 1, 1, -1, -1, 0, 1, -1, -1, 1, -1, -1, -1, 1, 1, 1, -1, 1, -1, 1, 0.0, 5, 0, 0, 0, 0, 6, 2, 17.0, 0, 0, 11, 21, 0, 1]\n"
     ]
    }
   ],
   "source": [
    "from custom.feature import FeatureExtraction\n",
    "\n",
    "legit_list=[]\n",
    "for url in tempurls:\n",
    "    pt=FeatureExtraction(url)\n",
    "    temp=pt.getFeaturesList()\n",
    "    temp.append(1)\n",
    "    legit_list.append(temp)\n",
    "    print(url,temp)"
   ]
  },
  {
   "cell_type": "code",
   "execution_count": 41,
   "metadata": {},
   "outputs": [
    {
     "name": "stdout",
     "output_type": "stream",
     "text": [
      "[[1, 1, 1, 1, 1, 1, 0, 1, 1, 1, 1, 1, -1, -1, -1, 1, -1, -1, 1, -1, -1, -1, 1, 1, 1, -1, 1, 1, 1, 0.04, 6, 0, 0, 0, 0, 7, 3, 19.0, 0, 0, 13, 24, 0, 1], [1, -1, 1, 1, 1, 1, -1, 1, 1, -1, 1, 1, -1, -1, 0, 1, -1, -1, 1, -1, -1, -1, 1, 1, 1, -1, 1, -1, 1, 0.04, 27, 2, 0, 1, 1, 8, 1, 7.308, 0, 0, 12, 166, 0, 1], [1, -1, 1, 1, 1, 1, 0, -1, 1, -1, 1, 1, -1, -1, -1, -1, -1, -1, -1, -1, -1, -1, -1, 1, 1, -1, 1, -1, 1, 0.69, 18, 0, 0, 0, 0, 9, 2, 63.0, 0, 0, 15, 81, 0, 1], [1, 1, 1, 1, 1, 1, 0, 1, 1, 1, 1, 1, -1, -1, 0, 0, -1, -1, 1, -1, -1, -1, 1, 1, 1, -1, 1, -1, 1, 0.04, 6, 0, 0, 0, 0, 7, 3, 22.0, 0, 0, 16, 27, 0, 1], [1, 1, 1, 1, 1, 1, -1, 1, 1, -1, 1, 1, -1, -1, 0, 1, -1, -1, 1, -1, -1, -1, 1, 1, 1, -1, 1, -1, 1, 0.44, 9, 0, 0, 0, 0, 6, 2, 31.0, 0, 0, 12, 39, 0, 1], [1, 0, 1, 1, 1, 1, -1, 1, 1, -1, 1, 1, -1, -1, 0, 1, -1, -1, 1, -1, -1, -1, 1, 1, 1, -1, 1, -1, 1, 0.67, 12, 0, 0, 0, 0, 10, 2, 56.0, 0, 0, 12, 67, 0, 1], [1, 1, 1, 1, 1, 1, 0, 1, 1, -1, 1, 1, -1, -1, 1, 1, -1, -1, 1, -1, -1, 1, 1, 1, 1, -1, 1, 1, 1, 0.29, 7, 0, 0, 0, 0, 7, 3, 25.0, 0, 0, 12, 31, 0, 1], [1, 1, 1, 1, 1, 1, -1, 1, 1, -1, 1, 1, -1, -1, 0, 1, -1, -1, 1, -1, -1, -1, 1, 1, 1, -1, 1, -1, 1, 0.54, 10, 0, 0, 0, 0, 9, 2, 39.0, 0, 0, 12, 48, 0, 1], [1, 1, 1, 1, 1, 1, 0, 1, 1, -1, 1, 1, -1, -1, 0, 0, -1, -1, 1, -1, -1, -1, 1, 1, 1, -1, 1, -1, 1, 0.04, 6, 0, 0, 0, 0, 6, 3, 18.0, 0, 0, 12, 23, 0, 1], [1, 1, 1, 1, 1, 1, 0, 1, 1, 1, 1, 1, -1, -1, 0, 1, -1, -1, 1, -1, -1, -1, 1, 1, 1, -1, 1, -1, 1, 0.03, 6, 0, 0, 0, 0, 9, 3, 24.0, 0, 0, 18, 29, 0, 1], [1, 1, 1, -1, 1, 1, -1, 1, 1, 1, 1, 1, 0, -1, 0, 1, -1, -1, 1, -1, -1, -1, 1, 1, 1, -1, 1, 1, 1, 0.58, 12, 0, 0, 0, 0, 6, 1, 23.0, 0, 0, 12, 53, 0, 1], [1, 0, 1, 1, 1, 1, 0, 1, 1, -1, 1, 1, -1, -1, 1, 1, -1, -1, 1, -1, -1, -1, 1, 1, 1, -1, 1, 0, 1, 0.09, 14, 0, 0, 1, 1, 6, 2, 5.0, 0, 0, 13, 54, 0, 1], [1, 1, 1, 1, 1, 1, 0, 1, 1, -1, 1, 1, 0, -1, 0, 1, -1, -1, 1, -1, -1, -1, 1, 1, 1, -1, 1, 1, 1, 0.04, 6, 0, 0, 0, 0, 10, 3, 22.0, 0, 0, 16, 27, 0, 1], [1, 1, 1, 1, 1, 1, 1, 1, 1, 1, 1, 1, -1, -1, 1, 0, -1, -1, 1, -1, -1, -1, 1, 1, 1, -1, 1, -1, 1, 0.06, 5, 0, 0, 0, 0, 5, 3, 14.0, 0, 0, 8, 18, 0, 1], [1, -1, 1, 1, 1, 1, -1, 1, 1, -1, 1, 1, 0, -1, 0, 1, -1, -1, 1, -1, -1, -1, 1, 1, 1, -1, 1, 0, 1, 0.17, 26, 2, 1, 1, 1, 21, 1, 13.1, 0, 0, 17, 172, 0, 1], [1, 0, 1, 1, 1, 1, 0, 1, 1, -1, 1, 1, -1, -1, 1, 1, -1, -1, 1, -1, -1, -1, 1, 1, 1, -1, 1, 0, 1, 0.09, 14, 0, 0, 1, 1, 6, 2, 5.0, 0, 0, 13, 54, 0, 1], [1, 1, 1, 1, 1, 1, -1, 1, 1, 1, 1, 1, 0, -1, -1, 0, -1, -1, 1, -1, -1, -1, 1, 1, 1, -1, 1, 1, 1, 0.68, 9, 0, 0, 0, 0, 8, 3, 39.0, 0, 0, 6, 47, 0, 1], [1, 1, 1, 1, 1, 1, 0, 1, 1, 1, 1, 1, -1, -1, 0, 1, -1, -1, 1, -1, -1, -1, 1, 1, 1, -1, 1, -1, 1, 0.23, 7, 0, 0, 0, 0, 7, 3, 24.0, 0, 0, 13, 30, 0, 1], [1, 1, 1, 1, 1, 1, 0, 1, 1, 1, 1, 1, -1, -1, 1, 1, -1, -1, 1, -1, -1, -1, 1, 1, 1, -1, 1, -1, 1, 0.04, 6, 0, 0, 0, 0, 8, 3, 20.0, 0, 0, 14, 25, 0, 1], [1, 1, 1, 1, 1, 1, 0, 1, 1, 1, 1, 1, -1, -1, 0, 0, -1, -1, 1, -1, -1, -1, 1, 1, 1, -1, 1, -1, 1, 0.04, 6, 0, 0, 0, 0, 7, 3, 22.0, 0, 0, 16, 27, 0, 1], [1, 1, 1, 1, 1, 1, 0, 1, 1, 1, 1, 1, 0, -1, -1, 0, -1, -1, 1, -1, -1, -1, 1, 1, 1, -1, 1, -1, 1, 0.05, 6, 0, 0, 0, 0, 5, 3, 17.0, 0, 0, 11, 22, 0, 1], [1, 1, -1, 1, 1, 1, 0, -1, 1, -1, 1, 1, 0, -1, 0, 1, -1, -1, 1, -1, -1, -1, 1, 1, 1, -1, 1, 0, 1, 0.22, 8, 0, 0, 0, 0, 9, 2, 25.0, 0, 0, 15, 32, 0, 1], [1, 1, 1, 1, 1, 1, 0, 1, 1, 1, 1, 1, -1, -1, -1, 1, -1, -1, 1, -1, -1, -1, 1, 1, 1, -1, 1, -1, 1, 0.29, 9, 0, 0, 1, 1, 6, 3, 32.0, 0, 0, 13, 41, 0, 1], [1, 1, 1, 1, 1, 1, 1, 1, 1, 1, 1, 1, -1, -1, -1, 1, -1, -1, 1, -1, -1, -1, 1, 1, 1, -1, 1, -1, 1, 0.05, 5, 0, 0, 0, 0, 9, 3, 18.0, 0, 0, 12, 22, 0, 1], [1, 1, 1, 1, 1, 1, 0, 1, 1, -1, 1, 1, -1, -1, 0, 0, -1, -1, 1, -1, -1, -1, 1, 1, 1, -1, 1, -1, 1, 0.38, 8, 0, 0, 0, 0, 9, 2, 10.0, 0, 0, 14, 39, 0, 1], [1, 1, 1, 1, 1, 1, 0, 1, 1, -1, 1, 1, -1, -1, 0, 1, -1, -1, 0, -1, -1, -1, 1, 1, 1, -1, 1, -1, 1, 0.04, 6, 0, 0, 0, 0, 6, 3, 19.0, 0, 0, 13, 24, 0, 1], [1, 1, 1, 1, 1, 1, 0, 1, 1, -1, 1, 1, -1, -1, -1, 1, -1, -1, 1, -1, -1, -1, 1, 1, 1, -1, 1, -1, 1, 0.21, 8, 0, 0, 0, 0, 10, 2, 26.0, 0, 0, 16, 33, 0, 1], [1, 1, 1, -1, 1, 1, -1, 1, 1, 1, 1, 1, 0, -1, 0, 1, -1, -1, 1, -1, -1, -1, 1, 1, 1, -1, 1, 1, 1, 0.58, 12, 0, 0, 0, 0, 6, 1, 23.0, 0, 0, 12, 53, 0, 1], [1, 1, 1, 1, 1, 1, 0, 1, 1, -1, 1, 1, -1, -1, 1, 1, -1, -1, 0, -1, -1, -1, 1, 1, 1, -1, 1, -1, 1, 0.38, 9, 0, 0, 0, 0, 8, 1, 28.0, 0, 0, 13, 37, 0, 1], [1, 1, 1, 1, 1, 1, 0, 1, 1, -1, 1, 1, -1, -1, 1, 1, -1, -1, 1, -1, -1, -1, 1, 1, 1, -1, 1, -1, 1, 0.04, 6, 0, 0, 0, 0, 8, 3, 20.0, 0, 0, 14, 25, 0, 1], [1, 1, 1, 1, 1, 1, 0, 1, 1, -1, 1, 1, -1, -1, -1, 0, -1, -1, 1, -1, -1, -1, 1, 1, 1, -1, 1, -1, 1, 0.23, 8, 0, 0, 0, 0, 7, 2, 7.0, 0, 0, 13, 30, 0, 1], [1, 1, 1, 1, 1, 1, 0, 1, 1, -1, 1, 1, -1, -1, 0, 1, -1, -1, 0, -1, -1, -1, 1, 1, 1, -1, 1, -1, 1, 0.16, 12, 0, 0, 1, 1, 8, 1, 35.0, 0, 0, 14, 49, 0, 1], [1, 0, 1, 1, 1, -1, 0, 1, -1, 1, 1, 1, -1, -1, -1, 1, -1, -1, 1, -1, -1, -1, 1, -1, -1, -1, 1, 0, 1, 0.24, 12, 0, 0, 1, 1, 11, 2, 56.0, 0, 0, 21, 68, 1, 1], [1, 1, 1, 1, 1, 1, 0, 1, 1, -1, 1, 1, 0, -1, 0, 1, -1, -1, 1, -1, -1, -1, 1, 1, 1, -1, 1, 1, 1, 0.05, 6, 0, 0, 0, 0, 5, 3, 17.0, 0, 0, 11, 22, 0, 1], [1, 1, 1, 1, 1, 1, 0, 1, 1, -1, 1, 1, -1, -1, 1, 1, -1, -1, 0, -1, -1, -1, 1, 1, 1, -1, 1, 1, 1, 0.03, 6, 0, 0, 0, 0, 9, 3, 24.0, 0, 0, 18, 29, 0, 1], [1, 1, 1, 1, 1, 1, 0, 1, 1, -1, 1, 1, -1, -1, 0, 1, -1, -1, 0, -1, -1, -1, 1, 1, 1, -1, 1, -1, 1, 0.04, 6, 0, 0, 0, 0, 6, 3, 20.0, 0, 0, 14, 25, 0, 1], [1, 1, 1, 1, 1, 1, 0, 1, 1, -1, 1, 1, -1, -1, 0, 0, -1, -1, 1, -1, -1, -1, 1, 1, 1, -1, 1, -1, 1, 0.04, 6, 0, 1, 0, 0, 6, 3, 18.0, 0, 0, 12, 23, 0, 1], [1, 1, 1, 1, 1, 1, 0, 1, 1, 1, 1, 1, -1, -1, 1, 1, -1, -1, 1, -1, -1, -1, 1, 1, 1, -1, 1, -1, 1, 0.04, 6, 0, 0, 0, 0, 8, 3, 23.0, 0, 0, 17, 28, 0, 1], [1, 1, 1, 1, 1, 1, -1, 1, 1, 1, 1, 1, -1, -1, 1, 1, -1, -1, 1, -1, -1, -1, 1, 1, 1, -1, 1, -1, 1, 0.04, 7, 0, 0, 0, 0, 5, 2, 17.0, 0, 0, 11, 23, 0, 1], [1, 1, 1, 1, 1, 1, 1, 1, 1, 1, 1, 1, -1, -1, -1, 1, -1, -1, 1, -1, -1, -1, 1, 1, 1, -1, 1, -1, 1, 0.07, 5, 0, 0, 0, 0, 5, 2, 11.0, 0, 0, 5, 15, 0, 1], [1, 1, 1, 1, 1, 1, 1, 1, 1, 1, 1, 1, -1, -1, -1, 1, -1, -1, 1, -1, -1, -1, 1, 1, 1, -1, 1, -1, 1, 0.05, 5, 0, 0, 0, 0, 8, 3, 17.0, 0, 0, 11, 21, 0, 1], [1, 1, 1, 1, 1, 1, 1, 1, 1, -1, 1, 1, -1, -1, 1, 0, -1, -1, 1, -1, -1, -1, 1, 1, 1, -1, 1, -1, 1, 0.05, 5, 0, 0, 0, 0, 6, 3, 15.0, 0, 0, 9, 19, 0, 1], [1, 1, 1, 1, 1, 1, 0, 1, 1, -1, 1, 1, 0, -1, 0, 1, -1, -1, 1, -1, -1, -1, 1, 1, 1, -1, 1, 1, 1, 0.04, 6, 0, 0, 0, 0, 11, 3, 23.0, 0, 0, 17, 28, 0, 1], [1, 1, 1, 1, 1, 1, 0, 1, 1, -1, 1, 1, -1, -1, 1, 0, -1, -1, 1, -1, -1, -1, 1, 1, 1, -1, 1, -1, 1, 0.04, 6, 0, 0, 0, 0, 8, 3, 20.0, 0, 0, 14, 25, 0, 1], [1, 0, 1, 1, 1, 1, 0, 1, 1, -1, 1, 1, -1, -1, 0, 0, -1, -1, 1, -1, -1, -1, 1, 1, 1, -1, 1, -1, 1, 0.64, 13, 0, 0, 0, 0, 9, 1, 6.286, 0, 0, 14, 66, 0, 1], [1, 1, 1, 1, 1, 1, 0, 1, 1, 1, 1, 1, -1, -1, 0, 0, -1, -1, 1, -1, -1, -1, 1, 1, 1, -1, 1, -1, 1, 0.24, 7, 0, 0, 0, 0, 5, 2, 19.0, 0, 0, 9, 25, 0, 1], [1, 1, 1, 1, 1, 1, 1, -1, 1, -1, 1, 1, -1, -1, -1, -1, -1, -1, -1, -1, -1, -1, -1, 1, 1, -1, 1, -1, 1, 0.05, 5, 0, 0, 0, 0, 7, 3, 16.0, 0, 0, 10, 20, 0, 1], [1, 1, 1, 1, 1, 1, 0, 1, 1, -1, 1, 1, -1, -1, 1, 1, -1, -1, 1, -1, -1, -1, 1, 1, 1, -1, 1, -1, 1, 0.04, 6, 0, 0, 0, 0, 6, 3, 18.0, 0, 0, 12, 23, 0, 1], [1, -1, 1, 1, 1, 1, -1, 1, 1, -1, 1, 1, 0, -1, 0, 1, -1, -1, 1, -1, -1, -1, 1, 1, 1, -1, 1, 0, 1, 0.1, 26, 2, 0, 1, 1, 19, 1, 3.911, 0, 0, 17, 284, 0, 1], [1, -1, 1, 1, 1, 1, -1, 1, 1, -1, 1, 1, 0, -1, 1, 1, -1, -1, 1, -1, -1, -1, 1, 1, 1, -1, 1, -1, 1, 0.04, 51, 0, 0, 1, 1, 13, 1, 9.733, 0, 0, 12, 271, 0, 1], [1, 1, 1, 1, 1, 1, 0, 1, 1, -1, 1, 1, -1, -1, 0, 0, -1, -1, 1, -1, -1, -1, 1, 1, 1, -1, 1, -1, 1, 0.05, 6, 0, 0, 0, 0, 5, 3, 17.0, 0, 0, 11, 22, 0, 1], [1, 1, 1, 1, 1, 1, 1, 1, 1, -1, 1, 1, -1, -1, -1, 1, -1, -1, 1, -1, -1, -1, 1, 1, 1, -1, 1, -1, 1, 0.05, 5, 0, 0, 0, 0, 6, 3, 15.0, 0, 0, 9, 19, 0, 1], [1, 1, 1, 1, 1, 1, 0, 1, 1, -1, 1, 1, -1, -1, 1, 0, -1, -1, 1, -1, -1, -1, 1, 1, 1, -1, 1, -1, 1, 0.05, 6, 0, 0, 0, 0, 5, 3, 15.0, 0, 0, 9, 20, 0, 1], [1, 1, 1, 1, 1, 1, 0, 1, 1, 1, 1, 1, -1, -1, 1, 0, -1, -1, 1, -1, -1, -1, 1, 1, 1, -1, 1, -1, 1, 0.04, 6, 0, 0, 0, 0, 7, 3, 19.0, 0, 0, 13, 24, 0, 1], [1, 1, 1, 1, 1, 1, 0, 1, -1, 1, 1, 1, -1, -1, 0, 0, -1, -1, 1, -1, -1, -1, 1, -1, -1, -1, 1, -1, 1, 0.05, 6, 0, 0, 0, 0, 5, 3, 15.0, 0, 0, 9, 20, 0, 1], [1, 1, 1, 1, 1, 1, 0, 1, 1, 1, 1, 1, -1, -1, -1, 1, -1, -1, 1, -1, -1, -1, 1, 1, 1, -1, 1, -1, 1, 0.12, 6, 0, 0, 0, 0, 6, 2, 20.0, 0, 0, 12, 25, 0, 1], [1, 0, 1, 1, 1, 1, 0, 1, 1, -1, 1, 1, -1, -1, 0, 0, -1, -1, 1, -1, -1, -1, 1, 1, 1, -1, 1, -1, 1, 0.61, 11, 0, 0, 0, 0, 9, 1, 9.2, 0, 0, 14, 62, 0, 1], [1, 1, 1, 1, 1, 1, 1, 1, 1, -1, 1, 1, -1, -1, 0, 1, -1, -1, 0, -1, -1, 1, 1, 1, 1, -1, 1, -1, 1, 0.04, 5, 0, 0, 0, 0, 10, 3, 19.0, 0, 0, 13, 23, 0, 1], [1, 1, 1, 1, 1, 1, -1, 1, -1, -1, 1, 1, -1, -1, 0, 0, -1, -1, 1, -1, -1, -1, 1, -1, -1, -1, 1, -1, 1, 0.04, 7, 0, 0, 0, 0, 6, 2, 19.0, 0, 0, 13, 25, 0, 1], [1, 1, 1, 1, 1, 1, 0, 1, 1, -1, 1, 1, -1, -1, 0, 1, -1, -1, 1, -1, -1, -1, 1, 1, 1, -1, 1, -1, 1, 0.27, 7, 0, 0, 0, 0, 6, 3, 24.0, 0, 0, 12, 30, 0, 1], [1, 1, 1, 1, 1, 1, 0, 1, -1, 1, 1, 1, -1, -1, 0, 1, -1, -1, 1, -1, -1, -1, 1, -1, -1, -1, 1, -1, 1, 0.05, 6, 0, 0, 0, 0, 5, 3, 15.0, 0, 0, 9, 20, 0, 1], [1, 1, 1, 1, 1, 1, 0, 1, 1, 1, 1, 1, -1, -1, 0, 1, -1, -1, 1, -1, -1, -1, 1, 1, 1, -1, 1, -1, 1, 0.22, 7, 0, 0, 0, 0, 7, 3, 26.0, 0, 0, 15, 32, 0, 1], [1, 1, -1, 1, 1, 1, 0, 1, 1, 1, 1, 1, 0, -1, -1, 0, -1, -1, 1, -1, -1, -1, 1, 1, 1, -1, 1, 1, 1, 0.04, 6, 0, 0, 0, 0, 11, 3, 23.0, 0, 0, 17, 28, 0, 1], [1, 1, 1, 1, 1, 1, 0, 1, 1, 1, 1, 1, -1, -1, 1, 1, -1, -1, 1, -1, -1, -1, 1, 1, 1, -1, 1, -1, 1, 0.27, 7, 0, 1, 0, 0, 6, 2, 24.0, 0, 0, 12, 30, 0, 1], [1, 1, 1, 1, 1, 1, 0, 1, 1, -1, 1, 1, -1, -1, 0, 0, -1, -1, 1, -1, -1, -1, 1, 1, 1, -1, 1, -1, 1, 0.04, 6, 0, 0, 0, 0, 7, 3, 19.0, 0, 0, 13, 24, 0, 1], [1, 1, 1, 1, 1, 1, 0, -1, 1, 1, 1, 1, -1, -1, -1, 1, -1, -1, 1, -1, -1, -1, 1, 1, 1, -1, 1, -1, 1, 0.05, 6, 0, 0, 0, 0, 5, 3, 17.0, 0, 0, 11, 22, 0, 1], [1, 1, 1, 1, 1, 1, 1, 1, 1, 1, 1, 1, -1, -1, -1, 1, -1, -1, 1, -1, -1, -1, 1, 1, 1, -1, 1, -1, 1, 0.04, 5, 0, 0, 0, 0, 15, 3, 24.0, 0, 0, 18, 28, 0, 1], [1, 1, 1, 1, 1, 1, 0, 1, 1, -1, 1, 1, -1, -1, 1, 1, -1, -1, 1, -1, -1, -1, 1, 1, 1, -1, 1, -1, 1, 0.04, 6, 0, 0, 0, 0, 9, 3, 21.0, 0, 0, 15, 26, 0, 1], [1, 1, 1, 1, 1, 1, 0, 1, 1, 1, 1, 1, -1, -1, 0, 1, -1, -1, 1, -1, -1, -1, 1, 1, 1, -1, 1, -1, 1, 0.04, 6, 0, 0, 0, 0, 8, 2, 19.0, 0, 0, 13, 24, 0, 1], [1, 1, 1, 1, 1, 1, 0, 1, 1, 1, 1, 1, -1, -1, 0, 1, -1, -1, 1, -1, -1, -1, 1, 1, 1, -1, 1, -1, 1, 0.03, 6, 0, 0, 0, 0, 10, 3, 25.0, 0, 0, 19, 30, 0, 1], [1, 1, -1, 1, 1, -1, 1, 1, 1, -1, 1, 1, -1, -1, -1, 0, -1, -1, 1, -1, -1, -1, 1, 1, 1, -1, 1, -1, 1, 0.03, 6, 0, 0, 0, 0, 10, 3, 25.0, 0, 0, 19, 30, 1, 1], [1, 1, 1, 1, 1, 1, 0, 1, 1, -1, 1, 1, 0, -1, 0, 1, -1, -1, 1, -1, -1, -1, 1, 1, 1, -1, 1, 1, 1, 0.05, 6, 0, 0, 0, 0, 5, 3, 16.0, 0, 0, 10, 21, 0, 1], [1, 1, 1, 1, 1, 1, 0, 1, 1, -1, 1, 1, -1, -1, 0, 0, -1, -1, 1, -1, -1, -1, 1, 1, 1, -1, 1, -1, 1, 0.34, 6, 0, 0, 0, 0, 13, 3, 36.0, 0, 0, 17, 41, 0, 1], [1, 1, 1, 1, 1, 1, 1, 1, 1, -1, 1, 1, -1, -1, 0, 1, -1, -1, 1, -1, -1, -1, 1, 1, 1, -1, 1, -1, 1, 0.05, 5, 0, 0, 0, 0, 9, 3, 18.0, 0, 0, 12, 22, 0, 1], [1, 1, 1, 1, 1, 1, 0, 1, -1, -1, 1, 1, -1, -1, 0, 0, -1, -1, 1, -1, -1, -1, 1, -1, -1, -1, 1, -1, 1, 0.05, 6, 0, 0, 0, 0, 6, 2, 17.0, 0, 0, 11, 22, 0, 1], [1, 1, 1, 1, 1, 1, 1, -1, 1, 1, 1, 1, -1, -1, 0, 0, -1, -1, 1, -1, -1, -1, 1, 1, 1, -1, 1, -1, 1, 0.07, 5, 0, 0, 0, 0, 5, 2, 10.0, 0, 0, 4, 14, 0, 1], [1, 1, 1, 1, 1, 1, 1, 1, 1, -1, 1, 1, -1, -1, 0, 1, -1, -1, 1, -1, -1, -1, 1, 1, 1, -1, 1, -1, 1, 0.06, 5, 0, 0, 0, 0, 5, 3, 14.0, 0, 0, 8, 18, 0, 1], [1, -1, 1, 1, 1, 1, 0, 1, 1, 1, 1, 1, -1, -1, 1, 0, -1, -1, 1, -1, -1, -1, 1, 1, 1, -1, 1, -1, 1, 0.0, 18, 0, 0, 1, 1, 16, 1, 1.478, 0, 0, 11, 275, 0, 1], [1, 1, 1, 1, 1, 1, -1, 1, 1, -1, 1, 1, -1, -1, 0, 0, -1, -1, 1, -1, -1, -1, 1, 1, 1, -1, 1, -1, 1, 0.04, 7, 0, 0, 0, 0, 6, 2, 20.0, 0, 0, 14, 26, 0, 1], [1, 1, 1, 1, 1, 1, 0, 1, 1, -1, 1, 1, -1, -1, 0, 1, -1, -1, 1, -1, -1, -1, 1, 1, 1, -1, 1, -1, 1, 0.04, 6, 0, 0, 0, 0, 7, 3, 19.0, 0, 0, 13, 24, 0, 1], [1, 1, 1, 1, 1, 1, 0, 1, 1, -1, 1, 1, -1, -1, 1, 1, -1, -1, 1, -1, -1, -1, 1, 1, 1, -1, 1, 1, 1, 0.1, 6, 0, 0, 0, 0, 11, 2, 25.0, 0, 0, 17, 30, 0, 1], [1, 1, 1, 1, 1, 1, 0, 1, -1, -1, 1, 1, -1, -1, 0, 0, -1, -1, 1, -1, -1, -1, 1, -1, -1, -1, 1, -1, 1, 0.05, 6, 0, 0, 0, 0, 6, 2, 17.0, 0, 0, 11, 22, 0, 1], [1, 1, 1, 1, 1, 1, 0, 1, 1, -1, 1, 1, -1, -1, 0, 0, -1, -1, 1, -1, -1, -1, 1, 1, 1, -1, 1, -1, 1, 0.49, 8, 0, 0, 0, 0, 9, 2, 12.667, 0, 0, 14, 47, 0, 1], [1, 1, 1, 1, 1, 1, 0, 1, 1, -1, 1, 1, 0, -1, 0, 1, -1, -1, 1, -1, -1, -1, 1, 1, 1, -1, 1, 0, 1, 0.04, 6, 0, 0, 0, 0, 7, 3, 19.0, 0, 0, 13, 24, 0, 1], [1, 1, -1, 1, 1, 1, 0, 1, 1, -1, 1, 1, -1, -1, 0, 1, -1, -1, 1, -1, -1, -1, 1, 1, 1, -1, 1, 1, 1, 0.04, 6, 0, 0, 0, 0, 7, 3, 19.0, 0, 0, 13, 24, 0, 1], [1, 1, 1, 1, 1, 1, 1, 1, 1, -1, 1, 1, -1, -1, -1, 1, -1, -1, 1, -1, -1, -1, 1, 1, 1, -1, 1, -1, 1, 0.21, 6, 0, 0, 0, 0, 5, 2, 14.0, 0, 0, 6, 19, 0, 1], [1, 1, -1, 1, 1, 1, 0, 1, 1, -1, 1, 1, -1, -1, 0, 1, -1, -1, 1, -1, -1, -1, 1, 1, 1, -1, 1, -1, 1, 0.03, 6, 0, 0, 0, 0, 12, 3, 24.0, 0, 0, 18, 29, 0, 1], [1, 1, 1, 1, 1, 1, 0, 1, 1, -1, 1, 1, -1, -1, 1, 1, -1, -1, 1, -1, -1, -1, 1, 1, 1, -1, 1, -1, 1, 0.04, 6, 0, 0, 0, 0, 6, 3, 21.0, 0, 0, 15, 26, 0, 1], [1, 1, 1, 1, 1, 1, 0, 1, -1, -1, 1, 1, -1, -1, 0, 0, -1, -1, 1, -1, -1, -1, 1, -1, -1, -1, 1, -1, 1, 0.05, 6, 0, 0, 0, 0, 5, 3, 15.0, 0, 0, 9, 20, 0, 1], [1, 1, 1, 1, 1, 1, 1, 1, 1, 1, 1, 1, -1, -1, -1, 1, -1, -1, 1, -1, -1, -1, 1, 1, 1, -1, 1, -1, 1, 0.05, 5, 0, 0, 0, 0, 8, 3, 17.0, 0, 0, 11, 21, 0, 1], [1, 1, 1, 1, 1, 1, 0, -1, 1, -1, 1, 1, -1, -1, -1, -1, -1, -1, -1, -1, -1, -1, -1, 1, 1, -1, 1, -1, 1, 0.04, 6, 0, 0, 0, 0, 10, 3, 22.0, 0, 0, 16, 27, 0, 1], [1, 1, 1, 1, 1, 1, 0, 1, 1, 1, 1, 1, -1, -1, 0, 0, -1, -1, 1, -1, -1, -1, 1, 1, 1, -1, 1, -1, 1, 0.04, 6, 0, 0, 0, 0, 6, 3, 18.0, 0, 0, 12, 23, 0, 1], [1, 1, 1, 1, 1, 1, 0, 1, 1, -1, 1, 1, -1, -1, 1, 0, -1, -1, 1, -1, -1, -1, 1, 1, 1, -1, 1, -1, 1, 0.04, 6, 0, 0, 0, 0, 11, 3, 23.0, 0, 0, 17, 28, 0, 1], [1, 1, 1, 1, 1, 1, 0, 1, 1, -1, 1, 1, -1, -1, 1, 0, -1, -1, 1, -1, -1, -1, 1, 1, 1, -1, 1, -1, 1, 0.04, 6, 0, 0, 0, 0, 7, 3, 19.0, 0, 0, 13, 24, 0, 1], [1, 1, 1, 1, 1, 1, -1, 1, -1, -1, 1, 1, -1, -1, 1, 0, -1, -1, 1, -1, -1, -1, 1, -1, -1, -1, 1, 0, 1, 0.04, 7, 0, 1, 0, 0, 6, 2, 19.0, 0, 0, 13, 25, 0, 1], [1, 1, 1, 1, 1, 1, 0, 1, 1, -1, 1, 1, -1, -1, 0, 1, -1, -1, 1, -1, -1, -1, 1, 1, 1, -1, 1, -1, 1, 0.03, 6, 0, 0, 0, 0, 12, 3, 24.0, 0, 0, 18, 29, 0, 1], [1, 1, 1, 1, 1, 1, 0, 1, -1, 1, 1, 1, -1, -1, -1, 0, -1, -1, 1, -1, -1, -1, 1, 1, 1, -1, 1, 1, 1, 0.05, 6, 0, 0, 0, 0, 5, 2, 14.0, 0, 0, 8, 19, 0, 1], [1, 1, 1, 1, 1, 1, 1, 1, 1, 1, 1, 1, 0, -1, -1, 0, -1, -1, 1, -1, -1, -1, 1, 1, 1, -1, 1, 1, 1, 0.05, 5, 0, 0, 0, 0, 7, 3, 16.0, 0, 0, 10, 20, 0, 1], [1, 1, 1, 1, 1, 1, 1, 1, 1, -1, 1, 1, -1, -1, -1, 1, -1, -1, 1, -1, -1, -1, 1, 1, 1, -1, 1, 1, 1, 0.05, 5, 0, 0, 0, 0, 7, 3, 16.0, 0, 0, 10, 20, 0, 1], [1, 1, 1, 1, 1, 1, 0, 1, 1, -1, 1, 1, 0, -1, 0, 1, -1, -1, 1, -1, -1, -1, 1, 1, 1, -1, 1, 1, 1, 0.05, 6, 0, 0, 0, 0, 5, 2, 14.0, 0, 0, 8, 19, 0, 1], [1, 1, 1, 1, 1, 1, -1, 1, 1, -1, 1, 1, -1, -1, 1, 0, -1, -1, 1, -1, -1, -1, 1, 1, 1, -1, 1, -1, 1, 0.04, 7, 0, 1, 0, 0, 6, 2, 19.0, 0, 0, 13, 25, 0, 1], [1, 1, 1, 1, 1, 1, 0, 1, -1, -1, 1, 1, -1, -1, 1, 0, -1, -1, 1, -1, -1, -1, 1, -1, -1, -1, 1, 0, 1, 0.05, 6, 0, 1, 0, 0, 6, 2, 17.0, 0, 0, 11, 22, 0, 1], [1, 1, 1, 1, 1, 1, 0, 1, 1, -1, 1, 1, -1, -1, 0, 1, -1, -1, 1, -1, -1, -1, 1, 1, 1, -1, 1, -1, 1, 0.04, 6, 0, 0, 0, 0, 6, 3, 18.0, 1, 0, 12, 24, 0, 1], [1, 1, 1, 1, 1, 1, 0, 1, 1, -1, 1, 1, -1, -1, 0, 0, -1, -1, 1, -1, -1, -1, 1, 1, 1, -1, 1, -1, 1, 0.27, 6, 0, 0, 0, 0, 7, 3, 25.0, 0, 0, 12, 30, 0, 1], [1, 1, 1, 1, 1, 1, 0, 1, 1, -1, 1, 1, -1, -1, 0, 1, -1, -1, 1, -1, -1, -1, 1, 1, 1, -1, 1, -1, 1, 0.04, 6, 0, 0, 0, 0, 7, 2, 18.0, 0, 0, 12, 23, 0, 1], [1, 1, 1, 1, 1, 1, 0, 1, 1, -1, 1, 1, -1, -1, 0, 1, -1, -1, 1, -1, -1, -1, 1, 1, 1, -1, 1, 1, 1, 0.04, 6, 0, 0, 0, 0, 9, 3, 21.0, 0, 0, 15, 26, 0, 1], [1, 1, -1, 1, 1, 1, -1, 1, 1, -1, 1, 1, -1, -1, 0, 1, -1, -1, 1, -1, -1, -1, 1, 1, 1, -1, 1, -1, 1, 0.1, 10, 0, 0, 1, 1, 11, 2, 5.0, 0, 0, 18, 50, 0, 1], [1, 1, 1, 1, 1, 1, 0, 1, 1, -1, 1, 1, -1, -1, 1, 0, -1, -1, 1, -1, -1, -1, 1, 1, 1, -1, 1, -1, 1, 0.15, 7, 0, 0, 0, 0, 7, 2, 21.0, 0, 0, 13, 27, 0, 1], [1, 1, 1, 1, 1, 1, 0, 1, 1, -1, 1, 1, -1, -1, 0, 0, -1, -1, 1, -1, -1, -1, 1, 1, 1, -1, 1, -1, 1, 0.05, 6, 0, 0, 0, 0, 6, 2, 17.0, 0, 0, 11, 22, 0, 1], [1, 1, 1, 1, 1, 1, 1, 1, 1, -1, 1, 1, 0, -1, 0, 1, -1, -1, 1, -1, -1, -1, 1, 1, 1, -1, 1, -1, 1, 0.04, 5, 0, 0, 0, 0, 10, 3, 19.0, 0, 0, 13, 23, 0, 1], [1, 1, 1, 1, 1, 1, 0, 1, 1, -1, 1, 1, 0, -1, -1, 1, -1, -1, 1, -1, -1, -1, 1, 1, 1, -1, 1, 1, 1, 0.17, 6, 0, 0, 0, 0, 9, 3, 25.0, 0, 0, 15, 30, 0, 1], [1, 1, 1, 1, 1, 1, 1, 1, 1, -1, 1, 1, -1, -1, 0, -1, -1, -1, 1, -1, -1, -1, 1, 1, 1, -1, 1, -1, 1, 0.05, 5, 0, 0, 0, 0, 7, 3, 16.0, 0, 0, 10, 20, 0, 1], [1, 1, 1, 1, 1, 1, 0, 1, 1, -1, 1, 1, -1, -1, 0, 1, -1, -1, 1, -1, -1, -1, 1, 1, 1, -1, 1, -1, 1, 0.02, 10, 0, 0, 1, 1, 15, 1, 4.5, 0, 0, 20, 41, 0, 1], [1, 1, 1, 1, 1, 1, 0, 1, 1, -1, 1, 1, -1, -1, 0, 0, -1, -1, 1, -1, -1, -1, 1, 1, 1, -1, 1, -1, 1, 0.04, 6, 0, 0, 0, 0, 6, 3, 18.0, 0, 0, 12, 23, 0, 1], [1, 1, 1, 1, 1, 1, 0, 1, 1, -1, 1, 1, -1, -1, 1, 0, -1, -1, 1, -1, -1, -1, 1, 1, 1, -1, 1, -1, 1, 0.04, 6, 0, 0, 0, 0, 5, 3, 18.0, 0, 0, 12, 23, 0, 1], [1, 1, 1, 1, 1, 1, -1, 1, 1, -1, 1, 1, -1, -1, 1, 0, -1, -1, 1, -1, -1, -1, 1, 1, 1, -1, 1, -1, 1, 0.05, 7, 0, 0, 0, 0, 5, 2, 16.0, 0, 0, 10, 22, 0, 1], [1, 1, 1, 1, 1, 1, 1, 1, 1, 1, 1, 1, -1, -1, 0, 0, -1, -1, 1, -1, -1, -1, 1, 1, 1, -1, 1, -1, 1, 0.06, 5, 0, 0, 0, 0, 5, 3, 14.0, 0, 0, 8, 18, 0, 1], [1, 1, 1, 1, 1, 1, 0, 1, 1, -1, 1, 1, -1, -1, 0, 0, -1, -1, 1, -1, -1, -1, 1, 1, 1, -1, 1, -1, 1, 0.52, 8, 0, 0, 0, 0, 10, 2, 13.667, 0, 0, 14, 50, 0, 1], [1, 1, 1, 1, 1, 1, 0, 1, 1, -1, 1, 1, -1, -1, 1, 1, -1, -1, 1, -1, -1, -1, 1, 1, 1, -1, 1, -1, 1, 0.04, 6, 0, 0, 0, 0, 8, 3, 20.0, 0, 0, 14, 25, 0, 1], [1, 1, 1, 1, 1, 1, 0, 1, 1, -1, 1, 1, -1, -1, 0, 1, -1, -1, 1, -1, -1, -1, 1, 1, 1, -1, 1, -1, 1, 0.04, 6, 0, 0, 0, 0, 10, 3, 22.0, 0, 0, 16, 27, 0, 1], [1, 0, 1, 1, 1, 1, 0, 1, 1, 1, 1, 1, -1, -1, 1, 1, -1, -1, 1, -1, -1, -1, 1, 1, 1, -1, 1, 1, 1, 0.01, 10, 0, 0, 1, 1, 5, 1, 1.471, 0, 0, 10, 68, 0, 1], [1, 1, -1, 1, 1, 1, 1, 1, 1, -1, 1, 1, -1, -1, 1, 0, -1, -1, 1, -1, -1, -1, 1, 1, 1, -1, 1, -1, 1, 0.06, 5, 0, 0, 0, 0, 5, 3, 14.0, 0, 0, 8, 18, 0, 1], [1, 1, 1, 1, 1, 1, 0, 1, 1, -1, 1, 1, -1, -1, 1, 1, -1, -1, 0, -1, -1, -1, 1, 1, 1, -1, 1, 1, 1, 0.03, 6, 0, 0, 0, 0, 9, 3, 24.0, 0, 0, 18, 29, 0, 1], [1, 0, 1, 1, 1, 1, -1, 1, 1, 1, 1, 1, -1, -1, 0, 1, -1, -1, 1, -1, -1, -1, 1, 1, 1, -1, 1, -1, 1, 0.3, 12, 0, 0, 1, 1, 10, 2, 59.0, 0, 0, 19, 70, 0, 1], [1, 0, 1, 1, 1, 1, -1, 1, 1, -1, 1, 1, -1, -1, 1, 1, -1, -1, 1, -1, -1, -1, 1, 1, 1, -1, 1, -1, 1, 0.11, 14, 0, 0, 1, 1, 8, 1, 9.8, 0, 0, 14, 70, 0, 1], [1, 1, 1, 1, 1, 1, -1, -1, 1, -1, 1, 1, -1, -1, -1, -1, -1, -1, -1, -1, -1, -1, -1, 1, 1, -1, 1, -1, 1, 0.37, 9, 0, 0, 0, 0, 9, 2, 35.0, 0, 0, 16, 43, 0, 1], [1, 1, 1, 1, 1, 1, 0, 1, 1, -1, 1, 1, -1, -1, 1, 1, -1, -1, 1, -1, -1, -1, 1, 1, 1, -1, 1, -1, 1, 0.04, 6, 0, 0, 0, 0, 8, 3, 20.0, 0, 0, 14, 25, 0, 1], [1, 1, -1, 1, 1, 1, 0, -1, 1, 1, 1, 1, -1, -1, 0, 1, -1, -1, 1, -1, -1, -1, 1, 1, 1, -1, 1, -1, 1, 0.04, 6, 0, 0, 0, 0, 8, 3, 20.0, 0, 0, 14, 25, 0, 1], [1, 1, 1, 1, 1, 1, 0, 1, 1, -1, 1, 1, -1, -1, 0, 1, -1, -1, 1, -1, -1, -1, 1, 1, 1, -1, 1, -1, 1, 0.04, 6, 0, 0, 0, 0, 6, 3, 18.0, 0, 0, 12, 23, 0, 1], [1, 1, -1, 1, 1, 1, 0, -1, 1, 1, 1, 1, -1, -1, 0, 1, -1, -1, 1, -1, -1, -1, 1, 1, 1, -1, 1, -1, 1, 0.04, 6, 0, 0, 0, 0, 8, 3, 20.0, 0, 0, 14, 25, 0, 1], [1, 1, 1, 1, 1, 1, 0, 1, 1, -1, 1, 1, 0, -1, 0, 1, -1, -1, 1, -1, -1, -1, 1, 1, 1, -1, 1, 1, 1, 0.03, 6, 0, 0, 0, 0, 12, 3, 24.0, 0, 0, 18, 29, 0, 1], [1, 1, 1, 1, 1, 1, 0, 1, 1, 1, 1, 1, -1, -1, -1, 0, -1, -1, 0, -1, -1, -1, 1, 1, 1, -1, 1, -1, 1, 0.04, 6, 0, 0, 0, 0, 6, 3, 18.0, 0, 0, 12, 23, 0, 1], [1, 1, 1, 1, 1, 1, 0, 1, 1, -1, 1, 1, -1, -1, 1, 0, -1, -1, 1, -1, -1, -1, 1, 1, 1, -1, 1, -1, 1, 0.05, 6, 0, 0, 0, 0, 5, 3, 15.0, 0, 0, 9, 20, 0, 1], [1, 1, 1, 1, 1, 1, 0, 1, -1, -1, 1, 1, 0, -1, 0, 1, -1, -1, 1, -1, -1, -1, 1, -1, -1, -1, 1, 1, 1, 0.05, 6, 0, 0, 0, 0, 5, 2, 14.0, 0, 0, 8, 19, 0, 1], [1, 1, 1, 1, 1, 1, 0, 1, 1, 1, 1, 1, -1, -1, 0, 1, -1, -1, 1, -1, -1, -1, 1, 1, 1, -1, 1, 1, 1, 0.05, 6, 0, 0, 0, 0, 5, 3, 17.0, 0, 0, 11, 22, 0, 1], [1, 0, 1, 1, 1, 1, 0, 1, 1, -1, 1, 1, -1, -1, 0, 1, -1, -1, 0, -1, -1, -1, 1, 1, 1, -1, 1, -1, 1, 0.61, 7, 0, 0, 0, 0, 12, 3, 30.0, 0, 0, 12, 57, 0, 1], [1, 1, 1, 1, 1, 1, 0, 1, 1, 1, 1, 1, -1, -1, 0, 0, -1, -1, 1, -1, -1, -1, 1, 1, 1, -1, 1, -1, 1, 0.04, 6, 0, 0, 0, 0, 8, 3, 20.0, 0, 0, 14, 25, 0, 1], [1, 1, 1, 1, 1, 1, 0, 1, -1, -1, 1, 1, -1, -1, 0, 1, -1, -1, 1, -1, -1, -1, 1, -1, -1, -1, 1, 1, 1, 0.05, 6, 0, 0, 0, 0, 5, 3, 16.0, 0, 0, 10, 21, 0, 1], [1, 1, 1, 1, 1, 1, 0, 1, 1, -1, 1, 1, -1, -1, 0, 1, -1, -1, 1, -1, -1, -1, 1, 1, 1, -1, 1, -1, 1, 0.04, 6, 0, 0, 0, 0, 7, 3, 19.0, 0, 0, 13, 24, 0, 1], [1, 1, 1, 1, 1, 1, 1, 1, 1, 1, 1, 1, 0, -1, 0, 1, -1, -1, 1, -1, -1, -1, 1, 1, 1, -1, 1, 1, 1, 0.05, 5, 0, 0, 0, 0, 7, 3, 16.0, 0, 0, 10, 20, 0, 1], [1, 1, -1, 1, 1, 1, 0, 1, 1, 1, 1, 1, -1, -1, -1, 0, -1, -1, 1, -1, -1, -1, 1, 1, 1, -1, 1, -1, 1, 0.05, 6, 0, 0, 0, 0, 5, 2, 14.0, 0, 0, 8, 19, 0, 1], [1, 1, 1, 1, 1, 1, -1, 1, 1, 1, 1, 1, -1, -1, 1, 1, -1, -1, 1, -1, -1, -1, 1, 1, 1, -1, 1, -1, 1, 0.04, 7, 0, 0, 0, 0, 5, 2, 19.0, 0, 0, 13, 25, 0, 1], [1, 1, -1, 1, 1, 1, 0, 1, 1, 1, 1, 1, -1, -1, -1, 1, -1, -1, 1, -1, -1, -1, 1, 1, 1, -1, 1, -1, 1, 0.05, 6, 0, 0, 0, 0, 5, 3, 16.0, 0, 0, 10, 21, 0, 1], [1, 1, 1, 1, 1, 1, 1, 1, 1, 1, 1, 1, -1, -1, -1, 1, -1, -1, 1, -1, -1, -1, 1, 1, 1, -1, 1, -1, 1, 0.04, 5, 0, 0, 0, 0, 13, 3, 22.0, 0, 0, 16, 26, 0, 1], [1, -1, 1, 1, 1, 1, -1, 1, 1, -1, 1, 1, -1, -1, 0, 0, -1, -1, 1, -1, -1, -1, 1, 1, 1, -1, 1, -1, 1, 0.59, 12, 0, 0, 0, 0, 13, 3, 64.0, 0, 0, 23, 81, 0, 1], [1, 1, 1, 1, 1, 1, 1, 1, -1, -1, 1, 1, -1, -1, 0, 1, -1, -1, 1, -1, -1, -1, 1, -1, -1, -1, 1, 1, 1, 0.06, 5, 0, 0, 0, 0, 5, 3, 14.0, 0, 0, 8, 18, 0, 1], [1, 1, 1, 1, 1, 1, 0, 1, 1, -1, 1, 1, -1, -1, 0, 1, -1, -1, 1, -1, -1, -1, 1, 1, 1, -1, 1, -1, 1, 0.04, 6, 0, 0, 0, 0, 9, 3, 21.0, 0, 0, 15, 26, 0, 1], [1, 1, 1, 1, 1, 1, 1, 1, 1, 1, 1, 1, -1, -1, 0, 0, -1, -1, 1, -1, -1, -1, 1, 1, 1, -1, 1, -1, 1, 0.06, 5, 0, 0, 0, 0, 5, 3, 13.0, 0, 0, 7, 17, 0, 1], [1, 1, 1, 1, 1, 1, 0, 1, 1, 1, 1, 1, -1, -1, -1, 1, -1, -1, 1, -1, -1, -1, 1, 1, 1, -1, 1, -1, 1, 0.03, 6, 0, 0, 0, 0, 17, 3, 29.0, 0, 0, 23, 34, 0, 1], [1, 1, 1, 1, 1, 1, -1, 1, 1, 1, 1, 1, -1, -1, 0, 0, -1, -1, 1, -1, -1, -1, 1, 1, 1, -1, 1, -1, 1, 0.04, 7, 0, 0, 0, 0, 6, 2, 19.0, 0, 0, 13, 25, 0, 1], [1, 1, 1, 1, 1, 1, 1, 1, 1, -1, 1, 1, -1, -1, -1, 1, -1, -1, 1, -1, -1, -1, 1, 1, 1, -1, 1, -1, 1, 0.06, 5, 0, 0, 0, 0, 5, 2, 12.0, 0, 0, 6, 16, 0, 1], [1, 1, 1, 1, 1, 1, 0, 1, 1, 1, 1, 1, -1, -1, -1, 0, -1, -1, 1, -1, -1, -1, 1, 1, 1, -1, 1, -1, 1, 0.05, 6, 0, 0, 0, 0, 5, 3, 17.0, 0, 0, 11, 22, 0, 1], [1, 1, 1, 1, 1, 1, 0, 1, -1, -1, 1, 1, -1, -1, -1, 1, -1, -1, 1, -1, -1, -1, 1, 1, 1, -1, 1, -1, 1, 0.45, 8, 0, 0, 0, 0, 8, 2, 26.0, 0, 0, 8, 33, 0, 1], [1, 1, 1, 1, 1, 1, -1, 1, -1, 1, 1, 1, -1, -1, 0, 1, -1, -1, 1, -1, -1, -1, 1, -1, -1, -1, 1, -1, 1, 0.04, 7, 0, 0, 0, 0, 6, 2, 19.0, 0, 0, 13, 25, 0, 1], [1, 1, 1, 1, 1, 1, 1, 1, 1, 1, 1, 1, -1, -1, 0, 1, -1, -1, 1, -1, -1, -1, 1, 1, 1, -1, 1, -1, 1, 0.05, 5, 0, 0, 0, 0, 6, 3, 15.0, 0, 0, 9, 19, 0, 1], [1, 1, 1, 1, 1, 1, 0, 1, 1, -1, 1, 1, -1, -1, 1, 1, -1, -1, 1, -1, -1, -1, 1, 1, 1, -1, 1, 1, 1, 0.04, 6, 0, 0, 0, 0, 6, 3, 18.0, 0, 0, 12, 23, 0, 1], [1, 1, 1, 1, 1, 1, -1, 1, 1, -1, 1, 1, 0, -1, 0, 1, -1, -1, 1, -1, -1, -1, 1, 1, 1, -1, 1, 1, 1, 0.04, 7, 0, 0, 0, 0, 6, 2, 19.0, 0, 0, 13, 25, 0, 1], [1, 1, 1, 1, 1, 1, 0, 1, 1, 1, 1, 1, -1, -1, 1, 1, -1, -1, 1, -1, -1, -1, 1, 1, 1, -1, 1, 0, 1, 0.16, 7, 0, 0, 0, 0, 17, 3, 37.0, 0, 0, 26, 43, 0, 1], [1, 1, 1, 1, 1, 1, 1, 1, 1, 1, 1, 1, -1, -1, 1, 1, -1, -1, 1, -1, -1, -1, 1, 1, 1, -1, 1, -1, 1, 0.04, 5, 0, 0, 0, 0, 10, 3, 19.0, 0, 0, 13, 23, 0, 1], [1, 1, 1, 1, 1, 1, -1, 1, 1, -1, 1, 1, -1, -1, 1, 1, -1, -1, 1, -1, -1, -1, 1, 1, 1, -1, 1, -1, 1, 0.04, 7, 0, 0, 0, 0, 9, 2, 22.0, 0, 0, 16, 28, 0, 1], [1, 1, -1, 1, 1, 1, 0, 1, 1, -1, 1, 1, 0, -1, 1, 1, -1, -1, 1, -1, -1, -1, 1, 1, 1, -1, 1, 1, 1, 0.04, 6, 0, 0, 0, 0, 9, 2, 20.0, 0, 0, 14, 25, 0, 1], [1, 1, 1, 1, 1, 1, 0, 1, 1, -1, 1, 1, -1, -1, 1, 1, -1, -1, 1, -1, -1, -1, 1, 1, 1, -1, 1, -1, 1, 0.04, 6, 0, 0, 0, 0, 6, 3, 18.0, 0, 0, 12, 23, 0, 1], [1, 1, 1, 1, 1, 1, 0, 1, -1, -1, 1, 1, -1, -1, 0, 1, -1, -1, 1, -1, -1, -1, 1, -1, -1, -1, 1, 0, 1, 0.05, 6, 0, 1, 0, 0, 6, 2, 17.0, 0, 0, 11, 22, 0, 1], [1, -1, 1, 1, 1, 1, 0, 1, 1, -1, 1, 1, -1, -1, 0, 0, -1, -1, 1, -1, -1, -1, 1, 1, 1, -1, 1, -1, 1, 0.82, 42, 0, 0, 0, 0, 9, 1, 0.727, 0, 0, 14, 133, 0, 1], [1, 1, -1, 1, 1, 1, 0, 1, 1, -1, 1, 1, -1, -1, 1, 0, -1, -1, 1, -1, -1, -1, 1, 1, 1, -1, 1, -1, 1, 0.04, 6, 0, 0, 0, 0, 6, 3, 19.0, 0, 0, 13, 24, 0, 1], [1, 1, 1, 1, 1, 1, 1, 1, 1, -1, 1, 1, -1, -1, 0, 0, -1, -1, 1, -1, -1, -1, 1, 1, 1, -1, 1, -1, 1, 0.05, 5, 0, 0, 0, 0, 6, 3, 15.0, 0, 0, 9, 19, 0, 1], [1, 1, 1, 1, 1, 1, 0, 1, 1, -1, 1, 1, -1, -1, 0, 0, -1, -1, 1, -1, -1, -1, 1, 1, 1, -1, 1, -1, 1, 0.49, 8, 0, 0, 0, 0, 10, 2, 19.5, 0, 0, 14, 47, 0, 1], [1, 1, -1, 1, 1, 1, 0, -1, 1, 1, 1, 1, -1, -1, 0, 1, -1, -1, 1, -1, -1, -1, 1, 1, 1, -1, 1, -1, 1, 0.03, 6, 0, 0, 0, 0, 14, 3, 26.0, 0, 0, 20, 31, 0, 1], [1, 1, 1, 1, 1, 1, 1, 1, 1, -1, 1, 1, -1, -1, 0, 1, -1, -1, 1, -1, -1, -1, 1, 1, 1, -1, 1, -1, 1, 0.05, 5, 0, 0, 0, 0, 9, 3, 18.0, 0, 0, 12, 22, 0, 1], [1, 1, 1, 1, 1, 1, 0, 1, 1, -1, 1, 1, -1, -1, 0, 1, -1, -1, 1, -1, -1, -1, 1, 1, 1, -1, 1, -1, 1, 0.05, 6, 0, 0, 0, 0, 5, 1, 13.0, 1, 0, 7, 19, 0, 1], [1, 1, 1, 1, 1, 1, 0, 1, 1, -1, 1, 1, -1, -1, 0, 1, -1, -1, 0, -1, -1, -1, 1, 1, 1, -1, 1, -1, 1, 0.26, 10, 0, 0, 0, 0, 6, 1, 29.0, 0, 0, 13, 39, 0, 1], [1, 1, 1, 1, 1, 1, 1, 1, 1, 1, 1, 1, -1, -1, -1, 0, -1, -1, 1, -1, -1, -1, 1, 1, 1, -1, 1, -1, 1, 0.07, 5, 0, 0, 0, 0, 5, 2, 11.0, 0, 0, 5, 15, 0, 1], [1, 1, 1, 1, 1, 1, 0, 1, 1, 1, 1, 1, -1, -1, -1, 1, -1, -1, 1, -1, -1, -1, 1, 1, 1, -1, 1, -1, 1, 0.04, 6, 0, 0, 0, 0, 12, 2, 23.0, 0, 0, 17, 28, 0, 1], [1, 1, 1, 1, 1, 1, 0, 1, 1, -1, 1, 1, -1, -1, 0, 0, -1, -1, 1, -1, -1, -1, 1, 1, 1, -1, 1, -1, 1, 0.34, 6, 0, 0, 0, 0, 13, 3, 36.0, 0, 0, 17, 41, 0, 1], [1, 1, 1, 1, 1, 1, 0, 1, 1, 1, 1, 1, -1, -1, 1, 0, -1, -1, 1, -1, -1, -1, 1, 1, 1, -1, 1, -1, 1, 0.05, 6, 0, 0, 0, 0, 5, 3, 15.0, 0, 0, 9, 20, 0, 1], [1, 1, 1, 1, 1, 1, 0, 1, 1, 1, 1, 1, -1, -1, 0, 1, -1, -1, 1, -1, -1, -1, 1, 1, 1, -1, 1, -1, 1, 0.04, 6, 0, 0, 0, 0, 9, 3, 21.0, 0, 0, 15, 26, 0, 1], [1, 1, 1, 1, 1, 1, 1, 1, 1, -1, 1, 1, -1, -1, 1, 0, -1, -1, 1, -1, -1, -1, 1, 1, 1, -1, 1, -1, 1, 0.05, 5, 0, 0, 0, 0, 8, 3, 17.0, 0, 0, 11, 21, 0, 1], [1, 1, -1, 1, 1, 1, 0, 1, 1, 1, 1, 1, -1, -1, 0, 1, -1, -1, 1, -1, -1, -1, 1, 1, 1, -1, 1, -1, 1, 0.05, 6, 0, 0, 0, 0, 5, 3, 15.0, 0, 0, 9, 20, 0, 1], [1, 1, 1, 1, 1, 1, 0, 1, 1, 1, 1, 1, -1, -1, 1, 0, -1, -1, 1, -1, -1, 1, 1, 1, 1, -1, 1, -1, 1, 0.05, 6, 0, 0, 0, 0, 5, 3, 15.0, 0, 0, 9, 20, 0, 1], [1, 1, 1, 1, 1, 1, 0, 1, 1, -1, 1, 1, -1, -1, 0, 1, -1, -1, 1, -1, -1, -1, 1, 1, 1, -1, 1, -1, 1, 0.03, 8, 0, 0, 1, 1, 6, 2, 22.0, 0, 0, 12, 29, 0, 1], [1, 1, 1, 1, 1, 1, 0, 1, 1, 1, 1, 1, -1, -1, -1, 1, -1, -1, 1, -1, -1, -1, 1, 1, 1, -1, 1, -1, 1, 0.04, 6, 0, 0, 0, 0, 7, 2, 18.0, 0, 0, 12, 23, 0, 1], [1, 1, -1, 1, 1, 1, 0, -1, 1, -1, 1, 1, -1, -1, 1, 0, -1, -1, 1, -1, -1, -1, 1, 1, 1, -1, 1, 1, 1, 0.04, 6, 0, 0, 0, 0, 7, 3, 19.0, 0, 0, 13, 24, 0, 1], [1, 1, 1, 1, 1, 1, 1, 1, 1, -1, 1, 1, -1, -1, -1, 1, -1, -1, 1, -1, -1, -1, 1, 1, 1, -1, 1, -1, 1, 0.06, 5, 0, 0, 0, 0, 5, 3, 14.0, 0, 0, 8, 18, 0, 1], [1, 1, 1, 1, 1, 1, 0, 1, 1, -1, 1, 1, -1, -1, 1, 0, -1, -1, 1, -1, -1, -1, 1, 1, 1, -1, 1, -1, 1, 0.05, 6, 0, 0, 0, 0, 5, 3, 16.0, 0, 0, 10, 21, 0, 1], [1, 1, 1, 1, 1, 1, 0, 1, 1, -1, 1, 1, -1, -1, 1, 0, -1, -1, 1, -1, -1, -1, 1, 1, 1, -1, 1, 0, 1, 0.05, 6, 0, 1, 0, 0, 6, 2, 17.0, 0, 0, 11, 22, 0, 1], [1, 1, 1, 1, 1, 1, 0, 1, 1, -1, 1, 1, 0, -1, 1, 1, -1, -1, 1, -1, -1, -1, 1, 1, 1, -1, 1, -1, 1, 0.04, 6, 0, 0, 0, 0, 6, 3, 20.0, 0, 0, 14, 25, 0, 1], [1, 1, 1, 1, 1, 1, -1, 1, -1, -1, 1, 1, -1, -1, -1, 1, -1, -1, 1, -1, -1, -1, 1, -1, -1, -1, 1, -1, 1, 0.04, 7, 0, 0, 0, 0, 5, 2, 17.0, 0, 0, 11, 23, 0, 1], [1, 1, 1, 1, 1, 1, 0, 1, 1, 1, 1, 1, -1, -1, 0, 0, -1, -1, 1, -1, -1, 1, 1, 1, 1, -1, 1, -1, 1, 0.04, 6, 0, 0, 0, 0, 12, 2, 23.0, 0, 0, 17, 28, 0, 1], [1, 1, 1, 1, 1, 1, 1, 1, 1, -1, 1, 1, -1, -1, -1, 1, -1, -1, 1, -1, -1, -1, 1, 1, 1, -1, 1, 1, 1, 0.05, 5, 0, 0, 0, 0, 7, 3, 16.0, 0, 0, 10, 20, 0, 1], [1, 1, 1, 1, 1, 1, 0, 1, 1, -1, 1, 1, -1, -1, 1, 0, -1, -1, 1, -1, -1, -1, 1, 1, 1, -1, 1, -1, 1, 0.05, 6, 0, 0, 0, 0, 5, 3, 16.0, 0, 0, 10, 21, 0, 1], [1, 1, 1, 1, 1, 1, 0, 1, 1, 1, 1, 1, -1, -1, 0, 1, -1, -1, 1, -1, -1, -1, 1, 1, 1, -1, 1, -1, 1, 0.04, 6, 0, 0, 0, 0, 10, 3, 22.0, 0, 0, 16, 27, 0, 1], [1, 1, 1, 1, 1, 1, -1, 1, 1, -1, 1, 1, -1, -1, 1, 1, -1, -1, 1, -1, -1, -1, 1, 1, 1, -1, 1, -1, 1, 0.47, 9, 0, 0, 0, 0, 5, 2, 26.0, 0, 0, 8, 34, 0, 1], [1, 1, 1, 1, 1, 1, 0, 1, -1, -1, 1, 1, 0, -1, 0, 1, -1, -1, 1, -1, -1, -1, 1, -1, -1, -1, 1, 1, 1, 0.04, 6, 0, 0, 0, 0, 8, 3, 20.0, 0, 0, 14, 25, 0, 1], [1, 1, 1, 1, 1, 1, 0, 1, 1, -1, 1, 1, 0, -1, 1, 1, -1, -1, 1, -1, -1, -1, 1, 1, 1, -1, 1, 0, 1, 0.03, 6, 0, 0, 0, 0, 12, 3, 24.0, 0, 0, 18, 29, 0, 1], [1, 1, 1, 1, 1, 1, 0, 1, 1, -1, 1, 1, -1, -1, 0, 1, -1, -1, 1, -1, -1, -1, 1, 1, 1, -1, 1, 1, 1, 0.04, 6, 0, 0, 0, 0, 7, 3, 19.0, 0, 0, 13, 24, 0, 1], [1, 1, 1, 1, 1, 1, 0, 1, 1, -1, 1, 1, 0, -1, 0, 1, -1, -1, 1, -1, -1, -1, 1, 1, 1, -1, 1, 1, 1, 0.04, 6, 0, 0, 0, 0, 7, 3, 22.0, 1, 0, 16, 28, 0, 1], [1, 1, -1, 1, 1, 1, -1, 1, 1, 1, 1, 1, -1, -1, 0, 0, -1, -1, 1, -1, -1, -1, 1, 1, 1, -1, 1, -1, 1, 0.03, 7, 0, 0, 0, 0, 10, 2, 24.0, 0, 0, 18, 30, 0, 1], [1, 1, 1, 1, 1, 1, -1, 1, -1, 1, 1, 1, -1, -1, 0, 0, -1, -1, 1, -1, -1, -1, 1, -1, -1, -1, 1, -1, 1, 0.04, 7, 0, 0, 0, 0, 7, 2, 20.0, 0, 0, 14, 26, 0, 1], [1, 1, 1, 1, 1, 1, 1, 1, 1, 1, 1, 1, -1, -1, 0, 1, -1, -1, 1, -1, -1, -1, 1, 1, 1, -1, 1, 1, 1, 0.06, 5, 0, 0, 0, 0, 5, 2, 12.0, 0, 0, 6, 16, 0, 1], [1, 1, 1, 1, 1, 1, 0, 1, 1, -1, 1, 1, -1, -1, 1, 1, -1, -1, 1, -1, -1, -1, 1, 1, 1, -1, 1, 1, 1, 0.04, 6, 0, 0, 0, 0, 7, 2, 18.0, 0, 0, 12, 23, 0, 1], [1, 1, 1, 1, 1, 1, 0, 1, 1, -1, 1, 1, -1, -1, 1, 1, -1, -1, 1, 1, -1, -1, 1, 1, 1, -1, 1, -1, 1, 0.05, 6, 0, 0, 0, 0, 5, 3, 16.0, 0, 0, 10, 21, 0, 1], [1, 1, 1, 1, 1, 1, 1, 1, 1, -1, 1, 1, -1, -1, -1, 1, -1, -1, 1, -1, -1, -1, 1, 1, 1, -1, 1, -1, 1, 0.06, 5, 0, 0, 0, 0, 5, 2, 12.0, 0, 0, 6, 16, 0, 1], [1, 1, 1, 1, 1, 1, 1, 1, 1, 1, 1, 1, -1, -1, 0, 1, -1, -1, 1, -1, -1, -1, 1, 1, 1, -1, 1, -1, 1, 0.04, 5, 0, 0, 0, 0, 10, 3, 19.0, 0, 0, 13, 23, 0, 1], [1, 1, 1, 1, 1, 1, 0, 1, -1, 1, 1, 1, -1, -1, 0, 0, -1, -1, 1, -1, -1, -1, 1, -1, -1, -1, 1, -1, 1, 0.05, 6, 0, 0, 0, 0, 5, 3, 15.0, 0, 0, 9, 20, 0, 1], [1, 1, 1, 1, 1, 1, 0, 1, 1, 1, 1, 1, -1, -1, 0, 1, -1, -1, 1, -1, -1, -1, 1, 1, 1, -1, 1, -1, 1, 0.11, 6, 0, 0, 0, 0, 8, 2, 22.0, 0, 0, 14, 27, 0, 1], [1, 1, 1, 1, 1, 1, 0, 1, 1, -1, 1, 1, -1, -1, 0, 1, -1, -1, 1, -1, -1, -1, 1, 1, 1, -1, 1, 1, 1, 0.36, 9, 0, 0, 0, 0, 8, 1, 33.0, 0, 0, 17, 42, 0, 1], [1, 1, 1, 1, 1, 1, 0, 1, 1, -1, 1, 1, -1, -1, 1, 0, -1, -1, 1, -1, -1, -1, 1, 1, 1, -1, 1, -1, 1, 0.04, 6, 0, 0, 0, 0, 10, 3, 22.0, 0, 0, 16, 27, 0, 1], [1, 1, 1, 1, 1, 1, -1, -1, -1, -1, 1, 1, -1, -1, 1, 0, -1, -1, 1, -1, -1, -1, 1, -1, -1, -1, 1, -1, 1, 0.04, 7, 0, 0, 0, 0, 5, 2, 18.0, 0, 0, 12, 24, 0, 1], [1, 1, 1, 1, 1, 1, -1, 1, -1, -1, 1, 1, -1, -1, 0, 1, -1, -1, 1, -1, -1, -1, 1, -1, -1, -1, 1, -1, 1, 0.04, 7, 0, 0, 0, 0, 5, 2, 17.0, 0, 0, 11, 23, 0, 1], [1, 1, 1, 1, 1, 1, 1, 1, 1, -1, 1, 1, 0, -1, 0, 1, -1, -1, 1, -1, -1, -1, 1, 1, 1, -1, 1, 1, 1, 0.05, 5, 0, 0, 0, 0, 6, 3, 15.0, 0, 0, 9, 19, 0, 1], [1, 1, 1, 1, 1, 1, 0, 1, 1, -1, 1, 1, -1, -1, 0, 0, -1, -1, 1, -1, -1, -1, 1, 1, 1, -1, 1, -1, 1, 0.04, 6, 0, 1, 0, 0, 6, 3, 18.0, 0, 0, 12, 23, 0, 1], [1, 1, 1, 1, 1, 1, 0, 1, 1, 1, 1, 1, -1, -1, 0, 0, -1, -1, 1, -1, -1, -1, 1, 1, 1, -1, 1, -1, 1, 0.14, 7, 0, 0, 0, 0, 8, 2, 22.0, 0, 0, 14, 28, 0, 1], [1, 1, 1, 1, 1, 1, 0, 1, 1, -1, 1, 1, -1, -1, 0, 1, -1, -1, 1, -1, -1, -1, 1, 1, 1, -1, 1, -1, 1, 0.04, 6, 0, 0, 0, 0, 11, 2, 22.0, 0, 0, 16, 27, 0, 1], [1, -1, 1, 1, 1, 1, 0, 1, 1, -1, 1, 1, -1, -1, 0, 0, -1, -1, 1, -1, -1, -1, 1, 1, 1, -1, 1, -1, 1, 0.71, 25, 0, 0, 0, 0, 9, 1, 1.714, 0, 0, 14, 84, 0, 1], [1, 1, 1, 1, 1, 1, -1, 1, 1, -1, 1, 1, -1, -1, 1, 1, -1, -1, 1, -1, -1, -1, 1, 1, 1, -1, 1, -1, 1, 0.04, 7, 0, 0, 0, 0, 7, 2, 20.0, 0, 0, 14, 26, 0, 1], [1, 1, 1, 1, 1, 1, 0, 1, 1, 1, 1, 1, -1, -1, 1, 1, -1, -1, 1, -1, -1, -1, 1, 1, 1, -1, 1, -1, 1, 0.05, 6, 0, 0, 0, 0, 5, 3, 15.0, 0, 0, 9, 20, 0, 1], [1, 1, 1, 1, 1, 1, 1, 1, 1, -1, 1, 1, -1, -1, 1, 1, -1, -1, 1, -1, -1, -1, 1, 1, 1, -1, 1, 1, 1, 0.05, 5, 0, 0, 0, 0, 6, 3, 15.0, 0, 0, 9, 19, 0, 1], [1, 1, 1, 1, 1, 1, 0, 1, 1, 1, 1, 1, -1, -1, 0, 1, -1, -1, 1, -1, -1, -1, 1, 1, 1, -1, 1, 0, 1, 0.24, 7, 0, 0, 0, 0, 5, 2, 19.0, 0, 0, 9, 25, 0, 1], [1, 1, 1, 1, 1, 1, 0, 1, 1, 1, 1, 1, -1, -1, 0, 1, -1, -1, 1, -1, -1, -1, 1, 1, 1, -1, 1, 1, 1, 0.04, 6, 0, 0, 0, 0, 11, 3, 23.0, 0, 0, 17, 28, 0, 1], [1, 1, 1, 1, 1, 1, 0, 1, 1, 1, 1, 1, -1, -1, 0, 0, -1, -1, 1, -1, -1, -1, 1, 1, 1, -1, 1, -1, 1, 0.05, 6, 0, 0, 0, 0, 5, 3, 15.0, 0, 0, 9, 20, 0, 1], [1, 1, 1, 1, 1, 1, 0, 1, 1, 1, 1, 1, -1, -1, 1, 1, -1, -1, 1, -1, -1, -1, 1, 1, 1, -1, 1, 0, 1, 0.04, 6, 0, 0, 0, 0, 6, 3, 19.0, 0, 0, 13, 24, 0, 1], [1, 1, 1, 1, 1, 1, 0, 1, -1, -1, 1, 1, -1, -1, 0, 0, -1, -1, 1, -1, -1, -1, 1, 1, 1, -1, 1, -1, 1, 0.05, 6, 0, 0, 0, 0, 6, 2, 17.0, 0, 0, 11, 22, 0, 1], [1, 1, 1, 1, 1, 1, 1, 1, 1, 1, 1, 1, -1, -1, -1, 1, -1, -1, 1, -1, -1, -1, 1, 1, 1, -1, 1, -1, 1, 0.06, 5, 0, 0, 0, 0, 5, 3, 13.0, 0, 0, 7, 17, 0, 1], [1, 1, -1, 1, 1, 1, 1, 1, 1, -1, 1, 1, -1, -1, -1, 0, -1, -1, 1, -1, -1, -1, 1, 1, 1, -1, 1, -1, 1, 0.05, 5, 0, 0, 0, 0, 6, 3, 15.0, 0, 0, 9, 19, 0, 1], [1, 1, -1, 1, 1, 1, 0, 1, 1, -1, 1, 1, -1, -1, 1, 1, -1, -1, 1, -1, -1, -1, 1, 1, 1, -1, 1, 0, 1, 0.15, 7, 0, 0, 0, 0, 7, 2, 21.0, 0, 0, 13, 27, 0, 1], [1, 1, 1, 1, 1, 1, 0, 1, 1, -1, 1, 1, 0, -1, 0, 1, -1, -1, 1, -1, -1, -1, 1, 1, 1, -1, 1, 1, 1, 0.04, 6, 0, 0, 0, 0, 8, 3, 20.0, 0, 0, 14, 25, 0, 1], [1, 1, 1, 1, 1, 1, 0, 1, 1, -1, 1, 1, -1, -1, 0, 1, -1, -1, 1, -1, -1, -1, 1, 1, 1, -1, 1, -1, 1, 0.05, 6, 0, 0, 0, 0, 5, 3, 17.0, 0, 0, 11, 22, 0, 1], [1, 1, -1, 1, 1, 1, 0, 1, 1, -1, 1, 1, -1, -1, 0, 0, -1, -1, 1, -1, -1, -1, 1, 1, 1, -1, 1, -1, 1, 0.04, 6, 0, 0, 0, 0, 9, 3, 21.0, 0, 0, 15, 26, 0, 1], [1, 1, 1, 1, 1, 1, -1, -1, -1, -1, 1, 1, -1, -1, 0, 1, -1, -1, 1, -1, -1, -1, 1, -1, -1, -1, 1, -1, 1, 0.04, 7, 0, 0, 0, 0, 7, 2, 20.0, 0, 0, 14, 26, 0, 1], [1, 1, 1, 1, 1, 1, 0, 1, 1, -1, 1, 1, -1, -1, 0, 0, -1, -1, 1, -1, -1, -1, 1, 1, 1, -1, 1, 1, 1, 0.03, 6, 0, 0, 0, 0, 15, 3, 27.0, 0, 0, 21, 32, 0, 1], [1, 1, 1, 1, 1, 1, 1, 1, 1, 1, 1, 1, -1, -1, 1, 1, -1, -1, 1, -1, -1, -1, 1, 1, 1, -1, 1, -1, 1, 0.04, 5, 0, 0, 0, 0, 10, 3, 19.0, 0, 0, 13, 23, 0, 1], [1, 1, -1, 1, 1, 1, 0, 1, 1, 1, 1, 1, 0, -1, -1, 0, -1, -1, 1, -1, -1, -1, 1, 1, 1, -1, 1, 1, 1, 0.04, 6, 0, 0, 0, 0, 7, 3, 19.0, 3, 0, 13, 27, 0, 1], [1, 1, 1, 1, 1, 1, 1, 1, 1, -1, 1, 1, -1, -1, 1, 0, -1, -1, 1, -1, -1, -1, 1, 1, 1, -1, 1, -1, 1, 0.04, 5, 0, 0, 0, 0, 11, 3, 20.0, 0, 0, 14, 24, 0, 1], [1, 1, 1, 1, 1, 1, 0, 1, 1, -1, 1, 1, -1, -1, 1, 0, -1, -1, 1, -1, -1, -1, 1, 1, 1, -1, 1, -1, 1, 0.05, 6, 0, 0, 0, 0, 5, 3, 15.0, 0, 0, 9, 20, 0, 1], [1, 0, 1, 1, 1, 1, 0, 1, 1, -1, 1, 1, -1, -1, -1, 0, -1, -1, 1, -1, -1, -1, 1, 1, 1, -1, 1, -1, 1, 0.07, 13, 0, 0, 1, 1, 7, 2, 49.0, 0, 0, 12, 61, 0, 1], [1, 1, 1, 1, 1, 1, 0, 1, -1, -1, 1, 1, -1, -1, 0, 0, -1, -1, 1, -1, -1, -1, 1, -1, -1, -1, 1, -1, 1, 0.05, 6, 0, 0, 0, 0, 5, 2, 14.0, 0, 0, 8, 19, 0, 1], [1, 1, 1, 1, 1, 1, 0, -1, 1, 1, 1, 1, -1, -1, 0, 1, -1, -1, 1, -1, -1, -1, 1, 1, 1, -1, 1, -1, 1, 0.0, 5, 0, 0, 0, 0, 6, 2, 17.0, 0, 0, 11, 21, 0, 1]]\n"
     ]
    }
   ],
   "source": [
    "print(legit_list)"
   ]
  },
  {
   "cell_type": "code",
   "execution_count": 17,
   "metadata": {},
   "outputs": [],
   "source": [
    "with open('legit_list.txt', 'w') as outfile:\n",
    "  outfile.write('\\n'.join(str(i) for i in legit_list))"
   ]
  },
  {
   "cell_type": "code",
   "execution_count": null,
   "metadata": {},
   "outputs": [],
   "source": []
  },
  {
   "cell_type": "code",
   "execution_count": null,
   "metadata": {},
   "outputs": [],
   "source": []
  },
  {
   "cell_type": "code",
   "execution_count": null,
   "metadata": {},
   "outputs": [],
   "source": []
  },
  {
   "cell_type": "code",
   "execution_count": null,
   "metadata": {},
   "outputs": [],
   "source": []
  },
  {
   "cell_type": "code",
   "execution_count": null,
   "metadata": {},
   "outputs": [],
   "source": []
  },
  {
   "cell_type": "code",
   "execution_count": null,
   "metadata": {},
   "outputs": [],
   "source": []
  },
  {
   "cell_type": "code",
   "execution_count": null,
   "metadata": {},
   "outputs": [],
   "source": []
  },
  {
   "cell_type": "code",
   "execution_count": null,
   "metadata": {},
   "outputs": [],
   "source": []
  },
  {
   "cell_type": "code",
   "execution_count": null,
   "metadata": {},
   "outputs": [],
   "source": []
  },
  {
   "cell_type": "code",
   "execution_count": null,
   "metadata": {},
   "outputs": [],
   "source": []
  },
  {
   "cell_type": "code",
   "execution_count": null,
   "metadata": {},
   "outputs": [],
   "source": []
  },
  {
   "cell_type": "code",
   "execution_count": null,
   "metadata": {},
   "outputs": [],
   "source": []
  },
  {
   "cell_type": "code",
   "execution_count": null,
   "metadata": {},
   "outputs": [],
   "source": []
  },
  {
   "cell_type": "code",
   "execution_count": 4,
   "metadata": {},
   "outputs": [
    {
     "name": "stdout",
     "output_type": "stream",
     "text": [
      "[[1, 1, 1, 1, 1, 1, 0, 1, 1, -1, 1, 1, -1, -1, 0, 1, -1, -1, 1, -1, -1, -1, 1, 1, 1, -1, 1, -1, 1, 0.06, 7, 0, 0, 0, 0, 14, 1, 13.0, 0, 0, 20, 33, 0, -1], [1, 1, 1, 1, 1, 1, 0, 1, -1, -1, 1, 1, 0, -1, 1, 1, -1, -1, 1, -1, -1, -1, 1, -1, -1, -1, 1, 0, 1, 0.2, 8, 0, 0, 0, 0, 12, 2, 34.0, 0, 0, 22, 41, 0, -1], [1, 0, 1, 1, 1, -1, 0, -1, 1, -1, 1, 1, -1, -1, 0, 0, -1, -1, 1, -1, -1, -1, 1, 1, 1, -1, 1, -1, 1, 0.41, 15, 0, 0, 0, 0, 9, 1, 7.4, 7, 0, 19, 64, 2, -1], [1, 0, 1, 1, 1, -1, 0, -1, 1, -1, 1, 1, -1, -1, 0, 0, -1, -1, 1, -1, -1, -1, 1, 1, 1, -1, 1, -1, 1, 0.37, 13, 0, 0, 0, 0, 9, 1, 10.667, 8, 0, 18, 60, 2, -1], [1, -1, 1, 1, 1, 1, 1, 1, 1, -1, 1, 1, 0, -1, 0, 1, -1, -1, 1, -1, -1, -1, 1, 1, 1, -1, 1, 1, 1, 0.69, 13, 0, 0, 0, 0, 20, 1, 4.176, 0, 0, 23, 106, 0, -1], [1, -1, 1, 1, 1, 1, 1, 1, 1, -1, 1, 1, 0, -1, 0, 1, -1, -1, 1, -1, -1, -1, 1, 1, 1, -1, 1, 1, 1, 0.65, 12, 0, 0, 0, 0, 20, 1, 6.9, 0, 0, 23, 94, 0, -1], [1, 1, 1, 1, 1, 1, 1, 1, 1, -1, 1, 1, 0, -1, 0, 1, -1, -1, 1, -1, -1, -1, 1, -1, -1, -1, 1, 1, 1, 0.05, 6, 0, 0, 0, 0, 5, 4, 15.0, 0, 0, 9, 20, 0, -1], [1, 1, 1, 1, 1, 1, 1, 1, 1, -1, 1, 1, 0, -1, 0, 1, -1, -1, 1, -1, -1, -1, 1, -1, -1, -1, 1, 1, 1, 0.04, 6, 0, 0, 0, 0, 12, 2, 20.0, 0, 0, 14, 25, 0, -1], [1, -1, 1, 1, 1, 1, 0, 1, 1, -1, 1, 1, -1, -1, 0, 0, -1, -1, 1, -1, -1, -1, 1, -1, -1, -1, 1, -1, 1, 0.05, 9, 0, 0, 1, 1, 23, 1, 1.315, 0, 0, 14, 296, 0, -1], [1, 1, 1, 1, 1, 1, 0, -1, -1, -1, 1, 1, -1, -1, -1, -1, -1, -1, -1, -1, -1, -1, -1, -1, -1, -1, 1, -1, 1, 0.02, 9, 0, 0, 1, 1, 14, 3, 36.0, 0, 0, 26, 44, 0, -1], [1, -1, 1, 1, 1, 1, -1, 1, 1, -1, 1, 1, 0, -1, 0, 1, -1, -1, 1, -1, -1, -1, 1, 1, 1, -1, 1, 1, 1, 0.17, 21, 1, 0, 1, 1, 14, 1, 1.788, 0, 0, 16, 127, 0, -1], [1, 1, 1, 1, 1, -1, 0, -1, -1, -1, 1, 1, -1, -1, -1, -1, -1, -1, -1, -1, -1, -1, -1, -1, -1, -1, 1, -1, 1, 0.28, 9, 0, 0, 0, 0, 7, 3, 8.0, 0, 0, 19, 43, 1, -1], [1, 1, 1, 1, 1, 1, 1, 1, -1, -1, 1, 1, -1, -1, -1, 1, -1, -1, 1, -1, -1, -1, 1, -1, -1, -1, 1, -1, 1, 0.22, 7, 0, 0, 0, 0, 13, 2, 26.0, 0, 0, 15, 32, 0, -1], [1, 1, -1, 1, 1, 1, 0, 1, 1, -1, 1, 1, 0, -1, -1, 1, -1, -1, 1, -1, -1, -1, 1, 1, 1, -1, 1, -1, 1, 0.16, 7, 0, 0, 0, 0, 8, 3, 24.0, 1, 0, 14, 31, 0, -1], [1, 1, 1, 1, 1, 1, 1, 1, 1, -1, 1, 1, 0, -1, 0, 1, -1, -1, 1, -1, -1, -1, 1, -1, -1, -1, 1, 1, 1, 0.12, 7, 0, 0, 0, 0, 30, 3, 7.8, 0, 0, 33, 49, 0, -1], [1, -1, 1, 1, 1, 1, 1, -1, 1, -1, 1, 1, 0, -1, 0, 1, -1, -1, 1, -1, -1, -1, 1, 1, 1, -1, 1, 1, 1, 0.36, 25, 0, 0, 1, 1, 20, 1, 172.0, 0, 0, 23, 200, 0, -1], [1, -1, 1, 1, 1, 1, 1, -1, 1, -1, 1, 1, 0, -1, 0, 1, -1, -1, 1, -1, -1, -1, 1, 1, 1, -1, 1, 1, 1, 0.36, 25, 0, 0, 1, 1, 20, 1, 171.0, 0, 0, 23, 200, 0, -1], [1, -1, 1, 1, 1, 1, 1, -1, 1, -1, 1, 1, 0, -1, 0, 1, -1, -1, 1, -1, -1, -1, 1, 1, 1, -1, 1, 1, 1, 0.7, 14, 0, 0, 0, 0, 20, 1, 87.0, 0, 0, 23, 105, 0, -1], [1, -1, 1, 1, 1, 1, 1, -1, 1, -1, 1, 1, 0, -1, 0, 1, -1, -1, 1, -1, -1, -1, 1, 1, 1, -1, 1, 1, 1, 0.7, 14, 0, 0, 0, 0, 20, 1, 88.0, 0, 0, 23, 105, 0, -1], [1, -1, 1, 1, 1, 1, 1, -1, 1, -1, 1, 1, 0, -1, 0, 1, -1, -1, 1, -1, -1, -1, 1, 1, 1, -1, 1, 1, 1, 0.32, 25, 0, 0, 1, 1, 20, 2, 162.0, 0, 0, 23, 188, 0, -1], [1, -1, 1, 1, 1, 1, 1, -1, 1, -1, 1, 1, 0, -1, 0, 1, -1, -1, 1, -1, -1, -1, 1, 1, 1, -1, 1, 1, 1, 0.7, 14, 0, 0, 0, 0, 20, 2, 89.0, 0, 0, 23, 105, 0, -1], [1, 0, 1, 1, 1, 1, 1, -1, 1, -1, 1, 1, 0, -1, 0, 1, -1, -1, 1, -1, -1, -1, 1, 1, 1, -1, 1, 1, 1, 0.56, 13, 0, 0, 0, 0, 20, 2, 60.0, 0, 0, 23, 73, 0, -1], [1, -1, 1, 1, 1, 1, 1, -1, 1, -1, 1, 1, 0, -1, 0, 1, -1, -1, 1, -1, -1, -1, 1, 1, 1, -1, 1, 1, 1, 0.7, 14, 0, 0, 0, 0, 20, 1, 86.0, 0, 0, 23, 105, 0, -1], [1, 0, 1, 1, 1, -1, -1, 1, 1, -1, 1, 1, 0, -1, 0, 1, -1, -1, 1, -1, -1, -1, 1, 1, 1, -1, 1, 1, 1, 0.2, 12, 0, 0, 0, 0, 8, 2, 40.0, 14, 0, 26, 69, 2, -1], [1, 1, 1, 1, 1, -1, 0, 1, -1, -1, 1, 1, 0, -1, 1, 1, -1, -1, 1, -1, -1, -1, 1, -1, -1, -1, 1, 0, 1, 0.02, 8, 0, 0, 0, 0, 19, 2, 42.0, 0, 0, 36, 49, 1, -1], [1, 1, 1, 1, 1, 1, -1, -1, 1, -1, 1, 1, -1, -1, -1, -1, -1, -1, -1, -1, -1, -1, -1, 1, 1, -1, 1, -1, 1, 0.03, 9, 0, 0, 0, 0, 7, 1, 22.0, 10, 0, 16, 40, 0, -1], [1, 1, 1, 1, 1, -1, 1, 1, 1, 1, 1, 1, 0, -1, -1, 1, -1, -1, 1, -1, -1, -1, 1, -1, -1, -1, 1, -1, 1, 0.04, 8, 0, 0, 0, 0, 5, 2, 19.0, 0, 0, 13, 26, 2, -1], [1, 1, 1, 1, 1, 1, -1, -1, 1, -1, 1, 1, 0, -1, 0, 1, -1, -1, 1, -1, -1, -1, 1, 1, 1, -1, 1, 1, 1, 0.05, 8, 0, 0, 0, 0, 4, 4, 5.0, 9, 0, 0, 21, 0, -1], [1, 1, 1, 1, 1, 1, 0, -1, -1, -1, 1, 1, -1, -1, -1, -1, -1, -1, -1, -1, -1, -1, -1, -1, -1, -1, 1, -1, 1, 0.61, 9, 0, 0, 0, 0, 10, 2, 38.0, 0, 0, 8, 46, 0, -1], [1, 1, 1, 1, 1, 1, 0, -1, 1, -1, 1, 1, 0, -1, -1, 1, -1, -1, 1, -1, -1, -1, 1, 1, 1, -1, 1, 1, 1, 0.03, 7, 0, 0, 0, 0, 14, 3, 31.0, 0, 0, 26, 37, 0, -1], [1, 1, 1, 1, 1, 1, -1, -1, 1, -1, 1, 1, 0, -1, 0, 1, -1, -1, 1, -1, -1, -1, 1, 1, 1, -1, 1, 1, 1, 0.03, 8, 0, 0, 0, 0, 6, 3, 18.0, 9, 0, 13, 34, 0, -1], [1, 1, 1, 1, 1, -1, 1, -1, 1, -1, 1, 1, -1, -1, -1, -1, -1, -1, -1, -1, -1, -1, -1, -1, -1, -1, 1, -1, 1, 0.03, 7, 0, 0, 0, 0, 12, 3, 29.0, 0, 0, 24, 35, 1, -1], [1, 0, 1, 1, 1, -1, -1, -1, 1, -1, 1, 1, 0, -1, 0, 1, -1, -1, 1, -1, -1, -1, 1, 1, 1, -1, 1, 1, 1, 0.21, 12, 0, 0, 0, 0, 9, 2, 52.0, 10, 0, 33, 73, 2, -1], [1, -1, 1, -1, 1, -1, -1, 1, 1, -1, 1, 1, 0, -1, 1, 0, -1, -1, 1, -1, -1, -1, 1, 1, 1, -1, 1, 0, 1, 0.18, 13, 0, 0, 1, 1, 9, 1, 51.0, 19, 0, 21, 83, 1, -1], [1, 1, 1, 1, 1, -1, 0, -1, -1, -1, 1, 1, -1, -1, -1, -1, -1, -1, -1, -1, -1, -1, -1, -1, -1, -1, 1, -1, 1, 0.38, 10, 0, 0, 0, 0, 9, 3, 20.0, 0, 0, 19, 50, 1, -1], [1, 0, 1, 1, 1, -1, -1, -1, -1, -1, 1, 1, -1, -1, -1, -1, -1, -1, -1, -1, -1, -1, -1, -1, -1, -1, 1, -1, 1, 0.45, 11, 0, 0, 0, 0, 7, 3, 22.5, 0, 0, 19, 56, 1, -1], [1, 0, 1, 1, 1, -1, -1, -1, -1, -1, 1, 1, -1, -1, -1, -1, -1, -1, -1, -1, -1, -1, -1, -1, -1, -1, 1, -1, 1, 0.47, 11, 0, 0, 0, 0, 9, 3, 24.0, 0, 0, 19, 59, 1, -1], [1, 1, 1, 1, 1, -1, 0, -1, -1, -1, 1, 1, -1, -1, -1, -1, -1, -1, -1, -1, -1, -1, -1, -1, -1, -1, 1, -1, 1, 0.34, 10, 0, 0, 0, 0, 7, 3, 18.5, 0, 0, 19, 47, 1, -1], [1, 1, 1, 1, 1, -1, 0, -1, -1, -1, 1, 1, -1, -1, -1, -1, -1, -1, -1, -1, -1, -1, -1, -1, -1, -1, 1, -1, 1, 0.35, 10, 0, 0, 0, 0, 7, 3, 19.0, 0, 0, 19, 48, 1, -1], [1, -1, 1, 1, 1, 1, -1, -1, 1, -1, 1, 1, -1, -1, -1, -1, -1, -1, -1, -1, -1, -1, -1, 1, 1, -1, 1, -1, 1, 0.8, 16, 0, 0, 0, 0, 19, 1, 1.344, 8, 0, 0, 102, 0, -1], [1, -1, 1, 1, 1, 1, -1, -1, 1, -1, 1, 1, -1, -1, -1, -1, -1, -1, -1, -1, -1, -1, -1, 1, 1, -1, 1, -1, 1, 0.8, 16, 0, 0, 0, 0, 19, 1, 1.194, 10, 0, 0, 108, 0, -1], [1, -1, 1, 1, 1, 1, -1, -1, 1, -1, 1, 1, -1, -1, -1, -1, -1, -1, -1, -1, -1, -1, -1, 1, 1, -1, 1, -1, 1, 0.81, 16, 0, 0, 0, 0, 19, 1, 1.194, 8, 0, 0, 106, 0, -1], [1, -1, 1, 1, 1, 1, -1, -1, 1, -1, 1, 1, -1, -1, -1, -1, -1, -1, -1, -1, -1, -1, -1, 1, 1, -1, 1, -1, 1, 0.8, 16, 0, 0, 0, 0, 19, 1, 1.194, 10, 0, 0, 108, 0, -1], [1, -1, 1, 1, 1, 1, -1, -1, 1, -1, 1, 1, -1, -1, -1, -1, -1, -1, -1, -1, -1, -1, -1, 1, 1, -1, 1, -1, 1, 0.79, 16, 0, 0, 0, 0, 19, 1, 1.229, 10, 0, 0, 107, 0, -1], [1, -1, 1, 1, 1, 1, -1, -1, 1, -1, 1, 1, -1, -1, -1, -1, -1, -1, -1, -1, -1, -1, -1, 1, 1, -1, 1, -1, 1, 0.81, 16, 0, 0, 0, 0, 19, 1, 1.194, 8, 0, 0, 106, 0, -1], [1, 1, -1, 1, 1, 1, 0, -1, 1, -1, 1, 1, 0, -1, 0, 1, -1, -1, 1, -1, -1, -1, 1, 1, 1, -1, 1, 1, 1, 0.04, 7, 0, 0, 0, 0, 8, 3, 19.0, 1, 0, 14, 26, 0, -1], [1, -1, 1, 1, 1, 1, -1, -1, 1, -1, 1, 1, -1, -1, -1, -1, -1, -1, -1, -1, -1, -1, -1, 1, 1, -1, 1, -1, 1, 0.81, 16, 0, 0, 0, 0, 19, 1, 1.229, 8, 0, 0, 105, 0, -1], [1, -1, 1, 1, 1, 1, -1, -1, 1, -1, 1, 1, -1, -1, -1, -1, -1, -1, -1, -1, -1, -1, -1, 1, 1, -1, 1, -1, 1, 0.79, 16, 0, 0, 0, 0, 19, 1, 1.344, 10, 0, 0, 104, 0, -1], [1, 1, 1, 1, 1, -1, 0, 1, 1, 1, 1, 1, 0, -1, 0, 1, -1, -1, 1, -1, -1, -1, 1, 1, 1, -1, 1, 1, 1, 0.03, 8, 0, 0, 0, 0, 11, 3, 28.0, 0, 0, 22, 35, 1, -1], [1, -1, 1, 1, 1, 1, 0, -1, -1, -1, 1, 1, -1, -1, -1, -1, -1, -1, -1, -1, -1, -1, -1, -1, -1, -1, 1, -1, 1, 0.08, 10, 1, 0, 1, 1, 18, 1, 56.0, 0, 0, 28, 91, 0, -1], [1, -1, 1, 1, 1, 1, 0, -1, -1, -1, 1, 1, -1, -1, -1, -1, -1, -1, -1, -1, -1, -1, -1, -1, -1, -1, 1, -1, 1, 0.08, 10, 1, 0, 1, 1, 14, 1, 56.0, 0, 0, 26, 89, 0, -1], [1, 1, 1, 1, 1, 1, 1, -1, 1, -1, 1, 1, 0, -1, 0, 1, -1, -1, 1, -1, -1, -1, 1, -1, -1, -1, 1, 1, 1, 0.03, 6, 0, 0, 0, 0, 23, 3, 31.0, 0, 0, 26, 36, 0, -1], [1, -1, 1, 1, 1, 1, 1, 1, 1, -1, 1, 1, -1, -1, 1, 0, -1, -1, 0, -1, -1, -1, 1, -1, -1, -1, 1, -1, 1, 0.67, 14, 0, 0, 1, 1, 15, 1, 10.214, 0, 0, 15, 202, 0, -1], [1, 1, 1, 1, 1, 1, 0, 1, 1, 1, 1, 1, 0, -1, 1, 1, -1, -1, 1, -1, -1, -1, 1, 1, 1, -1, 1, 1, 1, 0.03, 7, 0, 0, 0, 0, 12, 3, 29.0, 0, 0, 23, 35, 0, -1], [1, -1, 1, 1, 1, 1, -1, -1, 1, -1, 1, 1, -1, -1, -1, -1, -1, -1, -1, -1, -1, -1, -1, 1, 1, -1, 1, -1, 1, 0.83, 17, 0, 0, 0, 0, 19, 1, 1.417, 8, 0, 0, 115, 0, -1], [1, -1, 1, 1, 1, 1, -1, -1, 1, -1, 1, 1, -1, -1, -1, -1, -1, -1, -1, -1, -1, -1, -1, 1, 1, -1, 1, -1, 1, 0.82, 17, 0, 0, 0, 0, 19, 1, 1.457, 8, 0, 0, 114, 0, -1], [1, -1, 1, 1, 1, 1, -1, -1, 1, -1, 1, 1, -1, -1, -1, -1, -1, -1, -1, -1, -1, -1, -1, 1, 1, -1, 1, -1, 1, 0.83, 17, 0, 0, 0, 0, 19, 1, 1.417, 8, 0, 0, 115, 0, -1], [1, -1, 1, 1, 1, 1, -1, -1, 1, -1, 1, 1, -1, -1, -1, -1, -1, -1, -1, -1, -1, -1, -1, 1, 1, -1, 1, -1, 1, 0.82, 17, 0, 0, 0, 0, 19, 1, 1.594, 8, 0, 0, 111, 0, -1], [1, 1, 1, 1, 1, 1, -1, -1, 1, -1, 1, 1, 0, -1, 0, 1, -1, -1, 1, -1, -1, -1, 1, 1, 1, -1, 1, 1, 1, 0.05, 8, 0, 0, 0, 0, 4, 4, 5.0, 9, 0, 0, 21, 0, -1], [1, -1, -1, 1, 1, 1, 0, -1, 1, -1, 1, 1, 0, -1, 1, 1, -1, -1, 0, -1, -1, -1, 1, -1, -1, -1, 1, 1, 1, 0.53, 8, 0, 0, 0, 0, 19, 1, 3.267, 0, 0, 26, 76, 0, -1], [1, 0, 1, 1, 1, 1, -1, -1, 1, -1, 1, 1, 0, -1, 1, 1, -1, -1, 0, -1, -1, -1, 1, 1, 1, -1, 1, 1, 1, 0.55, 9, 0, 0, 0, 0, 10, 1, 3.214, 0, 0, 22, 73, 0, -1], [1, 0, 1, 1, 1, 1, -1, -1, 1, -1, 1, 1, 0, -1, 1, 1, -1, -1, 0, -1, -1, -1, 1, 1, 1, -1, 1, 1, 1, 0.55, 9, 0, 0, 0, 0, 10, 2, 3.538, 0, 0, 22, 73, 0, -1], [1, 0, 1, 1, 1, 1, -1, -1, 1, -1, 1, 1, 0, -1, 1, 1, -1, -1, 0, -1, -1, -1, 1, 1, 1, -1, 1, 1, 1, 0.55, 9, 0, 0, 0, 0, 13, 2, 2.2, 0, 0, 22, 73, 0, -1], [1, 0, 1, 1, 1, 1, -1, -1, 1, -1, 1, 1, 0, -1, 1, 1, -1, -1, 0, -1, -1, -1, 1, 1, 1, -1, 1, 1, 1, 0.55, 9, 0, 0, 0, 0, 12, 2, 5.3, 0, 0, 22, 73, 0, -1], [1, 0, 1, 1, 1, 1, -1, -1, 1, -1, 1, 1, 0, -1, 1, 1, -1, -1, 0, -1, -1, -1, 1, 1, 1, -1, 1, 1, 1, 0.55, 9, 0, 0, 0, 0, 10, 1, 3.538, 0, 0, 22, 73, 0, -1], [1, 0, 1, 1, 1, 1, -1, 1, 1, -1, 1, 1, 0, -1, 1, 1, -1, -1, 0, -1, -1, -1, 1, 1, 1, -1, 1, 1, 1, 0.54, 9, 0, 0, 0, 0, 10, 1, 2.647, 0, 0, 22, 74, 0, -1], [1, 0, 1, 1, 1, 1, -1, 1, 1, -1, 1, 1, 0, -1, 1, 1, -1, -1, 0, -1, -1, -1, 1, 1, 1, -1, 1, 1, 1, 0.54, 9, 0, 0, 0, 0, 14, 2, 2.263, 0, 0, 22, 74, 0, -1], [1, 0, 1, 1, 1, 1, -1, -1, 1, -1, 1, 1, 0, -1, 1, 1, -1, -1, 0, -1, -1, -1, 1, 1, 1, -1, 1, 1, 1, 0.55, 9, 0, 0, 0, 0, 21, 2, 4.333, 0, 0, 22, 73, 0, -1], [1, 0, 1, 1, 1, 1, -1, -1, 1, -1, 1, 1, 0, -1, 1, 1, -1, -1, 0, -1, -1, -1, 1, 1, 1, -1, 1, 1, 1, 0.55, 9, 0, 0, 0, 0, 10, 1, 3.75, 0, 0, 22, 73, 0, -1], [1, 0, 1, 1, 1, 1, -1, -1, 1, -1, 1, 1, 0, -1, 1, 1, -1, -1, 0, -1, -1, -1, 1, 1, 1, -1, 1, 1, 1, 0.55, 9, 0, 0, 0, 0, 10, 2, 2.529, 0, 0, 22, 73, 0, -1], [1, 0, 1, 1, 1, 1, -1, -1, 1, -1, 1, 1, 0, -1, 1, 1, -1, -1, 0, -1, -1, -1, 1, 1, 1, -1, 1, 1, 1, 0.55, 9, 0, 0, 0, 0, 10, 1, 3.615, 0, 0, 22, 73, 0, -1], [1, -1, -1, 1, 1, 1, 0, -1, 1, -1, 1, 1, 0, -1, 0, 1, -1, -1, 1, -1, -1, -1, 1, -1, -1, -1, 1, 1, 1, 0.53, 8, 0, 0, 0, 0, 19, 1, 3.133, 0, 0, 26, 76, 0, -1], [1, 0, 1, 1, 1, -1, 0, 1, 1, -1, 1, 1, 0, -1, 1, 1, -1, -1, 1, -1, -1, -1, 1, 1, 1, -1, 1, 1, 1, 0.02, 13, 0, 0, 0, 0, 10, 1, 35.0, 9, 0, 29, 56, 6, -1], [1, 1, 1, 1, 1, 1, 1, -1, 1, -1, 1, 1, -1, -1, -1, 1, -1, -1, 1, -1, -1, -1, 1, 1, 1, -1, 1, -1, 1, 0.26, 6, 0, 0, 0, 0, 4, 1, 13.0, 0, 0, 5, 19, 0, -1], [1, -1, 1, 1, 1, 1, 0, 1, 1, -1, 1, 1, 0, -1, 0, 1, -1, -1, 1, -1, -1, -1, 1, 1, 1, -1, 1, 1, 1, 0.83, 10, 0, 0, 0, 0, 15, 2, 37.5, 0, 0, 6, 95, 0, -1], [1, 1, 1, 1, 1, 1, 1, -1, 1, -1, 1, 1, 0, -1, 0, 1, -1, -1, 1, -1, -1, -1, 1, 1, 1, -1, 1, 1, 1, 0.13, 7, 0, 0, 0, 0, 15, 2, 25.0, 0, 0, 18, 31, 0, -1], [1, 0, 1, 1, 1, -1, 0, -1, -1, -1, 1, 1, -1, -1, -1, -1, -1, -1, -1, -1, -1, -1, -1, -1, -1, -1, 1, -1, 1, 0.43, 11, 0, 0, 0, 0, 16, 3, 55.0, 0, 0, 26, 65, 1, -1], [1, 0, 1, 1, 1, -1, -1, 1, 1, -1, 1, 1, 0, -1, 1, 1, -1, -1, 1, -1, -1, -1, 1, 1, 1, -1, 1, 1, 1, 0.24, 9, 0, 0, 0, 0, 10, 1, 11.333, 24, 0, 16, 68, 1, -1], [1, -1, 1, 1, 1, 1, -1, 1, 1, -1, 1, 1, 0, -1, 0, 1, -1, -1, 1, -1, -1, -1, 1, 1, 1, -1, 1, 1, 1, 0.13, 9, 0, 0, 0, 0, 20, 1, 80.0, 7, 0, 64, 95, 0, -1], [1, 1, 1, 1, 1, -1, -1, -1, -1, -1, 1, 1, -1, -1, -1, -1, -1, -1, -1, -1, -1, -1, -1, -1, -1, -1, 1, -1, 1, 0.03, 9, 0, 0, 0, 0, 8, 2, 27.0, 0, 0, 21, 35, 1, -1], [1, 0, -1, 1, 1, 1, 1, 1, 1, -1, 1, 1, 0, -1, 0, 1, -1, -1, 1, -1, -1, -1, 1, -1, -1, -1, 1, 1, 1, 0.56, 7, 0, 0, 0, 0, 19, 3, 2.0, 0, 0, 22, 72, 0, -1], [1, 0, -1, 1, 1, 1, 1, -1, 1, -1, 1, 1, 0, -1, 1, 1, -1, -1, 0, -1, -1, -1, 1, -1, -1, -1, 1, 1, 1, 0.56, 7, 0, 0, 0, 0, 19, 3, 3.067, 0, 0, 22, 71, 0, -1], [1, 1, 1, 1, 1, -1, 0, 1, 1, 1, 1, 1, -1, -1, 1, 1, -1, -1, 1, -1, -1, -1, 1, 1, 1, -1, 1, 1, 1, 0.02, 8, 0, 0, 0, 0, 13, 3, 39.0, 0, 0, 33, 46, 1, -1], [1, -1, 1, 1, 1, -1, -1, -1, -1, -1, 1, 1, 0, -1, 0, 1, -1, -1, 1, -1, -1, -1, 1, -1, -1, -1, 1, 1, 1, 0.43, 17, 0, 0, 1, 1, 9, 1, 57.0, 11, 0, 24, 95, 4, -1], [1, 0, 1, 1, 1, 1, -1, -1, 1, -1, 1, 1, 0, -1, 0, 1, -1, -1, 1, -1, -1, -1, 1, 1, 1, -1, 1, 1, 1, 0.59, 12, 0, 0, 0, 0, 11, 3, 53.0, 0, 0, 17, 66, 0, -1], [1, 1, 1, 1, 1, 1, 0, 1, 1, -1, 1, 1, 0, -1, 0, 1, -1, -1, 1, -1, -1, -1, 1, 1, 1, -1, 1, 0, 1, 0.04, 7, 0, 0, 0, 0, 7, 2, 21.0, 1, 0, 15, 28, 0, -1], [1, 0, 1, 1, 1, -1, 0, -1, -1, -1, -1, 1, -1, -1, -1, -1, -1, -1, -1, -1, -1, -1, -1, -1, -1, -1, 1, -1, 1, 0.32, 14, 0, 0, 0, 0, 7, 1, 13.5, 17, 0, 11, 60, 1, -1], [1, 1, 1, 1, 1, 1, -1, -1, 1, 1, 1, 1, 0, -1, -1, 1, -1, -1, 1, -1, -1, -1, 1, 1, 1, -1, 1, -1, 1, 0.2, 10, 0, 0, 0, 0, 12, 1, 30.0, 7, 0, 19, 46, 0, -1], [1, 1, 1, 1, 1, -1, 1, -1, 1, -1, 1, 1, 0, -1, 0, 1, -1, -1, 1, -1, -1, -1, 1, 1, 1, -1, 1, 1, 1, 0.45, 9, 0, 0, 0, 0, 9, 2, 32.0, 0, 0, 12, 40, 1, -1], [1, 0, 1, 1, 1, -1, -1, 1, -1, -1, 1, 1, 0, -1, 1, 1, -1, -1, 1, -1, -1, -1, 1, -1, -1, -1, 1, 1, 1, 0.38, 13, 0, 0, 1, 1, 12, 1, 52.0, 0, 0, 21, 64, 1, -1], [1, 1, 1, 1, 1, 1, 1, 1, 1, -1, 1, 1, 0, -1, 1, 1, -1, -1, 0, -1, -1, -1, 1, 1, 1, -1, 1, 1, 1, 0.04, 6, 0, 0, 0, 0, 13, 3, 22.0, 0, 0, 16, 27, 0, -1], [1, 1, 1, 1, 1, 1, 0, -1, 1, -1, 1, 1, 0, -1, 0, 1, -1, -1, 1, -1, -1, -1, 1, 1, 1, -1, 1, 1, 1, 0.21, 8, 0, 0, 0, 0, 4, 2, 16.0, 0, 0, 9, 24, 0, -1], [1, -1, 1, 1, 1, -1, -1, -1, 1, -1, 1, 1, 0, -1, 0, 1, -1, -1, 1, -1, -1, -1, 1, 1, 1, -1, 1, 1, 1, 0.19, 13, 0, 0, 0, 0, 10, 2, 55.0, 17, 0, 36, 84, 3, -1], [1, -1, 1, 1, 1, 1, -1, -1, -1, -1, 1, 1, -1, -1, 1, 1, -1, -1, 1, -1, -1, -1, 1, -1, -1, -1, 1, 0, 1, 0.59, 15, 0, 0, 0, 0, 12, 2, 66.0, 0, 0, 22, 81, 0, -1], [1, 0, 1, 1, 1, 1, -1, 1, 1, 1, 1, 1, 0, -1, -1, 1, -1, -1, 1, -1, -1, -1, 1, 1, 1, -1, 1, -1, 1, 0.4, 10, 0, 0, 0, 0, 12, 1, 5.857, 7, 0, 19, 63, 0, -1], [1, 1, 1, 1, 1, -1, -1, -1, 1, -1, 1, 1, 0, -1, 0, 1, -1, -1, 1, -1, -1, -1, 1, 1, 1, -1, 1, 1, 1, 0.31, 11, 0, 0, 0, 0, 9, 2, 35.0, 4, 0, 17, 49, 2, -1], [1, 1, 1, 1, 1, 1, 1, -1, 1, -1, 1, 1, -1, -1, 1, 0, -1, -1, 1, -1, -1, -1, 1, 1, 1, -1, 1, 1, 1, 0.48, 9, 0, 1, 0, 0, 4, 2, 14.0, 0, 0, 5, 27, 0, -1], [1, 0, 1, 1, 1, 1, -1, -1, -1, -1, 1, 1, 0, -1, 1, 1, -1, -1, 1, -1, -1, -1, 1, -1, -1, -1, 1, 0, 1, 0.02, 8, 0, 0, 0, 0, 25, 2, 47.0, 0, 0, 42, 54, 0, -1], [1, 1, 1, 1, 1, -1, 0, -1, -1, -1, 1, 1, 0, -1, 1, 1, -1, -1, 1, -1, -1, -1, 1, -1, -1, -1, 1, 0, 1, 0.15, 8, 0, 0, 0, 0, 12, 2, 4.667, 0, 0, 23, 40, 1, -1], [1, 1, 1, 1, 1, 1, -1, -1, 1, -1, 1, 1, -1, -1, 1, 1, -1, -1, 1, -1, -1, -1, 1, 1, 1, -1, 1, -1, 1, 0.27, 9, 0, 0, 0, 0, 6, 2, 22.0, 0, 0, 11, 30, 0, -1], [1, 1, 1, 1, 1, -1, -1, -1, 1, -1, 1, 1, 0, -1, 0, 1, -1, -1, 1, -1, -1, -1, 1, 1, 1, -1, 1, 1, 1, 0.26, 11, 0, 0, 0, 0, 6, 2, 33.0, 4, 0, 18, 47, 2, -1], [1, 1, 1, 1, 1, 1, -1, -1, 1, -1, 1, 1, -1, -1, 1, 0, -1, -1, 1, -1, -1, -1, 1, 1, 1, -1, 1, 1, 1, 0.55, 13, 0, 1, 0, 0, 4, 2, 23.0, 0, 0, 8, 40, 0, -1], [1, 1, 1, 1, 1, 1, 0, -1, 1, -1, 1, 1, 0, -1, -1, 1, -1, -1, 1, -1, -1, -1, 1, 1, 1, -1, 1, 1, 1, 0.38, 10, 0, 0, 0, 0, 10, 3, 21.0, 0, 0, 22, 52, 0, -1], [1, 1, 1, 1, 1, 1, 0, -1, -1, -1, 1, 1, -1, -1, 0, 1, -1, -1, 1, -1, -1, -1, 1, -1, -1, -1, 1, -1, 1, 0.37, 8, 0, 0, 0, 0, 7, 2, 31.0, 0, 0, 14, 38, 0, -1], [1, 1, 1, 1, 1, -1, 0, -1, -1, -1, 1, 1, -1, -1, 0, 1, -1, -1, 1, -1, -1, -1, 1, -1, -1, -1, 1, -1, 1, 0.4, 11, 0, 0, 0, 0, 10, 2, 42.0, 0, 0, 20, 52, 1, -1], [1, 1, 1, 1, 1, -1, 0, -1, -1, -1, 1, 1, -1, -1, 0, 1, -1, -1, 1, -1, -1, -1, 1, -1, -1, -1, 1, -1, 1, 0.23, 9, 0, 0, 0, 0, 7, 2, 31.0, 0, 0, 19, 39, 1, -1], [1, -1, 1, 1, 1, -1, 0, -1, 1, -1, 1, 1, -1, -1, 1, 1, -1, -1, 1, -1, -1, -1, 1, 1, 1, -1, 1, 0, 1, 0.38, 30, 0, 0, 1, 1, 12, 1, 5.067, 0, 0, 18, 137, 1, -1], [1, 1, 1, 1, 1, 1, 0, -1, 1, -1, 1, 1, 0, -1, 0, 1, -1, -1, 1, -1, -1, -1, -1, 1, 1, -1, 1, 1, 1, 0.47, 11, 0, 0, 0, 0, 9, 3, 12.5, 0, 0, 12, 40, 0, -1], [1, 0, 1, 1, 1, 1, 0, -1, 1, 1, 1, 1, -1, -1, -1, 1, -1, -1, 1, -1, -1, -1, 1, 1, 1, -1, 1, -1, 1, 0.62, 11, 0, 0, 0, 0, 9, 3, 46.0, 0, 0, 12, 56, 0, -1], [1, 1, 1, 1, 1, -1, 1, -1, -1, -1, 1, 1, 0, -1, 0, 1, -1, -1, 1, -1, -1, -1, 1, -1, -1, -1, 1, 1, 1, 0.21, 12, 0, 0, 0, 0, 5, 1, 25.0, 5, 0, 15, 43, 5, -1], [1, -1, 1, 1, 1, 1, 0, -1, -1, -1, 1, 1, -1, -1, -1, 1, -1, -1, 1, -1, -1, -1, 1, -1, -1, -1, 1, -1, 1, 0.78, 17, 0, 0, 0, 0, 10, 2, 76.0, 0, 0, 10, 92, 0, -1], [1, -1, 1, 1, 1, 1, 0, -1, -1, -1, 1, 1, -1, -1, -1, 1, -1, -1, 1, -1, -1, -1, 1, -1, -1, -1, 1, -1, 1, 0.79, 19, 0, 0, 0, 0, 8, 2, 76.0, 0, 0, 10, 94, 0, -1], [1, -1, 1, 1, 1, 1, 0, 1, -1, -1, 1, 1, -1, -1, 1, 0, -1, -1, 1, -1, -1, -1, 1, -1, -1, -1, 1, -1, 1, 0.26, 22, 0, 0, 0, 0, 18, 1, 2.303, 0, 0, 10, 265, 0, -1], [1, -1, 1, 1, 1, 1, 0, 1, -1, -1, 1, 1, -1, -1, 1, 0, -1, -1, 1, -1, -1, -1, 1, -1, -1, -1, 1, -1, 1, 0.25, 20, 0, 0, 0, 0, 23, 1, 1.986, 0, 0, 10, 264, 0, -1], [1, -1, 1, 1, 1, 1, 0, 1, -1, -1, 1, 1, -1, -1, 1, 0, -1, -1, 1, -1, -1, -1, 1, -1, -1, -1, 1, -1, 1, 0.25, 22, 0, 0, 0, 0, 16, 1, 2.439, 0, 0, 10, 274, 0, -1], [1, -1, 1, 1, 1, 1, 0, 1, -1, -1, 1, 1, -1, -1, 1, 0, -1, -1, 1, -1, -1, -1, 1, -1, -1, -1, 1, -1, 1, 0.24, 22, 0, 0, 0, 0, 17, 1, 1.667, 0, 0, 10, 296, 0, -1], [1, -1, 1, 1, 1, 1, 0, 1, -1, -1, 1, 1, -1, -1, 1, 0, -1, -1, 1, -1, -1, -1, 1, -1, -1, -1, 1, -1, 1, 0.23, 22, 0, 0, 0, 0, 18, 1, 1.739, 0, 0, 10, 286, 0, -1], [1, -1, 1, 1, 1, -1, -1, -1, -1, -1, 1, 1, 0, -1, 0, 1, -1, -1, 1, -1, -1, -1, 1, -1, -1, -1, 1, 1, 1, 0.43, 17, 0, 0, 1, 1, 9, 1, 56.0, 11, 0, 24, 95, 4, -1], [1, -1, 1, 1, 1, -1, -1, -1, -1, -1, 1, 1, 0, -1, 0, 1, -1, -1, 1, -1, -1, -1, 1, -1, -1, -1, 1, 1, 1, 0.45, 17, 0, 0, 1, 1, 7, 1, 57.0, 11, 0, 21, 92, 4, -1], [1, 1, 1, 1, 1, -1, 0, -1, 1, -1, 1, 1, 0, -1, 0, 1, -1, -1, 1, -1, -1, -1, 1, -1, -1, -1, 1, 1, 1, 0.04, 8, 0, 0, 0, 0, 7, 2, 21.0, 0, 0, 16, 28, 1, -1], [1, 0, 1, 1, 1, -1, 0, -1, -1, -1, -1, 1, -1, -1, -1, -1, -1, -1, -1, -1, -1, -1, -1, -1, -1, -1, 1, -1, 1, 0.32, 14, 0, 0, 0, 0, 7, 1, 13.5, 17, 0, 11, 60, 1, -1], [1, 1, 1, 1, 1, 1, 0, -1, -1, -1, 1, 1, 0, -1, 0, 1, -1, -1, 1, -1, -1, -1, 1, -1, -1, -1, 1, 1, 1, 0.04, 7, 0, 0, 0, 0, 6, 3, 19.0, 2, 0, 14, 27, 0, -1], [1, 0, 1, 1, 1, 1, -1, 1, -1, -1, 1, 1, 0, -1, 1, 1, -1, -1, 1, -1, -1, -1, 1, -1, -1, -1, 1, 0, 1, 0.01, 10, 0, 0, 1, 1, 15, 1, 4.8, 4, 0, 26, 71, 0, -1], [1, 1, 1, 1, 1, 1, -1, -1, -1, -1, 1, 1, 0, -1, 1, 0, -1, -1, 1, -1, -1, -1, 1, -1, -1, -1, 1, 1, 1, 0.02, 8, 0, 0, 0, 0, 16, 2, 37.0, 0, 0, 32, 44, 0, -1], [1, -1, 1, 1, 1, 1, 0, -1, 1, 1, 1, 1, -1, -1, -1, 1, -1, -1, 1, -1, -1, -1, 1, 1, 1, -1, 1, 0, 1, 0.4, 30, 0, 0, 1, 1, 49, 2, 197.0, 0, 0, 14, 236, 0, -1], [1, 1, 1, 1, 1, 1, 1, 1, 1, -1, 1, 1, -1, -1, 1, 1, -1, -1, 1, -1, -1, -1, 1, 1, 1, -1, 1, 1, 1, 0.29, 6, 0, 0, 0, 0, 5, 1, 13.0, 0, 0, 5, 21, 0, -1], [1, 1, 1, 1, 1, 1, 0, 1, -1, -1, 1, 1, 0, -1, 0, 1, -1, -1, 1, -1, -1, -1, 1, -1, -1, -1, 1, 1, 1, 0.03, 7, 0, 0, 0, 0, 7, 4, 24.0, 1, 0, 18, 31, 0, -1], [1, -1, 1, 1, 1, -1, -1, 1, 1, -1, 1, 1, 0, -1, 0, 1, -1, -1, 1, -1, -1, -1, 1, -1, -1, -1, 1, 1, 1, 0.77, 17, 0, 0, 0, 0, 19, 1, 1.914, 0, 0, 16, 122, 1, -1], [1, 1, 1, 1, 1, 1, 1, -1, 1, -1, 1, 1, -1, -1, -1, -1, -1, -1, -1, -1, -1, -1, -1, -1, -1, -1, 1, -1, 1, 0.23, 6, 0, 0, 0, 0, 8, 1, 7.0, 0, 0, 15, 31, 0, -1], [1, 1, 1, 1, 1, -1, 1, 1, 1, -1, 1, 1, 0, -1, 0, 1, -1, -1, 1, -1, -1, -1, 1, -1, -1, -1, 1, 1, 1, 0.23, 7, 0, 0, 0, 0, 6, 1, 6.667, 0, 0, 13, 31, 1, -1], [1, 1, 1, 1, 1, -1, 1, 1, 1, -1, 1, 1, 0, -1, 0, 1, -1, -1, 1, -1, -1, -1, 1, -1, -1, -1, 1, 1, 1, 0.25, 8, 0, 0, 0, 0, 6, 1, 6.667, 0, 0, 13, 32, 1, -1], [1, 1, 1, 1, 1, 1, 1, -1, 1, -1, 1, 1, -1, -1, -1, -1, -1, -1, -1, -1, -1, -1, -1, -1, -1, -1, 1, -1, 1, 0.24, 7, 0, 0, 0, 0, 8, 1, 7.333, 0, 0, 15, 33, 0, -1], [1, 1, 1, 1, 1, -1, 1, -1, 1, -1, 1, 1, -1, -1, -1, -1, -1, -1, -1, -1, -1, -1, -1, -1, -1, -1, 1, -1, 1, 0.21, 9, 0, 0, 0, 0, 6, 1, 8.667, 0, 0, 19, 39, 2, -1], [1, 1, 1, 1, 1, -1, 1, -1, 1, -1, 1, 1, -1, -1, -1, -1, -1, -1, -1, -1, -1, -1, -1, -1, -1, -1, 1, -1, 1, 0.23, 9, 0, 0, 0, 0, 6, 1, 7.333, 0, 0, 15, 35, 2, -1], [1, 1, 1, 1, 1, -1, 1, 1, -1, -1, 1, 1, 0, -1, 0, 1, -1, -1, 1, -1, -1, -1, 1, -1, -1, -1, 1, 1, 1, 0.26, 8, 0, 0, 0, 0, 5, 1, 6.333, 0, 0, 12, 31, 1, -1], [1, 1, 1, 1, 1, -1, 1, -1, -1, -1, 1, 1, 0, -1, 0, 1, -1, -1, 1, -1, -1, -1, 1, -1, -1, -1, 1, 1, 1, 0.24, 7, 0, 0, 0, 0, 5, 1, 6.0, 0, 0, 12, 29, 1, -1], [1, 1, 1, 1, 1, -1, 1, -1, 1, -1, 1, 1, -1, -1, -1, -1, -1, -1, -1, -1, -1, -1, -1, -1, -1, -1, 1, -1, 1, 0.21, 8, 0, 0, 0, 0, 6, 1, 7.0, 0, 0, 15, 33, 2, -1], [1, -1, 1, 1, 1, -1, -1, 1, 1, -1, 1, 1, 0, -1, 0, 1, -1, -1, 1, -1, -1, -1, 1, -1, -1, -1, 1, 1, 1, 0.76, 17, 0, 0, 0, 0, 19, 1, 2.094, 0, 0, 16, 119, 1, -1], [1, 1, 1, 1, 1, -1, 1, -1, 1, -1, 1, 1, -1, -1, -1, -1, -1, -1, -1, -1, -1, -1, -1, -1, -1, -1, 1, -1, 1, 0.19, 8, 0, 0, 0, 0, 6, 1, 8.333, 0, 0, 19, 37, 2, -1], [1, 1, 1, 1, 1, -1, 1, 1, 1, -1, 1, 1, 0, -1, 0, 1, -1, -1, 1, -1, -1, -1, 1, -1, -1, -1, 1, 1, 1, 0.24, 8, 0, 0, 0, 0, 6, 1, 7.333, 0, 0, 15, 34, 1, -1], [1, 0, 1, 1, 1, -1, -1, 1, 1, -1, 1, 1, 0, -1, 0, 1, -1, -1, 1, -1, -1, -1, 1, 1, 1, -1, 1, 1, 1, 0.15, 10, 0, 0, 0, 0, 13, 1, 13.333, 0, 0, 33, 54, 1, -1], [1, 1, 1, 1, 1, -1, 1, -1, 1, -1, 1, 1, -1, -1, -1, -1, -1, -1, -1, -1, -1, -1, -1, -1, -1, -1, 1, -1, 1, 0.23, 8, 0, 0, 0, 0, 4, 1, 6.0, 0, 0, 12, 30, 2, -1], [1, 1, 1, 1, 1, 1, 1, -1, 1, -1, 1, 1, -1, -1, -1, -1, -1, -1, -1, -1, -1, -1, -1, -1, -1, -1, 1, -1, 1, 0.21, 6, 0, 0, 0, 0, 10, 1, 8.0, 0, 0, 18, 34, 0, -1], [1, 1, 1, 1, 1, -1, 1, -1, 1, -1, 1, 1, -1, -1, -1, -1, -1, -1, -1, -1, -1, -1, -1, -1, -1, -1, 1, -1, 1, 0.25, 9, 0, 0, 0, 0, 5, 1, 6.333, 0, 0, 12, 32, 2, -1], [1, 1, 1, 1, 1, -1, -1, 1, 1, -1, 1, 1, 0, -1, 0, 1, -1, -1, 1, -1, -1, -1, 1, 1, 1, -1, 1, 1, 1, 0.16, 10, 0, 0, 0, 0, 13, 1, 11.667, 0, 0, 28, 49, 1, -1], [1, 0, 1, 1, 1, -1, -1, 1, 1, -1, 1, 1, 0, -1, 0, 1, -1, -1, 1, -1, -1, -1, 1, 1, 1, -1, 1, 1, 1, 0.14, 11, 0, 0, 0, 0, 13, 1, 14.333, 0, 0, 36, 58, 1, -1], [1, -1, 1, 1, 1, -1, -1, 1, 1, -1, 1, 1, 0, -1, 0, 1, -1, -1, 1, -1, -1, -1, 1, -1, -1, -1, 1, 1, 1, 0.77, 17, 0, 0, 0, 0, 19, 1, 1.861, 0, 0, 16, 123, 1, -1], [1, 0, 1, 1, 1, 1, 1, 1, 1, -1, 1, 1, 0, -1, 0, 1, -1, -1, 1, -1, -1, -1, 1, -1, -1, -1, 1, 1, 1, 0.11, 9, 0, 0, 1, 1, 11, 1, 2.643, 0, 0, 12, 65, 0, -1], [1, -1, 1, 1, 1, -1, -1, 1, 1, -1, 1, 1, 0, -1, 0, 1, -1, -1, 1, -1, -1, -1, 1, -1, -1, -1, 1, 1, 1, 0.77, 17, 0, 0, 0, 0, 19, 1, 1.861, 0, 0, 16, 123, 1, -1], [1, 1, 1, 1, 1, -1, 1, -1, 1, -1, 1, 1, 0, -1, 1, 1, -1, -1, 1, -1, -1, -1, 1, 1, 1, -1, 1, -1, 1, 0.48, 9, 0, 0, 0, 0, 9, 3, 34.0, 0, 0, 12, 42, 1, -1], [1, 1, 1, 1, 1, 1, -1, -1, 1, -1, 1, 1, 0, -1, -1, 1, -1, -1, 1, -1, -1, -1, 1, 1, 1, -1, 1, 1, 1, 0.24, 8, 0, 0, 0, 0, 15, 3, 41.0, 0, 0, 27, 49, 0, -1], [1, 1, 1, 1, 1, 1, 0, -1, 1, -1, 1, 1, 0, -1, -1, 1, -1, -1, 1, -1, -1, -1, 1, 1, 1, -1, 1, 1, 1, 0.03, 7, 0, 0, 0, 0, 15, 3, 32.0, 0, 0, 27, 38, 0, -1], [1, 0, 1, 1, 1, -1, 0, 1, 1, 1, 1, 1, -1, -1, 0, 1, -1, -1, 1, -1, -1, -1, 1, 1, 1, -1, 1, 0, 1, 0.35, 11, 0, 0, 0, 0, 5, 1, 35.0, 0, 0, 21, 54, 3, -1], [1, 0, 1, 1, 1, -1, -1, -1, -1, -1, 1, 1, 0, -1, 0, 1, -1, -1, 1, -1, -1, -1, 1, -1, -1, -1, 1, 1, 1, 0.16, 13, 0, 0, 0, 0, 6, 1, 33.0, 22, 0, 18, 67, 4, -1], [1, 0, 1, 1, 1, -1, -1, 1, -1, -1, 1, 1, 0, -1, 1, 1, -1, -1, 1, -1, -1, -1, 1, -1, -1, -1, 1, 0, 1, 0.02, 12, 0, 0, 0, 0, 5, 1, 21.0, 25, 0, 15, 57, 4, -1], [1, 1, 1, 1, 1, -1, 0, -1, -1, -1, 1, 1, 0, -1, 1, 1, -1, -1, 1, -1, -1, -1, 1, -1, -1, -1, 1, 0, 1, 0.03, 9, 0, 0, 0, 0, 12, 2, 32.0, 0, 0, 26, 40, 2, -1], [1, 1, 1, 1, 1, 1, -1, 1, -1, -1, 1, 1, 0, -1, 1, 1, -1, -1, 1, -1, -1, -1, 1, -1, -1, -1, 1, 0, 1, 0.03, 8, 0, 0, 0, 0, 12, 2, 32.0, 0, 0, 26, 39, 0, -1], [1, 0, 1, 1, 1, 1, -1, 1, 1, -1, 1, 1, 0, -1, 1, 1, -1, -1, 1, -1, -1, -1, 1, 1, 1, -1, 1, 1, 1, 0.44, 11, 0, 0, 1, 1, 11, 1, 45.0, 0, 0, 14, 55, 0, -1], [1, 0, 1, -1, 1, -1, 0, -1, -1, -1, 1, 1, -1, -1, -1, -1, -1, -1, -1, -1, -1, -1, -1, -1, -1, -1, 1, -1, 1, 0.02, 13, 0, 0, 1, 1, 11, 2, 44.0, 1, 0, 31, 57, 1, -1], [1, -1, 1, 1, 1, -1, 0, -1, 1, -1, 1, 1, -1, -1, -1, -1, -1, -1, -1, -1, -1, -1, -1, 1, 1, -1, 1, -1, 1, 0.03, 14, 0, 0, 1, 1, 60, 3, 1.767, 12, 0, 10, 107, 3, -1], [1, -1, 1, 1, 1, -1, -1, -1, 1, -1, 1, 1, -1, -1, -1, -1, -1, -1, -1, -1, -1, -1, -1, 1, 1, -1, 1, -1, 1, 0.03, 15, 0, 0, 1, 1, 60, 3, 1.486, 12, 0, 14, 112, 3, -1], [1, 1, 1, 1, 1, 1, 1, -1, 1, -1, 1, 1, 0, -1, 0, 1, -1, -1, 1, -1, -1, -1, 1, 1, 1, -1, 1, 1, 1, 0.04, 6, 0, 0, 0, 0, 10, 3, 18.0, 0, 0, 13, 23, 0, -1], [1, 0, 1, 1, 1, 1, -1, 1, 1, -1, 1, 1, 0, -1, 0, 1, -1, -1, 1, -1, -1, -1, 1, 1, 1, -1, 1, 1, 1, 0.32, 11, 0, 0, 0, 0, 13, 3, 55.0, 0, 0, 31, 65, 0, -1], [1, 1, 1, 1, 1, 1, 1, 1, 1, -1, 1, 1, 0, -1, 1, 0, -1, -1, 1, -1, -1, -1, 1, -1, -1, -1, 1, 0, 1, 0.04, 6, 0, 0, 0, 0, 10, 3, 19.0, 0, 0, 13, 24, 0, -1], [1, 1, 1, 1, 1, 1, 0, -1, 1, -1, 1, 1, 0, -1, 0, 1, -1, -1, 1, -1, -1, -1, 1, 1, 1, -1, 1, 1, 1, 0.12, 8, 0, 0, 0, 0, 11, 1, 24.0, 2, 0, 17, 33, 0, -1], [1, 1, 1, 1, 1, 1, 0, 1, 1, -1, 1, 1, 0, -1, 0, 1, -1, -1, 1, -1, -1, -1, 1, -1, -1, -1, 1, 1, 1, 0.04, 7, 0, 0, 0, 0, 7, 2, 18.0, 0, 0, 12, 24, 0, -1], [1, 1, 1, 1, 1, -1, 0, -1, -1, -1, 1, 1, 0, -1, 1, 1, -1, -1, 1, -1, -1, -1, 1, -1, -1, -1, 1, 0, 1, 0.02, 8, 0, 0, 0, 0, 16, 2, 38.0, 0, 0, 33, 45, 1, -1], [1, 1, 1, 1, 1, 1, -1, -1, 1, -1, 1, 1, 0, -1, 0, 1, -1, -1, 1, -1, -1, -1, 1, 1, 1, -1, 1, 1, 1, 0.35, 9, 0, 0, 0, 0, 13, 1, 19.0, 2, 0, 20, 49, 0, -1], [1, -1, 1, -1, 1, -1, -1, 1, 1, -1, 1, 1, 0, -1, 1, 0, -1, -1, 1, -1, -1, -1, 1, 1, 1, -1, 1, 0, 1, 0.25, 12, 0, 0, 0, 0, 20, 1, 72.0, 23, 0, 17, 106, 1, -1], [1, -1, 1, 1, 1, 1, 1, 1, 1, -1, 1, 1, 0, -1, 0, 1, -1, -1, 1, -1, -1, -1, -1, 1, 1, -1, 1, 1, 1, 0.38, 23, 0, 0, 1, 1, 19, 1, 5.875, 0, 0, 15, 192, 0, -1], [1, 1, 1, 1, 1, 1, 0, 1, -1, -1, 1, 1, 0, -1, 0, 1, -1, -1, 1, -1, -1, -1, 1, -1, -1, -1, 1, 1, 1, 0.03, 7, 0, 0, 0, 0, 13, 3, 29.0, 0, 0, 23, 35, 0, -1], [1, -1, 1, -1, 1, 1, -1, 1, 1, -1, 1, 1, 0, -1, 0, 1, -1, -1, 1, -1, -1, -1, 1, 1, 1, -1, 1, 1, 1, 0.62, 20, 0, 0, 1, 1, 12, 1, 92.0, 0, 0, 15, 112, 0, -1], [1, -1, 1, 1, 1, 1, -1, 1, 1, -1, 1, 1, 0, -1, 0, 1, -1, -1, 1, -1, -1, -1, 1, 1, 1, -1, 1, 1, 1, 0.73, 16, 0, 0, 0, 0, 12, 2, 79.0, 0, 0, 15, 95, 0, -1], [1, 1, 1, 1, 1, 1, 0, -1, 1, -1, 1, 1, -1, -1, -1, -1, -1, -1, -1, -1, -1, -1, -1, 1, 1, -1, 1, -1, 1, 0.23, 7, 0, 0, 0, 0, 7, 1, 20.0, 0, 0, 10, 26, 0, -1], [1, -1, 1, 1, 1, 1, -1, 1, 1, -1, 1, 1, -1, -1, 0, -1, -1, -1, 1, -1, -1, -1, 1, 1, 1, -1, 1, 0, 1, 0.01, 29, 0, 0, 1, 1, 27, 1, 41.667, 6, 0, 65, 161, 0, -1], [1, 1, 1, 1, 1, -1, -1, -1, -1, -1, 1, 1, 0, -1, 0, 1, -1, -1, 1, -1, -1, -1, 1, -1, -1, -1, 1, 1, 1, 0.02, 9, 1, 0, 0, 0, 7, 3, 34.0, 0, 0, 29, 42, 1, -1], [1, 1, 1, 1, 1, -1, 0, -1, -1, -1, 1, 1, 0, -1, 0, 1, -1, -1, 1, -1, -1, -1, 1, -1, -1, -1, 1, 1, 1, 0.03, 10, 0, 0, 0, 0, 8, 1, 27.0, 3, 0, 22, 39, 3, -1], [1, 1, 1, 1, 1, -1, 0, 1, 1, 1, 1, 1, 0, -1, -1, 1, -1, -1, 1, -1, -1, -1, 1, -1, -1, -1, 1, -1, 1, 0.11, 9, 0, 0, 0, 0, 15, 2, 36.0, 0, 0, 27, 44, 1, -1], [1, 1, 1, 1, 1, -1, 1, -1, 1, -1, 1, 1, 0, -1, 0, 1, -1, -1, 1, -1, -1, -1, 1, 1, 1, -1, 1, 1, 1, 0.04, 7, 0, 0, 0, 0, 6, 3, 17.0, 0, 0, 12, 23, 1, -1], [1, 0, 1, 1, 1, -1, 1, 1, -1, -1, 1, 1, 0, -1, 0, 1, -1, -1, 1, -1, -1, -1, 1, -1, -1, -1, 1, 1, 1, 0.65, 13, 0, 0, 0, 0, 7, 1, 6.333, 0, 0, 12, 66, 1, -1], [1, 1, -1, 1, 1, 1, 0, -1, -1, -1, 1, 1, 0, -1, 1, 1, -1, -1, 1, -1, -1, -1, 1, -1, -1, -1, 1, 1, 1, 0.02, 7, 0, 0, 0, 0, 23, 3, 39.0, 0, 0, 34, 45, 0, -1], [1, 1, 1, 1, 1, 1, 0, -1, 1, -1, 1, 1, 0, -1, 0, 1, -1, -1, 1, -1, -1, -1, 1, 1, 1, -1, 1, 1, 1, 0.21, 9, 0, 0, 0, 0, 15, 3, 44.0, 0, 0, 30, 52, 0, -1], [1, 0, 1, 1, 1, 1, -1, 1, 1, -1, 1, 1, 0, -1, 0, 1, -1, -1, 1, -1, -1, -1, 1, 1, 1, -1, 1, 1, 1, 0.42, 11, 0, 0, 0, 0, 15, 3, 30.0, 0, 0, 30, 71, 0, -1], [1, -1, 1, 1, 1, 1, -1, -1, 1, -1, 1, 1, 0, -1, 0, 1, -1, -1, 1, -1, -1, -1, 1, 1, 1, -1, 1, 1, 1, 0.01, 8, 0, 0, 0, 0, 19, 1, 66.0, 10, 0, 61, 83, 0, -1], [1, 0, 1, 1, 1, 1, -1, -1, -1, -1, 1, 1, -1, -1, -1, -1, -1, -1, -1, -1, -1, -1, -1, -1, -1, -1, 1, -1, 1, 0.39, 10, 0, 0, 0, 0, 13, 3, 47.0, 0, 0, 23, 56, 0, -1], [1, 0, 1, 1, 1, 1, -1, -1, -1, -1, 1, 1, -1, -1, -1, -1, -1, -1, -1, -1, -1, -1, -1, -1, -1, -1, 1, -1, 1, 0.43, 10, 0, 0, 0, 0, 13, 3, 51.0, 0, 0, 23, 60, 0, -1], [1, 0, 1, 1, 1, -1, -1, -1, 1, -1, 1, 1, -1, -1, -1, -1, -1, -1, -1, -1, -1, -1, -1, 1, 1, -1, 1, -1, 1, 0.02, 12, 0, 0, 0, 0, 7, 1, 43.0, 5, 0, 38, 59, 3, -1], [1, 0, 1, 1, 1, -1, -1, -1, 1, -1, 1, 1, -1, -1, -1, -1, -1, -1, -1, -1, -1, -1, -1, 1, 1, -1, 1, -1, 1, 0.15, 13, 0, 0, 0, 0, 7, 1, 51.0, 5, 0, 38, 68, 3, -1], [1, 1, 1, 1, 1, 1, -1, 1, -1, -1, 1, 1, -1, -1, 0, 1, -1, -1, 1, -1, -1, -1, 1, -1, -1, -1, 1, 0, 1, 0.43, 9, 0, 0, 0, 0, 10, 2, 37.0, 0, 0, 15, 46, 0, -1], [1, 1, 1, 1, 1, 1, 1, 1, 1, -1, 1, 1, 0, -1, 0, 1, -1, -1, 1, -1, -1, -1, 1, -1, -1, -1, 1, 1, 1, 0.04, 6, 0, 0, 0, 0, 13, 3, 22.0, 0, 0, 16, 27, 0, -1], [1, -1, 1, 1, 1, 1, -1, 1, 1, -1, 1, 1, 0, -1, -1, 1, -1, -1, 0, -1, -1, -1, 1, 1, 1, -1, 1, 1, 1, 0.35, 21, 0, 0, 1, 1, 22, 1, 24.5, 0, 0, 28, 176, 0, -1], [1, 1, 1, 1, 1, 1, 0, -1, 1, -1, 1, 1, 0, -1, -1, 1, -1, -1, 1, -1, -1, -1, 1, 1, 1, -1, 1, 1, 1, 0.03, 7, 0, 0, 0, 0, 8, 3, 23.0, 3, 0, 18, 32, 0, -1], [1, 1, 1, 1, 1, 1, 0, 1, 1, -1, 1, 1, 0, -1, 0, 1, -1, -1, 1, -1, -1, -1, 1, 1, 1, -1, 1, 1, 1, 0.03, 7, 0, 0, 0, 0, 17, 3, 31.0, 0, 0, 25, 37, 0, -1], [1, 1, 1, 1, 1, -1, -1, 1, 1, -1, 1, 1, -1, -1, 1, 1, -1, -1, 1, -1, -1, -1, 1, 1, 1, -1, 1, 1, 1, 0.26, 9, 0, 0, 0, 0, 10, 3, 31.0, 14, 0, 13, 53, 1, -1], [1, 1, 1, 1, 1, -1, -1, 1, 1, -1, 1, 1, -1, -1, 1, 1, -1, -1, 1, -1, -1, -1, 1, 1, 1, -1, 1, 1, 1, 0.25, 9, 0, 0, 0, 0, 10, 3, 30.0, 14, 0, 13, 52, 1, -1], [1, 1, 1, 1, 1, -1, 0, 1, 1, -1, 1, 1, -1, -1, 1, 1, -1, -1, 1, -1, -1, -1, 1, 1, 1, -1, 1, 1, 1, 0.02, 9, 0, 0, 0, 0, 9, 4, 33.0, 0, 0, 27, 41, 2, -1], [1, 0, 1, 1, 1, 1, 0, 1, 1, -1, 1, 1, -1, -1, 1, 1, -1, -1, 1, -1, -1, -1, 1, 1, 1, -1, 1, -1, 1, 0.63, 7, 0, 0, 0, 0, 9, 1, 39.0, 0, 0, 15, 67, 0, -1], [1, 1, 1, 1, 1, -1, 0, -1, -1, 1, 1, 1, 0, -1, 1, 1, -1, -1, 1, -1, -1, -1, 1, -1, -1, -1, 1, 1, 1, 0.03, 9, 0, 0, 0, 0, 9, 2, 27.0, 0, 0, 22, 35, 2, -1], [1, 1, 1, 1, 1, 1, -1, -1, 1, -1, 1, 1, -1, -1, -1, -1, -1, -1, -1, -1, -1, -1, -1, 1, 1, -1, 1, -1, 1, 0.03, 9, 0, 0, 0, 0, 7, 3, 19.0, 12, 0, 13, 39, 0, -1], [1, 1, 1, 1, 1, 1, 1, 1, 1, -1, 1, 1, -1, -1, 1, 1, -1, -1, 1, -1, -1, -1, 1, -1, -1, -1, 1, 0, 1, 0.05, 6, 0, 0, 0, 0, 6, 3, 15.0, 0, 0, 9, 20, 0, -1], [1, 1, 1, 1, 1, -1, -1, -1, 1, -1, 1, 1, 0, -1, 0, 1, -1, -1, 1, -1, -1, -1, 1, -1, -1, -1, 1, 1, 1, 0.02, 11, 0, 0, 0, 0, 9, 2, 33.0, 5, 0, 28, 48, 2, -1], [1, 0, 1, 1, 1, 1, -1, 1, 1, -1, 1, 1, 0, -1, 1, 1, -1, -1, 0, -1, -1, -1, 1, 1, 1, -1, 1, 1, 1, 0.54, 9, 0, 0, 0, 0, 10, 2, 2.875, 0, 0, 22, 74, 0, -1], [1, 1, 1, 1, 1, -1, 1, 1, 1, -1, 1, 1, 0, -1, 0, 1, -1, -1, 1, -1, -1, -1, -1, -1, -1, -1, 1, 1, 1, 0.15, 8, 0, 0, 0, 0, 10, 2, 34.0, 0, 0, 23, 41, 2, -1], [1, 0, 1, 1, 1, 1, -1, -1, 1, -1, 1, 1, 0, -1, 1, 1, -1, -1, 0, -1, -1, -1, 1, 1, 1, -1, 1, 1, 1, 0.55, 9, 0, 0, 0, 0, 10, 1, 4.364, 0, 0, 22, 73, 0, -1], [1, 0, 1, 1, 1, 1, -1, -1, 1, -1, 1, 1, 0, -1, 1, 1, -1, -1, 0, -1, -1, -1, 1, 1, 1, -1, 1, 1, 1, 0.55, 9, 0, 0, 0, 0, 12, 1, 2.1, 0, 0, 22, 73, 0, -1], [1, 0, 1, 1, 1, 1, -1, -1, 1, -1, 1, 1, 0, -1, 1, 1, -1, -1, 0, -1, -1, -1, 1, 1, 1, -1, 1, 1, 1, 0.55, 9, 0, 0, 0, 0, 13, 1, 4.083, 0, 0, 22, 73, 0, -1], [1, 0, 1, 1, 1, 1, -1, 1, 1, -1, 1, 1, 0, -1, 1, 1, -1, -1, 0, -1, -1, -1, 1, 1, 1, -1, 1, 1, 1, 0.54, 9, 0, 0, 0, 0, 12, 1, 3.067, 0, 0, 22, 74, 0, -1], [1, 0, 1, 1, 1, 1, -1, -1, 1, -1, 1, 1, 0, -1, 1, 1, -1, -1, 0, -1, -1, -1, 1, 1, 1, -1, 1, 1, 1, 0.55, 9, 0, 0, 0, 0, 12, 1, 2.625, 0, 0, 22, 73, 0, -1], [1, 1, 1, 1, 1, 1, 0, -1, 1, -1, 1, 1, 0, -1, 0, 1, -1, -1, 1, -1, -1, -1, -1, 1, 1, -1, 1, 1, 1, 0.04, 7, 0, 0, 0, 0, 4, 1, 15.0, 4, 0, 10, 25, 0, -1], [1, 0, 1, 1, 1, 1, -1, 1, 1, -1, 1, 1, 0, -1, 1, 1, -1, -1, 0, -1, -1, -1, 1, 1, 1, -1, 1, 1, 1, 0.54, 9, 0, 0, 0, 0, 10, 1, 3.538, 0, 0, 22, 74, 0, -1], [1, 0, 1, 1, 1, 1, -1, -1, 1, -1, 1, 1, 0, -1, 1, 1, -1, -1, 0, -1, -1, -1, 1, 1, 1, -1, 1, 1, 1, 0.55, 9, 0, 0, 0, 0, 10, 2, 4.083, 0, 0, 22, 73, 0, -1], [1, 0, 1, 1, 1, 1, -1, -1, 1, -1, 1, 1, 0, -1, 1, 1, -1, -1, 0, -1, -1, -1, 1, 1, 1, -1, 1, 1, 1, 0.55, 9, 0, 0, 0, 0, 10, 1, 2.562, 0, 0, 22, 73, 0, -1], [1, -1, -1, 1, 1, 1, 0, -1, 1, -1, 1, 1, 0, -1, 1, 1, -1, -1, 0, -1, -1, -1, 1, -1, -1, -1, 1, 1, 1, 0.53, 8, 0, 0, 0, 0, 19, 2, 4.333, 0, 0, 26, 76, 0, -1], [1, -1, -1, 1, 1, 1, 0, -1, 1, -1, 1, 1, 0, -1, 1, 1, -1, -1, 0, -1, -1, -1, 1, -1, -1, -1, 1, 1, 1, 0.53, 8, 0, 0, 0, 0, 19, 1, 4.333, 0, 0, 26, 76, 0, -1], [1, 0, 1, 1, 1, 1, 0, 1, 1, 1, 1, 1, 0, -1, -1, 1, -1, -1, 1, -1, -1, -1, 1, 1, 1, -1, 1, 1, 1, 0.6, 11, 0, 0, 0, 0, 6, 1, 39.0, 0, 0, 14, 62, 0, -1], [1, 1, 1, 1, 1, -1, 0, -1, -1, -1, 1, 1, 0, -1, 1, 1, -1, -1, 1, -1, -1, -1, 1, -1, -1, -1, 1, 0, 1, 0.02, 9, 0, 0, 0, 0, 15, 2, 41.0, 0, 0, 36, 49, 2, -1], [1, -1, 1, 1, 1, 1, 0, 1, 1, -1, 1, 1, 0, -1, 0, 1, -1, -1, 1, -1, -1, -1, 1, 1, 1, -1, 1, 1, 1, 0.58, 10, 0, 0, 1, 1, 14, 2, 3.056, 0, 0, 6, 90, 0, -1], [1, 0, 1, 1, 1, 1, -1, -1, 1, -1, 1, 1, 0, -1, 1, 1, -1, -1, 0, -1, -1, -1, 1, 1, 1, -1, 1, 1, 1, 0.55, 9, 0, 0, 0, 0, 10, 1, 3.538, 0, 0, 22, 73, 0, -1], [1, 0, 1, 1, 1, 1, -1, 1, 1, -1, 1, 1, 0, -1, 1, 1, -1, -1, 0, -1, -1, -1, 1, 1, 1, -1, 1, 1, 1, 0.54, 9, 0, 0, 0, 0, 10, 1, 2.75, 0, 0, 22, 74, 0, -1], [1, 0, 1, 1, 1, 1, -1, -1, 1, -1, 1, 1, 0, -1, 1, 1, -1, -1, 0, -1, -1, -1, 1, 1, 1, -1, 1, 1, 1, 0.55, 9, 0, 0, 0, 0, 10, 1, 2.75, 0, 0, 22, 73, 0, -1], [1, 1, 1, 1, 1, 1, 1, 1, 1, -1, 1, 1, 0, -1, 0, 1, -1, -1, 1, -1, -1, -1, 1, -1, -1, -1, 1, 0, 1, 0.03, 6, 0, 0, 0, 0, 15, 3, 24.0, 0, 0, 18, 29, 0, -1], [1, 1, 1, 1, 1, -1, 1, -1, 1, -1, 1, 1, -1, -1, -1, -1, -1, -1, -1, -1, -1, -1, -1, -1, -1, -1, 1, -1, 1, 0.03, 7, 0, 0, 0, 0, 11, 3, 24.0, 0, 0, 18, 30, 1, -1], [1, 0, 1, 1, 1, 1, -1, -1, 1, -1, 1, 1, 0, -1, 1, 1, -1, -1, 0, -1, -1, -1, 1, 1, 1, -1, 1, 1, 1, 0.55, 9, 0, 0, 0, 0, 18, 1, 3.615, 0, 0, 22, 73, 0, -1], [1, 0, 1, 1, 1, 1, -1, 1, 1, -1, 1, 1, 0, -1, 1, 1, -1, -1, 0, -1, -1, -1, 1, 1, 1, -1, 1, 1, 1, 0.54, 9, 0, 0, 0, 0, 14, 2, 3.267, 0, 0, 22, 74, 0, -1], [1, 0, 1, 1, 1, 1, -1, -1, 1, -1, 1, 1, 0, -1, 1, 1, -1, -1, 0, -1, -1, -1, 1, 1, 1, -1, 1, 1, 1, 0.55, 9, 0, 0, 0, 0, 11, 1, 3.615, 0, 0, 22, 73, 0, -1], [1, 0, 1, 1, 1, 1, -1, 1, 1, -1, 1, 1, 0, -1, 1, 1, -1, -1, 0, -1, -1, -1, 1, 1, 1, -1, 1, 1, 1, 0.54, 9, 0, 0, 0, 0, 10, 1, 2.158, 0, 0, 22, 74, 0, -1], [1, 0, 1, 1, 1, 1, -1, 1, 1, -1, 1, 1, 0, -1, 1, 1, -1, -1, 0, -1, -1, -1, 1, 1, 1, -1, 1, 1, 1, 0.54, 9, 0, 0, 0, 0, 12, 2, 7.857, 0, 0, 22, 74, 0, -1], [1, 0, 1, 1, 1, 1, -1, -1, 1, -1, 1, 1, 0, -1, 1, 1, -1, -1, 0, -1, -1, -1, 1, 1, 1, -1, 1, 1, 1, 0.55, 9, 0, 0, 0, 0, 16, 1, 2.588, 0, 0, 22, 73, 0, -1], [1, 1, 1, 1, 1, -1, 0, -1, 1, -1, 1, 1, 0, -1, 0, 1, -1, -1, 1, -1, -1, -1, 1, 1, 1, -1, 1, 1, 1, 0.03, 8, 0, 0, 0, 0, 10, 3, 21.0, 6, 0, 16, 34, 1, -1], [1, 0, 1, 1, 1, 1, -1, -1, 1, -1, 1, 1, 0, -1, 1, 1, -1, -1, 0, -1, -1, -1, 1, 1, 1, -1, 1, 1, 1, 0.55, 9, 0, 0, 0, 0, 31, 2, 3.333, 0, 0, 22, 73, 0, -1], [1, 1, 1, 1, 1, -1, 0, -1, 1, -1, 1, 1, 0, -1, 0, 1, -1, -1, 1, -1, -1, -1, 1, 1, 1, -1, 1, 0, 1, 0.03, 8, 0, 0, 0, 0, 10, 3, 22.0, 6, 0, 16, 35, 1, -1], [1, 1, 1, 1, 1, 1, 1, 1, 1, -1, 1, 1, 0, -1, 0, 1, -1, -1, 1, -1, -1, -1, 1, -1, -1, -1, 1, 1, 1, 0.05, 6, 0, 0, 0, 0, 5, 3, 14.0, 0, 0, 8, 19, 0, -1], [1, 1, 1, 1, 1, -1, 1, -1, 1, 1, 1, 1, 0, -1, -1, 1, -1, -1, 1, -1, -1, -1, 1, -1, -1, -1, 1, -1, 1, 0.03, 7, 0, 0, 0, 0, 11, 3, 27.0, 0, 0, 21, 33, 1, -1], [1, 0, 1, 1, 1, 1, -1, -1, 1, -1, 1, 1, 0, -1, 1, 1, -1, -1, 0, -1, -1, -1, 1, 1, 1, -1, 1, 1, 1, 0.55, 9, 0, 0, 0, 0, 11, 1, 4.083, 0, 0, 22, 73, 0, -1], [1, 0, 1, 1, 1, 1, -1, -1, 1, -1, 1, 1, 0, -1, 1, 1, -1, -1, 0, -1, -1, -1, 1, 1, 1, -1, 1, 1, 1, 0.55, 9, 0, 0, 0, 0, 10, 1, 2.812, 0, 0, 22, 73, 0, -1], [1, 0, 1, 1, 1, 1, -1, -1, 1, -1, 1, 1, 0, -1, 1, 1, -1, -1, 0, -1, -1, -1, 1, 1, 1, -1, 1, 1, 1, 0.55, 9, 0, 0, 0, 0, 12, 2, 3.429, 0, 0, 22, 73, 0, -1], [1, 0, 1, 1, 1, 1, -1, 1, 1, -1, 1, 1, 0, -1, 1, 1, -1, -1, 0, -1, -1, -1, 1, 1, 1, -1, 1, 1, 1, 0.54, 9, 0, 0, 0, 0, 12, 2, 2.706, 0, 0, 22, 74, 0, -1], [1, 0, -1, 1, 1, 1, 1, 1, 1, -1, 1, 1, 0, -1, 1, 1, -1, -1, 0, -1, -1, -1, 1, -1, -1, -1, 1, 1, 1, 0.56, 7, 0, 0, 0, 0, 19, 2, 4.0, 0, 0, 22, 72, 0, -1], [1, 0, -1, 1, 1, 1, 1, -1, 1, -1, 1, 1, 0, -1, 1, 1, -1, -1, 0, -1, -1, -1, 1, -1, -1, -1, 1, 1, 1, 0.56, 7, 0, 0, 0, 0, 19, 1, 3.0, 0, 0, 22, 71, 0, -1], [1, 0, 1, 1, 1, 1, -1, -1, 1, -1, 1, 1, 0, -1, 1, 1, -1, -1, 0, -1, -1, -1, 1, 1, 1, -1, 1, 1, 1, 0.55, 9, 0, 0, 0, 0, 15, 1, 2.867, 0, 0, 22, 73, 0, -1], [1, 0, 1, 1, 1, 1, -1, -1, 1, -1, 1, 1, 0, -1, 1, 1, -1, -1, 0, -1, -1, -1, 1, 1, 1, -1, 1, 1, 1, 0.55, 9, 0, 0, 0, 0, 10, 1, 3.286, 0, 0, 22, 73, 0, -1], [1, 0, -1, 1, 1, 1, 1, -1, 1, -1, 1, 1, 0, -1, 1, 1, -1, -1, 0, -1, -1, -1, 1, -1, -1, -1, 1, 1, 1, 0.56, 7, 0, 0, 0, 0, 19, 1, 3.75, 0, 0, 22, 71, 0, -1], [1, 0, 1, 1, 1, 1, -1, -1, 1, -1, 1, 1, 0, -1, 1, 1, -1, -1, 0, -1, -1, -1, 1, 1, 1, -1, 1, 1, 1, 0.55, 9, 0, 0, 0, 0, 13, 1, 3.429, 0, 0, 22, 73, 0, -1], [1, 0, 1, 1, 1, 1, -1, -1, -1, -1, 1, 1, 0, -1, 1, 1, -1, -1, 0, -1, -1, -1, 1, -1, -1, -1, 1, 1, 1, 0.55, 9, 0, 0, 0, 0, 11, 1, 4.0, 0, 0, 22, 73, 0, -1], [1, 0, 1, 1, 1, 1, -1, -1, 1, -1, 1, 1, 0, -1, 1, 1, -1, -1, 0, -1, -1, -1, 1, 1, 1, -1, 1, 1, 1, 0.55, 9, 0, 0, 0, 0, 14, 1, 2.0, 0, 0, 22, 73, 0, -1], [1, 0, 1, 1, 1, 1, -1, -1, 1, -1, 1, 1, 0, -1, 1, 1, -1, -1, 0, -1, -1, -1, 1, 1, 1, -1, 1, 1, 1, 0.55, 9, 0, 0, 0, 0, 17, 2, 2.444, 0, 0, 22, 73, 0, -1], [1, -1, -1, 1, 1, 1, 0, -1, 1, -1, 1, 1, 0, -1, 1, 1, -1, -1, 0, -1, -1, -1, 1, -1, -1, -1, 1, 1, 1, 0.53, 8, 0, 0, 0, 0, 19, 2, 4.636, 0, 0, 26, 76, 0, -1], [1, 0, 1, 1, 1, -1, -1, -1, -1, -1, 1, 1, -1, -1, -1, -1, -1, -1, -1, -1, -1, -1, -1, -1, -1, -1, 1, -1, 1, 0.28, 14, 0, 0, 0, 0, 11, 4, 40.0, 11, 0, 23, 69, 4, -1], [1, -1, -1, 1, 1, 1, 0, -1, 1, -1, 1, 1, 0, -1, 1, 1, -1, -1, 0, -1, -1, -1, 1, -1, -1, -1, 1, 1, 1, 0.53, 8, 0, 0, 0, 0, 19, 1, 4.25, 0, 0, 26, 76, 0, -1], [1, -1, -1, 1, 1, 1, 0, -1, 1, -1, 1, 1, 0, -1, 1, 1, -1, -1, 0, -1, -1, -1, 1, -1, -1, -1, 1, 1, 1, 0.53, 8, 0, 0, 0, 0, 21, 3, 3.857, 0, 0, 26, 76, 0, -1], [1, -1, -1, 1, 1, 1, 0, -1, 1, -1, 1, 1, 0, -1, 1, 1, -1, -1, 0, -1, -1, -1, 1, -1, -1, -1, 1, 1, 1, 0.53, 8, 0, 0, 0, 0, 19, 1, 3.571, 0, 0, 26, 76, 0, -1], [1, -1, -1, 1, 1, 1, 0, 1, 1, -1, 1, 1, 0, -1, 1, 1, -1, -1, 0, -1, -1, -1, 1, -1, -1, -1, 1, 1, 1, 0.52, 8, 0, 0, 0, 0, 19, 2, 3.267, 0, 0, 26, 77, 0, -1], [1, -1, -1, 1, 1, 1, 0, -1, 1, -1, 1, 1, 0, -1, 1, 1, -1, -1, 0, -1, -1, -1, 1, -1, -1, -1, 1, 1, 1, 0.53, 8, 0, 0, 0, 0, 19, 1, 5.5, 0, 0, 26, 76, 0, -1], [1, -1, -1, 1, 1, 1, 0, -1, 1, -1, 1, 1, 0, -1, 1, 1, -1, -1, 0, -1, -1, -1, 1, -1, -1, -1, 1, 1, 1, 0.53, 8, 0, 0, 0, 0, 19, 1, 4.0, 0, 0, 26, 76, 0, -1], [1, -1, -1, 1, 1, 1, 0, -1, 1, -1, 1, 1, 0, -1, 1, 1, -1, -1, 0, -1, -1, -1, 1, -1, -1, -1, 1, 1, 1, 0.53, 8, 0, 0, 0, 0, 19, 2, 4.0, 0, 0, 26, 76, 0, -1], [1, -1, -1, 1, 1, 1, 0, -1, 1, -1, 1, 1, 0, -1, 1, 1, -1, -1, 0, -1, -1, -1, 1, -1, -1, -1, 1, 1, 1, 0.53, 8, 0, 0, 0, 0, 19, 2, 2.316, 0, 0, 26, 76, 0, -1], [1, -1, -1, 1, 1, 1, 0, -1, 1, -1, 1, 1, 0, -1, 1, 1, -1, -1, 0, -1, -1, -1, 1, -1, -1, -1, 1, 1, 1, 0.53, 8, 0, 0, 0, 0, 19, 3, 2.579, 0, 0, 26, 76, 0, -1], [1, -1, -1, 1, 1, 1, 0, -1, 1, -1, 1, 1, 0, -1, 1, 1, -1, -1, 0, -1, -1, -1, 1, -1, -1, -1, 1, 1, 1, 0.53, 8, 0, 0, 0, 0, 19, 2, 3.571, 0, 0, 26, 76, 0, -1], [1, -1, -1, 1, 1, 1, 0, -1, 1, -1, 1, 1, 0, -1, 1, 1, -1, -1, 0, -1, -1, -1, 1, -1, -1, -1, 1, 1, 1, 0.53, 8, 0, 0, 0, 0, 19, 1, 2.3, 0, 0, 26, 76, 0, -1], [1, -1, -1, 1, 1, 1, 0, -1, 1, -1, 1, 1, 0, -1, 1, 1, -1, -1, 0, -1, -1, -1, 1, -1, -1, -1, 1, 1, 1, 0.53, 8, 0, 0, 0, 0, 19, 2, 4.25, 0, 0, 26, 76, 0, -1], [1, -1, -1, 1, 1, 1, 0, -1, 1, -1, 1, 1, 0, -1, 1, 1, -1, -1, 0, -1, -1, -1, 1, -1, -1, -1, 1, 1, 1, 0.53, 8, 0, 0, 0, 0, 19, 1, 2.938, 0, 0, 26, 76, 0, -1], [1, -1, -1, 1, 1, 1, 0, -1, 1, -1, 1, 1, 0, -1, 1, 1, -1, -1, 0, -1, -1, -1, 1, -1, -1, -1, 1, 1, 1, 0.53, 8, 0, 0, 0, 0, 19, 2, 4.333, 0, 0, 26, 76, 0, -1], [1, -1, 1, 1, 1, -1, -1, 1, 1, -1, 1, 1, 0, -1, 0, 1, -1, -1, 1, -1, -1, -1, 1, 1, 1, -1, 1, 1, 1, 0.68, 20, 0, 0, 0, 0, 13, 1, 134.0, 1, 0, 36, 159, 2, -1], [1, 1, 1, 1, 1, 1, 1, 1, 1, -1, 1, 1, 0, -1, 0, 1, -1, -1, 1, -1, -1, -1, 1, -1, -1, -1, 1, 1, 1, 0.05, 6, 0, 0, 0, 0, 6, 3, 15.0, 0, 0, 9, 20, 0, -1], [1, 0, -1, 1, 1, 1, 1, -1, 1, -1, 1, 1, 0, -1, 1, 1, -1, -1, 0, -1, -1, -1, 1, -1, -1, -1, 1, 1, 1, 0.56, 7, 0, 0, 0, 0, 19, 1, 2.812, 0, 0, 22, 71, 0, -1], [1, 0, -1, 1, 1, 1, 1, -1, 1, -1, 1, 1, 0, -1, 1, 1, -1, -1, 0, -1, -1, -1, 1, -1, -1, -1, 1, 1, 1, 0.56, 7, 0, 0, 0, 0, 19, 2, 2.688, 0, 0, 22, 71, 0, -1], [1, 0, -1, 1, 1, 1, 1, -1, 1, -1, 1, 1, 0, -1, 1, 1, -1, -1, 0, -1, -1, -1, 1, -1, -1, -1, 1, 1, 1, 0.56, 7, 0, 0, 0, 0, 19, 2, 2.812, 0, 0, 22, 71, 0, -1], [1, 0, -1, 1, 1, 1, 1, -1, 1, -1, 1, 1, 0, -1, 1, 1, -1, -1, 0, -1, -1, -1, 1, -1, -1, -1, 1, 1, 1, 0.56, 7, 0, 0, 0, 0, 19, 2, 2.647, 0, 0, 22, 71, 0, -1], [1, 0, -1, 1, 1, 1, 1, -1, 1, -1, 1, 1, 0, -1, 1, 1, -1, -1, 0, -1, -1, -1, 1, -1, -1, -1, 1, 1, 1, 0.56, 7, 0, 0, 0, 0, 19, 2, 2.389, 0, 0, 22, 71, 0, -1], [1, -1, -1, 1, 1, 1, 0, -1, 1, -1, 1, 1, 0, -1, 1, 1, -1, -1, 0, -1, -1, -1, 1, -1, -1, -1, 1, 1, 1, 0.53, 8, 0, 0, 0, 0, 19, 3, 5.6, 0, 0, 26, 76, 0, -1], [1, -1, -1, 1, 1, 1, 0, 1, 1, -1, 1, 1, 0, -1, 1, 1, -1, -1, 0, -1, -1, -1, 1, -1, -1, -1, 1, 1, 1, 0.52, 8, 0, 0, 0, 0, 19, 1, 4.5, 0, 0, 26, 77, 0, -1], [1, -1, -1, 1, 1, 1, 0, -1, 1, -1, 1, 1, 0, -1, 1, 1, -1, -1, 0, -1, -1, -1, 1, -1, -1, -1, 1, 1, 1, 0.53, 8, 0, 0, 0, 0, 19, 2, 3.429, 0, 0, 26, 76, 0, -1], [1, -1, -1, 1, 1, 1, 0, 1, 1, -1, 1, 1, 0, -1, 1, 1, -1, -1, 0, -1, -1, -1, 1, -1, -1, -1, 1, 1, 1, 0.52, 8, 0, 0, 0, 0, 19, 2, 3.188, 0, 0, 26, 77, 0, -1], [1, -1, -1, 1, 1, 1, 0, 1, 1, -1, 1, 1, 0, -1, 1, 1, -1, -1, 0, -1, -1, -1, 1, -1, -1, -1, 1, 1, 1, 0.52, 8, 0, 0, 0, 0, 19, 1, 3.133, 0, 0, 26, 77, 0, -1], [1, -1, -1, 1, 1, 1, 0, -1, 1, -1, 1, 1, 0, -1, 1, 1, -1, -1, 0, -1, -1, -1, 1, -1, -1, -1, 1, 1, 1, 0.53, 8, 0, 0, 0, 0, 19, 3, 3.2, 0, 0, 26, 76, 0, -1], [1, 1, 1, 1, 1, 1, 0, -1, 1, -1, 1, 1, -1, -1, 1, 1, -1, -1, 1, -1, -1, -1, 1, 1, 1, -1, 1, -1, 1, 0.14, 8, 0, 0, 0, 0, 17, 1, 44.0, 0, 0, 33, 51, 0, -1], [1, 1, 1, 1, 1, -1, 0, -1, 1, -1, 1, 1, 0, -1, 0, 1, -1, -1, 1, -1, -1, -1, 1, 1, 1, -1, 1, 0, 1, 0.03, 8, 0, 0, 0, 0, 10, 3, 21.0, 6, 0, 16, 34, 1, -1], [1, 0, 1, 1, 1, -1, 0, 1, 1, -1, 1, 1, 0, -1, 1, 1, -1, -1, 1, -1, -1, -1, 1, 1, 1, -1, 1, 1, 1, 0.02, 13, 0, 0, 0, 0, 10, 1, 35.0, 9, 0, 29, 56, 6, -1], [1, 0, 1, 1, 1, -1, 0, 1, 1, -1, 1, 1, 0, -1, 1, 1, -1, -1, 1, -1, -1, -1, 1, 1, 1, -1, 1, 1, 1, 0.02, 13, 0, 0, 0, 0, 10, 1, 35.0, 9, 0, 29, 56, 6, -1], [1, 0, -1, 1, 1, 1, 1, -1, 1, -1, 1, 1, 0, -1, 1, 1, -1, -1, 0, -1, -1, -1, 1, -1, -1, -1, 1, 1, 1, 0.56, 7, 0, 0, 0, 0, 19, 3, 3.429, 0, 0, 22, 71, 0, -1], [1, 0, 1, 1, 1, -1, 0, 1, 1, -1, 1, 1, 0, -1, 1, 1, -1, -1, 1, -1, -1, -1, 1, 1, 1, -1, 1, 1, 1, 0.02, 13, 0, 0, 0, 0, 10, 1, 33.0, 11, 0, 27, 56, 6, -1], [1, 1, 1, 1, 1, -1, 0, 1, -1, -1, 1, 1, 0, -1, 0, 1, -1, -1, 1, -1, -1, -1, 1, -1, -1, -1, 1, 0, 1, 0.03, 8, 0, 0, 0, 0, 6, 4, 22.0, 6, 0, 16, 35, 1, -1], [1, -1, 1, 1, 1, -1, -1, 1, 1, -1, 1, 1, -1, -1, 1, 1, -1, -1, 1, -1, -1, -1, 1, -1, -1, -1, 1, 0, 1, 0.3, 14, 0, 0, 1, 1, 10, 2, 13.75, 0, 0, 31, 80, 1, -1], [1, 0, 1, 1, 1, -1, 0, 1, 1, -1, 1, 1, -1, -1, 1, 1, -1, -1, 1, -1, -1, -1, 1, -1, -1, -1, 1, 0, 1, 0.4, 12, 0, 0, 1, 1, 8, 2, 9.25, 0, 0, 13, 60, 1, -1], [1, 0, 1, 1, 1, -1, 0, 1, 1, -1, 1, 1, 0, -1, 1, 1, -1, -1, 1, -1, -1, -1, 1, 1, 1, -1, 1, 1, 1, 0.02, 13, 0, 0, 0, 0, 10, 1, 34.0, 10, 0, 28, 56, 6, -1], [1, 1, 1, 1, 1, -1, -1, -1, 1, -1, 1, 1, -1, -1, -1, -1, -1, -1, -1, -1, -1, -1, -1, 1, 1, -1, 1, -1, 1, 0.27, 12, 0, 0, 0, 0, 5, 3, 40.0, 0, 0, 23, 51, 1, -1], [1, 0, -1, 1, 1, 1, 1, 1, 1, -1, 1, 1, 0, -1, 1, 1, -1, -1, 0, -1, -1, -1, 1, -1, -1, -1, 1, 1, 1, 0.56, 7, 0, 0, 0, 0, 19, 1, 3.2, 0, 0, 22, 72, 0, -1], [1, 1, 1, 1, 1, 1, 0, -1, 1, -1, 1, 1, -1, -1, -1, -1, -1, -1, -1, -1, -1, -1, -1, 1, 1, -1, 1, -1, 1, 0.02, 7, 0, 0, 0, 0, 22, 3, 37.0, 0, 0, 31, 43, 0, -1], [1, 0, -1, 1, 1, 1, 1, 1, 1, -1, 1, 1, 0, -1, 1, 1, -1, -1, 0, -1, -1, -1, 1, -1, -1, -1, 1, 1, 1, 0.56, 7, 0, 0, 0, 0, 19, 1, 2.875, 0, 0, 22, 72, 0, -1], [1, 1, 1, 1, 1, 1, -1, -1, -1, -1, 1, 1, -1, -1, -1, -1, -1, -1, -1, -1, -1, -1, -1, -1, -1, -1, 1, -1, 1, 0.29, 8, 0, 0, 0, 0, 8, 2, 28.0, 0, 0, 14, 35, 0, -1], [1, 1, 1, 1, 1, 1, 0, -1, -1, -1, 1, 1, -1, -1, -1, -1, -1, -1, -1, -1, -1, -1, -1, -1, -1, -1, 1, -1, 1, 0.04, 7, 0, 0, 0, 0, 8, 2, 20.0, 0, 0, 14, 26, 0, -1], [1, -1, 1, 1, 1, 1, -1, -1, -1, -1, 1, 1, -1, -1, -1, -1, -1, -1, -1, -1, -1, -1, -1, -1, -1, -1, 1, -1, 1, 0.06, 10, 0, 0, 1, 1, 22, 1, 1.286, 0, 0, 14, 170, 0, -1], [1, 1, 1, 1, 1, 1, 1, -1, 1, -1, 1, 1, 0, -1, 0, 1, -1, -1, 1, -1, -1, -1, -1, 1, 1, -1, 1, 1, 1, 0.05, 6, 0, 0, 0, 0, 4, 1, 12.0, 4, 0, 7, 21, 0, -1], [1, 1, 1, 1, 1, -1, 0, -1, 1, -1, 1, 1, -1, -1, 1, 1, -1, -1, 1, -1, -1, -1, 1, 1, 1, -1, 1, 0, 1, 0.03, 8, 0, 0, 0, 0, 11, 3, 27.0, 0, 0, 22, 34, 1, -1], [1, 0, 1, 1, 1, 1, -1, -1, 1, -1, 1, 1, 0, -1, 1, 1, -1, -1, 0, -1, -1, -1, 1, 1, 1, -1, 1, 1, 1, 0.55, 9, 0, 0, 0, 0, 10, 1, 1.95, 0, 0, 22, 73, 0, -1], [1, 1, 1, 1, 1, 1, 0, -1, 1, -1, 1, 1, 0, -1, 0, 1, -1, -1, 1, -1, -1, -1, 1, 1, 1, -1, 1, 0, 1, 0.03, 7, 0, 0, 0, 0, 14, 3, 33.0, 0, 0, 28, 39, 0, -1], [1, 0, 1, 1, 1, -1, 0, 1, 1, -1, 1, 1, 0, -1, 1, 1, -1, -1, 1, -1, -1, -1, 1, 1, 1, -1, 1, 1, 1, 0.02, 13, 0, 0, 0, 0, 10, 1, 33.0, 11, 0, 27, 56, 6, -1], [1, 0, 1, 1, 1, -1, 0, 1, 1, -1, 1, 1, 0, -1, 1, 1, -1, -1, 1, -1, -1, -1, 1, 1, 1, -1, 1, 1, 1, 0.02, 13, 0, 0, 0, 0, 10, 1, 34.0, 10, 0, 28, 56, 6, -1], [1, 0, 1, 1, 1, -1, 0, 1, 1, -1, 1, 1, 0, -1, 1, 1, -1, -1, 1, -1, -1, -1, 1, 1, 1, -1, 1, 1, 1, 0.02, 13, 0, 0, 0, 0, 10, 1, 34.0, 10, 0, 28, 56, 6, -1], [1, 1, 1, 1, 1, 1, 1, -1, 1, -1, 1, 1, -1, -1, -1, -1, -1, -1, -1, -1, -1, -1, -1, -1, -1, -1, 1, -1, 1, 0.04, 6, 0, 0, 0, 0, 9, 3, 18.0, 0, 0, 12, 23, 0, -1], [1, 0, 1, 1, 1, -1, 0, 1, 1, -1, 1, 1, -1, -1, 1, 1, -1, -1, 1, -1, -1, -1, 1, -1, -1, -1, 1, 0, 1, 0.38, 12, 0, 0, 1, 1, 12, 2, 10.5, 0, 0, 18, 64, 1, -1], [1, 0, -1, 1, 1, 1, 1, 1, 1, -1, 1, 1, 0, -1, 1, 1, -1, -1, 0, -1, -1, -1, 1, -1, -1, -1, 1, 1, 1, 0.56, 7, 0, 0, 0, 0, 19, 1, 2.733, 0, 0, 22, 72, 0, -1], [1, -1, -1, 1, 1, 1, 0, -1, 1, -1, 1, 1, 0, -1, 1, 1, -1, -1, 0, -1, -1, -1, 1, -1, -1, -1, 1, 1, 1, 0.53, 8, 0, 0, 0, 0, 19, 1, 4.545, 0, 0, 26, 76, 0, -1], [1, 0, -1, 1, 1, 1, 1, -1, 1, -1, 1, 1, 0, -1, 1, 1, -1, -1, 0, -1, -1, -1, 1, -1, -1, -1, 1, 1, 1, 0.56, 7, 0, 0, 0, 0, 19, 1, 2.867, 0, 0, 22, 71, 0, -1], [1, 0, -1, 1, 1, 1, 1, 1, 1, -1, 1, 1, 0, -1, 1, 1, -1, -1, 0, -1, -1, -1, 1, -1, -1, -1, 1, 1, 1, 0.56, 7, 0, 0, 0, 0, 19, 1, 2.812, 0, 0, 22, 72, 0, -1], [1, 0, -1, 1, 1, 1, 1, -1, 1, -1, 1, 1, 0, -1, 1, 1, -1, -1, 0, -1, -1, -1, 1, -1, -1, -1, 1, 1, 1, 0.56, 7, 0, 0, 0, 0, 19, 3, 3.5, 0, 0, 22, 71, 0, -1], [1, 0, -1, 1, 1, 1, 1, -1, 1, -1, 1, 1, 0, -1, 1, 1, -1, -1, 0, -1, -1, -1, 1, -1, -1, -1, 1, 1, 1, 0.56, 7, 0, 0, 0, 0, 19, 1, 2.263, 0, 0, 22, 71, 0, -1], [1, 0, 1, 1, 1, 1, -1, -1, 1, -1, 1, 1, 0, -1, 1, 1, -1, -1, 0, -1, -1, -1, 1, 1, 1, -1, 1, 1, 1, 0.55, 9, 0, 0, 0, 0, 10, 2, 2.588, 0, 0, 22, 73, 0, -1], [1, 0, 1, 1, 1, 1, -1, -1, 1, -1, 1, 1, 0, -1, 1, 1, -1, -1, 0, -1, -1, -1, 1, 1, 1, -1, 1, 1, 1, 0.55, 9, 0, 0, 0, 0, 12, 1, 5.1, 0, 0, 22, 73, 0, -1], [1, -1, -1, 1, 1, 1, 0, -1, 1, -1, 1, 1, 0, -1, 1, 1, -1, -1, 0, -1, -1, -1, 1, -1, -1, -1, 1, 1, 1, 0.53, 8, 0, 0, 0, 0, 19, 1, 3.267, 0, 0, 26, 76, 0, -1], [1, -1, -1, 1, 1, 1, 0, -1, 1, -1, 1, 1, 0, -1, 1, 1, -1, -1, 0, -1, -1, -1, 1, -1, -1, -1, 1, 1, 1, 0.53, 8, 0, 0, 0, 0, 19, 2, 7.857, 0, 0, 26, 76, 0, -1], [1, -1, -1, 1, 1, 1, 0, -1, 1, -1, 1, 1, 0, -1, 1, 1, -1, -1, 0, -1, -1, -1, 1, -1, -1, -1, 1, 1, 1, 0.53, 8, 0, 0, 0, 0, 19, 1, 3.769, 0, 0, 26, 76, 0, -1], [1, 1, 1, 1, 1, -1, 0, -1, 1, -1, 1, 1, 0, -1, 1, 1, -1, -1, 1, -1, -1, -1, 1, 1, 1, -1, 1, 1, 1, 0.02, 8, 0, 0, 0, 0, 13, 2, 35.0, 0, 0, 30, 42, 1, -1], [1, -1, 1, 1, 1, -1, 0, -1, 1, -1, 1, 1, -1, -1, -1, -1, -1, -1, -1, -1, -1, -1, -1, 1, 1, -1, 1, -1, 1, 0.66, 16, 0, 0, 0, 0, 9, 2, 28.5, 0, 0, 15, 80, 1, -1], [1, 0, -1, 1, 1, 1, 1, -1, 1, -1, 1, 1, 0, -1, 1, 1, -1, -1, 0, -1, -1, -1, 1, -1, -1, -1, 1, 1, 1, 0.56, 7, 0, 0, 0, 0, 19, 1, 3.429, 0, 0, 22, 71, 0, -1], [1, 0, -1, 1, 1, 1, 1, -1, 1, -1, 1, 1, 0, -1, 1, 1, -1, -1, 0, -1, -1, -1, 1, -1, -1, -1, 1, 1, 1, 0.56, 7, 0, 0, 0, 0, 19, 2, 2.938, 0, 0, 22, 71, 0, -1], [1, 0, -1, 1, 1, 1, 1, -1, 1, -1, 1, 1, 0, -1, 1, 1, -1, -1, 0, -1, -1, -1, 1, -1, -1, -1, 1, 1, 1, 0.56, 7, 0, 0, 0, 0, 19, 1, 3.214, 0, 0, 22, 71, 0, -1], [1, 0, 1, 1, 1, 1, -1, 1, 1, -1, 1, 1, 0, -1, 1, 1, -1, -1, 0, -1, -1, -1, 1, 1, 1, -1, 1, 1, 1, 0.54, 9, 0, 0, 0, 0, 11, 2, 3.267, 0, 0, 22, 74, 0, -1], [1, 1, 1, 1, 1, -1, 1, -1, 1, -1, 1, 1, -1, -1, -1, -1, -1, -1, -1, -1, -1, -1, -1, -1, -1, -1, 1, -1, 1, 0.03, 9, 0, 0, 0, 0, 14, 1, 29.0, 2, 0, 23, 39, 3, -1], [1, 1, 1, 1, 1, 1, 0, 1, 1, -1, 1, 1, 0, -1, 0, 1, -1, -1, 1, -1, -1, -1, 1, -1, -1, -1, 1, 1, 1, 0.03, 7, 0, 0, 0, 0, 17, 3, 29.0, 0, 0, 23, 35, 0, -1], [1, 1, 1, 1, 1, 1, -1, 1, 1, -1, 1, 1, 0, -1, 0, 1, -1, -1, 1, -1, -1, -1, 1, -1, -1, -1, 1, 1, 1, 0.23, 8, 0, 0, 0, 0, 17, 3, 36.0, 0, 0, 23, 44, 0, -1], [1, 1, 1, 1, 1, -1, 0, 1, -1, -1, 1, 1, -1, -1, 0, 1, -1, -1, 1, -1, -1, -1, 1, -1, -1, -1, 1, 1, 1, 0.03, 9, 0, 0, 0, 0, 6, 1, 27.0, 2, 0, 21, 37, 2, -1], [1, 1, 1, 1, 1, 1, 1, 1, 1, -1, 1, 1, 0, -1, 0, 1, -1, -1, 1, -1, -1, -1, 1, -1, -1, -1, 1, 1, 1, 0.04, 6, 0, 0, 0, 0, 10, 3, 19.0, 0, 0, 13, 24, 0, -1], [1, 0, 1, 1, 1, 1, -1, -1, 1, -1, 1, 1, 0, -1, 1, 1, -1, -1, 0, -1, -1, -1, 1, 1, 1, -1, 1, 1, 1, 0.55, 9, 0, 0, 0, 0, 10, 1, 3.462, 0, 0, 22, 73, 0, -1], [1, 0, -1, 1, 1, 1, 1, 1, 1, -1, 1, 1, 0, -1, 1, 1, -1, -1, 0, -1, -1, -1, 1, -1, -1, -1, 1, 1, 1, 0.56, 7, 0, 0, 0, 0, 31, 3, 2.882, 0, 0, 22, 72, 0, -1], [1, 0, -1, 1, 1, 1, 1, -1, 1, -1, 1, 1, 0, -1, 1, 1, -1, -1, 0, -1, -1, -1, 1, -1, -1, -1, 1, 1, 1, 0.56, 7, 0, 0, 0, 0, 22, 2, 3.571, 0, 0, 22, 71, 0, -1], [1, 0, -1, 1, 1, 1, 1, -1, 1, -1, 1, 1, 0, -1, 1, 1, -1, -1, 0, -1, -1, -1, 1, -1, -1, -1, 1, 1, 1, 0.56, 7, 0, 0, 0, 0, 19, 1, 5.2, 0, 0, 22, 71, 0, -1], [1, 1, 1, 1, 1, -1, 0, 1, -1, -1, 1, 1, -1, -1, 1, 1, -1, -1, 1, -1, -1, -1, 1, -1, -1, -1, 1, 0, 1, 0.02, 9, 0, 0, 0, 0, 8, 3, 24.0, 16, 0, 18, 48, 2, -1], [1, 1, 1, 1, 1, -1, 0, 1, -1, -1, 1, 1, -1, -1, 1, 1, -1, -1, 1, -1, -1, -1, 1, -1, -1, -1, 1, 0, 1, 0.02, 9, 0, 0, 0, 0, 8, 3, 24.0, 16, 0, 18, 48, 2, -1], [1, 0, 1, 1, 1, -1, 0, 1, 1, -1, 1, 1, 0, -1, 1, 1, -1, -1, 1, -1, -1, -1, 1, 1, 1, -1, 1, 1, 1, 0.02, 13, 0, 0, 0, 0, 10, 1, 34.0, 10, 0, 28, 56, 6, -1], [1, 0, 1, 1, 1, -1, -1, 1, -1, 1, 1, 1, 0, -1, -1, 1, -1, -1, 1, -1, -1, -1, 1, -1, -1, -1, 1, -1, 1, 0.37, 11, 0, 0, 0, 0, 8, 3, 47.0, 2, 0, 23, 59, 1, -1], [1, 0, -1, 1, 1, 1, 1, 1, 1, -1, 1, 1, 0, -1, 1, 1, -1, -1, 0, -1, -1, -1, 1, -1, -1, -1, 1, 1, 1, 0.56, 7, 0, 0, 0, 0, 19, 1, 2.75, 0, 0, 22, 72, 0, -1], [1, 0, -1, 1, 1, 1, 1, 1, 1, -1, 1, 1, 0, -1, 1, 1, -1, -1, 0, -1, -1, -1, 1, -1, -1, -1, 1, 1, 1, 0.56, 7, 0, 0, 0, 0, 19, 1, 2.444, 0, 0, 22, 72, 0, -1], [1, 0, -1, 1, 1, 1, 1, -1, 1, -1, 1, 1, 0, -1, 1, 1, -1, -1, 0, -1, -1, -1, 1, -1, -1, -1, 1, 1, 1, 0.56, 7, 0, 0, 0, 0, 19, 1, 4.0, 0, 0, 22, 71, 0, -1], [1, 0, -1, 1, 1, 1, 1, 1, 1, -1, 1, 1, 0, -1, 1, 1, -1, -1, 0, -1, -1, -1, 1, -1, -1, -1, 1, 1, 1, 0.56, 7, 0, 0, 0, 0, 19, 3, 3.5, 0, 0, 22, 72, 0, -1], [1, 0, -1, 1, 1, 1, 1, -1, 1, -1, 1, 1, 0, -1, 1, 1, -1, -1, 0, -1, -1, -1, 1, -1, -1, -1, 1, 1, 1, 0.56, 7, 0, 0, 0, 0, 20, 3, 3.333, 0, 0, 22, 71, 0, -1], [1, 0, -1, 1, 1, 1, 1, 1, 1, -1, 1, 1, 0, -1, 1, 1, -1, -1, 0, -1, -1, -1, 1, -1, -1, -1, 1, 1, 1, 0.56, 7, 0, 0, 0, 0, 19, 2, 2.588, 0, 0, 22, 72, 0, -1], [1, 0, -1, 1, 1, 1, 1, -1, 1, -1, 1, 1, 0, -1, 1, 1, -1, -1, 0, -1, -1, -1, 1, -1, -1, -1, 1, 1, 1, 0.56, 7, 0, 0, 0, 0, 19, 3, 2.875, 0, 0, 22, 71, 0, -1], [1, 0, -1, 1, 1, 1, 1, -1, 1, -1, 1, 1, 0, -1, 1, 1, -1, -1, 0, -1, -1, -1, 1, -1, -1, -1, 1, 1, 1, 0.56, 7, 0, 0, 0, 0, 19, 1, 2.812, 0, 0, 22, 71, 0, -1], [1, 0, -1, 1, 1, 1, 1, -1, 1, -1, 1, 1, 0, -1, 1, 1, -1, -1, 0, -1, -1, -1, 1, -1, -1, -1, 1, 1, 1, 0.56, 7, 0, 0, 0, 0, 19, 1, 2.444, 0, 0, 22, 71, 0, -1], [1, 1, 1, 1, 1, 1, 0, -1, -1, 1, 1, 1, -1, -1, 0, 1, -1, -1, 1, -1, -1, -1, 1, -1, -1, -1, 1, -1, 1, 0.03, 7, 0, 0, 0, 0, 10, 3, 25.0, 0, 0, 20, 31, 0, -1], [1, 1, 1, 1, 1, -1, 0, -1, 1, -1, 1, 1, 0, -1, 0, 1, -1, -1, 1, -1, -1, -1, 1, 1, 1, -1, 1, 1, 1, 0.03, 8, 0, 0, 0, 0, 10, 3, 21.0, 6, 0, 16, 34, 1, -1], [1, 1, -1, 1, 1, 1, 0, -1, 1, -1, 1, 1, 0, -1, 0, 1, -1, -1, 1, -1, -1, -1, 1, 1, 1, -1, 1, 1, 1, 0.03, 7, 0, 0, 0, 0, 15, 3, 32.0, 0, 0, 27, 38, 0, -1], [1, 1, 1, 1, 1, 1, 0, -1, -1, -1, 1, 1, 0, -1, 1, 1, -1, -1, 1, -1, -1, -1, 1, -1, -1, -1, 1, 1, 1, 0.04, 7, 0, 0, 0, 0, 6, 3, 17.0, 2, 0, 12, 25, 0, -1], [1, 1, -1, 1, 1, 1, 0, 1, 1, -1, 1, 1, -1, -1, -1, -1, -1, -1, -1, -1, -1, -1, -1, 1, 1, -1, 1, -1, 1, 0.3, 7, 0, 0, 0, 0, 7, 2, 21.0, 0, 0, 9, 27, 0, -1], [1, -1, 1, 1, 1, 1, -1, -1, 1, -1, 1, 1, 0, -1, 0, 1, -1, -1, 1, -1, -1, -1, 1, 1, 1, -1, 1, 1, 1, 0.01, 8, 0, 0, 0, 0, 11, 2, 64.0, 12, 0, 59, 83, 0, -1], [1, -1, -1, 1, 1, 1, 0, 1, 1, -1, 1, 1, 0, -1, 1, 1, -1, -1, 0, -1, -1, -1, 1, -1, -1, -1, 1, 1, 1, 0.52, 8, 0, 0, 0, 0, 19, 1, 3.188, 0, 0, 26, 77, 0, -1], [1, 1, 1, 1, 1, 1, 0, 1, -1, -1, 1, 1, 0, -1, 0, 1, -1, -1, 1, -1, -1, -1, 1, -1, -1, -1, 1, 1, 1, 0.5, 8, 0, 0, 0, 0, 5, 2, 5.0, 0, 0, 5, 30, 0, -1], [1, 0, 1, 1, 1, 1, 1, 1, -1, -1, 1, 1, 0, -1, 0, 1, -1, -1, 1, -1, -1, -1, 1, -1, -1, -1, 1, 1, 1, 0.49, 7, 0, 0, 0, 0, 17, 2, 51.0, 0, 0, 19, 57, 0, -1], [1, -1, 1, 1, 1, 1, 0, -1, 1, -1, 1, 1, -1, -1, -1, -1, -1, -1, -1, -1, -1, -1, -1, -1, -1, -1, 1, -1, 1, 0.68, 15, 0, 0, 0, 0, 13, 1, 60.0, 0, 0, 19, 91, 0, -1], [1, 0, 1, 1, 1, -1, 0, -1, -1, 1, 1, 1, 0, -1, 0, 1, -1, -1, 1, -1, -1, -1, 1, -1, -1, -1, 1, 1, 1, 0.02, 10, 0, 0, 0, 0, 12, 3, 44.0, 2, 0, 39, 55, 3, -1], [1, 1, 1, 1, 1, 1, 1, -1, -1, -1, 1, 1, 0, -1, 0, 1, -1, -1, 1, -1, -1, -1, 1, -1, -1, -1, 1, 1, 1, 0.05, 6, 1, 0, 0, 0, 5, 4, 14.0, 2, 0, 9, 21, 0, -1], [1, 1, 1, 1, 1, 1, 1, 1, 1, -1, 1, 1, 0, -1, 0, 1, -1, -1, 1, -1, -1, -1, -1, -1, -1, -1, 1, 1, 1, 0.03, 6, 0, 0, 0, 0, 16, 3, 25.0, 0, 0, 19, 30, 0, -1], [1, 1, 1, 1, 1, 1, 1, -1, 1, -1, 1, 1, -1, -1, -1, -1, -1, -1, -1, -1, -1, -1, -1, -1, -1, -1, 1, -1, 1, 0.06, 6, 0, 0, 0, 0, 5, 3, 13.0, 0, 0, 8, 18, 0, -1], [1, 1, 1, 1, 1, 1, 0, -1, -1, 1, 1, 1, -1, -1, 0, 1, -1, -1, 1, -1, -1, -1, 1, -1, -1, -1, 1, -1, 1, 0.03, 7, 0, 0, 0, 0, 10, 3, 25.0, 0, 0, 20, 31, 0, -1], [1, -1, 1, 1, 1, 1, -1, -1, 1, -1, 1, 1, 0, -1, 0, 1, -1, -1, 1, -1, -1, -1, 1, 1, 1, -1, 1, 1, 1, 0.01, 8, 0, 0, 0, 0, 10, 1, 63.0, 13, 0, 58, 83, 0, -1], [1, 0, 1, 1, 1, 1, 1, 1, 1, -1, 1, 1, 0, -1, 0, 1, -1, -1, 1, -1, -1, -1, 1, 1, 1, -1, 1, 1, 1, 0.41, 8, 0, 0, 0, 0, 21, 3, 25.0, 0, 0, 24, 58, 0, -1], [1, 1, 1, 1, 1, 1, 0, -1, -1, -1, 1, 1, 0, -1, 1, 1, -1, -1, 1, -1, -1, -1, 1, -1, -1, -1, 1, 1, 1, 0.03, 7, 0, 0, 0, 0, 11, 3, 24.0, 0, 0, 19, 30, 0, -1], [1, -1, -1, 1, 1, 1, 1, -1, 1, -1, 1, 1, 0, -1, 0, 1, -1, -1, 1, -1, -1, -1, 1, 1, 1, -1, 1, 1, 1, 0.61, 13, 0, 0, 0, 0, 22, 1, 7.25, 0, 0, 25, 88, 0, -1], [1, -1, 1, 1, 1, 1, 1, 1, 1, -1, 1, 1, 0, -1, 0, 1, -1, -1, 1, -1, -1, -1, 1, -1, -1, -1, 1, 1, 1, 0.72, 12, 0, 0, 0, 0, 15, 3, 4.357, 0, 0, 15, 88, 0, -1], [1, -1, 1, 1, 1, 1, -1, -1, -1, -1, 1, 1, -1, -1, -1, -1, -1, -1, -1, -1, -1, -1, -1, -1, -1, -1, 1, -1, 1, 0.2, 16, 0, 0, 1, 1, 11, 1, 67.0, 0, 0, 16, 96, 0, -1], [1, -1, 1, 1, 1, 1, -1, -1, -1, -1, 1, 1, -1, -1, -1, -1, -1, -1, -1, -1, -1, -1, -1, -1, -1, -1, 1, -1, 1, 0.17, 20, 0, 0, 1, 1, 11, 1, 13.6, 0, 0, 16, 115, 0, -1], [1, -1, 1, 1, 1, 1, -1, -1, -1, -1, 1, 1, -1, -1, -1, -1, -1, -1, -1, -1, -1, -1, -1, -1, -1, -1, 1, -1, 1, 0.2, 16, 0, 0, 1, 1, 11, 1, 65.0, 0, 0, 16, 96, 0, -1], [1, 1, 1, 1, 1, -1, -1, -1, 1, -1, 1, 1, 0, -1, 0, 1, -1, -1, 1, -1, -1, -1, 1, 1, 1, -1, 1, 1, 1, 0.02, 11, 0, 0, 0, 0, 9, 2, 39.0, 0, 0, 34, 49, 2, -1], [1, -1, 1, 1, 1, 1, 0, 1, 1, -1, 1, 1, 0, -1, 0, 1, -1, -1, 1, -1, -1, -1, 1, 1, 1, -1, 1, 1, 1, 0.42, 20, 0, 0, 1, 1, 11, 1, 2.636, 0, 0, 6, 124, 0, -1], [1, -1, -1, 1, 1, 1, 0, -1, 1, -1, 1, 1, 0, -1, 1, 1, -1, -1, 0, -1, -1, -1, 1, -1, -1, -1, 1, 1, 1, 0.53, 8, 0, 0, 0, 0, 19, 2, 2.875, 0, 0, 26, 76, 0, -1], [1, -1, 1, 1, 1, 1, -1, -1, 1, -1, 1, 1, 0, -1, 0, 1, -1, -1, 1, -1, -1, -1, 1, 1, 1, -1, 1, 1, 1, 0.01, 8, 0, 0, 0, 0, 9, 1, 65.0, 11, 0, 60, 83, 0, -1], [1, -1, 1, 1, 1, 1, -1, -1, 1, -1, 1, 1, 0, -1, 0, 1, -1, -1, 1, -1, -1, -1, 1, 1, 1, -1, 1, 1, 1, 0.76, 21, 0, 0, 0, 0, 21, 1, 118.0, 0, 0, 24, 138, 0, -1], [1, 1, 1, 1, 1, 1, 0, 1, 1, -1, 1, 1, 0, -1, 0, 1, -1, -1, 1, -1, -1, -1, 1, 1, 1, -1, 1, 1, 1, 0.04, 7, 0, 0, 0, 0, 7, 3, 19.0, 0, 0, 13, 25, 0, -1], [1, 1, 1, 1, 1, 1, 0, -1, -1, 1, 1, 1, -1, -1, 0, 1, -1, -1, 1, -1, -1, -1, 1, -1, -1, -1, 1, -1, 1, 0.03, 7, 0, 0, 0, 0, 10, 3, 25.0, 0, 0, 20, 31, 0, -1], [1, 1, -1, 1, 1, -1, 0, -1, 1, -1, 1, 1, 0, -1, -1, 1, -1, -1, 1, -1, -1, -1, 1, 1, 1, -1, 1, 1, 1, 0.02, 9, 0, 0, 0, 0, 14, 3, 37.0, 2, 0, 32, 47, 2, -1], [1, 1, 1, 1, 1, -1, 1, 1, 1, -1, 1, 1, 0, -1, 0, 1, -1, -1, 1, -1, -1, -1, 1, -1, -1, -1, 1, 1, 1, 0.04, 7, 0, 0, 0, 0, 7, 2, 18.0, 0, 0, 12, 24, 1, -1], [1, -1, -1, 1, 1, 1, 0, 1, 1, -1, 1, 1, -1, -1, 0, 1, -1, -1, 1, -1, -1, -1, 1, 1, 1, -1, 1, 0, 1, 0.18, 25, 0, 0, 1, 1, 38, 1, 0.829, 0, 0, 16, 664, 0, -1], [1, 1, 1, 1, 1, 1, 0, -1, -1, -1, 1, 1, -1, -1, 0, 1, -1, -1, 1, -1, -1, -1, 1, -1, -1, -1, 1, -1, 1, 0.03, 7, 0, 0, 0, 0, 14, 2, 27.0, 0, 0, 22, 33, 0, -1], [1, 1, 1, 1, 1, 1, 0, -1, 1, -1, 1, 1, -1, -1, 1, 1, -1, -1, 1, -1, -1, -1, 1, 1, 1, -1, 1, 0, 1, 0.02, 7, 0, 0, 0, 0, 22, 3, 39.0, 0, 0, 34, 45, 0, -1], [1, 1, 1, 1, 1, 1, 0, -1, -1, 1, 1, 1, -1, -1, 0, 1, -1, -1, 1, -1, -1, -1, 1, -1, -1, -1, 1, -1, 1, 0.03, 7, 0, 0, 0, 0, 10, 3, 25.0, 0, 0, 20, 31, 0, -1], [1, 1, 1, 1, 1, 1, 1, 1, 1, -1, 1, 1, 0, -1, 0, 1, -1, -1, 1, -1, -1, -1, 1, -1, -1, -1, 1, 1, 1, 0.49, 7, 0, 0, 0, 0, 14, 2, 29.0, 0, 0, 16, 51, 0, -1], [1, 1, 1, 1, 1, 1, 0, -1, -1, 1, 1, 1, -1, -1, 0, 1, -1, -1, 1, -1, -1, -1, 1, -1, -1, -1, 1, -1, 1, 0.03, 7, 0, 0, 0, 0, 10, 3, 25.0, 0, 0, 20, 31, 0, -1], [1, -1, 1, 1, 1, 1, 0, -1, 1, -1, 1, 1, -1, -1, -1, -1, -1, -1, -1, -1, -1, -1, -1, 1, 1, -1, 1, -1, 1, 0.2, 16, 0, 0, 1, 1, 15, 1, 64.0, 0, 0, 18, 97, 0, -1], [1, -1, -1, 1, 1, 1, 0, 1, 1, -1, 1, 1, 0, -1, 1, 1, -1, -1, 0, -1, -1, -1, 1, -1, -1, -1, 1, 1, 1, 0.52, 8, 0, 0, 0, 0, 19, 2, 3.125, 0, 0, 26, 77, 0, -1], [1, 1, 1, 1, 1, -1, -1, -1, -1, -1, 1, 1, 0, -1, 0, 1, -1, -1, 1, -1, -1, -1, 1, -1, -1, -1, 1, 1, 1, 0.02, 10, 0, 0, 0, 0, 7, 3, 24.0, 12, 0, 19, 45, 2, -1], [1, 0, 1, 1, 1, 1, 0, 1, 1, -1, 1, 1, 0, -1, -1, 0, -1, -1, 0, -1, -1, -1, 1, 1, 1, -1, 1, 1, 1, 0.49, 8, 0, 0, 0, 0, 21, 1, 45.0, 0, 0, 27, 74, 0, -1], [1, 1, 1, 1, 1, 1, -1, 1, -1, -1, 1, 1, 0, -1, 0, 1, -1, -1, 1, -1, -1, -1, 1, -1, -1, -1, 1, 1, 1, 0.23, 9, 0, 0, 0, 0, 8, 2, 32.0, 0, 0, 19, 40, 0, -1], [1, 1, 1, 1, 1, 1, -1, 1, 1, -1, 1, 1, 0, -1, 0, 1, -1, -1, 1, -1, -1, -1, 1, 1, 1, -1, 1, 1, 1, 0.27, 8, 0, 0, 0, 0, 7, 3, 26.0, 0, 0, 13, 33, 0, -1], [1, 1, 1, 1, 1, 1, 0, 1, -1, -1, 1, 1, 0, -1, 0, 1, -1, -1, 1, -1, -1, -1, 1, -1, -1, -1, 1, 1, 1, 0.03, 7, 0, 0, 0, 0, 15, 3, 31.0, 0, 0, 25, 37, 0, -1], [1, 0, 1, 1, 1, -1, -1, 1, -1, -1, 1, 1, 0, -1, 1, 1, -1, -1, 1, -1, -1, -1, 1, -1, -1, -1, 1, 0, 1, 0.16, 9, 0, 0, 0, 0, 19, 2, 49.0, 0, 0, 36, 57, 1, -1], [1, 1, 1, 1, 1, 1, -1, 1, 1, 1, 1, 1, 0, -1, 0, 1, -1, -1, 1, -1, -1, -1, 1, 1, 1, -1, 1, 1, 1, 0.02, 8, 0, 0, 0, 0, 12, 2, 31.0, 5, 0, 25, 43, 0, -1], [1, 1, 1, 1, 1, -1, 0, 1, 1, -1, 1, 1, 0, -1, 0, 1, -1, -1, 1, -1, -1, -1, 1, 1, 1, -1, 1, 0, 1, 0.03, 8, 0, 0, 0, 0, 10, 3, 22.0, 6, 0, 16, 35, 1, -1], [1, 1, 1, 1, 1, -1, 0, -1, 1, -1, 1, 1, 0, -1, 0, 1, -1, -1, 1, -1, -1, -1, 1, 1, 1, -1, 1, 0, 1, 0.03, 9, 0, 0, 0, 0, 10, 3, 27.0, 5, 0, 22, 40, 2, -1], [1, 1, 1, 1, 1, 1, 0, -1, -1, -1, 1, 1, 0, -1, 0, 1, -1, -1, 1, -1, -1, -1, 1, -1, -1, -1, 1, 0, 1, 0.03, 7, 0, 0, 0, 0, 6, 2, 21.0, 2, 0, 16, 29, 0, -1], [1, 1, 1, 1, 1, -1, 0, 1, 1, -1, 1, 1, 0, -1, 0, 1, -1, -1, 1, -1, -1, -1, 1, 1, 1, -1, 1, 0, 1, 0.02, 9, 0, 0, 0, 0, 10, 3, 28.0, 6, 0, 22, 42, 2, -1], [1, 1, 1, 1, 1, -1, 0, 1, -1, -1, 1, 1, 0, -1, 0, 1, -1, -1, 1, -1, -1, -1, 1, -1, -1, -1, 1, 0, 1, 0.03, 8, 0, 0, 0, 0, 6, 4, 22.0, 6, 0, 16, 35, 1, -1], [1, 1, 1, 1, 1, 1, 0, 1, 1, -1, 1, 1, 0, -1, 0, 1, -1, -1, 1, -1, -1, -1, 1, 1, 1, -1, 1, 0, 1, 0.04, 7, 0, 0, 0, 0, 7, 3, 20.0, 2, 0, 14, 28, 0, -1], [1, 0, 1, 1, 1, 1, 0, 1, 1, 1, 1, 1, 0, -1, -1, 1, -1, -1, 1, -1, -1, -1, 1, 1, 1, -1, 1, 1, 1, 0.6, 11, 0, 0, 0, 0, 6, 1, 30.0, 0, 0, 14, 62, 0, -1], [1, 1, 1, 1, 1, -1, 1, -1, -1, -1, 1, 1, -1, -1, -1, -1, -1, -1, -1, -1, -1, -1, -1, -1, -1, -1, 1, -1, 1, 0.19, 8, 0, 0, 0, 0, 9, 2, 30.0, 0, 0, 18, 37, 2, -1], [1, 1, 1, 1, 1, 1, 0, -1, 1, -1, 1, 1, 0, -1, 0, 1, -1, -1, 1, -1, -1, -1, 1, 1, 1, -1, 1, 1, 1, 0.04, 7, 0, 0, 0, 0, 10, 2, 20.0, 0, 0, 15, 26, 0, -1], [1, 1, 1, 1, 1, 1, 0, -1, -1, -1, 1, 1, -1, -1, -1, -1, -1, -1, -1, -1, -1, -1, -1, -1, -1, -1, 1, -1, 1, 0.51, 9, 0, 0, 0, 0, 10, 3, 20.0, 0, 0, 14, 49, 0, -1], [1, 0, 1, 1, 1, 1, 1, 1, 1, -1, 1, 1, 0, -1, 0, 1, -1, -1, 1, -1, -1, -1, 1, -1, -1, -1, 1, 1, 1, 0.48, 7, 0, 0, 0, 0, 16, 3, 33.0, 0, 0, 19, 56, 0, -1], [1, 1, 1, 1, 1, 1, 0, -1, -1, -1, 1, 1, -1, -1, -1, -1, -1, -1, -1, -1, -1, -1, -1, -1, -1, -1, 1, -1, 1, 0.03, 7, 0, 0, 0, 0, 12, 2, 24.0, 0, 0, 18, 30, 0, -1], [1, 1, 1, 1, 1, 1, 1, -1, 1, -1, 1, 1, 0, -1, 0, 1, -1, -1, 1, -1, -1, -1, 1, 1, 1, -1, 1, 1, 1, 0.04, 6, 0, 0, 0, 0, 10, 3, 18.0, 0, 0, 13, 23, 0, -1], [1, 1, 1, 1, 1, -1, -1, -1, -1, -1, 1, 1, -1, -1, -1, -1, -1, -1, -1, -1, -1, -1, -1, -1, -1, -1, 1, -1, 1, 0.12, 10, 0, 0, 0, 0, 6, 3, 39.0, 0, 0, 28, 48, 2, -1], [1, 1, 1, 1, 1, 1, 1, -1, 1, -1, 1, 1, 0, -1, 0, 1, -1, -1, 1, -1, -1, -1, 1, 1, 1, -1, 1, 1, 1, 0.03, 6, 0, 0, 0, 0, 16, 3, 24.0, 0, 0, 19, 29, 0, -1], [1, 1, 1, 1, 1, -1, 0, -1, -1, -1, 1, 1, -1, -1, -1, -1, -1, -1, -1, -1, -1, -1, -1, -1, -1, -1, 1, -1, 1, 0.02, 11, 0, 0, 0, 0, 11, 1, 33.0, 2, 0, 27, 45, 4, -1], [1, 1, 1, 1, 1, -1, -1, -1, 1, -1, 1, 1, 0, -1, 0, 1, -1, -1, 1, -1, -1, -1, 1, -1, -1, -1, 1, 1, 1, 0.02, 11, 0, 0, 0, 0, 9, 2, 32.0, 5, 0, 27, 47, 2, -1], [1, 1, 1, 1, 1, 1, 1, -1, 1, -1, 1, 1, 0, -1, 0, 1, -1, -1, 1, -1, -1, -1, -1, 1, 1, -1, 1, 1, 1, 0.11, 6, 0, 0, 0, 0, 12, 2, 22.0, 0, 0, 15, 27, 0, -1], [1, 1, 1, 1, 1, 1, 1, -1, 1, -1, 1, 1, 0, -1, 0, 1, -1, -1, 1, -1, -1, -1, 1, 1, 1, -1, 1, 1, 1, 0.05, 6, 0, 0, 0, 0, 9, 2, 16.0, 0, 0, 11, 21, 0, -1], [1, -1, 1, 1, 1, 1, 0, 1, 1, -1, 1, 1, 0, -1, 0, 1, -1, -1, 1, -1, -1, -1, 1, 1, 1, -1, 1, 1, 1, 0.69, 9, 0, 0, 0, 0, 12, 2, 2.2, 0, 0, 13, 77, 0, -1], [1, 1, 1, 1, 1, 1, -1, 1, 1, 1, 1, 1, 0, -1, 0, 1, -1, -1, 1, -1, -1, -1, 1, 1, 1, -1, 1, 1, 1, 0.02, 8, 0, 0, 0, 0, 12, 2, 31.0, 6, 0, 25, 44, 0, -1], [1, 1, 1, 1, 1, -1, 0, 1, 1, -1, 1, 1, 0, -1, 0, 1, -1, -1, 1, -1, -1, -1, 1, 1, 1, -1, 1, 0, 1, 0.02, 8, 0, 0, 0, 0, 19, 3, 41.0, 0, 0, 35, 48, 1, -1], [1, 1, 1, 1, 1, -1, 0, -1, 1, -1, 1, 1, 0, -1, 0, 1, -1, -1, 1, -1, -1, -1, 1, 1, 1, -1, 1, 1, 1, 0.03, 8, 0, 0, 0, 0, 11, 2, 29.0, 0, 0, 24, 36, 1, -1], [1, 1, 1, 1, 1, 1, -1, -1, -1, -1, 1, 1, 0, -1, 0, 1, -1, -1, 1, -1, -1, -1, 1, -1, -1, -1, 1, 1, 1, 0.05, 8, 0, 0, 0, 0, 4, 4, 5.0, 9, 0, 0, 21, 0, -1], [1, 1, 1, 1, 1, 1, 0, -1, 1, -1, 1, 1, 0, -1, 1, 1, -1, -1, 1, -1, -1, -1, 1, 1, 1, -1, 1, 1, 1, 0.03, 7, 0, 0, 0, 0, 12, 3, 32.0, 0, 0, 27, 38, 0, -1], [1, 1, 1, 1, 1, 1, 1, -1, 1, -1, 1, 1, 0, -1, 0, 1, -1, -1, 1, -1, -1, -1, -1, 1, 1, -1, 1, 1, 1, 0.05, 6, 0, 0, 0, 0, 4, 3, 11.0, 4, 0, 6, 20, 0, -1], [1, 1, 1, 1, 1, -1, 0, 1, 1, -1, 1, 1, 0, -1, 0, 1, -1, -1, 1, -1, -1, -1, 1, 1, 1, -1, 1, 0, 1, 0.03, 8, 0, 0, 0, 0, 10, 3, 29.0, 3, 0, 23, 39, 1, -1], [1, 1, 1, 1, 1, -1, 0, -1, -1, -1, 1, 1, 0, -1, 1, 1, -1, -1, 1, -1, -1, -1, 1, -1, -1, -1, 1, 1, 1, 0.03, 9, 0, 0, 0, 0, 6, 3, 25.0, 2, 0, 20, 35, 2, -1], [1, -1, 1, 1, 1, 1, -1, 1, 1, -1, 1, 1, 0, -1, 0, 1, -1, -1, 1, -1, -1, -1, 1, 1, 1, -1, 1, 1, 1, 0.01, 8, 0, 0, 0, 0, 13, 2, 69.0, 8, 0, 63, 84, 0, -1], [1, -1, 1, 1, 1, -1, -1, 1, 1, -1, 1, 1, 0, -1, 0, 1, -1, -1, 1, -1, -1, -1, 1, 1, 1, -1, 1, 1, 1, 0.71, 11, 0, 0, 0, 0, 14, 1, 80.0, 0, 0, 18, 105, 1, -1], [1, 1, 1, 1, 1, 1, 0, 1, -1, -1, 1, 1, 0, -1, 0, 1, -1, -1, 1, -1, -1, -1, 1, -1, -1, -1, 1, 0, 1, 0.04, 7, 0, 0, 0, 0, 6, 4, 21.0, 0, 0, 15, 27, 0, -1], [1, 1, 1, 1, 1, 1, -1, 1, 1, 1, 1, 1, 0, -1, 0, 1, -1, -1, 1, -1, -1, -1, 1, 1, 1, -1, 1, 1, 1, 0.02, 8, 0, 0, 0, 0, 12, 2, 31.0, 6, 0, 25, 44, 0, -1], [1, 1, 1, 1, 1, -1, 0, 1, 1, -1, 1, 1, 0, -1, 0, 1, -1, -1, 1, -1, -1, -1, 1, 1, 1, -1, 1, 1, 1, 0.02, 9, 0, 0, 0, 0, 12, 1, 37.0, 2, 0, 31, 47, 2, -1], [1, 1, 1, 1, 1, 1, 0, 1, 1, -1, 1, 1, 0, -1, 0, 1, -1, -1, 1, -1, -1, -1, 1, 1, 1, -1, 1, 0, 1, 0.04, 7, 0, 0, 0, 0, 7, 2, 20.0, 2, 0, 14, 28, 0, -1], [1, 1, 1, 1, 1, -1, -1, -1, 1, -1, 1, 1, 0, -1, 0, 1, -1, -1, 1, -1, -1, -1, 1, -1, -1, -1, 1, 1, 1, 0.02, 11, 0, 0, 0, 0, 10, 2, 41.0, 0, 0, 36, 51, 2, -1], [1, 0, 1, 1, 1, 1, -1, -1, 1, -1, 1, 1, 0, -1, 1, 1, -1, -1, 0, -1, -1, -1, 1, 1, 1, -1, 1, 1, 1, 0.55, 9, 0, 0, 0, 0, 14, 1, 2.812, 0, 0, 22, 73, 0, -1], [1, 0, 1, 1, 1, -1, -1, -1, -1, -1, 1, 1, -1, -1, -1, -1, -1, -1, -1, -1, -1, -1, -1, -1, -1, -1, 1, -1, 1, 0.19, 13, 0, 0, 0, 0, 14, 3, 51.0, 12, 0, 33, 75, 3, -1], [1, 1, 1, 1, 1, 1, 0, -1, -1, -1, 1, 1, -1, -1, 0, 1, -1, -1, 1, -1, -1, -1, 1, -1, -1, -1, 1, -1, 1, 0.23, 8, 0, 0, 0, 0, 12, 2, 15.5, 0, 0, 20, 39, 0, -1], [1, 0, 1, 1, 1, -1, -1, -1, -1, -1, 1, 1, -1, -1, -1, -1, -1, -1, -1, -1, -1, -1, -1, -1, -1, -1, 1, -1, 1, 0.14, 13, 0, 0, 0, 0, 14, 3, 47.0, 12, 0, 33, 71, 3, -1], [1, -1, 1, 1, 1, 1, 0, 1, 1, -1, 1, 1, 0, -1, 0, 1, -1, -1, 1, -1, -1, -1, 1, 1, 1, -1, 1, 1, 1, 0.16, 14, 0, 0, 1, 1, 21, 1, 2.205, 0, 0, 24, 167, 0, -1], [1, 0, 1, 1, 1, 1, -1, 1, 1, -1, 1, 1, 0, -1, 1, 1, -1, -1, 0, -1, -1, -1, 1, 1, 1, -1, 1, 1, 1, 0.54, 9, 0, 0, 0, 0, 21, 2, 2.143, 0, 0, 22, 74, 0, -1], [1, 0, 1, 1, 1, 1, -1, -1, 1, -1, 1, 1, 0, -1, 1, 1, -1, -1, 0, -1, -1, -1, 1, 1, 1, -1, 1, 1, 1, 0.55, 9, 0, 0, 0, 0, 29, 2, 2.421, 0, 0, 22, 73, 0, -1], [1, 0, 1, 1, 1, 1, -1, -1, 1, -1, 1, 1, 0, -1, 1, 1, -1, -1, 0, -1, -1, -1, 1, 1, 1, -1, 1, 1, 1, 0.55, 9, 0, 0, 0, 0, 21, 2, 2.611, 0, 0, 22, 73, 0, -1], [1, 0, 1, 1, 1, 1, -1, -1, 1, -1, 1, 1, 0, -1, 1, 1, -1, -1, 0, -1, -1, -1, 1, 1, 1, -1, 1, 1, 1, 0.55, 9, 0, 0, 0, 0, 13, 1, 3.917, 0, 0, 22, 73, 0, -1], [1, 0, 1, 1, 1, 1, -1, -1, 1, -1, 1, 1, 0, -1, 1, 1, -1, -1, 0, -1, -1, -1, 1, 1, 1, -1, 1, 1, 1, 0.55, 9, 0, 0, 0, 0, 10, 1, 3.615, 0, 0, 22, 73, 0, -1], [1, 0, 1, 1, 1, 1, -1, -1, 1, -1, 1, 1, 0, -1, 1, 1, -1, -1, 0, -1, -1, -1, 1, 1, 1, -1, 1, 1, 1, 0.55, 9, 0, 0, 0, 0, 13, 2, 2.5, 0, 0, 22, 73, 0, -1], [1, 0, 1, 1, 1, 1, -1, -1, 1, -1, 1, 1, 0, -1, 1, 1, -1, -1, 0, -1, -1, -1, 1, 1, 1, -1, 1, 1, 1, 0.55, 9, 0, 0, 0, 0, 19, 1, 4.167, 0, 0, 22, 73, 0, -1], [1, 0, 1, 1, 1, 1, 1, 1, 1, -1, 1, 1, 0, -1, 0, 1, -1, -1, 1, -1, -1, -1, 1, -1, -1, -1, 1, 1, 1, 0.49, 7, 0, 0, 0, 0, 16, 3, 33.0, 0, 0, 19, 57, 0, -1], [1, 0, 1, 1, 1, 1, 1, -1, 1, 1, 1, 1, -1, -1, -1, 0, -1, -1, 0, -1, -1, -1, 1, 1, 1, -1, 1, -1, 1, 0.67, 10, 0, 0, 0, 0, 10, 1, 43.0, 0, 0, 12, 64, 0, -1], [1, 1, 1, 1, 1, -1, 0, -1, -1, -1, 1, 1, -1, -1, 0, 1, -1, -1, 1, -1, -1, -1, 1, -1, -1, -1, 1, -1, 1, 0.02, 8, 0, 0, 0, 0, 13, 2, 35.0, 0, 0, 30, 42, 1, -1], [1, 1, 1, 1, 1, 1, 0, -1, -1, -1, 1, 1, -1, -1, 0, 1, -1, -1, 1, -1, -1, -1, 1, -1, -1, -1, 1, -1, 1, 0.03, 7, 0, 0, 0, 0, 14, 2, 27.0, 0, 0, 22, 33, 0, -1], [1, 1, 1, 1, 1, -1, 0, 1, 1, -1, 1, 1, 0, -1, 0, 1, -1, -1, 1, -1, -1, -1, 1, 1, 1, -1, 1, 0, 1, 0.02, 10, 0, 0, 0, 0, 10, 2, 28.0, 6, 0, 22, 43, 3, -1], [1, 1, 1, 1, 1, 1, 0, -1, -1, -1, 1, 1, 0, -1, 0, 1, -1, -1, 1, -1, -1, -1, 1, -1, -1, -1, 1, 0, 1, 0.03, 7, 0, 0, 0, 0, 6, 3, 21.0, 2, 0, 16, 29, 0, -1], [1, -1, 1, 1, 1, 1, 0, -1, 1, 1, 1, 1, -1, -1, -1, 0, -1, -1, 1, -1, -1, -1, 1, 1, 1, -1, 1, -1, 1, 0.22, 14, 0, 0, 1, 1, 12, 1, 65.0, 0, 0, 17, 95, 0, -1], [1, 1, 1, 1, 1, 1, 0, 1, 1, -1, 1, 1, 0, -1, 0, 1, -1, -1, 1, -1, -1, -1, 1, 1, 1, -1, 1, 0, 1, 0.04, 7, 0, 0, 0, 0, 7, 3, 22.0, 0, 0, 16, 28, 0, -1], [1, 1, 1, 1, 1, 1, 1, 1, -1, 1, 1, 1, 0, -1, -1, 0, -1, -1, 1, -1, -1, -1, 1, -1, -1, -1, 1, 1, 1, 0.37, 6, 0, 0, 0, 0, 10, 2, 25.0, 0, 0, 9, 30, 0, -1], [1, 1, 1, 1, 1, 1, 0, 1, 1, -1, 1, 1, 0, -1, 0, 1, -1, -1, 1, -1, -1, -1, 1, 1, 1, -1, 1, 0, 1, 0.04, 7, 0, 0, 0, 0, 7, 2, 20.0, 2, 0, 14, 28, 0, -1], [1, 0, 1, 1, 1, 1, 0, 1, 1, 1, 1, 1, 0, -1, -1, 1, -1, -1, 1, -1, -1, -1, 1, 1, 1, -1, 1, 1, 1, 0.6, 11, 0, 0, 0, 0, 6, 1, 29.0, 0, 0, 14, 62, 0, -1], [1, 0, 1, 1, 1, 1, 0, 1, 1, 1, 1, 1, 0, -1, -1, 1, -1, -1, 1, -1, -1, -1, 1, 1, 1, -1, 1, 1, 1, 0.6, 11, 0, 0, 0, 0, 6, 1, 34.0, 0, 0, 14, 62, 0, -1], [1, -1, 1, 1, 1, 1, -1, -1, 1, -1, 1, 1, 0, -1, 0, 1, -1, -1, 1, -1, -1, -1, 1, 1, 1, -1, 1, 1, 1, 0.01, 8, 0, 0, 0, 0, 9, 1, 66.0, 10, 0, 61, 83, 0, -1], [1, -1, 1, 1, 1, 1, 0, -1, 1, -1, 1, 1, -1, -1, -1, -1, -1, -1, -1, -1, -1, -1, -1, 1, 1, -1, 1, -1, 1, 0.16, 19, 0, 0, 1, 1, 15, 1, 15.0, 0, 0, 18, 116, 0, -1], [1, -1, 1, 1, 1, 1, 0, -1, 1, -1, 1, 1, -1, -1, -1, -1, -1, -1, -1, -1, -1, -1, -1, 1, 1, -1, 1, -1, 1, 0.2, 15, 0, 0, 1, 1, 15, 1, 68.0, 0, 0, 18, 97, 0, -1], [1, -1, 1, 1, 1, 1, 0, -1, 1, -1, 1, 1, -1, -1, -1, -1, -1, -1, -1, -1, -1, -1, -1, 1, 1, -1, 1, -1, 1, 0.2, 15, 0, 0, 1, 1, 15, 1, 69.0, 0, 0, 18, 97, 0, -1], [1, 1, 1, 1, 1, -1, 0, -1, 1, -1, 1, 1, 0, -1, 0, 1, -1, -1, 1, -1, -1, -1, -1, 1, 1, -1, 1, 1, 1, 0.33, 10, 0, 0, 0, 0, 7, 2, 30.0, 0, 0, 15, 39, 1, -1], [1, 1, 1, 1, 1, -1, 1, 1, 1, -1, 1, 1, 0, -1, 0, 1, -1, -1, 1, -1, -1, -1, 1, -1, -1, -1, 1, 1, 1, 0.38, 8, 0, 0, 0, 0, 18, 4, 10.0, 2, 0, 19, 52, 1, -1], [1, 1, 1, 1, 1, 1, -1, -1, 1, -1, 1, 1, -1, -1, -1, 1, -1, -1, 0, -1, -1, -1, 1, 1, 1, -1, 1, -1, 1, 0.02, 8, 0, 0, 0, 0, 12, 3, 33.0, 1, 0, 28, 41, 0, -1], [1, 1, 1, 1, 1, -1, 0, -1, 1, -1, 1, 1, 0, -1, 0, 1, -1, -1, 1, -1, -1, -1, 1, 1, 1, -1, 1, 0, 1, 0.03, 8, 0, 0, 0, 0, 10, 3, 21.0, 6, 0, 16, 34, 1, -1], [1, 1, 1, 1, 1, 1, 0, 1, 1, -1, 1, 1, 0, -1, 1, 1, -1, -1, 1, -1, -1, -1, 1, 1, 1, -1, 1, 1, 1, 0.03, 7, 0, 0, 0, 0, 10, 2, 25.0, 6, 0, 19, 37, 0, -1], [1, -1, 1, 1, 1, 1, -1, -1, 1, -1, 1, 1, 0, -1, 0, 1, -1, -1, 1, -1, -1, -1, 1, 1, 1, -1, 1, 1, 1, 0.17, 10, 0, 0, 0, 0, 11, 1, 79.0, 11, 0, 60, 99, 0, -1], [1, 1, 1, 1, 1, 1, 0, -1, 1, -1, 1, 1, -1, -1, -1, -1, -1, -1, -1, -1, -1, -1, -1, 1, 1, -1, 1, -1, 1, 0.02, 7, 0, 0, 0, 0, 9, 3, 28.0, 8, 0, 22, 42, 0, -1], [1, 0, 1, 1, 1, 1, -1, 1, -1, 1, 1, 1, 0, -1, 0, 1, -1, -1, 1, -1, -1, -1, 1, -1, -1, -1, 1, 1, 1, 0.02, 8, 0, 0, 0, 0, 11, 1, 44.0, 3, 0, 38, 54, 0, -1], [1, -1, 1, 1, 1, 1, -1, -1, 1, -1, 1, 1, 0, -1, 1, 1, -1, -1, 1, -1, -1, -1, 1, 1, 1, -1, 1, -1, 1, 0.01, 8, 0, 0, 0, 0, 14, 1, 65.0, 10, 0, 60, 82, 0, -1], [1, 0, 1, 1, 1, -1, -1, 1, 1, -1, 1, 1, 0, -1, 1, 1, -1, -1, 1, -1, -1, -1, 1, 1, 1, -1, 1, 1, 1, 0.17, 9, 0, 0, 0, 0, 5, 1, 34.0, 21, 0, 19, 63, 1, -1], [1, 1, 1, 1, 1, -1, 1, -1, 1, -1, 1, 1, 0, -1, 0, 1, -1, -1, 1, -1, -1, -1, 1, -1, -1, -1, 1, 1, 1, 0.03, 9, 0, 0, 0, 0, 7, 2, 26.0, 0, 0, 21, 34, 3, -1], [1, 1, 1, 1, 1, 1, -1, 1, -1, 1, 1, 1, 0, -1, 0, 1, -1, -1, 1, -1, -1, -1, 1, -1, -1, -1, 1, 1, 1, 0.03, 8, 0, 0, 0, 0, 9, 2, 25.0, 0, 0, 19, 32, 0, -1], [1, 1, 1, 1, 1, 1, 0, 1, -1, -1, 1, 1, 0, -1, 0, 1, -1, -1, 1, -1, -1, -1, 1, -1, -1, -1, 1, 1, 1, 0.21, 8, 0, 0, 0, 0, 5, 2, 3.5, 0, 0, 8, 24, 0, -1], [1, 0, 1, 1, 1, -1, -1, 1, 1, -1, 1, 1, 0, -1, 0, 1, -1, -1, 1, -1, -1, -1, 1, -1, -1, -1, 1, 1, 1, 0.2, 11, 0, 0, 0, 0, 8, 3, 50.0, 0, 0, 34, 60, 3, -1], [1, 1, 1, 1, 1, -1, 0, 1, -1, -1, 1, 1, -1, -1, 1, 1, -1, -1, 1, -1, -1, -1, 1, -1, -1, -1, 1, 0, 1, 0.02, 9, 0, 0, 0, 0, 8, 2, 35.0, 0, 0, 29, 43, 2, -1], [1, 1, 1, 1, 1, -1, 0, -1, -1, -1, 1, 1, -1, -1, -1, -1, -1, -1, -1, -1, -1, -1, -1, -1, -1, -1, 1, -1, 1, 0.49, 9, 0, 0, 0, 0, 13, 3, 41.0, 0, 0, 15, 49, 1, -1], [1, 0, 1, 1, 1, -1, -1, -1, -1, -1, 1, 1, -1, -1, -1, -1, -1, -1, -1, -1, -1, -1, -1, -1, -1, -1, 1, -1, 1, 0.22, 11, 0, 0, 0, 0, 8, 2, 45.0, 0, 0, 29, 55, 3, -1], [1, 1, 1, 1, 1, 1, 1, -1, -1, -1, 1, 1, 0, -1, 0, 1, -1, -1, 1, -1, -1, -1, 1, -1, -1, -1, 1, 1, 1, 0.03, 6, 1, 0, 0, 0, 16, 4, 26.0, 7, 0, 21, 38, 0, -1], [1, 1, 1, 1, 1, 1, 1, 1, 1, -1, 1, 1, 0, -1, 0, 1, -1, -1, 1, -1, -1, -1, 1, 1, 1, -1, 1, 0, 1, 0.26, 7, 0, 0, 0, 0, 15, 3, 32.0, 0, 0, 18, 38, 0, -1], [1, 1, 1, 1, 1, 1, 0, 1, 1, -1, 1, 1, 0, -1, 0, 1, -1, -1, 1, -1, -1, -1, 1, 1, 1, -1, 1, 0, 1, 0.36, 8, 0, 0, 0, 0, 15, 3, 36.0, 0, 0, 18, 44, 0, -1], [1, 1, 1, 1, 1, 1, 0, 1, 1, -1, 1, 1, 0, -1, 0, 1, -1, -1, 1, -1, -1, -1, 1, 1, 1, -1, 1, 0, 1, 0.36, 8, 0, 0, 0, 0, 15, 3, 36.0, 0, 0, 18, 44, 0, -1], [1, 1, 1, 1, 1, 1, 0, 1, 1, -1, 1, 1, 0, -1, 0, 1, -1, -1, 1, -1, -1, -1, 1, 1, 1, -1, 1, 0, 1, 0.36, 8, 0, 0, 0, 0, 15, 3, 36.0, 0, 0, 18, 44, 0, -1], [1, 0, 1, 1, 1, -1, -1, -1, 1, 1, 1, 1, -1, -1, -1, -1, -1, -1, 1, -1, -1, 1, 1, -1, -1, -1, 1, 1, 1, 0.18, 13, 0, 0, 1, 1, 8, 2, 50.0, 0, 0, 29, 67, 3, -1], [1, 0, 1, 1, 1, -1, -1, 1, 1, -1, 1, 1, 0, -1, 0, 1, -1, -1, 1, -1, -1, -1, 1, -1, -1, -1, 1, 1, 1, 0.22, 10, 0, 0, 0, 0, 8, 3, 45.0, 0, 0, 29, 54, 2, -1], [1, 0, 1, 1, 1, -1, -1, 1, 1, -1, 1, 1, 0, -1, 0, 1, -1, -1, 1, -1, -1, -1, 1, -1, -1, -1, 1, 1, 1, 0.2, 11, 0, 0, 0, 0, 8, 3, 50.0, 0, 0, 34, 60, 3, -1], [1, 0, -1, 1, 1, 1, 0, -1, 1, -1, 1, 1, -1, -1, -1, -1, -1, -1, -1, -1, -1, -1, -1, 1, 1, -1, 1, -1, 1, 0.29, 10, 0, 0, 0, 0, 26, 3, 64.0, 0, 0, 41, 73, 0, -1], [1, -1, 1, 1, 1, -1, -1, -1, -1, -1, 1, 1, -1, -1, -1, -1, -1, -1, -1, -1, -1, -1, -1, -1, -1, -1, 1, -1, 1, 0.36, 17, 0, 0, 0, 0, 11, 4, 17.333, 10, 0, 25, 80, 4, -1], [1, -1, 1, 1, 1, -1, -1, -1, -1, -1, 1, 1, -1, -1, -1, -1, -1, -1, -1, -1, -1, -1, -1, -1, -1, -1, 1, -1, 1, 0.13, 18, 0, 0, 1, 1, 8, 1, 26.667, 10, 0, 11, 175, 1, -1], [1, 0, 1, 1, 1, -1, -1, -1, -1, -1, 1, 1, -1, -1, -1, -1, -1, -1, -1, -1, -1, -1, -1, -1, -1, -1, 1, -1, 1, 0.39, 12, 0, 0, 0, 0, 8, 1, 10.667, 10, 0, 11, 56, 1, -1], [1, -1, 1, 1, 1, -1, -1, -1, -1, -1, 1, 1, -1, -1, -1, -1, -1, -1, -1, -1, -1, -1, -1, -1, -1, -1, 1, -1, 1, 0.15, 19, 0, 0, 1, 1, 8, 1, 19.75, 10, 0, 11, 179, 1, -1], [1, 0, 1, 1, 1, 1, 0, -1, 1, -1, 1, 1, -1, -1, -1, -1, -1, -1, -1, -1, -1, -1, -1, -1, -1, -1, 1, -1, 1, 0.39, 10, 0, 0, 1, 1, 11, 1, 41.0, 0, 0, 18, 71, 0, -1], [1, 1, 1, 1, -1, 1, 1, -1, 1, -1, 1, 1, -1, -1, -1, -1, -1, -1, -1, -1, -1, -1, -1, -1, -1, -1, 1, -1, 1, 0.07, 7, 0, 0, 0, 0, 15, 3, 24.0, 0, 0, 18, 30, 0, -1], [1, 1, 1, 1, 1, -1, 0, 1, -1, -1, 1, 1, 0, -1, 0, 1, -1, -1, 1, -1, -1, -1, 1, -1, -1, -1, 1, 0, 1, 0.03, 8, 0, 0, 0, 0, 6, 4, 22.0, 6, 0, 16, 35, 1, -1], [1, 1, 1, 1, 1, 1, 0, -1, -1, -1, 1, 1, 0, -1, 0, 1, -1, -1, 1, -1, -1, -1, 1, -1, -1, -1, 1, 0, 1, 0.03, 7, 0, 0, 0, 0, 6, 1, 21.0, 2, 0, 16, 29, 0, -1], [1, 1, 1, 1, 1, -1, 0, 1, -1, -1, 1, 1, 0, -1, 0, 1, -1, -1, 1, -1, -1, -1, 1, -1, -1, -1, 1, 0, 1, 0.03, 9, 0, 0, 0, 0, 6, 3, 19.0, 12, 0, 13, 39, 2, -1], [1, 1, 1, 1, 1, 1, 0, -1, 1, -1, 1, 1, 0, -1, 0, 1, -1, -1, 1, -1, -1, -1, 1, 1, 1, -1, 1, 0, 1, 0.02, 7, 0, 0, 0, 0, 20, 3, 38.0, 2, 0, 33, 46, 0, -1], [1, 1, 1, 1, 1, 1, 0, 1, 1, -1, 1, 1, 0, -1, 1, 1, -1, -1, 1, -1, -1, -1, 1, 1, 1, -1, 1, 1, 1, 0.33, 8, 0, 0, 0, 0, 7, 1, 9.333, 0, 0, 16, 40, 0, -1], [1, 1, 1, 1, 1, 1, 1, -1, 1, -1, 1, 1, -1, -1, -1, -1, -1, -1, -1, -1, -1, -1, -1, 1, 1, -1, 1, -1, 1, 0.04, 6, 0, 0, 0, 0, 9, 1, 19.0, 1, 0, 13, 25, 0, -1], [1, 1, 1, 1, 1, 1, 0, 1, 1, -1, 1, 1, 0, -1, 0, 1, -1, -1, 1, -1, -1, -1, 1, 1, 1, -1, 1, 0, 1, 0.04, 7, 0, 0, 0, 0, 7, 2, 20.0, 2, 0, 14, 28, 0, -1], [1, 1, 1, 1, 1, -1, 0, -1, -1, -1, 1, 1, -1, -1, -1, -1, -1, -1, -1, -1, -1, -1, -1, -1, -1, -1, 1, -1, 1, 0.14, 12, 0, 0, 0, 0, 11, 1, 37.0, 2, 0, 27, 50, 4, -1], [1, -1, 1, 1, 1, -1, 0, -1, 1, -1, 1, 1, -1, -1, 0, 0, -1, -1, 1, -1, -1, -1, 1, -1, -1, -1, 1, -1, 1, 0.05, 9, 0, 0, 1, 1, 22, 1, 253.0, 0, 0, 19, 300, 1, -1], [1, 1, 1, 1, 1, -1, 1, 1, 1, -1, 1, 1, 0, -1, 0, 1, -1, -1, 0, -1, -1, -1, 1, 1, 1, -1, 1, 1, 1, 0.39, 8, 0, 0, 0, 0, 18, 3, 42.0, 0, 0, 18, 49, 2, -1], [1, 1, 1, 1, 1, -1, 0, 1, -1, 1, 1, 1, -1, -1, 0, 1, -1, -1, 1, -1, -1, -1, 1, -1, -1, -1, 1, -1, 1, 0.21, 14, 0, 0, 0, 0, 8, 1, 36.0, 4, 0, 22, 53, 6, -1], [1, 1, 1, 1, 1, -1, 0, 1, -1, -1, 1, 1, 0, -1, 0, 1, -1, -1, 1, -1, -1, -1, 1, -1, -1, -1, 1, 0, 1, 0.03, 8, 0, 0, 0, 0, 6, 2, 18.0, 6, 0, 12, 31, 1, -1], [1, 1, 1, 1, 1, 1, 1, -1, -1, -1, 1, 1, -1, -1, -1, -1, -1, -1, -1, -1, -1, -1, -1, -1, -1, -1, 1, -1, 1, 0.07, 6, 0, 0, 0, 0, 12, 1, 10.5, 0, 0, 15, 27, 0, -1], [1, 0, 1, 1, 1, -1, 0, 1, 1, -1, 1, 1, -1, -1, 0, 1, -1, -1, 1, -1, -1, -1, 1, 1, 1, -1, 1, 0, 1, 0.01, 8, 0, 0, 0, 0, 16, 1, 52.0, 14, 0, 46, 73, 1, -1], [1, 1, 1, 1, 1, -1, 0, -1, 1, -1, 1, 1, 0, -1, 0, 1, -1, -1, 1, -1, -1, -1, 1, 1, 1, -1, 1, 0, 1, 0.03, 8, 0, 0, 0, 0, 10, 3, 22.0, 6, 0, 17, 35, 1, -1], [1, 1, 1, 1, 1, 1, 0, 1, 1, 1, 1, 1, -1, -1, 0, 1, -1, -1, 1, -1, -1, -1, 1, 1, 1, -1, 1, -1, 1, 0.32, 8, 0, 0, 0, 0, 8, 3, 30.0, 0, 0, 14, 37, 0, -1], [1, 1, 1, 1, 1, 1, 1, 1, 1, -1, 1, 1, -1, -1, -1, 1, -1, -1, 1, -1, -1, -1, 1, 1, 1, -1, 1, 0, 1, 0.29, 6, 0, 0, 0, 0, 6, 1, 18.0, 1, 0, 6, 24, 0, -1], [1, 0, 1, 1, 1, 1, 0, 1, 1, 1, 1, 1, 0, -1, -1, 1, -1, -1, 1, -1, -1, -1, 1, 1, 1, -1, 1, 1, 1, 0.6, 11, 0, 0, 0, 0, 6, 1, 29.0, 0, 0, 14, 62, 0, -1]]\n"
     ]
    }
   ],
   "source": [
    "f = open('phish_list.txt', 'r')\n",
    "phish_list=[]\n",
    "for x in f.readlines():\n",
    "    phish_list.append(eval(x))\n",
    "print(phish_list) \n",
    "f.close()"
   ]
  },
  {
   "cell_type": "code",
   "execution_count": 7,
   "metadata": {},
   "outputs": [
    {
     "data": {
      "text/html": [
       "<div>\n",
       "<style scoped>\n",
       "    .dataframe tbody tr th:only-of-type {\n",
       "        vertical-align: middle;\n",
       "    }\n",
       "\n",
       "    .dataframe tbody tr th {\n",
       "        vertical-align: top;\n",
       "    }\n",
       "\n",
       "    .dataframe thead th {\n",
       "        text-align: right;\n",
       "    }\n",
       "</style>\n",
       "<table border=\"1\" class=\"dataframe\">\n",
       "  <thead>\n",
       "    <tr style=\"text-align: right;\">\n",
       "      <th></th>\n",
       "      <th>UsingIP</th>\n",
       "      <th>LongURL</th>\n",
       "      <th>ShortURL</th>\n",
       "      <th>Symbol@</th>\n",
       "      <th>Redirecting//</th>\n",
       "      <th>PrefixSuffix-</th>\n",
       "      <th>SubDomains</th>\n",
       "      <th>HTTPS</th>\n",
       "      <th>DomainRegLen</th>\n",
       "      <th>Favicon</th>\n",
       "      <th>...</th>\n",
       "      <th>hasQuery</th>\n",
       "      <th>maxWordllength</th>\n",
       "      <th>minWordlength</th>\n",
       "      <th>lowerUpper</th>\n",
       "      <th>noDigits</th>\n",
       "      <th>noUpper</th>\n",
       "      <th>noLower</th>\n",
       "      <th>lengthURL</th>\n",
       "      <th>countHyp</th>\n",
       "      <th>class</th>\n",
       "    </tr>\n",
       "  </thead>\n",
       "  <tbody>\n",
       "    <tr>\n",
       "      <th>0</th>\n",
       "      <td>1</td>\n",
       "      <td>1</td>\n",
       "      <td>1</td>\n",
       "      <td>1</td>\n",
       "      <td>1</td>\n",
       "      <td>1</td>\n",
       "      <td>0</td>\n",
       "      <td>1</td>\n",
       "      <td>1</td>\n",
       "      <td>-1</td>\n",
       "      <td>...</td>\n",
       "      <td>0</td>\n",
       "      <td>14</td>\n",
       "      <td>1</td>\n",
       "      <td>13.000</td>\n",
       "      <td>0</td>\n",
       "      <td>0</td>\n",
       "      <td>20</td>\n",
       "      <td>33</td>\n",
       "      <td>0</td>\n",
       "      <td>-1</td>\n",
       "    </tr>\n",
       "    <tr>\n",
       "      <th>1</th>\n",
       "      <td>1</td>\n",
       "      <td>1</td>\n",
       "      <td>1</td>\n",
       "      <td>1</td>\n",
       "      <td>1</td>\n",
       "      <td>1</td>\n",
       "      <td>0</td>\n",
       "      <td>1</td>\n",
       "      <td>-1</td>\n",
       "      <td>-1</td>\n",
       "      <td>...</td>\n",
       "      <td>0</td>\n",
       "      <td>12</td>\n",
       "      <td>2</td>\n",
       "      <td>34.000</td>\n",
       "      <td>0</td>\n",
       "      <td>0</td>\n",
       "      <td>22</td>\n",
       "      <td>41</td>\n",
       "      <td>0</td>\n",
       "      <td>-1</td>\n",
       "    </tr>\n",
       "    <tr>\n",
       "      <th>2</th>\n",
       "      <td>1</td>\n",
       "      <td>0</td>\n",
       "      <td>1</td>\n",
       "      <td>1</td>\n",
       "      <td>1</td>\n",
       "      <td>-1</td>\n",
       "      <td>0</td>\n",
       "      <td>-1</td>\n",
       "      <td>1</td>\n",
       "      <td>-1</td>\n",
       "      <td>...</td>\n",
       "      <td>0</td>\n",
       "      <td>9</td>\n",
       "      <td>1</td>\n",
       "      <td>7.400</td>\n",
       "      <td>7</td>\n",
       "      <td>0</td>\n",
       "      <td>19</td>\n",
       "      <td>64</td>\n",
       "      <td>2</td>\n",
       "      <td>-1</td>\n",
       "    </tr>\n",
       "    <tr>\n",
       "      <th>3</th>\n",
       "      <td>1</td>\n",
       "      <td>0</td>\n",
       "      <td>1</td>\n",
       "      <td>1</td>\n",
       "      <td>1</td>\n",
       "      <td>-1</td>\n",
       "      <td>0</td>\n",
       "      <td>-1</td>\n",
       "      <td>1</td>\n",
       "      <td>-1</td>\n",
       "      <td>...</td>\n",
       "      <td>0</td>\n",
       "      <td>9</td>\n",
       "      <td>1</td>\n",
       "      <td>10.667</td>\n",
       "      <td>8</td>\n",
       "      <td>0</td>\n",
       "      <td>18</td>\n",
       "      <td>60</td>\n",
       "      <td>2</td>\n",
       "      <td>-1</td>\n",
       "    </tr>\n",
       "    <tr>\n",
       "      <th>4</th>\n",
       "      <td>1</td>\n",
       "      <td>-1</td>\n",
       "      <td>1</td>\n",
       "      <td>1</td>\n",
       "      <td>1</td>\n",
       "      <td>1</td>\n",
       "      <td>1</td>\n",
       "      <td>1</td>\n",
       "      <td>1</td>\n",
       "      <td>-1</td>\n",
       "      <td>...</td>\n",
       "      <td>0</td>\n",
       "      <td>20</td>\n",
       "      <td>1</td>\n",
       "      <td>4.176</td>\n",
       "      <td>0</td>\n",
       "      <td>0</td>\n",
       "      <td>23</td>\n",
       "      <td>106</td>\n",
       "      <td>0</td>\n",
       "      <td>-1</td>\n",
       "    </tr>\n",
       "    <tr>\n",
       "      <th>5</th>\n",
       "      <td>1</td>\n",
       "      <td>-1</td>\n",
       "      <td>1</td>\n",
       "      <td>1</td>\n",
       "      <td>1</td>\n",
       "      <td>1</td>\n",
       "      <td>1</td>\n",
       "      <td>1</td>\n",
       "      <td>1</td>\n",
       "      <td>-1</td>\n",
       "      <td>...</td>\n",
       "      <td>0</td>\n",
       "      <td>20</td>\n",
       "      <td>1</td>\n",
       "      <td>6.900</td>\n",
       "      <td>0</td>\n",
       "      <td>0</td>\n",
       "      <td>23</td>\n",
       "      <td>94</td>\n",
       "      <td>0</td>\n",
       "      <td>-1</td>\n",
       "    </tr>\n",
       "    <tr>\n",
       "      <th>6</th>\n",
       "      <td>1</td>\n",
       "      <td>1</td>\n",
       "      <td>1</td>\n",
       "      <td>1</td>\n",
       "      <td>1</td>\n",
       "      <td>1</td>\n",
       "      <td>1</td>\n",
       "      <td>1</td>\n",
       "      <td>1</td>\n",
       "      <td>-1</td>\n",
       "      <td>...</td>\n",
       "      <td>0</td>\n",
       "      <td>5</td>\n",
       "      <td>4</td>\n",
       "      <td>15.000</td>\n",
       "      <td>0</td>\n",
       "      <td>0</td>\n",
       "      <td>9</td>\n",
       "      <td>20</td>\n",
       "      <td>0</td>\n",
       "      <td>-1</td>\n",
       "    </tr>\n",
       "    <tr>\n",
       "      <th>7</th>\n",
       "      <td>1</td>\n",
       "      <td>1</td>\n",
       "      <td>1</td>\n",
       "      <td>1</td>\n",
       "      <td>1</td>\n",
       "      <td>1</td>\n",
       "      <td>1</td>\n",
       "      <td>1</td>\n",
       "      <td>1</td>\n",
       "      <td>-1</td>\n",
       "      <td>...</td>\n",
       "      <td>0</td>\n",
       "      <td>12</td>\n",
       "      <td>2</td>\n",
       "      <td>20.000</td>\n",
       "      <td>0</td>\n",
       "      <td>0</td>\n",
       "      <td>14</td>\n",
       "      <td>25</td>\n",
       "      <td>0</td>\n",
       "      <td>-1</td>\n",
       "    </tr>\n",
       "    <tr>\n",
       "      <th>8</th>\n",
       "      <td>1</td>\n",
       "      <td>-1</td>\n",
       "      <td>1</td>\n",
       "      <td>1</td>\n",
       "      <td>1</td>\n",
       "      <td>1</td>\n",
       "      <td>0</td>\n",
       "      <td>1</td>\n",
       "      <td>1</td>\n",
       "      <td>-1</td>\n",
       "      <td>...</td>\n",
       "      <td>1</td>\n",
       "      <td>23</td>\n",
       "      <td>1</td>\n",
       "      <td>1.315</td>\n",
       "      <td>0</td>\n",
       "      <td>0</td>\n",
       "      <td>14</td>\n",
       "      <td>296</td>\n",
       "      <td>0</td>\n",
       "      <td>-1</td>\n",
       "    </tr>\n",
       "    <tr>\n",
       "      <th>9</th>\n",
       "      <td>1</td>\n",
       "      <td>1</td>\n",
       "      <td>1</td>\n",
       "      <td>1</td>\n",
       "      <td>1</td>\n",
       "      <td>1</td>\n",
       "      <td>0</td>\n",
       "      <td>-1</td>\n",
       "      <td>-1</td>\n",
       "      <td>-1</td>\n",
       "      <td>...</td>\n",
       "      <td>1</td>\n",
       "      <td>14</td>\n",
       "      <td>3</td>\n",
       "      <td>36.000</td>\n",
       "      <td>0</td>\n",
       "      <td>0</td>\n",
       "      <td>26</td>\n",
       "      <td>44</td>\n",
       "      <td>0</td>\n",
       "      <td>-1</td>\n",
       "    </tr>\n",
       "  </tbody>\n",
       "</table>\n",
       "<p>10 rows × 44 columns</p>\n",
       "</div>"
      ],
      "text/plain": [
       "   UsingIP  LongURL  ShortURL  Symbol@  Redirecting//  PrefixSuffix-  \\\n",
       "0        1        1         1        1              1              1   \n",
       "1        1        1         1        1              1              1   \n",
       "2        1        0         1        1              1             -1   \n",
       "3        1        0         1        1              1             -1   \n",
       "4        1       -1         1        1              1              1   \n",
       "5        1       -1         1        1              1              1   \n",
       "6        1        1         1        1              1              1   \n",
       "7        1        1         1        1              1              1   \n",
       "8        1       -1         1        1              1              1   \n",
       "9        1        1         1        1              1              1   \n",
       "\n",
       "   SubDomains  HTTPS  DomainRegLen  Favicon  ...  hasQuery  maxWordllength  \\\n",
       "0           0      1             1       -1  ...         0              14   \n",
       "1           0      1            -1       -1  ...         0              12   \n",
       "2           0     -1             1       -1  ...         0               9   \n",
       "3           0     -1             1       -1  ...         0               9   \n",
       "4           1      1             1       -1  ...         0              20   \n",
       "5           1      1             1       -1  ...         0              20   \n",
       "6           1      1             1       -1  ...         0               5   \n",
       "7           1      1             1       -1  ...         0              12   \n",
       "8           0      1             1       -1  ...         1              23   \n",
       "9           0     -1            -1       -1  ...         1              14   \n",
       "\n",
       "   minWordlength  lowerUpper  noDigits  noUpper  noLower  lengthURL  countHyp  \\\n",
       "0              1      13.000         0        0       20         33         0   \n",
       "1              2      34.000         0        0       22         41         0   \n",
       "2              1       7.400         7        0       19         64         2   \n",
       "3              1      10.667         8        0       18         60         2   \n",
       "4              1       4.176         0        0       23        106         0   \n",
       "5              1       6.900         0        0       23         94         0   \n",
       "6              4      15.000         0        0        9         20         0   \n",
       "7              2      20.000         0        0       14         25         0   \n",
       "8              1       1.315         0        0       14        296         0   \n",
       "9              3      36.000         0        0       26         44         0   \n",
       "\n",
       "   class  \n",
       "0     -1  \n",
       "1     -1  \n",
       "2     -1  \n",
       "3     -1  \n",
       "4     -1  \n",
       "5     -1  \n",
       "6     -1  \n",
       "7     -1  \n",
       "8     -1  \n",
       "9     -1  \n",
       "\n",
       "[10 rows x 44 columns]"
      ]
     },
     "execution_count": 7,
     "metadata": {},
     "output_type": "execute_result"
    }
   ],
   "source": [
    "phish_df=pd.DataFrame(phish_list,columns=feature_names)\n",
    "phish_df.head(10)"
   ]
  },
  {
   "cell_type": "code",
   "execution_count": 49,
   "metadata": {},
   "outputs": [
    {
     "data": {
      "text/html": [
       "<div>\n",
       "<style scoped>\n",
       "    .dataframe tbody tr th:only-of-type {\n",
       "        vertical-align: middle;\n",
       "    }\n",
       "\n",
       "    .dataframe tbody tr th {\n",
       "        vertical-align: top;\n",
       "    }\n",
       "\n",
       "    .dataframe thead th {\n",
       "        text-align: right;\n",
       "    }\n",
       "</style>\n",
       "<table border=\"1\" class=\"dataframe\">\n",
       "  <thead>\n",
       "    <tr style=\"text-align: right;\">\n",
       "      <th></th>\n",
       "      <th>UsingIP</th>\n",
       "      <th>LongURL</th>\n",
       "      <th>ShortURL</th>\n",
       "      <th>Symbol@</th>\n",
       "      <th>Redirecting//</th>\n",
       "      <th>PrefixSuffix-</th>\n",
       "      <th>SubDomains</th>\n",
       "      <th>HTTPS</th>\n",
       "      <th>DomainRegLen</th>\n",
       "      <th>Favicon</th>\n",
       "      <th>...</th>\n",
       "      <th>hasQuery</th>\n",
       "      <th>maxWordllength</th>\n",
       "      <th>minWordlength</th>\n",
       "      <th>lowerUpper</th>\n",
       "      <th>noDigits</th>\n",
       "      <th>noUpper</th>\n",
       "      <th>noLower</th>\n",
       "      <th>lengthURL</th>\n",
       "      <th>countHyp</th>\n",
       "      <th>class</th>\n",
       "    </tr>\n",
       "  </thead>\n",
       "  <tbody>\n",
       "    <tr>\n",
       "      <th>0</th>\n",
       "      <td>1</td>\n",
       "      <td>1</td>\n",
       "      <td>1</td>\n",
       "      <td>1</td>\n",
       "      <td>1</td>\n",
       "      <td>1</td>\n",
       "      <td>0</td>\n",
       "      <td>1</td>\n",
       "      <td>1</td>\n",
       "      <td>1</td>\n",
       "      <td>...</td>\n",
       "      <td>0</td>\n",
       "      <td>7</td>\n",
       "      <td>3</td>\n",
       "      <td>19.000</td>\n",
       "      <td>0</td>\n",
       "      <td>0</td>\n",
       "      <td>13</td>\n",
       "      <td>24</td>\n",
       "      <td>0</td>\n",
       "      <td>1</td>\n",
       "    </tr>\n",
       "    <tr>\n",
       "      <th>1</th>\n",
       "      <td>1</td>\n",
       "      <td>-1</td>\n",
       "      <td>1</td>\n",
       "      <td>1</td>\n",
       "      <td>1</td>\n",
       "      <td>1</td>\n",
       "      <td>-1</td>\n",
       "      <td>1</td>\n",
       "      <td>1</td>\n",
       "      <td>-1</td>\n",
       "      <td>...</td>\n",
       "      <td>1</td>\n",
       "      <td>8</td>\n",
       "      <td>1</td>\n",
       "      <td>7.308</td>\n",
       "      <td>0</td>\n",
       "      <td>0</td>\n",
       "      <td>12</td>\n",
       "      <td>166</td>\n",
       "      <td>0</td>\n",
       "      <td>1</td>\n",
       "    </tr>\n",
       "    <tr>\n",
       "      <th>2</th>\n",
       "      <td>1</td>\n",
       "      <td>-1</td>\n",
       "      <td>1</td>\n",
       "      <td>1</td>\n",
       "      <td>1</td>\n",
       "      <td>1</td>\n",
       "      <td>0</td>\n",
       "      <td>-1</td>\n",
       "      <td>1</td>\n",
       "      <td>-1</td>\n",
       "      <td>...</td>\n",
       "      <td>0</td>\n",
       "      <td>9</td>\n",
       "      <td>2</td>\n",
       "      <td>63.000</td>\n",
       "      <td>0</td>\n",
       "      <td>0</td>\n",
       "      <td>15</td>\n",
       "      <td>81</td>\n",
       "      <td>0</td>\n",
       "      <td>1</td>\n",
       "    </tr>\n",
       "    <tr>\n",
       "      <th>3</th>\n",
       "      <td>1</td>\n",
       "      <td>1</td>\n",
       "      <td>1</td>\n",
       "      <td>1</td>\n",
       "      <td>1</td>\n",
       "      <td>1</td>\n",
       "      <td>0</td>\n",
       "      <td>1</td>\n",
       "      <td>1</td>\n",
       "      <td>1</td>\n",
       "      <td>...</td>\n",
       "      <td>0</td>\n",
       "      <td>7</td>\n",
       "      <td>3</td>\n",
       "      <td>22.000</td>\n",
       "      <td>0</td>\n",
       "      <td>0</td>\n",
       "      <td>16</td>\n",
       "      <td>27</td>\n",
       "      <td>0</td>\n",
       "      <td>1</td>\n",
       "    </tr>\n",
       "    <tr>\n",
       "      <th>4</th>\n",
       "      <td>1</td>\n",
       "      <td>1</td>\n",
       "      <td>1</td>\n",
       "      <td>1</td>\n",
       "      <td>1</td>\n",
       "      <td>1</td>\n",
       "      <td>-1</td>\n",
       "      <td>1</td>\n",
       "      <td>1</td>\n",
       "      <td>-1</td>\n",
       "      <td>...</td>\n",
       "      <td>0</td>\n",
       "      <td>6</td>\n",
       "      <td>2</td>\n",
       "      <td>31.000</td>\n",
       "      <td>0</td>\n",
       "      <td>0</td>\n",
       "      <td>12</td>\n",
       "      <td>39</td>\n",
       "      <td>0</td>\n",
       "      <td>1</td>\n",
       "    </tr>\n",
       "  </tbody>\n",
       "</table>\n",
       "<p>5 rows × 44 columns</p>\n",
       "</div>"
      ],
      "text/plain": [
       "   UsingIP  LongURL  ShortURL  Symbol@  Redirecting//  PrefixSuffix-  \\\n",
       "0        1        1         1        1              1              1   \n",
       "1        1       -1         1        1              1              1   \n",
       "2        1       -1         1        1              1              1   \n",
       "3        1        1         1        1              1              1   \n",
       "4        1        1         1        1              1              1   \n",
       "\n",
       "   SubDomains  HTTPS  DomainRegLen  Favicon  ...  hasQuery  maxWordllength  \\\n",
       "0           0      1             1        1  ...         0               7   \n",
       "1          -1      1             1       -1  ...         1               8   \n",
       "2           0     -1             1       -1  ...         0               9   \n",
       "3           0      1             1        1  ...         0               7   \n",
       "4          -1      1             1       -1  ...         0               6   \n",
       "\n",
       "   minWordlength  lowerUpper  noDigits  noUpper  noLower  lengthURL  countHyp  \\\n",
       "0              3      19.000         0        0       13         24         0   \n",
       "1              1       7.308         0        0       12        166         0   \n",
       "2              2      63.000         0        0       15         81         0   \n",
       "3              3      22.000         0        0       16         27         0   \n",
       "4              2      31.000         0        0       12         39         0   \n",
       "\n",
       "   class  \n",
       "0      1  \n",
       "1      1  \n",
       "2      1  \n",
       "3      1  \n",
       "4      1  \n",
       "\n",
       "[5 rows x 44 columns]"
      ]
     },
     "execution_count": 49,
     "metadata": {},
     "output_type": "execute_result"
    }
   ],
   "source": [
    "train_df=pd.concat([legit_df,phish_df])\n",
    "train_df.head()"
   ]
  },
  {
   "cell_type": "code",
   "execution_count": 50,
   "metadata": {},
   "outputs": [
    {
     "name": "stdout",
     "output_type": "stream",
     "text": [
      "<class 'pandas.core.frame.DataFrame'>\n",
      "Int64Index: 737 entries, 0 to 499\n",
      "Data columns (total 44 columns):\n",
      " #   Column               Non-Null Count  Dtype  \n",
      "---  ------               --------------  -----  \n",
      " 0   UsingIP              737 non-null    int64  \n",
      " 1   LongURL              737 non-null    int64  \n",
      " 2   ShortURL             737 non-null    int64  \n",
      " 3   Symbol@              737 non-null    int64  \n",
      " 4   Redirecting//        737 non-null    int64  \n",
      " 5   PrefixSuffix-        737 non-null    int64  \n",
      " 6   SubDomains           737 non-null    int64  \n",
      " 7   HTTPS                737 non-null    int64  \n",
      " 8   DomainRegLen         737 non-null    int64  \n",
      " 9   Favicon              737 non-null    int64  \n",
      " 10  NonStdPort           737 non-null    int64  \n",
      " 11  HTTPSDomainURL       737 non-null    int64  \n",
      " 12  RequestURL           737 non-null    int64  \n",
      " 13  AnchorURL            737 non-null    int64  \n",
      " 14  LinksInScriptTags    737 non-null    int64  \n",
      " 15  ServerFormHandler    737 non-null    int64  \n",
      " 16  InfoEmail            737 non-null    int64  \n",
      " 17  AbnormalURL          737 non-null    int64  \n",
      " 18  WebsiteForwarding    737 non-null    int64  \n",
      " 19  StatusBarCust        737 non-null    int64  \n",
      " 20  DisableRightClick    737 non-null    int64  \n",
      " 21  UsingPopupWindow     737 non-null    int64  \n",
      " 22  IframeRedirection    737 non-null    int64  \n",
      " 23  AgeofDomain          737 non-null    int64  \n",
      " 24  DNSRecording         737 non-null    int64  \n",
      " 25  PageRank             737 non-null    int64  \n",
      " 26  GoogleIndex          737 non-null    int64  \n",
      " 27  LinksPointingToPage  737 non-null    int64  \n",
      " 28  StatsReport          737 non-null    int64  \n",
      " 29  ratioPath            737 non-null    float64\n",
      " 30  countSpl             737 non-null    int64  \n",
      " 31  countSus             737 non-null    int64  \n",
      " 32  countCom             737 non-null    int64  \n",
      " 33  countQues            737 non-null    int64  \n",
      " 34  hasQuery             737 non-null    int64  \n",
      " 35  maxWordllength       737 non-null    int64  \n",
      " 36  minWordlength        737 non-null    int64  \n",
      " 37  lowerUpper           737 non-null    float64\n",
      " 38  noDigits             737 non-null    int64  \n",
      " 39  noUpper              737 non-null    int64  \n",
      " 40  noLower              737 non-null    int64  \n",
      " 41  lengthURL            737 non-null    int64  \n",
      " 42  countHyp             737 non-null    int64  \n",
      " 43  class                737 non-null    int64  \n",
      "dtypes: float64(2), int64(42)\n",
      "memory usage: 259.1 KB\n"
     ]
    }
   ],
   "source": [
    "train_df.info()"
   ]
  },
  {
   "cell_type": "code",
   "execution_count": 51,
   "metadata": {},
   "outputs": [],
   "source": [
    "data=train_df.copy()"
   ]
  },
  {
   "cell_type": "code",
   "execution_count": 52,
   "metadata": {},
   "outputs": [
    {
     "data": {
      "text/html": [
       "<div>\n",
       "<style scoped>\n",
       "    .dataframe tbody tr th:only-of-type {\n",
       "        vertical-align: middle;\n",
       "    }\n",
       "\n",
       "    .dataframe tbody tr th {\n",
       "        vertical-align: top;\n",
       "    }\n",
       "\n",
       "    .dataframe thead th {\n",
       "        text-align: right;\n",
       "    }\n",
       "</style>\n",
       "<table border=\"1\" class=\"dataframe\">\n",
       "  <thead>\n",
       "    <tr style=\"text-align: right;\">\n",
       "      <th></th>\n",
       "      <th>UsingIP</th>\n",
       "      <th>LongURL</th>\n",
       "      <th>ShortURL</th>\n",
       "      <th>Symbol@</th>\n",
       "      <th>Redirecting//</th>\n",
       "      <th>PrefixSuffix-</th>\n",
       "      <th>SubDomains</th>\n",
       "      <th>HTTPS</th>\n",
       "      <th>DomainRegLen</th>\n",
       "      <th>Favicon</th>\n",
       "      <th>...</th>\n",
       "      <th>hasQuery</th>\n",
       "      <th>maxWordllength</th>\n",
       "      <th>minWordlength</th>\n",
       "      <th>lowerUpper</th>\n",
       "      <th>noDigits</th>\n",
       "      <th>noUpper</th>\n",
       "      <th>noLower</th>\n",
       "      <th>lengthURL</th>\n",
       "      <th>countHyp</th>\n",
       "      <th>class</th>\n",
       "    </tr>\n",
       "  </thead>\n",
       "  <tbody>\n",
       "    <tr>\n",
       "      <th>0</th>\n",
       "      <td>1</td>\n",
       "      <td>1</td>\n",
       "      <td>1</td>\n",
       "      <td>1</td>\n",
       "      <td>1</td>\n",
       "      <td>1</td>\n",
       "      <td>0</td>\n",
       "      <td>1</td>\n",
       "      <td>1</td>\n",
       "      <td>1</td>\n",
       "      <td>...</td>\n",
       "      <td>0</td>\n",
       "      <td>7</td>\n",
       "      <td>3</td>\n",
       "      <td>19.000</td>\n",
       "      <td>0</td>\n",
       "      <td>0</td>\n",
       "      <td>13</td>\n",
       "      <td>24</td>\n",
       "      <td>0</td>\n",
       "      <td>1</td>\n",
       "    </tr>\n",
       "    <tr>\n",
       "      <th>1</th>\n",
       "      <td>1</td>\n",
       "      <td>-1</td>\n",
       "      <td>1</td>\n",
       "      <td>1</td>\n",
       "      <td>1</td>\n",
       "      <td>1</td>\n",
       "      <td>-1</td>\n",
       "      <td>1</td>\n",
       "      <td>1</td>\n",
       "      <td>-1</td>\n",
       "      <td>...</td>\n",
       "      <td>1</td>\n",
       "      <td>8</td>\n",
       "      <td>1</td>\n",
       "      <td>7.308</td>\n",
       "      <td>0</td>\n",
       "      <td>0</td>\n",
       "      <td>12</td>\n",
       "      <td>166</td>\n",
       "      <td>0</td>\n",
       "      <td>1</td>\n",
       "    </tr>\n",
       "    <tr>\n",
       "      <th>2</th>\n",
       "      <td>1</td>\n",
       "      <td>-1</td>\n",
       "      <td>1</td>\n",
       "      <td>1</td>\n",
       "      <td>1</td>\n",
       "      <td>1</td>\n",
       "      <td>0</td>\n",
       "      <td>-1</td>\n",
       "      <td>1</td>\n",
       "      <td>-1</td>\n",
       "      <td>...</td>\n",
       "      <td>0</td>\n",
       "      <td>9</td>\n",
       "      <td>2</td>\n",
       "      <td>63.000</td>\n",
       "      <td>0</td>\n",
       "      <td>0</td>\n",
       "      <td>15</td>\n",
       "      <td>81</td>\n",
       "      <td>0</td>\n",
       "      <td>1</td>\n",
       "    </tr>\n",
       "    <tr>\n",
       "      <th>3</th>\n",
       "      <td>1</td>\n",
       "      <td>1</td>\n",
       "      <td>1</td>\n",
       "      <td>1</td>\n",
       "      <td>1</td>\n",
       "      <td>1</td>\n",
       "      <td>0</td>\n",
       "      <td>1</td>\n",
       "      <td>1</td>\n",
       "      <td>1</td>\n",
       "      <td>...</td>\n",
       "      <td>0</td>\n",
       "      <td>7</td>\n",
       "      <td>3</td>\n",
       "      <td>22.000</td>\n",
       "      <td>0</td>\n",
       "      <td>0</td>\n",
       "      <td>16</td>\n",
       "      <td>27</td>\n",
       "      <td>0</td>\n",
       "      <td>1</td>\n",
       "    </tr>\n",
       "    <tr>\n",
       "      <th>4</th>\n",
       "      <td>1</td>\n",
       "      <td>1</td>\n",
       "      <td>1</td>\n",
       "      <td>1</td>\n",
       "      <td>1</td>\n",
       "      <td>1</td>\n",
       "      <td>-1</td>\n",
       "      <td>1</td>\n",
       "      <td>1</td>\n",
       "      <td>-1</td>\n",
       "      <td>...</td>\n",
       "      <td>0</td>\n",
       "      <td>6</td>\n",
       "      <td>2</td>\n",
       "      <td>31.000</td>\n",
       "      <td>0</td>\n",
       "      <td>0</td>\n",
       "      <td>12</td>\n",
       "      <td>39</td>\n",
       "      <td>0</td>\n",
       "      <td>1</td>\n",
       "    </tr>\n",
       "  </tbody>\n",
       "</table>\n",
       "<p>5 rows × 44 columns</p>\n",
       "</div>"
      ],
      "text/plain": [
       "   UsingIP  LongURL  ShortURL  Symbol@  Redirecting//  PrefixSuffix-  \\\n",
       "0        1        1         1        1              1              1   \n",
       "1        1       -1         1        1              1              1   \n",
       "2        1       -1         1        1              1              1   \n",
       "3        1        1         1        1              1              1   \n",
       "4        1        1         1        1              1              1   \n",
       "\n",
       "   SubDomains  HTTPS  DomainRegLen  Favicon  ...  hasQuery  maxWordllength  \\\n",
       "0           0      1             1        1  ...         0               7   \n",
       "1          -1      1             1       -1  ...         1               8   \n",
       "2           0     -1             1       -1  ...         0               9   \n",
       "3           0      1             1        1  ...         0               7   \n",
       "4          -1      1             1       -1  ...         0               6   \n",
       "\n",
       "   minWordlength  lowerUpper  noDigits  noUpper  noLower  lengthURL  countHyp  \\\n",
       "0              3      19.000         0        0       13         24         0   \n",
       "1              1       7.308         0        0       12        166         0   \n",
       "2              2      63.000         0        0       15         81         0   \n",
       "3              3      22.000         0        0       16         27         0   \n",
       "4              2      31.000         0        0       12         39         0   \n",
       "\n",
       "   class  \n",
       "0      1  \n",
       "1      1  \n",
       "2      1  \n",
       "3      1  \n",
       "4      1  \n",
       "\n",
       "[5 rows x 44 columns]"
      ]
     },
     "execution_count": 52,
     "metadata": {},
     "output_type": "execute_result"
    }
   ],
   "source": [
    "data.head()"
   ]
  },
  {
   "cell_type": "code",
   "execution_count": null,
   "metadata": {},
   "outputs": [],
   "source": []
  },
  {
   "cell_type": "code",
   "execution_count": 53,
   "metadata": {},
   "outputs": [],
   "source": [
    "#importing required libraries\n",
    "\n",
    "import numpy as np\n",
    "import pandas as pd\n",
    "import matplotlib.pyplot as plt\n",
    "%matplotlib inline\n",
    "import seaborn as sns\n",
    "from sklearn import metrics \n",
    "import warnings\n",
    "warnings.filterwarnings('ignore')"
   ]
  },
  {
   "cell_type": "code",
   "execution_count": 54,
   "metadata": {},
   "outputs": [
    {
     "data": {
      "image/png": "[encoded data removed]",
      "text/plain": [
       "<Figure size 640x480 with 1 Axes>"
      ]
     },
     "metadata": {},
     "output_type": "display_data"
    }
   ],
   "source": [
    "# Phishing Count in pie chart\n",
    "\n",
    "data['class'].value_counts().plot(kind='pie',autopct='%1.2f%%')\n",
    "plt.title(\"Phishing Count\")\n",
    "plt.show()"
   ]
  },
  {
   "cell_type": "code",
   "execution_count": 55,
   "metadata": {},
   "outputs": [],
   "source": [
    "# Splitting the dataset into dependant and independant fetature\n",
    "\n",
    "X = data.drop([\"class\"],axis =1)\n",
    "y = data[\"class\"]"
   ]
  },
  {
   "cell_type": "code",
   "execution_count": 56,
   "metadata": {},
   "outputs": [
    {
     "data": {
      "text/plain": [
       "((589, 43), (589,), (148, 43), (148,))"
      ]
     },
     "execution_count": 56,
     "metadata": {},
     "output_type": "execute_result"
    }
   ],
   "source": [
    "# Splitting the dataset into train and test sets: 80-20 split\n",
    "\n",
    "from sklearn.model_selection import train_test_split\n",
    "\n",
    "X_train, X_test, y_train, y_test = train_test_split(X, y, test_size = 0.2, random_state = 42)\n",
    "X_train.shape, y_train.shape, X_test.shape, y_test.shape"
   ]
  },
  {
   "cell_type": "code",
   "execution_count": 57,
   "metadata": {},
   "outputs": [],
   "source": [
    "# Creating holders to store the model performance results\n",
    "ML_Model = []\n",
    "accuracy = []\n",
    "f1_score = []\n",
    "recall = []\n",
    "precision = []\n",
    "\n",
    "#function to call for storing the results\n",
    "def storeResults(model, a,b,c,d):\n",
    "  ML_Model.append(model)\n",
    "  accuracy.append(round(a, 3))\n",
    "  f1_score.append(round(b, 3))\n",
    "  recall.append(round(c, 3))\n",
    "  precision.append(round(d, 3))"
   ]
  },
  {
   "cell_type": "code",
   "execution_count": 58,
   "metadata": {},
   "outputs": [
    {
     "data": {
      "text/html": [
       "<style>#sk-container-id-1 {color: black;background-color: white;}#sk-container-id-1 pre{padding: 0;}#sk-container-id-1 div.sk-toggleable {background-color: white;}#sk-container-id-1 label.sk-toggleable__label {cursor: pointer;display: block;width: 100%;margin-bottom: 0;padding: 0.3em;box-sizing: border-box;text-align: center;}#sk-container-id-1 label.sk-toggleable__label-arrow:before {content: \"▸\";float: left;margin-right: 0.25em;color: #696969;}#sk-container-id-1 label.sk-toggleable__label-arrow:hover:before {color: black;}#sk-container-id-1 div.sk-estimator:hover label.sk-toggleable__label-arrow:before {color: black;}#sk-container-id-1 div.sk-toggleable__content {max-height: 0;max-width: 0;overflow: hidden;text-align: left;background-color: #f0f8ff;}#sk-container-id-1 div.sk-toggleable__content pre {margin: 0.2em;color: black;border-radius: 0.25em;background-color: #f0f8ff;}#sk-container-id-1 input.sk-toggleable__control:checked~div.sk-toggleable__content {max-height: 200px;max-width: 100%;overflow: auto;}#sk-container-id-1 input.sk-toggleable__control:checked~label.sk-toggleable__label-arrow:before {content: \"▾\";}#sk-container-id-1 div.sk-estimator input.sk-toggleable__control:checked~label.sk-toggleable__label {background-color: #d4ebff;}#sk-container-id-1 div.sk-label input.sk-toggleable__control:checked~label.sk-toggleable__label {background-color: #d4ebff;}#sk-container-id-1 input.sk-hidden--visually {border: 0;clip: rect(1px 1px 1px 1px);clip: rect(1px, 1px, 1px, 1px);height: 1px;margin: -1px;overflow: hidden;padding: 0;position: absolute;width: 1px;}#sk-container-id-1 div.sk-estimator {font-family: monospace;background-color: #f0f8ff;border: 1px dotted black;border-radius: 0.25em;box-sizing: border-box;margin-bottom: 0.5em;}#sk-container-id-1 div.sk-estimator:hover {background-color: #d4ebff;}#sk-container-id-1 div.sk-parallel-item::after {content: \"\";width: 100%;border-bottom: 1px solid gray;flex-grow: 1;}#sk-container-id-1 div.sk-label:hover label.sk-toggleable__label {background-color: #d4ebff;}#sk-container-id-1 div.sk-serial::before {content: \"\";position: absolute;border-left: 1px solid gray;box-sizing: border-box;top: 0;bottom: 0;left: 50%;z-index: 0;}#sk-container-id-1 div.sk-serial {display: flex;flex-direction: column;align-items: center;background-color: white;padding-right: 0.2em;padding-left: 0.2em;position: relative;}#sk-container-id-1 div.sk-item {position: relative;z-index: 1;}#sk-container-id-1 div.sk-parallel {display: flex;align-items: stretch;justify-content: center;background-color: white;position: relative;}#sk-container-id-1 div.sk-item::before, #sk-container-id-1 div.sk-parallel-item::before {content: \"\";position: absolute;border-left: 1px solid gray;box-sizing: border-box;top: 0;bottom: 0;left: 50%;z-index: -1;}#sk-container-id-1 div.sk-parallel-item {display: flex;flex-direction: column;z-index: 1;position: relative;background-color: white;}#sk-container-id-1 div.sk-parallel-item:first-child::after {align-self: flex-end;width: 50%;}#sk-container-id-1 div.sk-parallel-item:last-child::after {align-self: flex-start;width: 50%;}#sk-container-id-1 div.sk-parallel-item:only-child::after {width: 0;}#sk-container-id-1 div.sk-dashed-wrapped {border: 1px dashed gray;margin: 0 0.4em 0.5em 0.4em;box-sizing: border-box;padding-bottom: 0.4em;background-color: white;}#sk-container-id-1 div.sk-label label {font-family: monospace;font-weight: bold;display: inline-block;line-height: 1.2em;}#sk-container-id-1 div.sk-label-container {text-align: center;}#sk-container-id-1 div.sk-container {/* jupyter's `normalize.less` sets `[hidden] { display: none; }` but bootstrap.min.css set `[hidden] { display: none !important; }` so we also need the `!important` here to be able to override the default hidden behavior on the sphinx rendered scikit-learn.org. See: https://github.com/scikit-learn/scikit-learn/issues/21755 */display: inline-block !important;position: relative;}#sk-container-id-1 div.sk-text-repr-fallback {display: none;}</style><div id=\"sk-container-id-1\" class=\"sk-top-container\"><div class=\"sk-text-repr-fallback\"><pre>LogisticRegression()</pre><b>In a Jupyter environment, please rerun this cell to show the HTML representation or trust the notebook. <br />On GitHub, the HTML representation is unable to render, please try loading this page with nbviewer.org.</b></div><div class=\"sk-container\" hidden><div class=\"sk-item\"><div class=\"sk-estimator sk-toggleable\"><input class=\"sk-toggleable__control sk-hidden--visually\" id=\"sk-estimator-id-1\" type=\"checkbox\" checked><label for=\"sk-estimator-id-1\" class=\"sk-toggleable__label sk-toggleable__label-arrow\">LogisticRegression</label><div class=\"sk-toggleable__content\"><pre>LogisticRegression()</pre></div></div></div></div></div>"
      ],
      "text/plain": [
       "LogisticRegression()"
      ]
     },
     "execution_count": 58,
     "metadata": {},
     "output_type": "execute_result"
    }
   ],
   "source": [
    "# Linear regression model \n",
    "from sklearn.linear_model import LogisticRegression\n",
    "#from sklearn.pipeline import Pipeline\n",
    "\n",
    "# instantiate the model\n",
    "log = LogisticRegression()\n",
    "\n",
    "# fit the model \n",
    "log.fit(X_train,y_train)"
   ]
  },
  {
   "cell_type": "code",
   "execution_count": 59,
   "metadata": {},
   "outputs": [],
   "source": [
    "#predicting the target value from the model for the samples\n",
    "\n",
    "y_train_log = log.predict(X_train)\n",
    "y_test_log = log.predict(X_test)"
   ]
  },
  {
   "cell_type": "code",
   "execution_count": 60,
   "metadata": {},
   "outputs": [
    {
     "name": "stdout",
     "output_type": "stream",
     "text": [
      "Logistic Regression : Accuracy on training Data: 0.966\n",
      "Logistic Regression : Accuracy on test Data: 0.959\n",
      "\n",
      "Logistic Regression : f1_score on training Data: 0.947\n",
      "Logistic Regression : f1_score on test Data: 0.939\n",
      "\n",
      "Logistic Regression : Recall on training Data: 0.952\n",
      "Logistic Regression : Recall on test Data: 0.920\n",
      "\n",
      "Logistic Regression : precision on training Data: 0.942\n",
      "Logistic Regression : precision on test Data: 0.958\n"
     ]
    }
   ],
   "source": [
    "#computing the accuracy, f1_score, Recall, precision of the model performance\n",
    "\n",
    "acc_train_log = metrics.accuracy_score(y_train,y_train_log)\n",
    "acc_test_log = metrics.accuracy_score(y_test,y_test_log)\n",
    "print(\"Logistic Regression : Accuracy on training Data: {:.3f}\".format(acc_train_log))\n",
    "print(\"Logistic Regression : Accuracy on test Data: {:.3f}\".format(acc_test_log))\n",
    "print()\n",
    "\n",
    "f1_score_train_log = metrics.f1_score(y_train,y_train_log)\n",
    "f1_score_test_log = metrics.f1_score(y_test,y_test_log)\n",
    "print(\"Logistic Regression : f1_score on training Data: {:.3f}\".format(f1_score_train_log))\n",
    "print(\"Logistic Regression : f1_score on test Data: {:.3f}\".format(f1_score_test_log))\n",
    "print()\n",
    "\n",
    "recall_score_train_log = metrics.recall_score(y_train,y_train_log)\n",
    "recall_score_test_log = metrics.recall_score(y_test,y_test_log)\n",
    "print(\"Logistic Regression : Recall on training Data: {:.3f}\".format(recall_score_train_log))\n",
    "print(\"Logistic Regression : Recall on test Data: {:.3f}\".format(recall_score_test_log))\n",
    "print()\n",
    "\n",
    "precision_score_train_log = metrics.precision_score(y_train,y_train_log)\n",
    "precision_score_test_log = metrics.precision_score(y_test,y_test_log)\n",
    "print(\"Logistic Regression : precision on training Data: {:.3f}\".format(precision_score_train_log))\n",
    "print(\"Logistic Regression : precision on test Data: {:.3f}\".format(precision_score_test_log))"
   ]
  },
  {
   "cell_type": "code",
   "execution_count": 61,
   "metadata": {},
   "outputs": [
    {
     "name": "stdout",
     "output_type": "stream",
     "text": [
      "              precision    recall  f1-score   support\n",
      "\n",
      "          -1       0.96      0.98      0.97        98\n",
      "           1       0.96      0.92      0.94        50\n",
      "\n",
      "    accuracy                           0.96       148\n",
      "   macro avg       0.96      0.95      0.95       148\n",
      "weighted avg       0.96      0.96      0.96       148\n",
      "\n"
     ]
    }
   ],
   "source": [
    "#computing the classification report of the model\n",
    "\n",
    "print(metrics.classification_report(y_test, y_test_log))"
   ]
  },
  {
   "cell_type": "code",
   "execution_count": 62,
   "metadata": {},
   "outputs": [],
   "source": [
    "#storing the results. The below mentioned order of parameter passing is important.\n",
    "\n",
    "storeResults('Logistic Regression',acc_test_log,f1_score_test_log,\n",
    "             recall_score_train_log,precision_score_train_log)"
   ]
  },
  {
   "cell_type": "code",
   "execution_count": null,
   "metadata": {},
   "outputs": [],
   "source": []
  },
  {
   "cell_type": "code",
   "execution_count": 69,
   "metadata": {},
   "outputs": [
    {
     "name": "stdout",
     "output_type": "stream",
     "text": [
      "['https://3659dd.net/\\n', 'https://www--wellsfargo--com--4y49329d48d6c.wsipv6.com/\\n', 'https://metamazk-log-usa.godaddysites.com/\\n', 'https://mateimsklogi.godaddysites.com/\\n', 'https://login.microsoftoline.larga-me.com/\\n', 'https://www--wellsfargo--com--r149329d48d6c.wsipv6.com/\\n', 'https://kraken-logines.godaddysites.com/\\n', 'https://www--wellsfargo--com--bv49329d48d6c.wsipv6.com/\\n', 'https://www--wellsfargo--com--by49329d48d6c.wsipv6.com/\\n', 'https://ttyp.io/\\n', 'https://smartcase.ltda/lD7krbUW7K7kU5/?id\\n', 'https://halosdfb.alphagg9.cyou.burasa.live/\\n', 'https://fndme.cloud/expire/\\n', 'http://shimmer-phase-sunscreen.glitch.me/\\n', 'https://3r2-i.cloud/expire/\\n', 'http://aelssunu4wc100293894752321.work.gd/\\n', 'http://krakkennnlogix.godaddysites.com/\\n', 'http://muitymesklogiz.godaddysites.com/\\n', 'https://cashappuk.top/\\n', 'https://www--wellsfargo--com--uw49329d48d6c.wsipv6.com/\\n', 'https://optusnet-com.blogspot.com/\\n', 'http://upollognn.mystrikingly.com/\\n', 'http://optusnet-com.blogspot.com.ee/\\n', 'https://metamask-logines.godaddysites.com/\\n', 'https://sdcuu.net/\\n', 'https://uopnilodlogniuix.godaddysites.com/\\n', 'https://fsargde-1f6d7.firebaseapp.com/\\n', 'https://help-id-meta-354262886.firebaseapp.com/\\n', 'https://help-id-meta-354262888.firebaseapp.com/\\n', 'https://help-id-meta-354262888.web.app/\\n', 'https://help-id-meta-354262880.firebaseapp.com/\\n', 'https://help-id-meta-354262886.web.app/\\n', 'https://help-id-meta-354262880.web.app/\\n', 'https://www.abet988.com/home\\n', 'https://smnagrcaissrginfo-comfr.firebaseapp.com/\\n', 'https://sharen-secondary.z13.web.core.windows.net/\\n', 'https://bafybeig5jm7rlcbuvakuxuxfdhsnhvqwzgqoe7pi7svamzdvi2kdsxwnre.ipfs.dweb.link/\\n', 'https://rsxwe2.xyz/\\n', 'https://bafybeieppefzrgioxnr266wbawojx362gvpon42rq34rlasdnqswhblp6a.ipfs.dweb.link/wellsfargo.html\\n', 'https://5gfhfg4g4g3f.blogspot.md/\\n', 'https://krakenloggen.godaddysites.com/\\n', 'https://www--wellsfargo--com--nx49329d48d6c.wsipv6.com/\\n', 'https://www--wellsfargo--com--2349329d48d6c.wsipv6.com/\\n', 'https://www--wellsfargo--com--2249329d48d6c.wsipv6.com/\\n', 'http://secureoffiice.mystrikingly.com/\\n', 'http://zllkuaa.com/\\n', 'https://thoskins.myportfolio.com/\\n', 'https://5ghhjyth4eg3f3g.blogspot.ru/\\n', 'https://datacraftsystems.in/wp-admin/onedrive2023/index.html\\n', 'https://kuccoin-lggin.godaddysites.com/\\n', 'https://track-myposts.com/1/\\n', 'https://shopebzd.com/\\n', 'https://tribalguruji.com/wp-includes/vt-tr/orange\\n', 'http://2629932.bm494174.web.hosting-test.net/orange.fr\\n', 'http://2629932.bm494174.web.hosting-test.net/orange.fr/\\n', 'https://www--wellsfargo--com--fn49329d48d6c.wsipv6.com/\\n', 'https://dhl-delivery.org/\\n', 'http://cg11873.tw1.ru/c-certicode/\\n', 'https://www.couponsonfire.com/wp-content/themes/it/intesa/2e69d/\\n', 'https://hcgdvf-102232.weeblysite.com/\\n', 'https://anazom.co.ip.azddeu.com/\\n', 'https://ajsjsss.godaddysites.com/\\n', 'https://accessible0-document-morroco-3jl58.ondigitalocean.app/\\n', 'https://domsochi.su/venture/453678657644453/99877e.html\\n', 'http://upholodlogimux.godaddysites.com/\\n', 'https://jade-wisp-85e82e.netlify.app/\\n', 'http://sign-in-att-106300.weeblysite.com/\\n', 'https://robunhood-loign-usa.mystrikingly.com/\\n', 'https://findmyi-cloud.mipaginaweb.us/\\n', 'https://www--wellsfargo--com--wt49329d48d6c.wsipv6.com/\\n', 'https://metmasiwallet.godaddysites.com/\\n', 'https://www--wellsfargo--com--7049329d48d6c.wsipv6.com/\\n', 'https://tqutne.webwave.dev/\\n', 'https://5tgfgfgfg3f3f3f.blogspot.hr/\\n', 'https://www--wellsfargo--com--w849329d48d6c.wsipv6.com/\\n', 'https://www.loja3pontos.com.br/index.html\\n', 'https://www.belezainbox.com/\\n', 'http://5fgfgfgfg4g4h4fg4.blogspot.com.ng/\\n', 'https://www--wellsfargo--com--lb49329d48d6c.wsipv6.com/\\n', 'http://appleinc-find.main-website.live/\\n', 'https://www--wellsfargo--com--ep49329d48d6c.wsipv6.com/\\n', 'https://www.cricketbettingpro.com/secure/express.php\\n', 'https://security-page-community-standards.blogspot.com/\\n', 'https://security-page-community-standards.blogspot.ba/\\n', 'http://trencheeukinternational.com/--/81933/Login.html\\n', 'https://holduplogic.godaddysites.com/\\n', 'http://mail.deliverylifesupport.com/public/Ce9ljDbIEJueNvDN82fSnt7o1Z7es6dY\\n', 'http://h03-i.cloud/\\n', 'https://bankofus.blogspot.ru/\\n', 'https://www--wellsfargo--com--be49329d48d6c.wsipv6.com/\\n', 'https://www--wellsfargo--com--3l49329d48d6c.wsipv6.com/\\n', 'https://autodiscover.cormail.ru/\\n', 'https://cold-sea-53b8.d4awdm4i.workers.dev/\\n', 'http://gemdieloguo.godaddysites.com/\\n', 'http://www.3pontosalfaias.com.br/\\n', 'http://robnhoodlogex.mystrikingly.com/\\n', 'https://metmsuk-wellatt.github.io/\\n', 'http://organisasi.bulungan.go.id/public/CilsVHN853qO6DnHigSnoqTkcJQ9Swbj\\n', 'http://organisasi.bulungan.go.id/public/sGddzscA0GKAtFJEKvBpPquvD3CRQVD3\\n', 'http://optusnet-com.blogspot.qa/\\n', 'http://bafybeidrhaw5s733neqthzu5bpagbtiu5ol676axpe4nbonnoni7ms62vq.ipfs.dweb.link/\\n', 'http://metamaassk.godaddysites.com/\\n', 'http://upholdcomlogin.mystrikingly.com/\\n', 'http://login2geminivolete9.mystrikingly.com/\\n', 'https://login-upholdt.mystrikingly.com/\\n', 'https://uopghokold.mystrikingly.com/\\n', 'https://llogin-uuphold.mystrikingly.com/\\n', 'http://coin-vbaseprollogin.mystrikingly.com/\\n', 'https://icloudfind-my.info/\\n', 'https://site-upholdlogin.mystrikingly.com/\\n', 'http://kucoinloginv.mystrikingly.com/\\n', 'http://upholdwelogin.mystrikingly.com/\\n', 'http://m.3656.at/\\n', 'http://metanmasklogin.mystrikingly.com/\\n', 'https://www--wellsfargo--com--wr49329d48d6c.wsipv6.com/\\n', 'https://bankofus.blogspot.sg/\\n', 'https://www--wellsfargo--com--pd49329d48d6c.wsipv6.com/\\n', 'https://www--wellsfargo--com--ct49329d48d6c.wsipv6.com/\\n', 'https://www--wellsfargo--com--f749329d48d6c.wsipv6.com/\\n', 'https://www--wellsfargo--com--aq49329d48d6c.wsipv6.com/\\n', 'https://www--wellsfargo--com--em49329d48d6c.wsipv6.com/\\n', 'https://www--wellsfargo--com--rq49329d48d6c.wsipv6.com/\\n', 'https://www--wellsfargo--com--rn49329d48d6c.wsipv6.com/\\n', 'https://www--wellsfargo--com--kw49329d48d6c.wsipv6.com/\\n', 'http://kos-tip.ru/\\n', 'http://kos-tip.ru/home/\\n', 'http://ghjjheumeni-loghin.godaddysites.com/\\n', 'https://www--wellsfargo--com--tg49329d48d6c.wsipv6.com/\\n', 'https://bafybeibja357ppwzjqohbxzuvge7d7lua23uv3tlwmcyx7axiphysz6qb4.ipfs.dweb.link/\\n', 'https://www--wellsfargo--com--f949329d48d6c.wsipv6.com/\\n', 'http://loginusrobinhod.mystrikingly.com/\\n', 'https://metamask-loegin.godaddysites.com/\\n', 'http://metmasklgin.mystrikingly.com/\\n', 'http://login-coinbas-pro.mystrikingly.com/\\n', 'https://coinbaseproprologin.mystrikingly.com/\\n', 'https://krakenlogain.mystrikingly.com/\\n', 'http://galisupor.c1.biz/\\n', 'http://krakin-uslgn.mystrikingly.com/\\n', 'http://upholdusslogin.mystrikingly.com/\\n', 'https://www--wellsfargo--com--th49329d48d6c.wsipv6.com/\\n', 'https://www--wellsfargo--com--tx49329d48d6c.wsipv6.com/\\n', 'https://www--wellsfargo--com--ta49329d48d6c.wsipv6.com/\\n', 'https://www--wellsfargo--com--tl49329d48d6c.wsipv6.com/\\n', 'https://metmaskwalet.mystrikingly.com/\\n', 'https://www--wellsfargo--com--pm49329d48d6c.wsipv6.com/\\n', 'https://www--wellsfargo--com--n349329d48d6c.wsipv6.com/\\n', 'https://www--wellsfargo--com--kd49329d48d6c.wsipv6.com/\\n', 'https://www--wellsfargo--com--t249329d48d6c.wsipv6.com/\\n', 'https://www--wellsfargo--com--ld49329d48d6c.wsipv6.com/\\n', 'https://www--wellsfargo--com--uv49329d48d6c.wsipv6.com/\\n', 'https://www--wellsfargo--com--v849329d48d6c.wsipv6.com/\\n', 'https://www--wellsfargo--com--un49329d48d6c.wsipv6.com/\\n', 'https://www--wellsfargo--com--um49329d48d6c.wsipv6.com/\\n', 'https://www--wellsfargo--com--uk49329d48d6c.wsipv6.com/\\n', 'https://www--wellsfargo--com--ud49329d48d6c.wsipv6.com/\\n', 'https://www--wellsfargo--com--u449329d48d6c.wsipv6.com/\\n', 'https://www--wellsfargo--com--tu49329d48d6c.wsipv6.com/\\n', 'https://www--wellsfargo--com--p349329d48d6c.wsipv6.com/\\n', 'https://www--wellsfargo--com--pf49329d48d6c.wsipv6.com/\\n', 'https://www--wellsfargo--com--pc49329d48d6c.wsipv6.com/\\n', 'https://www--wellsfargo--com--pa49329d48d6c.wsipv6.com/\\n', 'https://www--wellsfargo--com--pj49329d48d6c.wsipv6.com/\\n', 'https://www--wellsfargo--com--p849329d48d6c.wsipv6.com/\\n', 'https://www--wellsfargo--com--p649329d48d6c.wsipv6.com/\\n', 'https://www--wellsfargo--com--p549329d48d6c.wsipv6.com/\\n', 'https://www--wellsfargo--com--p449329d48d6c.wsipv6.com/\\n', 'https://www--wellsfargo--com--jt49329d48d6c.wsipv6.com/\\n', 'https://www--wellsfargo--com--m749329d48d6c.wsipv6.com/\\n', 'https://www--wellsfargo--com--na49329d48d6c.wsipv6.com/\\n', 'https://www--wellsfargo--com--n149329d48d6c.wsipv6.com/\\n', 'https://www--wellsfargo--com--n249329d48d6c.wsipv6.com/\\n', 'https://www--wellsfargo--com--mf49329d48d6c.wsipv6.com/\\n', 'https://www--wellsfargo--com--mv49329d48d6c.wsipv6.com/\\n', 'https://www--wellsfargo--com--hf49329d48d6c.wsipv6.com/\\n', 'https://www--wellsfargo--com--hd49329d48d6c.wsipv6.com/\\n', 'https://www--wellsfargo--com--h149329d48d6c.wsipv6.com/\\n', 'https://www--wellsfargo--com--gt49329d48d6c.wsipv6.com/\\n', 'https://www--wellsfargo--com--gu49329d48d6c.wsipv6.com/\\n', 'https://www--wellsfargo--com--ga49329d48d6c.wsipv6.com/\\n', 'https://www--wellsfargo--com--ka49329d48d6c.wsipv6.com/\\n', 'https://www--wellsfargo--com--d549329d48d6c.wsipv6.com/\\n', 'https://www--wellsfargo--com--bp49329d48d6c.wsipv6.com/\\n', 'https://www--wellsfargo--com--ax49329d48d6c.wsipv6.com/\\n', 'https://www--wellsfargo--com--b249329d48d6c.wsipv6.com/\\n', 'https://www--wellsfargo--com--aw49329d48d6c.wsipv6.com/\\n', 'https://www--wellsfargo--com--ad49329d48d6c.wsipv6.com/\\n', 'https://www--wellsfargo--com--ah49329d48d6c.wsipv6.com/\\n', 'https://www--wellsfargo--com--a949329d48d6c.wsipv6.com/\\n', 'https://www--wellsfargo--com--9v49329d48d6c.wsipv6.com/\\n', 'https://www--wellsfargo--com--9t49329d48d6c.wsipv6.com/\\n', 'https://www--wellsfargo--com--9l49329d48d6c.wsipv6.com/\\n', 'https://www--wellsfargo--com--9d49329d48d6c.wsipv6.com/\\n', 'https://www--wellsfargo--com--9q49329d48d6c.wsipv6.com/\\n', 'https://www--wellsfargo--com--9c49329d48d6c.wsipv6.com/\\n', 'https://www--wellsfargo--com--9e49329d48d6c.wsipv6.com/\\n', 'https://www--wellsfargo--com--2449329d48d6c.wsipv6.com/\\n', 'https://pub-b329e8bfab1749cab4b0b99758e177fc.r2.dev/dam.htm?email=3mail@b.c\\n', 'https://www--wellsfargo--com--0a49329d48d6c.wsipv6.com/\\n', 'https://thagaco.com.vn/wp-includes/nvlo/m8amhif/3mail@b.c\\n', 'https://www--wellsfargo--com--0949329d48d6c.wsipv6.com/\\n', 'http://leafy-pony-0531fb.netlify.app/\\n', 'http://cerulean-macaron-ed4098.netlify.app/\\n', 'https://remarkable-eclair-245249.netlify.app/\\n', 'https://ilogbpool.pages.dev/\\n', 'https://bnhn.net/\\n', 'https://amzwon.net/?r=67256527-a145-4161-a4f2-a469411afda4\\n', 'https://ikkuvrbhtw.duckdns.org/\\n', 'http://qwickperf.azurewebsites.net/\\n', 'http://ipfs.io/ipfs/QmQfwYxCYKCENbcvc6shmYGbUzZh2M1BmGTBrg6LT87ryM?filename=crdunc90nst0019.htm\\n', 'https://carhandel.com.pl/authorize.php?JEXwIEqEouISIB79VbswCWiIVvnjCvGLWqYSKagiTZ244dQxrczdkwuJmfMmYL4mGz0ujlHW0DCLmrDfZYRcEtE2TdUGqCumWBY5SUS4EbOvRaHvJZCnwTXMuNH5VwYgXh3CcqNtG0mJm2YL8GpEUJyJkBCeI192AAsF2qLFs3Z6yzE1rodrOPyi64rwB1qoPyii7wBu9P0AfmRPzl80mGktJDjqQFfrUSS8zxogqldlLIjJKIuZtXpADPDxvmHp=\\n', 'https://pub-4ed5934605ff4954adf0302b77f1d8c3.r2.dev/update.html?email=3mail@b.c\\n', 'https://zsasspxbhf.duckdns.org/\\n', 'https://www.professionalips.com.co/file/ajY/3mail@b.c?overrideMobileRedirect=1\\n', 'https://ensor.com.mx/aaa/\\n', 'http://accounts-dot-devsnapchat.appspot.com/\\n', 'https://kyc-metamask.easterndns.com/sdfuigjnkfuihs/eea1c\\n', 'https://mercadolibre33.com/\\n', 'https://clinquant-buttercream-d4fa95.netlify.app/\\n', 'https://t41g6gaudiwr4art01hzc1sto3r4nte-65218347249.shopifypreview.com/\\n', 'https://clon-mercadolibre-c91iyxolr-alecanavire.vercel.app/\\n', 'http://vanliquor.pages.dev/\\n', 'https://ltpakid-paulaudrey1727228.codeanyapp.com/ecolis/track/DH2tAyUe9AsUx7b253/\\n', 'https://vlqwxwphol.duckdns.org/\\n', 'https://uaspyn.top/\\n', 'http://one7one.com.au/navy\\n', 'http://mercadolibre65.com/\\n', 'https://raspy-frost-9f32.app-cloudshareid436969.workers.dev/images/bg.jpg\\n', 'https://www--wellsfargo--com--v749329d48d6c.wsipv6.com/\\n', 'http://smnagrcaissrginfo-comfr.web.app/\\n', 'https://kin-kin.sa.edu.au/M&TBank/\\n', 'https://www.moncomptegoogle.com/\\n', 'https://www.moncomptegoogle.com/accounts.gmail.php\\n', 'http://www.mercadolibre57.com/\\n', 'http://www.mercadolibre58.com/\\n', 'http://www.mercadolibre68.com/\\n', 'http://deliverylifesupport.com/public/3SbmcgT1Z2ibJS9uRCiZrlgzXXc8LU7o\\n', 'https://deliverylifesupport.com/public/rXc0pDxKEIM1m8p34rYfl4gQQKLImCB4\\n', 'https://mlsudamerica-ar-c66c52.ingress-bonde.ewp.live/\\n', 'https://philemoncimon-1316850103.cos.eu-frankfurt.myqcloud.com/philemoncimon.html\\n', 'https://avesttuser1.dvrdns.org/personal/logon.php\\n', 'https://bpos.com.au/fb/login/\\n', 'https://desertvalleyoralsurgery.com/wp-content/image/index.html\\n', 'https://www.metamask.io.pjbtecnologias.co.mz/secure.html\\n', 'http://www.metamask.io.merge.pjbtecnologias.co.mz/secure.html\\n', 'https://cheerful-wandering-aurora.glitch.me/\\n', 'https://docapps.blob.core.windows.net/adobedoc/doc.html\\n', 'https://globalgtt.online/9709c72b77d37a4f37t93b87817z31cec6b1.html\\n', 'https://event-claimz.fec.my.id/\\n', 'https://mercadolibre55.com/\\n', 'http://optusnet-com.blogspot.ru/\\n', 'https://www.attemplate.com/ind/d420b80d-bc1a-429d-b6c6-587896c20153/eb36f5b6-80b9-4e73-9f2f-c9c10ba7add0/e1e2de4a-9968-402a-b422-64c2792a0b75/login?id=NGEyb1BCa2YzckVBRGNGTjNuMW5ZQjBTNzYxaGVDdVhUcldJb1Q5WmVRdUJDajlSTXVlNXFzK1VDSVJvOFNQSzVWSmtQRXhBcitDeWRZUHRLZmpuRWVOY05nN1RQNC9oQVhEcjVKcVhsVDRTY2tMclFrb0pESEZnOUpqVXYzOW1ONXNtOFU3SDdHNlFZOWkvR001UWNZWVk3Z1JGLzJjekJIYVdYWUI3aVdsVDQydVF6NmVoTm03bUpPSHNLMVpYU0I4WjEyVkhXdkFhaEplSysrdmFCMzZUOTZ0ZXRaT25hRkJlcVI1RXhHVEk3dHdOZnluZ2xybGhHWjBHQlhnN1BLWVpuUGdxc2dKSU1TdEsydVU1cGQ3M3NHbXpMdGhYdEFENEtYY01iRC9oanh6T2gxcGJGcVpPK1NvK0Y5Wm9peUNlTW8wNkRoLy9idWE4a3hEQVVQVno3QnVVcXhlWGlDNDd4OFk1NlRZWWRDSjlqdUZObUs0UEt2dVhkS1NjZmtHdVFPOFovV1dnQ3ZGZlU5KzVKQT09\\n', 'http://ipfs.io/ipfs/bafybeig5ol5efy3et3fqy45g6qaowxhcvrdcwvpnxaqra6r6kdeqrj6anq/arshes.html\\n', 'https://allisonroofing.com/i.php\\n', 'http://xemail.chrissco.live/home/\\n', 'https://pub-0bd1133c4f8d442c9f613e1339bfe991.r2.dev/Pay.html?email=3mail@b.c\\n', 'https://www.professionalips.com.co/Payment/sf_rand_string_lowercase(6)/3mail@b.c\\n', 'http://45.15.131.62/\\n', 'http://hardwoodbr.com/SCCU/\\n', 'http://hardwoodbr.com/SCCU/index2.html\\n', 'http://hardwoodbr.com/SCCU/security.html\\n', 'http://hardwoodbr.com/SCCU/personal.html\\n', 'http://hardwoodbr.com/SCCU/otp.html\\n', 'https://bee7e3hdbceu32839238-8jfhnjdnfcbndbce7384838339ijkcnjhdf.weebly.com/\\n', 'https://kyc-metamask.easterndns.com/sdfuigjnkfuihs\\n', 'http://fantastic-crepe-779ade.netlify.app/\\n', 'http://vodafone-internet.it/\\n', 'https://ipfs.io/ipfs/QmVpr9UDFkd7P7etxRJRW27nXYtvXLfiBEbKyhAU97r4dr?filename=webmail.html\\n', 'https://jaledace.wixsite.com/my-site\\n', 'https://3659vip12.com/\\n', 'http://manager.infoempire.us/\\n', 'http://validiateconnect.com/\\n', 'https://videosin.live/\\n', 'http://login.member-setups.workers.dev/\\n', 'http://signinmyiphone.gsmserver-pro.com/\\n', 'https://steamproxy.co/\\n', 'https://wsw-roblox.com/users/304850384/profile\\n', 'http://idevice-sign-in.gsmserver-pro.com/\\n', 'http://36562022.com/\\n', 'http://bet3659l.com/\\n', 'http://3659yy.net/\\n', 'http://3659mmm.cc/\\n', 'http://3659sss.com/\\n', 'http://03713659.com/\\n', 'http://nlrxh5.webwave.dev/\\n', 'http://polite-valkyrie-35ba32.netlify.app/\\n', 'https://mail.deliverylifesupport.com/public/0w3E5qt4dUApsQN1q9m7xUJhDkcwf5vg\\n', 'http://bafybeigsm7rfpd7itvqudvkeuqkoekbmkth3lctyb4lifayye3pxnl6xxy.ipfs.dweb.link/\\n', 'https://secure-rozsg.run-eu-central1.goorm.site/apav/palpay/login.html\\n', 'https://xx836591.com/\\n', 'https://ecocashback.kz/s/loaded/\\n', 'https://coopenae.online/\\n', 'http://njwljmf44d.loclx.io/m21/main.php\\n', 'http://njwljmf44d.loclx.io/m21/\\n', 'http://package2021.blogspot.com.mt/\\n', 'http://package2021.blogspot.ca/\\n', 'https://asgdshsd.virtalc.repl.co/\\n', 'https://6a8c8ebf-95ab-49d0-a880-0dfcf358cddd.id.repl.co/\\n', 'https://www.gliderglobal.com/home.php\\n', 'https://schadcovessuit.sbs/LAMY/caplock\\n', 'http://6bet988.com/\\n', 'http://zjhfsaa.com/\\n', 'https://upvslpwpcb.duckdns.org/\\n', 'https://upiplgfqtt.duckdns.org/\\n', 'https://utthrgzurv.duckdns.org/\\n', 'https://usllccipyi.duckdns.org/\\n', 'https://steamconmmuuntiy.com/profiles/7656362828332097\\n', 'https://ipfs.best-practice.se/ipfs/QmXrRB1QHJKxuXaBcxiUEAAXZQ4DiNSEaoCEwtVz6EV6Hy/\\n', 'https://www.biomaarquitetura.com.br/wp-admin/css/colors/blue/info.html\\n', 'https://40.90.22.191/\\n', 'https://att-106056.weeblysite.com/\\n', 'http://iweb3protocol.com/explore.php\\n', 'https://office365ffdocserert.z13.web.core.windows.net/index.html\\n', 'https://jemala.com.au/owaa/logon.php\\n', 'https://mail.deliverylifesupport.com/public/B9nKd1R0R4K87vAhHnIGsp4bpTevL1xS\\n', 'https://view234.com/branchs/nim.php?id\\n', 'http://mail.deliverylifesupport.com/public/uXPqysm0bjKBoMGd3C0VsoqqaVMnbccx\\n', 'http://mail.deliverylifesupport.com/public/oyNwiKBDCZmUXPvUS5gjvfGMQmdX8Sgl\\n', 'https://mail.deliverylifesupport.com/public/nt9FBnziismE3jvYzYJzeRA0IvZfKnWK\\n', 'https://mail.deliverylifesupport.com/public/DNSTfUr70wcMVVrKiKnwjNZu44zgkeJw\\n', 'https://uttered-entry.000webhostapp.com/Update/\\n', 'https://deliverylifesupport.com/public/kYBXeZ1T6IUDJQoe8CMy7w8qOUcCe7k0\\n', 'https://deliverylifesupport.com/public/6CbSGvdb4r4zIZQS6jQVOrYf52teEnlh\\n', 'http://mail.deliverylifesupport.com/public/0uwFOxFiElKrJGqmqEhYc8RREkGLYg6g\\n', 'http://deliverylifesupport.com/public/nAgKuUWwwnquOGXty3TvEOcgmMRS9zyU\\n', 'http://mail.deliverylifesupport.com/public/3l3vFHslr4RtJOQsARdToTdze43R4if8\\n', 'https://prockoinbaselogen.gitbook.io/\\n', 'https://luisantoniolima.com.br/wp-includes/e-file.html\\n', 'https://thiffowszk.duckdns.org/\\n', 'https://f7rcvz.qs619h.gov.shuaihu99.com/\\n', 'https://my.3-60.com.co/bancolombia3/mua/USER/scis/j6UnVHZsitlYrxStPNFUN4TsSjgEJkN7dlDp6FXSjFxO/3D/no-back-button/\\n', 'https://bancolon.433434.com.co/bancolombia/mua/user/scis/j6unvhzsitlyrxstpnfun4tssjgejkn7dldp6fxsjfxo/3d/no-back-button/index.php\\n', 'https://tcfokzqone.duckdns.org/\\n', 'https://szunamdjtx.duckdns.org/\\n', 'https://svyspvekuu.duckdns.org/\\n', 'https://snumrpzymy.duckdns.org/\\n', 'https://panamericanlatino.com/public/app/en/\\n', 'https://sesdpmzmoa.duckdns.org/\\n', 'https://shynlncleq.duckdns.org/\\n', 'https://steamconmmuuntiy.com/profiles/7656151657051268\\n', 'https://coimbasuproslogen.gitbook.io/\\n', 'https://sbuccsfder.duckdns.org/\\n', 'https://usscomnbseprologin.gitbook.io/\\n', 'https://grupwhattsappchat.mylink2023.cfd/\\n', 'https://psoqrexkgt.duckdns.org/\\n', 'https://rizthydgqn.duckdns.org/\\n', 'https://jilmekq.link/\\n', 'https://pzulffzosn.duckdns.org/\\n', 'https://rapdykqtlk.duckdns.org/\\n', 'http://mail.deliverylifesupport.com/public/h3dd3Xkutu6U4oxy7332tX10ZaxYFguW\\n', 'https://qvhthbccbk.duckdns.org/\\n', 'https://qdkiayzcxe.duckdns.org/\\n', 'https://qkrjivydtr.duckdns.org/\\n', 'https://networklinkilonfrt.work.gd/\\n', 'https://dd365c.com/\\n', 'http://exuberant-toothpick.000webhostapp.com/\\n', 'https://orwtionvtl.duckdns.org/\\n', 'https://paqwjayvlw.duckdns.org/\\n', 'https://oyuzhaxzkt.duckdns.org/\\n', 'https://oyefzgvcmf.duckdns.org/\\n', 'https://globalgtt.online/9140c428077e1540a2ta8c485b5zbc317f85.html\\n', 'https://oopkuuxscj.duckdns.org/\\n', 'http://leanbin.net/\\n', 'https://onbbkfhrxy.duckdns.org/\\n', 'http://metamask.io.merge.pjbtecnologias.co.mz/\\n', 'https://okbbghnpsf.duckdns.org/\\n', 'https://oefgwklbiw.duckdns.org/\\n', 'https://ofcbcjycwg.duckdns.org/\\n', 'https://nzmnpkmmwl.duckdns.org/\\n', 'https://nuwibrfnzk.duckdns.org/\\n', 'https://nwcqowhrza.duckdns.org/\\n', 'https://mobile-de-064863164.de/login.php?SID=6cEDiWYX01AuCBtnUQv4KbL9O7hVTPdkRwxNFroMlpjISzqeZsyG53Jgf2a8HmYSztf2NPxdjCy1MHv0IcWQrsXO58khJUFqTAaGLV3DebBnKEZi46p9lowu7gRm83700660806\\n', 'https://nflfjxxofl.duckdns.org/\\n', 'https://unfurrowed-acceptan.000webhostapp.com/bellsouth123/\\n', 'https://unfurrowed-acceptan.000webhostapp.com/bellsouth123\\n', 'https://nidxgfksok.duckdns.org/\\n', 'https://visionacon-noi.com/\\n', 'http://omnibar.com.br/\\n', 'https://fsargde-1f6d7.web.app/#/\\n', 'https://urlv.fr/3883\\n', 'https://www.doctricant.com/nam/9154235b-11e1-41a7-bf20-4de4e3f93a4b/953dc04f-73e8-43d6-9016-518d329d1dcc/49335c2f-451f-41cc-bf1b-34ba0064e622/login?id=Q01MTm1MUm1RR2NnWW91anpzQnNhb2wrTWxrT3BVMkh5UU5XS2JWSmE1N1J0M2FtRGFUbmxmYjRGSExvcU1obUt1eHF4MndUQkdQVVRTS2VCWExyTytDMjBVS3JSYjJKMEhaeG5hNm91aEcxVWZraGk1RHBiR01FdktzSjVDM2FCN3RnRlFBMmVTdkxPcmxSMk5GelZYcW9rOW5NTXI3QTZtYnJZa2JoSTZrNVZia3M0SVh2b3FjdUFzaGdIc00rUGxPMzliUEo4dlVRN0xXalE0SWVQcEJFZFVoSjhlRHJyNXI0c3dpTkdhbkkvY1BDb3djQm1iVVIra0lQOWNZTkRxcEE2OW91SUJGQnNhcld0ZGNSZHd0R2lqcXpiYUpjck5yVHpsZml5ZXNSTVFBYTlmWitkbVdFOEpHOWxaSWRrOWZsMDZZWkxKTitVWnhVb0VEMlNsM09NL0pzOG5VVm5uODVoR3JFd3BwVEI1U2tiNldFeVluaE04dHVEMUJ1bkhyWFJCbTl2NUh5SjlvcjZ0RmJpQT09\\n', 'http://coinbseperologinns.gitbook.io/\\n', 'https://mmotdrvmcr.duckdns.org/\\n', 'https://mhqhmkcrej.duckdns.org/\\n', 'https://madowokeki.duckdns.org/\\n', 'https://mftbqedqqv.duckdns.org/\\n', 'https://www.doctricant.com/nam/9154235b-11e1-41a7-bf20-4de4e3f93a4b/953dc04f-73e8-43d6-9016-518d329d1dcc/b39b6a3c-ad89-4ba9-8bcc-f86fc93e382d/login?id=bUpnNHo4SEJPcjdrSWNNYXVKRWdpQWpVZ2RSdHd4K1Z0d3dnVys5cTB3RU9BcjV1UTZERlJLQXh2L2RkRjVXYW01bnNZM0hqZmczcTFjUmVSREZJWHYzZ2RsTnovdmlLZTg4TjNNSHMyaVVPL0xYYmlmRFhkUEE2WlpHTnczWUNhWFlETXBFdGpBUEZSQUtmVUhtRkxxeVY5ZFhHOHFSOWNYTVJTNGMwZk1xM3dtUWFqZDlsMWJHVTNmQ1VuWmk1QWd5QytYVktDM25YR3doVWlYV25ENFFzczViMk1ESURzaUxmUEx4cWhGZ25XbStLSEJBQ1JuZlhMVU9iOUVWWGpLSm84elI2ZWpmZldId21sK0FpOTZKOVFWVzNiUmJQMkpTc1NoTi85YXkxSVRmMDlBRU83cDNqeEI1dkZnTjdicTZtbndnSHVIbVhObjZZRUx5eGxJQzBSZkJWSDZITFVyNnA3YjIyNHpwNXA2a2hmcEV1SUptblFDRHZDMVZpZ2JPL21EeDUwcERpNlVpR0hZdk1tUT09\\n', 'https://lsgvkhkxrd.duckdns.org/\\n', 'https://boa.tuumalo.com/demo.html\\n', 'https://gigantic-ordinary-echium.glitch.me/?kiYEvfXx=co2rVykPOTGB44vKN1Ou&email=3mail@b.c&tR8uKtyCZYLbK3WjxxNFZ5hF7vwaSr3oOX3M39VS6n4SEag6q29=GCrXWlrLARLbKeix3FWr5getenHXR0kvowTShcSDwiBu8277gB\\n', 'http://36596666.net/\\n', 'http://swrportailmessgerie09.uflorist.pro/\\n', 'https://mobile-de-064863164.de/index.php\\n', 'https://lgqvikaeon.duckdns.org/\\n', 'http://adminconfirmpage.duckdns.org/\\n', 'https://www.doctricant.com/nam/9154235b-11e1-41a7-bf20-4de4e3f93a4b/953dc04f-73e8-43d6-9016-518d329d1dcc/2c7ed389-28d1-41bd-885b-f9680d9b3e7d/login?id=ZkJlalFtS1pib0J0UXhWYUh5K2wzbVphbEUrZkRsMUVsMVpmUXlMRUw0NFhGYTlCa05GaHBXRWlzMUFUYXNGVFNlQ2NIalBkczg4ZTdmYVBiY21mMkc3cjE4TkJWcFQvTitDQkxKU2paRUNkOTd6azBYRTd2NHlTRXI1cGcxcCt6NTFCOTRDTzlBTElGQ09oSjNYOTBoOEdhNXJRSldCWDdEb2NWWUNiMzgxZDRZZ2tXZUZoUUlzMG9wcHFDZTJEaC9yM2lha3l4dkgzb3VodElUR3ZwZkdxZEZPLzFXZ2FNVE9mQ3A3Y3BqTCtibmdFc3BES1g2Yk51L3NmdjV2eUJJYlZkZzByOEIvYnFOcHJnT0x3cnJuaHJrVFhFRklpeHlHZUZhalpRYis5RU5HTFYvNW5QYWdxVStKZ1VIVkZYYWcwc2tGYjV3eEFjaE1vZHFVeTk1LzlFMlNvVFkyakNoWGFibmV2VUpUUEJFYjZ3NXJ4UUdpOTl3aXd4UjZDUGxaVWkzNkV4M0xOVTIwbkhNMURUQT09\\n', 'http://0ed59bc.wcomhost.com/de/pst/2e0b08b67b11fb241f7b\\n', 'https://www.doctricant.com/nam/9154235b-11e1-41a7-bf20-4de4e3f93a4b/953dc04f-73e8-43d6-9016-518d329d1dcc/c6f3fc1a-784b-4ac4-a797-00ca81486e80/login?id=dFhjUVgrMWFkVmhRSlAyTHprdXlUc2NlRVJRK0tFUU1UY1RBcFFZRFpiWlBiS3ZpWU9KbE1mellyaUdnZ3ZKbWVReHJIZGVlVFREeDYybytxMFpUQzNvd25jNnJ1S2czMDdTbmR5TEFsdmJPazFGd3c3OVljOXpQcjUzbTZsbW1JdmNIaG9TOWRXYlpXUm83eVdMSGZuODUrVzVZbGdhR0hQckhodTU1Y2tGRWhLVFNwNHJZM2h2cmZsTFdoNWhKN0o1WnNRaXBLWmVrN3VjYVRDSlA5UXV4THBiZkZPTVZnNElRUU5xWm1oUmpyYUVZSkpUS3VxS2xYN0hIci8yOWIxUURTc2FPZ2phQUFuVnJ3dVJLR09BL0FhbW80THUyNkJ4UmZCa29ta2x3NFd0YTZkMnVobWNIQ2NxN0o4dy9GVjAyRW9nK1BXOWM1WGhtdEViQUtibVZoU1dJVDBHTTMxejlhYlh1SmpGb1pxcVNwQmY5STNiT09wSmVlZVk0VWcrMFM4aElab3JVdEJjNkVzQ1ZJQT09\\n', 'https://kryewvjusl.duckdns.org/\\n', 'https://kelyhfixnz.duckdns.org/\\n', 'https://jzakyxtsaw.duckdns.org/\\n', 'https://wealthgrowth.online/well-known/251/330e5ce905d489b7f3bda9ea39f27083/execution.html?validation=e1s1\\n', 'https://jnydeahhru.duckdns.org/\\n', 'https://jrolxifvka.duckdns.org/\\n', 'https://www.shareholds.com/eur/a5839d11-3ae4-4e46-a6cb-db2abb961dfc/d123f7c8-e119-41c6-8f46-0578e602c934/12df9af8-46a1-45fa-b7c9-9c6748ccf3e9/login?id=UmNrTVJ0V2NHNmh1WVN0dFRHOTlzTmZpVVZGZFJYSzFTMGI5ekw1R1UrN0pQRUZQNzlUc3lrMWcvQUtVcllhT1pZazRQZWk0SFQ4blduYUh6cUxna3ErWHNPNjFTLzFJeDJjdlJTbWdHYmFMU2hNTUd2WHNFbGlFd0FyK1pCRDZCWGRpWFRqOEhuYWRYaStDb3pkS0FIMFdUdkoza1lxY0ZQeEp3TlRFWGtONTUzY0w2cVpWWkJRNERQaFhCZk5qK2MybDVZcmU1c09ESnpETGdzRlJPZURDZ21lMUlhUzlIK05jSG9LUjFtSXZDRE0vZkZtTWpKTWFyOFh5c05vYjNQTEl4ejZDbmRJK3VMYTUyT0Rrcy9jck8wR1oxUkMwRzR3b25DZ3lGT2ZDMkNrYm1MR2d0RmNSSXJDbTNtMDB1aWJndFBNcVpMVWRsOU5CQnBGS2tiNmdyTER4SzE0UFNNay9YcUU3OFhXcFhiczR3a1ZWRDN1QmZJV2hsM1dLeWlBOFUveWhadkNibjhPemJBb1BtTDFuTlFkMC9BM0FtdUM5YTlKOEFKST0\\n', 'https://jkdcnivuje.duckdns.org/\\n', 'https://jeifgryvuk.duckdns.org/\\n', 'https://iyoqnctefu.duckdns.org/\\n', 'https://citi.stanleytoo.com/\\n', 'https://isworobjwg.duckdns.org/\\n', 'https://idyjaymgcf.duckdns.org/\\n', 'https://mannie73835.wixsite.com/my-site\\n', 'https://is.gd/Yx0FGz\\n', 'https://rdsnco.com/cre/\\n', 'https://comm.cmbidnet-au.com/login.php\\n', 'https://hqdhwpfzjc.duckdns.org/\\n', 'https://hnnoknydwj.duckdns.org/\\n', 'http://www.anzdfaf.com/load/\\n', 'https://hetpyevokk.duckdns.org/\\n', 'https://hgxbdbeyzv.duckdns.org/\\n', 'https://hdtssntfgm.duckdns.org/\\n', 'http://0ed59bc.wcomhost.com/de/pst/3fa71c1b76b2392c35e8\\n', 'https://govdpigcrw.duckdns.org/\\n', 'http://correoswsi.top/\\n', 'https://gktutschzh.duckdns.org/\\n', 'https://fttygslrue.duckdns.org/\\n', 'https://bzware.io/fata/login/index.php\\n', 'https://bzware.io/fata/login/seguranca.php\\n', 'https://ellabe8982.wixsite.com/my-site\\n', 'https://globalgtt.online/9140fd2dd7e4cb497ct82668b33z367d7e33.html\\n', 'https://fhktoaqhzz.duckdns.org/\\n', 'http://violationcontrol34149071.click/?lang=na\\n', 'https://eraqhvtuwe.duckdns.org/\\n', 'http://sepoies.twmob.com/\\n', 'https://www.cfdcoinbase.com/\\n', 'http://descriptive-artistic-mare.glitch.me/NFCUMobileApp.HTML?entity=4892463\\n', 'https://egnrzwjxkv.duckdns.org/\\n', 'https://pembelokiranfacebookmark.rezz.site/\\n', 'https://whatsappchat-grup.mylink2023.cfd/\\n', 'http://hungryfriend.com/\\n', 'https://0ed59bc.wcomhost.com/de/pst/\\n', 'http://0ed59bc.wcomhost.com/de/pst/ac3e02a4a964612fa927/\\n', 'https://dvjzlnfdgr.duckdns.org/\\n', 'https://rjuiz.cf/office365-MD6-Popup/\\n', 'http://cwdrwjlrar.duckdns.org/\\n', 'https://dgszlpzllo.duckdns.org/\\n', 'https://dbnxywyzua.duckdns.org/\\n', 'https://cvqcvkvebn.duckdns.org/\\n', 'http://verifikasipemblokkiran.mylink2023.cfd/\\n', 'https://savorgourmetmarket.com/99877e.html\\n', 'https://surprisednecessaryarchitects.hbgsdfs4353.repl.co/\\n', 'https://bancolon.433434.com.co/bancolombia/mua/WAITING/scis/j6UnVHZsitlYrxStPNFUN4TsSjgEJkN7dlDp6FXSjFxO/3D/no-back-button/\\n', 'http://comm.cmbidnet-au.com/\\n', 'https://ebay-de.formatierung-versand.org/getpayment/189625940\\n', 'https://cartomanziatrigono3.it/wp-includes/new/auth/sn2ch6/rebecca.ansinn@weareera.com\\n', 'https://cartomanziatrigono3.it/wp-includes/new/auth/7uthvj/rebecca.ansinn@weareera.com\\n', 'https://cfifadctyb.duckdns.org/\\n', 'https://www-roblox-com.site/\\n', 'https://wealthgrowth.online/well-known/251/61f90e66dfe537c79039a6bc1e742fd2/execution.html?validation=e1s1\\n', 'https://wealthgrowth.online/well-known/251/6937355b8883c93d01c13c72f23fa9d8/execution.html?validation=e1s1\\n', 'https://34696.a6brpq.3x3m0u.shuaihu99.com/\\n', 'https://atlqqgsjpr.duckdns.org/\\n', 'https://auzdkguqzd.duckdns.org/\\n', 'https://bfqqygweum.duckdns.org/\\n', 'https://victorianhoofcareservices.com.au/ToruzABpdffile\\n', 'https://verifikasipembelokiranfacebook.rezz.site/lanjut.php\\n', 'https://verifikasipembelokiranfacebook.rezz.site/\\n', 'http://iweb3protocol.com/\\n', 'https://comm.cmbidnet-au.com/alert.php\\n', 'https://experiencedknobbychords.crepinga.repl.co/\\n', 'https://aqranspfpk.duckdns.org/\\n', 'https://amdjogrjfp.duckdns.org/\\n', 'https://aibzepdlqc.duckdns.org/\\n', 'https://ajsbyfduex.duckdns.org/\\n', 'http://lambent-nasturtium-f25966.netlify.app/\\n', 'http://my-site-102476-1038835.weeblysite.com/\\n', 'http://ikikuiu.weeblysite.com/\\n', 'https://wealthgrowth.online/well-known/251/202202.php\\n', 'https://wealthgrowth.online/well-known/251/9ca912f8ce94167a1f822a82bd09aad4/execution.html?validation=e1s1\\n', 'https://urfahaliyikama.com.tr/.diepost/loading.php\\n', 'https://unomidia.com/sym404/abrt-%5EWHMCS.txt404/hsload/hsload/\\n', 'https://de-postbank-online.com/pages\\n', 'http://krdisonucbasvur.org/\\n', 'https://changepwcategory.wiki/power\\n', 'https://view234.com/wp-content/peaches/nim.php?id=3mail@b.c\\n', 'https://valpaint.bg/blank/linkedins.cn\\n', 'https://www.mjyndd.top/\\n', 'http://outlook-livecom.filesusr.com/html/e766f6_03f39d7024f5289eaae8609ccfe16002.html?mja3mzkxna========*dmfsawrhdgvib2fszxj0qghvdg1hawwuy29t\\n', 'http://organisasi.bulungan.go.id/public/baKPouz6o6tSo3wLdS5QBeeAJly5dhya\\n', 'http://organisasi.bulungan.go.id/public/GJ4wgw7FdpaCeQ3LIIWtKlqWiyLrvvRn\\n', 'http://organisasi.bulungan.go.id/public/aD7iVj8xryhSVVWe9H8SRIwoddBIsZnJ\\n', 'http://organisasi.bulungan.go.id/public/nhuEjShSenalktLvt5jwD64XBgZYswmJ\\n', 'https://organisasi.bulungan.go.id/public/gW7xW0slq22DUkWoY4rNBlmvmD6NMs4b\\n', 'https://organisasi.bulungan.go.id/public/XHJCCowISRXUbBSOiT3xCkvYnP2yCSvW\\n', 'http://organisasi.bulungan.go.id/public/3zwWHLTJ1VtJo7yWCBfKmixm1dAQHbVv\\n', 'https://organisasi.bulungan.go.id/public/GPcQP9u2eJAOxrJDgs3Oi60llbGMG4hq\\n', 'http://b-b-tec.info/.well-known/95823/Login.html\\n', 'http://jsrichand.org/--/73524/Login.html\\n', 'http://organisasi.bulungan.go.id/public/CDenD7nDkVspR2J4DrBqloDxBxB85if0\\n', 'https://aleriiu.github.io/desigh__flix-netflix-/\\n', 'https://d14hmdqoeso5b5.cloudfront.net/apps/woody/index.html']\n"
     ]
    }
   ],
   "source": [
    "fl=open(r'testfeed.txt','r')\n",
    "tempurls=fl.readlines()\n",
    "print(tempurls)"
   ]
  },
  {
   "cell_type": "code",
   "execution_count": 70,
   "metadata": {},
   "outputs": [
    {
     "name": "stdout",
     "output_type": "stream",
     "text": [
      "['https://3659dd.net/', 'https://www--wellsfargo--com--4y49329d48d6c.wsipv6.com/', 'https://metamazk-log-usa.godaddysites.com/', 'https://mateimsklogi.godaddysites.com/', 'https://login.microsoftoline.larga-me.com/', 'https://www--wellsfargo--com--r149329d48d6c.wsipv6.com/', 'https://kraken-logines.godaddysites.com/', 'https://www--wellsfargo--com--bv49329d48d6c.wsipv6.com/', 'https://www--wellsfargo--com--by49329d48d6c.wsipv6.com/', 'https://ttyp.io/', 'https://smartcase.ltda/lD7krbUW7K7kU5/?id', 'https://halosdfb.alphagg9.cyou.burasa.live/', 'https://fndme.cloud/expire/', 'http://shimmer-phase-sunscreen.glitch.me/', 'https://3r2-i.cloud/expire/', 'http://aelssunu4wc100293894752321.work.gd/', 'http://krakkennnlogix.godaddysites.com/', 'http://muitymesklogiz.godaddysites.com/', 'https://cashappuk.top/', 'https://www--wellsfargo--com--uw49329d48d6c.wsipv6.com/', 'https://optusnet-com.blogspot.com/', 'http://upollognn.mystrikingly.com/', 'http://optusnet-com.blogspot.com.ee/', 'https://metamask-logines.godaddysites.com/', 'https://sdcuu.net/', 'https://uopnilodlogniuix.godaddysites.com/', 'https://fsargde-1f6d7.firebaseapp.com/', 'https://help-id-meta-354262886.firebaseapp.com/', 'https://help-id-meta-354262888.firebaseapp.com/', 'https://help-id-meta-354262888.web.app/', 'https://help-id-meta-354262880.firebaseapp.com/', 'https://help-id-meta-354262886.web.app/', 'https://help-id-meta-354262880.web.app/', 'https://www.abet988.com/home', 'https://smnagrcaissrginfo-comfr.firebaseapp.com/', 'https://sharen-secondary.z13.web.core.windows.net/', 'https://bafybeig5jm7rlcbuvakuxuxfdhsnhvqwzgqoe7pi7svamzdvi2kdsxwnre.ipfs.dweb.link/', 'https://rsxwe2.xyz/', 'https://bafybeieppefzrgioxnr266wbawojx362gvpon42rq34rlasdnqswhblp6a.ipfs.dweb.link/wellsfargo.html', 'https://5gfhfg4g4g3f.blogspot.md/', 'https://krakenloggen.godaddysites.com/', 'https://www--wellsfargo--com--nx49329d48d6c.wsipv6.com/', 'https://www--wellsfargo--com--2349329d48d6c.wsipv6.com/', 'https://www--wellsfargo--com--2249329d48d6c.wsipv6.com/', 'http://secureoffiice.mystrikingly.com/', 'http://zllkuaa.com/', 'https://thoskins.myportfolio.com/', 'https://5ghhjyth4eg3f3g.blogspot.ru/', 'https://datacraftsystems.in/wp-admin/onedrive2023/index.html', 'https://kuccoin-lggin.godaddysites.com/', 'https://track-myposts.com/1/', 'https://shopebzd.com/', 'https://tribalguruji.com/wp-includes/vt-tr/orange', 'http://2629932.bm494174.web.hosting-test.net/orange.fr', 'http://2629932.bm494174.web.hosting-test.net/orange.fr/', 'https://www--wellsfargo--com--fn49329d48d6c.wsipv6.com/', 'https://dhl-delivery.org/', 'http://cg11873.tw1.ru/c-certicode/', 'https://www.couponsonfire.com/wp-content/themes/it/intesa/2e69d/', 'https://hcgdvf-102232.weeblysite.com/', 'https://anazom.co.ip.azddeu.com/', 'https://ajsjsss.godaddysites.com/', 'https://accessible0-document-morroco-3jl58.ondigitalocean.app/', 'https://domsochi.su/venture/453678657644453/99877e.html', 'http://upholodlogimux.godaddysites.com/', 'https://jade-wisp-85e82e.netlify.app/', 'http://sign-in-att-106300.weeblysite.com/', 'https://robunhood-loign-usa.mystrikingly.com/', 'https://findmyi-cloud.mipaginaweb.us/', 'https://www--wellsfargo--com--wt49329d48d6c.wsipv6.com/', 'https://metmasiwallet.godaddysites.com/', 'https://www--wellsfargo--com--7049329d48d6c.wsipv6.com/', 'https://tqutne.webwave.dev/', 'https://5tgfgfgfg3f3f3f.blogspot.hr/', 'https://www--wellsfargo--com--w849329d48d6c.wsipv6.com/', 'https://www.loja3pontos.com.br/index.html', 'https://www.belezainbox.com/', 'http://5fgfgfgfg4g4h4fg4.blogspot.com.ng/', 'https://www--wellsfargo--com--lb49329d48d6c.wsipv6.com/', 'http://appleinc-find.main-website.live/', 'https://www--wellsfargo--com--ep49329d48d6c.wsipv6.com/', 'https://www.cricketbettingpro.com/secure/express.php', 'https://security-page-community-standards.blogspot.com/', 'https://security-page-community-standards.blogspot.ba/', 'http://trencheeukinternational.com/--/81933/Login.html', 'https://holduplogic.godaddysites.com/', 'http://mail.deliverylifesupport.com/public/Ce9ljDbIEJueNvDN82fSnt7o1Z7es6dY', 'http://h03-i.cloud/', 'https://bankofus.blogspot.ru/', 'https://www--wellsfargo--com--be49329d48d6c.wsipv6.com/', 'https://www--wellsfargo--com--3l49329d48d6c.wsipv6.com/', 'https://autodiscover.cormail.ru/', 'https://cold-sea-53b8.d4awdm4i.workers.dev/', 'http://gemdieloguo.godaddysites.com/', 'http://www.3pontosalfaias.com.br/', 'http://robnhoodlogex.mystrikingly.com/', 'https://metmsuk-wellatt.github.io/', 'http://organisasi.bulungan.go.id/public/CilsVHN853qO6DnHigSnoqTkcJQ9Swbj', 'http://organisasi.bulungan.go.id/public/sGddzscA0GKAtFJEKvBpPquvD3CRQVD3', 'http://optusnet-com.blogspot.qa/', 'http://bafybeidrhaw5s733neqthzu5bpagbtiu5ol676axpe4nbonnoni7ms62vq.ipfs.dweb.link/', 'http://metamaassk.godaddysites.com/', 'http://upholdcomlogin.mystrikingly.com/', 'http://login2geminivolete9.mystrikingly.com/', 'https://login-upholdt.mystrikingly.com/', 'https://uopghokold.mystrikingly.com/', 'https://llogin-uuphold.mystrikingly.com/', 'http://coin-vbaseprollogin.mystrikingly.com/', 'https://icloudfind-my.info/', 'https://site-upholdlogin.mystrikingly.com/', 'http://kucoinloginv.mystrikingly.com/', 'http://upholdwelogin.mystrikingly.com/', 'http://m.3656.at/', 'http://metanmasklogin.mystrikingly.com/', 'https://www--wellsfargo--com--wr49329d48d6c.wsipv6.com/', 'https://bankofus.blogspot.sg/', 'https://www--wellsfargo--com--pd49329d48d6c.wsipv6.com/', 'https://www--wellsfargo--com--ct49329d48d6c.wsipv6.com/', 'https://www--wellsfargo--com--f749329d48d6c.wsipv6.com/', 'https://www--wellsfargo--com--aq49329d48d6c.wsipv6.com/', 'https://www--wellsfargo--com--em49329d48d6c.wsipv6.com/', 'https://www--wellsfargo--com--rq49329d48d6c.wsipv6.com/', 'https://www--wellsfargo--com--rn49329d48d6c.wsipv6.com/', 'https://www--wellsfargo--com--kw49329d48d6c.wsipv6.com/', 'http://kos-tip.ru/', 'http://kos-tip.ru/home/', 'http://ghjjheumeni-loghin.godaddysites.com/', 'https://www--wellsfargo--com--tg49329d48d6c.wsipv6.com/', 'https://bafybeibja357ppwzjqohbxzuvge7d7lua23uv3tlwmcyx7axiphysz6qb4.ipfs.dweb.link/', 'https://www--wellsfargo--com--f949329d48d6c.wsipv6.com/', 'http://loginusrobinhod.mystrikingly.com/', 'https://metamask-loegin.godaddysites.com/', 'http://metmasklgin.mystrikingly.com/', 'http://login-coinbas-pro.mystrikingly.com/', 'https://coinbaseproprologin.mystrikingly.com/', 'https://krakenlogain.mystrikingly.com/', 'http://galisupor.c1.biz/', 'http://krakin-uslgn.mystrikingly.com/', 'http://upholdusslogin.mystrikingly.com/', 'https://www--wellsfargo--com--th49329d48d6c.wsipv6.com/', 'https://www--wellsfargo--com--tx49329d48d6c.wsipv6.com/', 'https://www--wellsfargo--com--ta49329d48d6c.wsipv6.com/', 'https://www--wellsfargo--com--tl49329d48d6c.wsipv6.com/', 'https://metmaskwalet.mystrikingly.com/', 'https://www--wellsfargo--com--pm49329d48d6c.wsipv6.com/', 'https://www--wellsfargo--com--n349329d48d6c.wsipv6.com/', 'https://www--wellsfargo--com--kd49329d48d6c.wsipv6.com/', 'https://www--wellsfargo--com--t249329d48d6c.wsipv6.com/', 'https://www--wellsfargo--com--ld49329d48d6c.wsipv6.com/', 'https://www--wellsfargo--com--uv49329d48d6c.wsipv6.com/', 'https://www--wellsfargo--com--v849329d48d6c.wsipv6.com/', 'https://www--wellsfargo--com--un49329d48d6c.wsipv6.com/', 'https://www--wellsfargo--com--um49329d48d6c.wsipv6.com/', 'https://www--wellsfargo--com--uk49329d48d6c.wsipv6.com/', 'https://www--wellsfargo--com--ud49329d48d6c.wsipv6.com/', 'https://www--wellsfargo--com--u449329d48d6c.wsipv6.com/', 'https://www--wellsfargo--com--tu49329d48d6c.wsipv6.com/', 'https://www--wellsfargo--com--p349329d48d6c.wsipv6.com/', 'https://www--wellsfargo--com--pf49329d48d6c.wsipv6.com/', 'https://www--wellsfargo--com--pc49329d48d6c.wsipv6.com/', 'https://www--wellsfargo--com--pa49329d48d6c.wsipv6.com/', 'https://www--wellsfargo--com--pj49329d48d6c.wsipv6.com/', 'https://www--wellsfargo--com--p849329d48d6c.wsipv6.com/', 'https://www--wellsfargo--com--p649329d48d6c.wsipv6.com/', 'https://www--wellsfargo--com--p549329d48d6c.wsipv6.com/', 'https://www--wellsfargo--com--p449329d48d6c.wsipv6.com/', 'https://www--wellsfargo--com--jt49329d48d6c.wsipv6.com/', 'https://www--wellsfargo--com--m749329d48d6c.wsipv6.com/', 'https://www--wellsfargo--com--na49329d48d6c.wsipv6.com/', 'https://www--wellsfargo--com--n149329d48d6c.wsipv6.com/', 'https://www--wellsfargo--com--n249329d48d6c.wsipv6.com/', 'https://www--wellsfargo--com--mf49329d48d6c.wsipv6.com/', 'https://www--wellsfargo--com--mv49329d48d6c.wsipv6.com/', 'https://www--wellsfargo--com--hf49329d48d6c.wsipv6.com/', 'https://www--wellsfargo--com--hd49329d48d6c.wsipv6.com/', 'https://www--wellsfargo--com--h149329d48d6c.wsipv6.com/', 'https://www--wellsfargo--com--gt49329d48d6c.wsipv6.com/', 'https://www--wellsfargo--com--gu49329d48d6c.wsipv6.com/', 'https://www--wellsfargo--com--ga49329d48d6c.wsipv6.com/', 'https://www--wellsfargo--com--ka49329d48d6c.wsipv6.com/', 'https://www--wellsfargo--com--d549329d48d6c.wsipv6.com/', 'https://www--wellsfargo--com--bp49329d48d6c.wsipv6.com/', 'https://www--wellsfargo--com--ax49329d48d6c.wsipv6.com/', 'https://www--wellsfargo--com--b249329d48d6c.wsipv6.com/', 'https://www--wellsfargo--com--aw49329d48d6c.wsipv6.com/', 'https://www--wellsfargo--com--ad49329d48d6c.wsipv6.com/', 'https://www--wellsfargo--com--ah49329d48d6c.wsipv6.com/', 'https://www--wellsfargo--com--a949329d48d6c.wsipv6.com/', 'https://www--wellsfargo--com--9v49329d48d6c.wsipv6.com/', 'https://www--wellsfargo--com--9t49329d48d6c.wsipv6.com/', 'https://www--wellsfargo--com--9l49329d48d6c.wsipv6.com/', 'https://www--wellsfargo--com--9d49329d48d6c.wsipv6.com/', 'https://www--wellsfargo--com--9q49329d48d6c.wsipv6.com/', 'https://www--wellsfargo--com--9c49329d48d6c.wsipv6.com/', 'https://www--wellsfargo--com--9e49329d48d6c.wsipv6.com/', 'https://www--wellsfargo--com--2449329d48d6c.wsipv6.com/', 'https://pub-b329e8bfab1749cab4b0b99758e177fc.r2.dev/dam.htm?email=3mail@b.c', 'https://www--wellsfargo--com--0a49329d48d6c.wsipv6.com/', 'https://thagaco.com.vn/wp-includes/nvlo/m8amhif/3mail@b.c', 'https://www--wellsfargo--com--0949329d48d6c.wsipv6.com/', 'http://leafy-pony-0531fb.netlify.app/', 'http://cerulean-macaron-ed4098.netlify.app/', 'https://remarkable-eclair-245249.netlify.app/', 'https://ilogbpool.pages.dev/', 'https://bnhn.net/', 'https://amzwon.net/?r=67256527-a145-4161-a4f2-a469411afda4', 'https://ikkuvrbhtw.duckdns.org/', 'http://qwickperf.azurewebsites.net/', 'http://ipfs.io/ipfs/QmQfwYxCYKCENbcvc6shmYGbUzZh2M1BmGTBrg6LT87ryM?filename=crdunc90nst0019.htm', 'https://carhandel.com.pl/authorize.php?JEXwIEqEouISIB79VbswCWiIVvnjCvGLWqYSKagiTZ244dQxrczdkwuJmfMmYL4mGz0ujlHW0DCLmrDfZYRcEtE2TdUGqCumWBY5SUS4EbOvRaHvJZCnwTXMuNH5VwYgXh3CcqNtG0mJm2YL8GpEUJyJkBCeI192AAsF2qLFs3Z6yzE1rodrOPyi64rwB1qoPyii7wBu9P0AfmRPzl80mGktJDjqQFfrUSS8zxogqldlLIjJKIuZtXpADPDxvmHp=', 'https://pub-4ed5934605ff4954adf0302b77f1d8c3.r2.dev/update.html?email=3mail@b.c', 'https://zsasspxbhf.duckdns.org/', 'https://www.professionalips.com.co/file/ajY/3mail@b.c?overrideMobileRedirect=1', 'https://ensor.com.mx/aaa/', 'http://accounts-dot-devsnapchat.appspot.com/', 'https://kyc-metamask.easterndns.com/sdfuigjnkfuihs/eea1c', 'https://mercadolibre33.com/', 'https://clinquant-buttercream-d4fa95.netlify.app/', 'https://t41g6gaudiwr4art01hzc1sto3r4nte-65218347249.shopifypreview.com/', 'https://clon-mercadolibre-c91iyxolr-alecanavire.vercel.app/', 'http://vanliquor.pages.dev/', 'https://ltpakid-paulaudrey1727228.codeanyapp.com/ecolis/track/DH2tAyUe9AsUx7b253/', 'https://vlqwxwphol.duckdns.org/', 'https://uaspyn.top/', 'http://one7one.com.au/navy', 'http://mercadolibre65.com/', 'https://raspy-frost-9f32.app-cloudshareid436969.workers.dev/images/bg.jpg', 'https://www--wellsfargo--com--v749329d48d6c.wsipv6.com/', 'http://smnagrcaissrginfo-comfr.web.app/', 'https://kin-kin.sa.edu.au/M&TBank/', 'https://www.moncomptegoogle.com/', 'https://www.moncomptegoogle.com/accounts.gmail.php', 'http://www.mercadolibre57.com/', 'http://www.mercadolibre58.com/', 'http://www.mercadolibre68.com/', 'http://deliverylifesupport.com/public/3SbmcgT1Z2ibJS9uRCiZrlgzXXc8LU7o', 'https://deliverylifesupport.com/public/rXc0pDxKEIM1m8p34rYfl4gQQKLImCB4', 'https://mlsudamerica-ar-c66c52.ingress-bonde.ewp.live/', 'https://philemoncimon-1316850103.cos.eu-frankfurt.myqcloud.com/philemoncimon.html', 'https://avesttuser1.dvrdns.org/personal/logon.php', 'https://bpos.com.au/fb/login/', 'https://desertvalleyoralsurgery.com/wp-content/image/index.html', 'https://www.metamask.io.pjbtecnologias.co.mz/secure.html', 'http://www.metamask.io.merge.pjbtecnologias.co.mz/secure.html', 'https://cheerful-wandering-aurora.glitch.me/', 'https://docapps.blob.core.windows.net/adobedoc/doc.html', 'https://globalgtt.online/9709c72b77d37a4f37t93b87817z31cec6b1.html', 'https://event-claimz.fec.my.id/', 'https://mercadolibre55.com/', 'http://optusnet-com.blogspot.ru/', 'https://www.attemplate.com/ind/d420b80d-bc1a-429d-b6c6-587896c20153/eb36f5b6-80b9-4e73-9f2f-c9c10ba7add0/e1e2de4a-9968-402a-b422-64c2792a0b75/login?id=NGEyb1BCa2YzckVBRGNGTjNuMW5ZQjBTNzYxaGVDdVhUcldJb1Q5WmVRdUJDajlSTXVlNXFzK1VDSVJvOFNQSzVWSmtQRXhBcitDeWRZUHRLZmpuRWVOY05nN1RQNC9oQVhEcjVKcVhsVDRTY2tMclFrb0pESEZnOUpqVXYzOW1ONXNtOFU3SDdHNlFZOWkvR001UWNZWVk3Z1JGLzJjekJIYVdYWUI3aVdsVDQydVF6NmVoTm03bUpPSHNLMVpYU0I4WjEyVkhXdkFhaEplSysrdmFCMzZUOTZ0ZXRaT25hRkJlcVI1RXhHVEk3dHdOZnluZ2xybGhHWjBHQlhnN1BLWVpuUGdxc2dKSU1TdEsydVU1cGQ3M3NHbXpMdGhYdEFENEtYY01iRC9oanh6T2gxcGJGcVpPK1NvK0Y5Wm9peUNlTW8wNkRoLy9idWE4a3hEQVVQVno3QnVVcXhlWGlDNDd4OFk1NlRZWWRDSjlqdUZObUs0UEt2dVhkS1NjZmtHdVFPOFovV1dnQ3ZGZlU5KzVKQT09', 'http://ipfs.io/ipfs/bafybeig5ol5efy3et3fqy45g6qaowxhcvrdcwvpnxaqra6r6kdeqrj6anq/arshes.html', 'https://allisonroofing.com/i.php', 'http://xemail.chrissco.live/home/', 'https://pub-0bd1133c4f8d442c9f613e1339bfe991.r2.dev/Pay.html?email=3mail@b.c', 'https://www.professionalips.com.co/Payment/sf_rand_string_lowercase(6)/3mail@b.c', 'http://45.15.131.62/', 'http://hardwoodbr.com/SCCU/', 'http://hardwoodbr.com/SCCU/index2.html', 'http://hardwoodbr.com/SCCU/security.html', 'http://hardwoodbr.com/SCCU/personal.html', 'http://hardwoodbr.com/SCCU/otp.html', 'https://bee7e3hdbceu32839238-8jfhnjdnfcbndbce7384838339ijkcnjhdf.weebly.com/', 'https://kyc-metamask.easterndns.com/sdfuigjnkfuihs', 'http://fantastic-crepe-779ade.netlify.app/', 'http://vodafone-internet.it/', 'https://ipfs.io/ipfs/QmVpr9UDFkd7P7etxRJRW27nXYtvXLfiBEbKyhAU97r4dr?filename=webmail.html', 'https://jaledace.wixsite.com/my-site', 'https://3659vip12.com/', 'http://manager.infoempire.us/', 'http://validiateconnect.com/', 'https://videosin.live/', 'http://login.member-setups.workers.dev/', 'http://signinmyiphone.gsmserver-pro.com/', 'https://steamproxy.co/', 'https://wsw-roblox.com/users/304850384/profile', 'http://idevice-sign-in.gsmserver-pro.com/', 'http://36562022.com/', 'http://bet3659l.com/', 'http://3659yy.net/', 'http://3659mmm.cc/', 'http://3659sss.com/', 'http://03713659.com/', 'http://nlrxh5.webwave.dev/', 'http://polite-valkyrie-35ba32.netlify.app/', 'https://mail.deliverylifesupport.com/public/0w3E5qt4dUApsQN1q9m7xUJhDkcwf5vg', 'http://bafybeigsm7rfpd7itvqudvkeuqkoekbmkth3lctyb4lifayye3pxnl6xxy.ipfs.dweb.link/', 'https://secure-rozsg.run-eu-central1.goorm.site/apav/palpay/login.html', 'https://xx836591.com/', 'https://ecocashback.kz/s/loaded/', 'https://coopenae.online/', 'http://njwljmf44d.loclx.io/m21/main.php', 'http://njwljmf44d.loclx.io/m21/', 'http://package2021.blogspot.com.mt/', 'http://package2021.blogspot.ca/', 'https://asgdshsd.virtalc.repl.co/', 'https://6a8c8ebf-95ab-49d0-a880-0dfcf358cddd.id.repl.co/', 'https://www.gliderglobal.com/home.php', 'https://schadcovessuit.sbs/LAMY/caplock', 'http://6bet988.com/', 'http://zjhfsaa.com/', 'https://upvslpwpcb.duckdns.org/', 'https://upiplgfqtt.duckdns.org/', 'https://utthrgzurv.duckdns.org/', 'https://usllccipyi.duckdns.org/', 'https://steamconmmuuntiy.com/profiles/7656362828332097', 'https://ipfs.best-practice.se/ipfs/QmXrRB1QHJKxuXaBcxiUEAAXZQ4DiNSEaoCEwtVz6EV6Hy/', 'https://www.biomaarquitetura.com.br/wp-admin/css/colors/blue/info.html', 'https://40.90.22.191/', 'https://att-106056.weeblysite.com/', 'http://iweb3protocol.com/explore.php', 'https://office365ffdocserert.z13.web.core.windows.net/index.html', 'https://jemala.com.au/owaa/logon.php', 'https://mail.deliverylifesupport.com/public/B9nKd1R0R4K87vAhHnIGsp4bpTevL1xS', 'https://view234.com/branchs/nim.php?id', 'http://mail.deliverylifesupport.com/public/uXPqysm0bjKBoMGd3C0VsoqqaVMnbccx', 'http://mail.deliverylifesupport.com/public/oyNwiKBDCZmUXPvUS5gjvfGMQmdX8Sgl', 'https://mail.deliverylifesupport.com/public/nt9FBnziismE3jvYzYJzeRA0IvZfKnWK', 'https://mail.deliverylifesupport.com/public/DNSTfUr70wcMVVrKiKnwjNZu44zgkeJw', 'https://uttered-entry.000webhostapp.com/Update/', 'https://deliverylifesupport.com/public/kYBXeZ1T6IUDJQoe8CMy7w8qOUcCe7k0', 'https://deliverylifesupport.com/public/6CbSGvdb4r4zIZQS6jQVOrYf52teEnlh', 'http://mail.deliverylifesupport.com/public/0uwFOxFiElKrJGqmqEhYc8RREkGLYg6g', 'http://deliverylifesupport.com/public/nAgKuUWwwnquOGXty3TvEOcgmMRS9zyU', 'http://mail.deliverylifesupport.com/public/3l3vFHslr4RtJOQsARdToTdze43R4if8', 'https://prockoinbaselogen.gitbook.io/', 'https://luisantoniolima.com.br/wp-includes/e-file.html', 'https://thiffowszk.duckdns.org/', 'https://f7rcvz.qs619h.gov.shuaihu99.com/', 'https://my.3-60.com.co/bancolombia3/mua/USER/scis/j6UnVHZsitlYrxStPNFUN4TsSjgEJkN7dlDp6FXSjFxO/3D/no-back-button/', 'https://bancolon.433434.com.co/bancolombia/mua/user/scis/j6unvhzsitlyrxstpnfun4tssjgejkn7dldp6fxsjfxo/3d/no-back-button/index.php', 'https://tcfokzqone.duckdns.org/', 'https://szunamdjtx.duckdns.org/', 'https://svyspvekuu.duckdns.org/', 'https://snumrpzymy.duckdns.org/', 'https://panamericanlatino.com/public/app/en/', 'https://sesdpmzmoa.duckdns.org/', 'https://shynlncleq.duckdns.org/', 'https://steamconmmuuntiy.com/profiles/7656151657051268', 'https://coimbasuproslogen.gitbook.io/', 'https://sbuccsfder.duckdns.org/', 'https://usscomnbseprologin.gitbook.io/', 'https://grupwhattsappchat.mylink2023.cfd/', 'https://psoqrexkgt.duckdns.org/', 'https://rizthydgqn.duckdns.org/', 'https://jilmekq.link/', 'https://pzulffzosn.duckdns.org/', 'https://rapdykqtlk.duckdns.org/', 'http://mail.deliverylifesupport.com/public/h3dd3Xkutu6U4oxy7332tX10ZaxYFguW', 'https://qvhthbccbk.duckdns.org/', 'https://qdkiayzcxe.duckdns.org/', 'https://qkrjivydtr.duckdns.org/', 'https://networklinkilonfrt.work.gd/', 'https://dd365c.com/', 'http://exuberant-toothpick.000webhostapp.com/', 'https://orwtionvtl.duckdns.org/', 'https://paqwjayvlw.duckdns.org/', 'https://oyuzhaxzkt.duckdns.org/', 'https://oyefzgvcmf.duckdns.org/', 'https://globalgtt.online/9140c428077e1540a2ta8c485b5zbc317f85.html', 'https://oopkuuxscj.duckdns.org/', 'http://leanbin.net/', 'https://onbbkfhrxy.duckdns.org/', 'http://metamask.io.merge.pjbtecnologias.co.mz/', 'https://okbbghnpsf.duckdns.org/', 'https://oefgwklbiw.duckdns.org/', 'https://ofcbcjycwg.duckdns.org/', 'https://nzmnpkmmwl.duckdns.org/', 'https://nuwibrfnzk.duckdns.org/', 'https://nwcqowhrza.duckdns.org/', 'https://mobile-de-064863164.de/login.php?SID=6cEDiWYX01AuCBtnUQv4KbL9O7hVTPdkRwxNFroMlpjISzqeZsyG53Jgf2a8HmYSztf2NPxdjCy1MHv0IcWQrsXO58khJUFqTAaGLV3DebBnKEZi46p9lowu7gRm83700660806', 'https://nflfjxxofl.duckdns.org/', 'https://unfurrowed-acceptan.000webhostapp.com/bellsouth123/', 'https://unfurrowed-acceptan.000webhostapp.com/bellsouth123', 'https://nidxgfksok.duckdns.org/', 'https://visionacon-noi.com/', 'http://omnibar.com.br/', 'https://fsargde-1f6d7.web.app/#/', 'https://urlv.fr/3883', 'https://www.doctricant.com/nam/9154235b-11e1-41a7-bf20-4de4e3f93a4b/953dc04f-73e8-43d6-9016-518d329d1dcc/49335c2f-451f-41cc-bf1b-34ba0064e622/login?id=Q01MTm1MUm1RR2NnWW91anpzQnNhb2wrTWxrT3BVMkh5UU5XS2JWSmE1N1J0M2FtRGFUbmxmYjRGSExvcU1obUt1eHF4MndUQkdQVVRTS2VCWExyTytDMjBVS3JSYjJKMEhaeG5hNm91aEcxVWZraGk1RHBiR01FdktzSjVDM2FCN3RnRlFBMmVTdkxPcmxSMk5GelZYcW9rOW5NTXI3QTZtYnJZa2JoSTZrNVZia3M0SVh2b3FjdUFzaGdIc00rUGxPMzliUEo4dlVRN0xXalE0SWVQcEJFZFVoSjhlRHJyNXI0c3dpTkdhbkkvY1BDb3djQm1iVVIra0lQOWNZTkRxcEE2OW91SUJGQnNhcld0ZGNSZHd0R2lqcXpiYUpjck5yVHpsZml5ZXNSTVFBYTlmWitkbVdFOEpHOWxaSWRrOWZsMDZZWkxKTitVWnhVb0VEMlNsM09NL0pzOG5VVm5uODVoR3JFd3BwVEI1U2tiNldFeVluaE04dHVEMUJ1bkhyWFJCbTl2NUh5SjlvcjZ0RmJpQT09', 'http://coinbseperologinns.gitbook.io/', 'https://mmotdrvmcr.duckdns.org/', 'https://mhqhmkcrej.duckdns.org/', 'https://madowokeki.duckdns.org/', 'https://mftbqedqqv.duckdns.org/', 'https://www.doctricant.com/nam/9154235b-11e1-41a7-bf20-4de4e3f93a4b/953dc04f-73e8-43d6-9016-518d329d1dcc/b39b6a3c-ad89-4ba9-8bcc-f86fc93e382d/login?id=bUpnNHo4SEJPcjdrSWNNYXVKRWdpQWpVZ2RSdHd4K1Z0d3dnVys5cTB3RU9BcjV1UTZERlJLQXh2L2RkRjVXYW01bnNZM0hqZmczcTFjUmVSREZJWHYzZ2RsTnovdmlLZTg4TjNNSHMyaVVPL0xYYmlmRFhkUEE2WlpHTnczWUNhWFlETXBFdGpBUEZSQUtmVUhtRkxxeVY5ZFhHOHFSOWNYTVJTNGMwZk1xM3dtUWFqZDlsMWJHVTNmQ1VuWmk1QWd5QytYVktDM25YR3doVWlYV25ENFFzczViMk1ESURzaUxmUEx4cWhGZ25XbStLSEJBQ1JuZlhMVU9iOUVWWGpLSm84elI2ZWpmZldId21sK0FpOTZKOVFWVzNiUmJQMkpTc1NoTi85YXkxSVRmMDlBRU83cDNqeEI1dkZnTjdicTZtbndnSHVIbVhObjZZRUx5eGxJQzBSZkJWSDZITFVyNnA3YjIyNHpwNXA2a2hmcEV1SUptblFDRHZDMVZpZ2JPL21EeDUwcERpNlVpR0hZdk1tUT09', 'https://lsgvkhkxrd.duckdns.org/', 'https://boa.tuumalo.com/demo.html', 'https://gigantic-ordinary-echium.glitch.me/?kiYEvfXx=co2rVykPOTGB44vKN1Ou&email=3mail@b.c&tR8uKtyCZYLbK3WjxxNFZ5hF7vwaSr3oOX3M39VS6n4SEag6q29=GCrXWlrLARLbKeix3FWr5getenHXR0kvowTShcSDwiBu8277gB', 'http://36596666.net/', 'http://swrportailmessgerie09.uflorist.pro/', 'https://mobile-de-064863164.de/index.php', 'https://lgqvikaeon.duckdns.org/', 'http://adminconfirmpage.duckdns.org/', 'https://www.doctricant.com/nam/9154235b-11e1-41a7-bf20-4de4e3f93a4b/953dc04f-73e8-43d6-9016-518d329d1dcc/2c7ed389-28d1-41bd-885b-f9680d9b3e7d/login?id=ZkJlalFtS1pib0J0UXhWYUh5K2wzbVphbEUrZkRsMUVsMVpmUXlMRUw0NFhGYTlCa05GaHBXRWlzMUFUYXNGVFNlQ2NIalBkczg4ZTdmYVBiY21mMkc3cjE4TkJWcFQvTitDQkxKU2paRUNkOTd6azBYRTd2NHlTRXI1cGcxcCt6NTFCOTRDTzlBTElGQ09oSjNYOTBoOEdhNXJRSldCWDdEb2NWWUNiMzgxZDRZZ2tXZUZoUUlzMG9wcHFDZTJEaC9yM2lha3l4dkgzb3VodElUR3ZwZkdxZEZPLzFXZ2FNVE9mQ3A3Y3BqTCtibmdFc3BES1g2Yk51L3NmdjV2eUJJYlZkZzByOEIvYnFOcHJnT0x3cnJuaHJrVFhFRklpeHlHZUZhalpRYis5RU5HTFYvNW5QYWdxVStKZ1VIVkZYYWcwc2tGYjV3eEFjaE1vZHFVeTk1LzlFMlNvVFkyakNoWGFibmV2VUpUUEJFYjZ3NXJ4UUdpOTl3aXd4UjZDUGxaVWkzNkV4M0xOVTIwbkhNMURUQT09', 'http://0ed59bc.wcomhost.com/de/pst/2e0b08b67b11fb241f7b', 'https://www.doctricant.com/nam/9154235b-11e1-41a7-bf20-4de4e3f93a4b/953dc04f-73e8-43d6-9016-518d329d1dcc/c6f3fc1a-784b-4ac4-a797-00ca81486e80/login?id=dFhjUVgrMWFkVmhRSlAyTHprdXlUc2NlRVJRK0tFUU1UY1RBcFFZRFpiWlBiS3ZpWU9KbE1mellyaUdnZ3ZKbWVReHJIZGVlVFREeDYybytxMFpUQzNvd25jNnJ1S2czMDdTbmR5TEFsdmJPazFGd3c3OVljOXpQcjUzbTZsbW1JdmNIaG9TOWRXYlpXUm83eVdMSGZuODUrVzVZbGdhR0hQckhodTU1Y2tGRWhLVFNwNHJZM2h2cmZsTFdoNWhKN0o1WnNRaXBLWmVrN3VjYVRDSlA5UXV4THBiZkZPTVZnNElRUU5xWm1oUmpyYUVZSkpUS3VxS2xYN0hIci8yOWIxUURTc2FPZ2phQUFuVnJ3dVJLR09BL0FhbW80THUyNkJ4UmZCa29ta2x3NFd0YTZkMnVobWNIQ2NxN0o4dy9GVjAyRW9nK1BXOWM1WGhtdEViQUtibVZoU1dJVDBHTTMxejlhYlh1SmpGb1pxcVNwQmY5STNiT09wSmVlZVk0VWcrMFM4aElab3JVdEJjNkVzQ1ZJQT09', 'https://kryewvjusl.duckdns.org/', 'https://kelyhfixnz.duckdns.org/', 'https://jzakyxtsaw.duckdns.org/', 'https://wealthgrowth.online/well-known/251/330e5ce905d489b7f3bda9ea39f27083/execution.html?validation=e1s1', 'https://jnydeahhru.duckdns.org/', 'https://jrolxifvka.duckdns.org/', 'https://www.shareholds.com/eur/a5839d11-3ae4-4e46-a6cb-db2abb961dfc/d123f7c8-e119-41c6-8f46-0578e602c934/12df9af8-46a1-45fa-b7c9-9c6748ccf3e9/login?id=UmNrTVJ0V2NHNmh1WVN0dFRHOTlzTmZpVVZGZFJYSzFTMGI5ekw1R1UrN0pQRUZQNzlUc3lrMWcvQUtVcllhT1pZazRQZWk0SFQ4blduYUh6cUxna3ErWHNPNjFTLzFJeDJjdlJTbWdHYmFMU2hNTUd2WHNFbGlFd0FyK1pCRDZCWGRpWFRqOEhuYWRYaStDb3pkS0FIMFdUdkoza1lxY0ZQeEp3TlRFWGtONTUzY0w2cVpWWkJRNERQaFhCZk5qK2MybDVZcmU1c09ESnpETGdzRlJPZURDZ21lMUlhUzlIK05jSG9LUjFtSXZDRE0vZkZtTWpKTWFyOFh5c05vYjNQTEl4ejZDbmRJK3VMYTUyT0Rrcy9jck8wR1oxUkMwRzR3b25DZ3lGT2ZDMkNrYm1MR2d0RmNSSXJDbTNtMDB1aWJndFBNcVpMVWRsOU5CQnBGS2tiNmdyTER4SzE0UFNNay9YcUU3OFhXcFhiczR3a1ZWRDN1QmZJV2hsM1dLeWlBOFUveWhadkNibjhPemJBb1BtTDFuTlFkMC9BM0FtdUM5YTlKOEFKST0', 'https://jkdcnivuje.duckdns.org/', 'https://jeifgryvuk.duckdns.org/', 'https://iyoqnctefu.duckdns.org/', 'https://citi.stanleytoo.com/', 'https://isworobjwg.duckdns.org/', 'https://idyjaymgcf.duckdns.org/', 'https://mannie73835.wixsite.com/my-site', 'https://is.gd/Yx0FGz', 'https://rdsnco.com/cre/', 'https://comm.cmbidnet-au.com/login.php', 'https://hqdhwpfzjc.duckdns.org/', 'https://hnnoknydwj.duckdns.org/', 'http://www.anzdfaf.com/load/', 'https://hetpyevokk.duckdns.org/', 'https://hgxbdbeyzv.duckdns.org/', 'https://hdtssntfgm.duckdns.org/', 'http://0ed59bc.wcomhost.com/de/pst/3fa71c1b76b2392c35e8', 'https://govdpigcrw.duckdns.org/', 'http://correoswsi.top/', 'https://gktutschzh.duckdns.org/', 'https://fttygslrue.duckdns.org/', 'https://bzware.io/fata/login/index.php', 'https://bzware.io/fata/login/seguranca.php', 'https://ellabe8982.wixsite.com/my-site', 'https://globalgtt.online/9140fd2dd7e4cb497ct82668b33z367d7e33.html', 'https://fhktoaqhzz.duckdns.org/', 'http://violationcontrol34149071.click/?lang=na', 'https://eraqhvtuwe.duckdns.org/', 'http://sepoies.twmob.com/', 'https://www.cfdcoinbase.com/', 'http://descriptive-artistic-mare.glitch.me/NFCUMobileApp.HTML?entity=4892463', 'https://egnrzwjxkv.duckdns.org/', 'https://pembelokiranfacebookmark.rezz.site/', 'https://whatsappchat-grup.mylink2023.cfd/', 'http://hungryfriend.com/', 'https://0ed59bc.wcomhost.com/de/pst/', 'http://0ed59bc.wcomhost.com/de/pst/ac3e02a4a964612fa927/', 'https://dvjzlnfdgr.duckdns.org/', 'https://rjuiz.cf/office365-MD6-Popup/', 'http://cwdrwjlrar.duckdns.org/', 'https://dgszlpzllo.duckdns.org/', 'https://dbnxywyzua.duckdns.org/', 'https://cvqcvkvebn.duckdns.org/', 'http://verifikasipemblokkiran.mylink2023.cfd/', 'https://savorgourmetmarket.com/99877e.html', 'https://surprisednecessaryarchitects.hbgsdfs4353.repl.co/', 'https://bancolon.433434.com.co/bancolombia/mua/WAITING/scis/j6UnVHZsitlYrxStPNFUN4TsSjgEJkN7dlDp6FXSjFxO/3D/no-back-button/', 'http://comm.cmbidnet-au.com/', 'https://ebay-de.formatierung-versand.org/getpayment/189625940', 'https://cartomanziatrigono3.it/wp-includes/new/auth/sn2ch6/rebecca.ansinn@weareera.com', 'https://cartomanziatrigono3.it/wp-includes/new/auth/7uthvj/rebecca.ansinn@weareera.com', 'https://cfifadctyb.duckdns.org/', 'https://www-roblox-com.site/', 'https://wealthgrowth.online/well-known/251/61f90e66dfe537c79039a6bc1e742fd2/execution.html?validation=e1s1', 'https://wealthgrowth.online/well-known/251/6937355b8883c93d01c13c72f23fa9d8/execution.html?validation=e1s1', 'https://34696.a6brpq.3x3m0u.shuaihu99.com/', 'https://atlqqgsjpr.duckdns.org/', 'https://auzdkguqzd.duckdns.org/', 'https://bfqqygweum.duckdns.org/', 'https://victorianhoofcareservices.com.au/ToruzABpdffile', 'https://verifikasipembelokiranfacebook.rezz.site/lanjut.php', 'https://verifikasipembelokiranfacebook.rezz.site/', 'http://iweb3protocol.com/', 'https://comm.cmbidnet-au.com/alert.php', 'https://experiencedknobbychords.crepinga.repl.co/', 'https://aqranspfpk.duckdns.org/', 'https://amdjogrjfp.duckdns.org/', 'https://aibzepdlqc.duckdns.org/', 'https://ajsbyfduex.duckdns.org/', 'http://lambent-nasturtium-f25966.netlify.app/', 'http://my-site-102476-1038835.weeblysite.com/', 'http://ikikuiu.weeblysite.com/', 'https://wealthgrowth.online/well-known/251/202202.php', 'https://wealthgrowth.online/well-known/251/9ca912f8ce94167a1f822a82bd09aad4/execution.html?validation=e1s1', 'https://urfahaliyikama.com.tr/.diepost/loading.php', 'https://unomidia.com/sym404/abrt-%5EWHMCS.txt404/hsload/hsload/', 'https://de-postbank-online.com/pages', 'http://krdisonucbasvur.org/', 'https://changepwcategory.wiki/power', 'https://view234.com/wp-content/peaches/nim.php?id=3mail@b.c', 'https://valpaint.bg/blank/linkedins.cn', 'https://www.mjyndd.top/', 'http://outlook-livecom.filesusr.com/html/e766f6_03f39d7024f5289eaae8609ccfe16002.html?mja3mzkxna========*dmfsawrhdgvib2fszxj0qghvdg1hawwuy29t', 'http://organisasi.bulungan.go.id/public/baKPouz6o6tSo3wLdS5QBeeAJly5dhya', 'http://organisasi.bulungan.go.id/public/GJ4wgw7FdpaCeQ3LIIWtKlqWiyLrvvRn', 'http://organisasi.bulungan.go.id/public/aD7iVj8xryhSVVWe9H8SRIwoddBIsZnJ', 'http://organisasi.bulungan.go.id/public/nhuEjShSenalktLvt5jwD64XBgZYswmJ', 'https://organisasi.bulungan.go.id/public/gW7xW0slq22DUkWoY4rNBlmvmD6NMs4b', 'https://organisasi.bulungan.go.id/public/XHJCCowISRXUbBSOiT3xCkvYnP2yCSvW', 'http://organisasi.bulungan.go.id/public/3zwWHLTJ1VtJo7yWCBfKmixm1dAQHbVv', 'https://organisasi.bulungan.go.id/public/GPcQP9u2eJAOxrJDgs3Oi60llbGMG4hq', 'http://b-b-tec.info/.well-known/95823/Login.html', 'http://jsrichand.org/--/73524/Login.html', 'http://organisasi.bulungan.go.id/public/CDenD7nDkVspR2J4DrBqloDxBxB85if0', 'https://aleriiu.github.io/desigh__flix-netflix-/', 'https://d14hmdqoeso5b5.cloudfront.net/apps/woody/index.htm']\n"
     ]
    }
   ],
   "source": [
    "for i in range(len(tempurls)):\n",
    "    k=len(tempurls[i])\n",
    "    tempurls[i]=tempurls[i][:k-1]\n",
    "print(tempurls)"
   ]
  },
  {
   "cell_type": "code",
   "execution_count": 127,
   "metadata": {},
   "outputs": [
    {
     "name": "stdout",
     "output_type": "stream",
     "text": [
      "http://upollognn.mystrikingly.com/ [1, 1, 1, 1, 1, 1, 0, -1, 1, -1, 1, 1, 0, -1, 0, 1, -1, -1, 1, -1, -1, -1, 1, 1, 1, -1, 1, 1, 1, 0.03, 6, 0, 0, 0, 0, 12, 3, 29.0, 0, 0, 24, 34, 0]\n",
      "http://optusnet-com.blogspot.com.ee/ [1, 1, -1, 1, 1, -1, -1, -1, -1, -1, 1, 1, 0, -1, 1, 1, -1, -1, 0, -1, -1, -1, 1, -1, -1, -1, 1, 1, 1, 0.03, 8, 0, 0, 0, 0, 8, 2, 29.0, 0, 0, 24, 36, 1]\n",
      "https://metamask-logines.godaddysites.com/ [1, 1, 1, 1, 1, -1, 0, 1, 1, -1, 1, 1, -1, -1, 1, 1, -1, -1, 1, -1, -1, -1, 1, 1, 1, -1, 1, 1, 1, 0.02, 7, 0, 0, 0, 0, 12, 3, 36.0, 0, 0, 30, 42, 1]\n",
      "https://sdcuu.net/ [1, 1, 1, 1, 1, 1, 1, -1, 1, -1, 1, 1, -1, -1, -1, -1, -1, -1, -1, -1, -1, -1, -1, 1, 1, -1, 1, -1, 1, 0.06, 5, 0, 0, 0, 0, 5, 3, 14.0, 0, 0, 8, 18, 0]\n",
      "https://uopnilodlogniuix.godaddysites.com/ [1, 1, 1, 1, 1, 1, 0, 1, 1, -1, 1, 1, -1, -1, 1, 1, -1, -1, 1, -1, -1, -1, 1, 1, 1, -1, 1, 1, 1, 0.02, 6, 0, 0, 0, 0, 16, 3, 37.0, 0, 0, 31, 42, 0]\n",
      "https://fsargde-1f6d7.firebaseapp.com/ [1, 1, 1, 1, 1, -1, 0, 1, -1, -1, 1, 1, 0, -1, 1, 1, -1, -1, 1, -1, -1, -1, 1, -1, -1, -1, 1, 1, 1, 0.03, 7, 0, 0, 0, 0, 11, 1, 29.0, 3, 0, 23, 38, 1]\n",
      "https://help-id-meta-354262886.firebaseapp.com/ [1, 1, 1, 1, 1, -1, 0, 1, -1, -1, 1, 1, -1, -1, 1, 1, -1, -1, 1, -1, -1, -1, 1, -1, -1, -1, 1, 0, 1, 0.02, 9, 0, 0, 0, 0, 11, 2, 30.0, 9, 0, 24, 47, 3]\n",
      "https://help-id-meta-354262888.firebaseapp.com/ [1, 1, 1, 1, 1, -1, 0, 1, -1, 1, 1, 1, 0, -1, 0, 1, -1, -1, 1, -1, -1, -1, 1, -1, -1, -1, 1, 1, 1, 0.02, 9, 0, 0, 0, 0, 11, 2, 30.0, 9, 0, 24, 47, 3]\n",
      "https://help-id-meta-354262888.web.app/ [1, 1, 1, 1, 1, -1, 0, 1, -1, 1, 1, 1, 0, -1, 0, 1, -1, -1, 1, -1, -1, -1, 1, -1, -1, -1, 1, 1, 1, 0.03, 9, 0, 0, 0, 0, 5, 2, 22.0, 9, 0, 16, 39, 3]\n",
      "https://help-id-meta-354262880.firebaseapp.com/ [1, 1, 1, 1, 1, -1, 0, 1, -1, 1, 1, 1, 0, -1, 0, 1, -1, -1, 1, -1, -1, -1, 1, -1, -1, -1, 1, 1, 1, 0.02, 9, 0, 0, 0, 0, 11, 2, 30.0, 9, 0, 24, 47, 3]\n",
      "https://help-id-meta-354262886.web.app/ [1, 1, 1, 1, 1, -1, 0, 1, -1, -1, 1, 1, -1, -1, 1, 1, -1, -1, 1, -1, -1, -1, 1, -1, -1, -1, 1, 0, 1, 0.03, 9, 0, 0, 0, 0, 5, 2, 22.0, 9, 0, 16, 39, 3]\n",
      "https://help-id-meta-354262880.web.app/ [1, 1, 1, 1, 1, -1, 0, 1, -1, 1, 1, 1, 0, -1, 0, 1, -1, -1, 1, -1, -1, -1, 1, -1, -1, -1, 1, 1, 1, 0.03, 9, 0, 0, 0, 0, 5, 2, 22.0, 9, 0, 16, 39, 3]\n",
      "https://www.abet988.com/home [1, 1, 1, 1, 1, 1, 0, 1, 1, 1, 1, 1, 0, -1, 0, 1, -1, -1, 1, -1, -1, -1, 1, 1, 1, -1, 1, 1, 1, 0.18, 6, 0, 0, 0, 0, 5, 3, 20.0, 3, 0, 10, 28, 0]\n",
      "https://smnagrcaissrginfo-comfr.firebaseapp.com/ [1, 1, 1, 1, 1, -1, 0, 1, -1, -1, 1, 1, 0, -1, 1, 1, -1, -1, 1, -1, -1, -1, 1, -1, -1, -1, 1, 1, 1, 0.02, 7, 0, 0, 0, 0, 17, 3, 42.0, 0, 0, 36, 48, 1]\n",
      "https://sharen-secondary.z13.web.core.windows.net/ [1, 1, 1, 1, 1, -1, -1, 1, 1, -1, 1, 1, -1, -1, 1, 1, -1, -1, 1, -1, -1, -1, 1, 1, 1, -1, 1, 0, 1, 0.02, 10, 0, 0, 0, 0, 9, 1, 39.0, 2, 0, 33, 50, 1]\n",
      "https://bafybeig5jm7rlcbuvakuxuxfdhsnhvqwzgqoe7pi7svamzdvi2kdsxwnre.ipfs.dweb.link/ [1, -1, 1, 1, 1, 1, -1, 1, 1, -1, 1, 1, 0, -1, 0, 1, -1, -1, 1, -1, -1, -1, 1, 1, 1, -1, 1, 1, 1, 0.01, 7, 0, 0, 0, 0, 26, 2, 72.0, 5, 0, 66, 83, 0]\n",
      "https://rsxwe2.xyz/ [1, 1, 1, 1, 1, 1, 1, -1, 1, -1, 1, 1, -1, -1, -1, -1, -1, -1, -1, -1, -1, -1, -1, -1, -1, -1, 1, -1, 1, 0.05, 5, 0, 0, 0, 0, 5, 3, 14.0, 1, 0, 8, 19, 0]\n",
      "https://bafybeieppefzrgioxnr266wbawojx362gvpon42rq34rlasdnqswhblp6a.ipfs.dweb.link/wellsfargo.html [1, -1, 1, 1, 1, 1, -1, 1, 1, -1, 1, 1, 0, -1, 0, 1, -1, -1, 1, -1, -1, -1, 1, 1, 1, -1, 1, 1, 1, 0.16, 8, 0, 0, 0, 0, 20, 1, 80.0, 11, 0, 60, 98, 0]\n",
      "https://5gfhfg4g4g3f.blogspot.md/ [1, 1, 1, 1, 1, 1, 0, 1, -1, -1, 1, 1, 0, -1, 1, 0, -1, -1, 1, -1, -1, -1, 1, -1, -1, -1, 1, 1, 1, 0.03, 6, 0, 0, 0, 0, 8, 1, 24.0, 4, 0, 18, 33, 0]\n",
      "https://krakenloggen.godaddysites.com/ [1, 1, 1, 1, 1, 1, 0, 1, 1, -1, 1, 1, -1, -1, 1, 1, -1, -1, 1, -1, -1, -1, 1, 1, 1, -1, 1, 1, 1, 0.03, 6, 0, 0, 0, 0, 12, 3, 33.0, 0, 0, 27, 38, 0]\n",
      "https://www--wellsfargo--com--nx49329d48d6c.wsipv6.com/ [1, 0, 1, 1, 1, -1, 0, 1, 1, -1, 1, 1, -1, -1, 1, 0, -1, -1, 1, -1, -1, -1, 1, 1, 1, -1, 1, -1, 1, 0.02, 12, 0, 0, 0, 0, 10, 1, 35.0, 9, 0, 29, 55, 6]\n",
      "https://www--wellsfargo--com--2349329d48d6c.wsipv6.com/ [1, 0, 1, 1, 1, -1, 0, 1, 1, -1, 1, 1, -1, -1, 1, 0, -1, -1, 1, -1, -1, -1, 1, 1, 1, -1, 1, -1, 1, 0.02, 12, 0, 0, 0, 0, 10, 1, 33.0, 11, 0, 27, 55, 6]\n",
      "https://www--wellsfargo--com--2249329d48d6c.wsipv6.com/ [1, 0, 1, 1, 1, -1, 0, 1, 1, -1, 1, 1, -1, -1, 1, 0, -1, -1, 1, -1, -1, -1, 1, 1, 1, -1, 1, -1, 1, 0.02, 12, 0, 0, 0, 0, 10, 1, 33.0, 11, 0, 27, 55, 6]\n",
      "http://secureoffiice.mystrikingly.com/ [1, 1, 1, 1, 1, 1, 0, -1, 1, -1, 1, 1, 0, -1, 0, 1, -1, -1, 1, -1, -1, -1, 1, 1, 1, -1, 1, 1, 1, 0.03, 6, 0, 0, 0, 0, 13, 3, 33.0, 0, 0, 28, 38, 0]\n",
      "http://zllkuaa.com/ [1, 1, 1, 1, 1, 1, 1, -1, 1, -1, 1, 1, -1, -1, 1, 1, -1, -1, 1, -1, -1, -1, 1, -1, -1, -1, 1, 1, 1, 0.05, 5, 0, 0, 0, 0, 7, 3, 15.0, 0, 0, 10, 19, 0]\n",
      "https://thoskins.myportfolio.com/ [1, 1, 1, 1, 1, 1, 0, 1, 1, -1, 1, 1, 0, -1, 0, 1, -1, -1, 1, -1, -1, -1, 1, 1, 1, -1, 1, 1, 1, 0.03, 6, 0, 0, 0, 0, 11, 3, 28.0, 0, 0, 22, 33, 0]\n",
      "https://5ghhjyth4eg3f3g.blogspot.ru/ [1, 1, 1, 1, 1, 1, 0, 1, -1, -1, 1, 1, 0, -1, 1, 0, -1, -1, 1, -1, -1, -1, 1, -1, -1, -1, 1, 1, 1, 0.03, 6, 0, 0, 0, 0, 8, 1, 27.0, 4, 0, 21, 36, 0]\n",
      "https://datacraftsystems.in/wp-admin/onedrive2023/index.html [1, 0, 1, 1, 1, 1, 0, 1, 1, -1, 1, 1, 0, -1, 0, 1, -1, -1, 1, -1, -1, -1, 1, 1, 1, -1, 1, 1, 1, 0.55, 9, 0, 0, 0, 0, 16, 2, 48.0, 0, 0, 18, 60, 0]\n",
      "https://kuccoin-lggin.godaddysites.com/ [1, 1, 1, 1, 1, -1, 0, 1, 1, -1, 1, 1, -1, -1, 1, 1, -1, -1, 1, -1, -1, -1, 1, 1, 1, -1, 1, 1, 1, 0.03, 7, 0, 0, 0, 0, 12, 3, 33.0, 0, 0, 27, 39, 1]\n",
      "https://track-myposts.com/1/ [1, 1, 1, 1, 1, -1, 1, 1, 1, -1, 1, 1, 0, -1, 1, 1, -1, -1, 1, -1, -1, -1, 1, -1, -1, -1, 1, 1, 1, 0.11, 7, 0, 0, 0, 0, 7, 3, 21.0, 0, 0, 15, 28, 1]\n",
      "https://shopebzd.com/ [1, 1, 1, 1, 1, 1, 1, -1, 1, -1, 1, 1, -1, -1, -1, -1, -1, -1, -1, -1, -1, -1, -1, -1, -1, -1, 1, -1, 1, 0.05, 5, 0, 0, 0, 0, 8, 3, 17.0, 0, 0, 11, 21, 0]\n",
      "https://tribalguruji.com/wp-includes/vt-tr/orange [1, 1, 1, 1, 1, 1, 1, 1, 1, 1, 1, 1, -1, -1, 0, 0, -1, -1, 0, -1, -1, -1, 1, -1, -1, -1, 1, -1, 1, 0.51, 9, 0, 0, 0, 0, 12, 2, 41.0, 0, 0, 15, 49, 0]\n",
      "http://2629932.bm494174.web.hosting-test.net/orange.fr [1, 0, 1, 1, 1, -1, -1, -1, 1, -1, 1, 1, 0, -1, 0, 1, -1, -1, 1, -1, -1, -1, 1, 1, 1, -1, 1, 1, 1, 0.19, 10, 0, 0, 0, 0, 7, 2, 32.0, 13, 0, 19, 54, 1]\n",
      "http://2629932.bm494174.web.hosting-test.net/orange.fr/ [1, 0, 1, 1, 1, -1, -1, -1, 1, -1, 1, 1, 0, -1, 0, 1, -1, -1, 1, -1, -1, -1, 1, 1, 1, -1, 1, 1, 1, 0.2, 11, 0, 0, 0, 0, 7, 2, 32.0, 13, 0, 19, 55, 1]\n",
      "https://www--wellsfargo--com--fn49329d48d6c.wsipv6.com/ [1, 0, 1, 1, 1, -1, 0, 1, 1, -1, 1, 1, -1, -1, 1, 0, -1, -1, 1, -1, -1, -1, 1, 1, 1, -1, 1, -1, 1, 0.02, 12, 0, 0, 0, 0, 10, 1, 35.0, 9, 0, 29, 55, 6]\n",
      "https://dhl-delivery.org/ [1, 1, 1, 1, 1, -1, 1, 1, 1, -1, 1, 1, 0, -1, 0, 1, -1, -1, 1, -1, -1, -1, 1, -1, -1, -1, 1, 1, 1, 0.04, 6, 0, 0, 0, 0, 8, 3, 20.0, 0, 0, 14, 25, 1]\n"
     ]
    }
   ],
   "source": [
    "from custom.feature import FeatureExtraction\n",
    "\n",
    "test_list=[]\n",
    "testurls=['https://onlinecourses.nptel.ac.in/noc22_md01/preview','https://openphish.com/phishing_feeds.html','https://www.geeksforgeeks.org/python-program-convert-string-list/','https://srkrec.edu.in/','https://skillbox.surgeclasses.com/home','https://kavach.mic.gov.in/']\n",
    "for url in tempurls[21:230]:\n",
    "    pt=FeatureExtraction(url)\n",
    "    temp=pt.getFeaturesList()\n",
    "    test_list.append(temp)\n",
    "    print(url,temp)\n",
    "\n",
    "\n",
    "feature_names=['UsingIP', 'LongURL', 'ShortURL', 'Symbol@', 'Redirecting//',\n",
    "       'PrefixSuffix-', 'SubDomains', 'HTTPS', 'DomainRegLen', 'Favicon',\n",
    "       'NonStdPort', 'HTTPSDomainURL', 'RequestURL', 'AnchorURL',\n",
    "       'LinksInScriptTags', 'ServerFormHandler', 'InfoEmail', 'AbnormalURL',\n",
    "       'WebsiteForwarding', 'StatusBarCust', 'DisableRightClick',\n",
    "       'UsingPopupWindow', 'IframeRedirection', 'AgeofDomain', 'DNSRecording',\n",
    "       'PageRank', 'GoogleIndex', 'LinksPointingToPage',\n",
    "       'StatsReport','ratioPath','countSpl','countSus','countCom','countQues','hasQuery','maxWordllength','minWordlength','lowerUpper','noDigits','noUpper','noLower','lengthURL','countHyp']\n",
    "\n",
    "print(len(feature_names))\n",
    "\n",
    "test_df3=pd.DataFrame(test_list,columns=feature_names)\n",
    "test_df3.head()"
   ]
  },
  {
   "cell_type": "code",
   "execution_count": 118,
   "metadata": {},
   "outputs": [
    {
     "name": "stdout",
     "output_type": "stream",
     "text": [
      "https://onlinecourses.nptel.ac.in/noc22_md01/preview [1, 1, 1, 1, 1, 1, -1, 1, 1, -1, 1, 1, -1, -1, 1, 1, -1, -1, 1, -1, -1, -1, 1, 1, 1, -1, 1, -1, 1, 0.37, 9, 0, 0, 0, 0, 13, 2, 40.0, 0, 0, 22, 52, 0]\n",
      "https://openphish.com/phishing_feeds.html [1, 1, 1, 1, 1, 1, 0, 1, 1, -1, 1, 1, -1, -1, 0, 1, -1, -1, 1, -1, -1, -1, 1, 1, 1, -1, 1, -1, 1, 0.49, 7, 0, 0, 0, 0, 9, 3, 35.0, 0, 0, 12, 41, 0]\n",
      "https://www.geeksforgeeks.org/python-program-convert-string-list/ [1, 0, 1, 1, 1, 1, 0, 1, 1, -1, 1, 1, -1, -1, 0, 1, -1, -1, 1, -1, -1, -1, 1, 1, 1, -1, 1, -1, 1, 0.55, 11, 0, 0, 0, 0, 13, 3, 55.0, 0, 0, 19, 65, 0]\n",
      "https://srkrec.edu.in/ [1, 1, 1, 1, 1, 1, 0, 1, 1, -1, 1, 1, -1, -1, 0, 1, -1, -1, 1, -1, -1, 1, 1, 1, 1, -1, 1, -1, 1, 0.05, 6, 0, 0, 0, 0, 6, 2, 17.0, 0, 0, 11, 22, 0]\n",
      "https://skillbox.surgeclasses.com/home [1, 1, 1, 1, 1, 1, 0, 1, 1, -1, 1, 1, 0, -1, 0, 1, -1, -1, 1, -1, -1, -1, 1, 1, 1, -1, 1, 1, 1, 0.13, 6, 0, 0, 0, 0, 12, 3, 33.0, 0, 0, 23, 38, 0]\n",
      "https://kavach.mic.gov.in/ [1, 1, 1, 1, 1, 1, -1, 1, 1, 1, 1, 1, -1, -1, 0, 1, -1, -1, 1, -1, -1, -1, 1, 1, 1, -1, 1, -1, 1, 0.04, 7, 0, 0, 0, 0, 6, 2, 20.0, 0, 0, 14, 26, 0]\n",
      "43\n"
     ]
    },
    {
     "data": {
      "text/html": [
       "<div>\n",
       "<style scoped>\n",
       "    .dataframe tbody tr th:only-of-type {\n",
       "        vertical-align: middle;\n",
       "    }\n",
       "\n",
       "    .dataframe tbody tr th {\n",
       "        vertical-align: top;\n",
       "    }\n",
       "\n",
       "    .dataframe thead th {\n",
       "        text-align: right;\n",
       "    }\n",
       "</style>\n",
       "<table border=\"1\" class=\"dataframe\">\n",
       "  <thead>\n",
       "    <tr style=\"text-align: right;\">\n",
       "      <th></th>\n",
       "      <th>UsingIP</th>\n",
       "      <th>LongURL</th>\n",
       "      <th>ShortURL</th>\n",
       "      <th>Symbol@</th>\n",
       "      <th>Redirecting//</th>\n",
       "      <th>PrefixSuffix-</th>\n",
       "      <th>SubDomains</th>\n",
       "      <th>HTTPS</th>\n",
       "      <th>DomainRegLen</th>\n",
       "      <th>Favicon</th>\n",
       "      <th>...</th>\n",
       "      <th>countQues</th>\n",
       "      <th>hasQuery</th>\n",
       "      <th>maxWordllength</th>\n",
       "      <th>minWordlength</th>\n",
       "      <th>lowerUpper</th>\n",
       "      <th>noDigits</th>\n",
       "      <th>noUpper</th>\n",
       "      <th>noLower</th>\n",
       "      <th>lengthURL</th>\n",
       "      <th>countHyp</th>\n",
       "    </tr>\n",
       "  </thead>\n",
       "  <tbody>\n",
       "    <tr>\n",
       "      <th>0</th>\n",
       "      <td>1</td>\n",
       "      <td>1</td>\n",
       "      <td>1</td>\n",
       "      <td>1</td>\n",
       "      <td>1</td>\n",
       "      <td>1</td>\n",
       "      <td>-1</td>\n",
       "      <td>1</td>\n",
       "      <td>1</td>\n",
       "      <td>-1</td>\n",
       "      <td>...</td>\n",
       "      <td>0</td>\n",
       "      <td>0</td>\n",
       "      <td>13</td>\n",
       "      <td>2</td>\n",
       "      <td>40.0</td>\n",
       "      <td>0</td>\n",
       "      <td>0</td>\n",
       "      <td>22</td>\n",
       "      <td>52</td>\n",
       "      <td>0</td>\n",
       "    </tr>\n",
       "    <tr>\n",
       "      <th>1</th>\n",
       "      <td>1</td>\n",
       "      <td>1</td>\n",
       "      <td>1</td>\n",
       "      <td>1</td>\n",
       "      <td>1</td>\n",
       "      <td>1</td>\n",
       "      <td>0</td>\n",
       "      <td>1</td>\n",
       "      <td>1</td>\n",
       "      <td>-1</td>\n",
       "      <td>...</td>\n",
       "      <td>0</td>\n",
       "      <td>0</td>\n",
       "      <td>9</td>\n",
       "      <td>3</td>\n",
       "      <td>35.0</td>\n",
       "      <td>0</td>\n",
       "      <td>0</td>\n",
       "      <td>12</td>\n",
       "      <td>41</td>\n",
       "      <td>0</td>\n",
       "    </tr>\n",
       "    <tr>\n",
       "      <th>2</th>\n",
       "      <td>1</td>\n",
       "      <td>0</td>\n",
       "      <td>1</td>\n",
       "      <td>1</td>\n",
       "      <td>1</td>\n",
       "      <td>1</td>\n",
       "      <td>0</td>\n",
       "      <td>1</td>\n",
       "      <td>1</td>\n",
       "      <td>-1</td>\n",
       "      <td>...</td>\n",
       "      <td>0</td>\n",
       "      <td>0</td>\n",
       "      <td>13</td>\n",
       "      <td>3</td>\n",
       "      <td>55.0</td>\n",
       "      <td>0</td>\n",
       "      <td>0</td>\n",
       "      <td>19</td>\n",
       "      <td>65</td>\n",
       "      <td>0</td>\n",
       "    </tr>\n",
       "    <tr>\n",
       "      <th>3</th>\n",
       "      <td>1</td>\n",
       "      <td>1</td>\n",
       "      <td>1</td>\n",
       "      <td>1</td>\n",
       "      <td>1</td>\n",
       "      <td>1</td>\n",
       "      <td>0</td>\n",
       "      <td>1</td>\n",
       "      <td>1</td>\n",
       "      <td>-1</td>\n",
       "      <td>...</td>\n",
       "      <td>0</td>\n",
       "      <td>0</td>\n",
       "      <td>6</td>\n",
       "      <td>2</td>\n",
       "      <td>17.0</td>\n",
       "      <td>0</td>\n",
       "      <td>0</td>\n",
       "      <td>11</td>\n",
       "      <td>22</td>\n",
       "      <td>0</td>\n",
       "    </tr>\n",
       "    <tr>\n",
       "      <th>4</th>\n",
       "      <td>1</td>\n",
       "      <td>1</td>\n",
       "      <td>1</td>\n",
       "      <td>1</td>\n",
       "      <td>1</td>\n",
       "      <td>1</td>\n",
       "      <td>0</td>\n",
       "      <td>1</td>\n",
       "      <td>1</td>\n",
       "      <td>-1</td>\n",
       "      <td>...</td>\n",
       "      <td>0</td>\n",
       "      <td>0</td>\n",
       "      <td>12</td>\n",
       "      <td>3</td>\n",
       "      <td>33.0</td>\n",
       "      <td>0</td>\n",
       "      <td>0</td>\n",
       "      <td>23</td>\n",
       "      <td>38</td>\n",
       "      <td>0</td>\n",
       "    </tr>\n",
       "  </tbody>\n",
       "</table>\n",
       "<p>5 rows × 43 columns</p>\n",
       "</div>"
      ],
      "text/plain": [
       "   UsingIP  LongURL  ShortURL  Symbol@  Redirecting//  PrefixSuffix-  \\\n",
       "0        1        1         1        1              1              1   \n",
       "1        1        1         1        1              1              1   \n",
       "2        1        0         1        1              1              1   \n",
       "3        1        1         1        1              1              1   \n",
       "4        1        1         1        1              1              1   \n",
       "\n",
       "   SubDomains  HTTPS  DomainRegLen  Favicon  ...  countQues  hasQuery  \\\n",
       "0          -1      1             1       -1  ...          0         0   \n",
       "1           0      1             1       -1  ...          0         0   \n",
       "2           0      1             1       -1  ...          0         0   \n",
       "3           0      1             1       -1  ...          0         0   \n",
       "4           0      1             1       -1  ...          0         0   \n",
       "\n",
       "   maxWordllength  minWordlength  lowerUpper  noDigits  noUpper  noLower  \\\n",
       "0              13              2        40.0         0        0       22   \n",
       "1               9              3        35.0         0        0       12   \n",
       "2              13              3        55.0         0        0       19   \n",
       "3               6              2        17.0         0        0       11   \n",
       "4              12              3        33.0         0        0       23   \n",
       "\n",
       "   lengthURL  countHyp  \n",
       "0         52         0  \n",
       "1         41         0  \n",
       "2         65         0  \n",
       "3         22         0  \n",
       "4         38         0  \n",
       "\n",
       "[5 rows x 43 columns]"
      ]
     },
     "execution_count": 118,
     "metadata": {},
     "output_type": "execute_result"
    }
   ],
   "source": [
    "from custom.feature import FeatureExtraction\n",
    "\n",
    "test_list2=[]\n",
    "testurls=['https://onlinecourses.nptel.ac.in/noc22_md01/preview','https://openphish.com/phishing_feeds.html','https://www.geeksforgeeks.org/python-program-convert-string-list/','https://srkrec.edu.in/','https://skillbox.surgeclasses.com/home','https://kavach.mic.gov.in/']\n",
    "for url in testurls:\n",
    "    pt=FeatureExtraction(url)\n",
    "    temp=pt.getFeaturesList()\n",
    "    test_list2.append(temp)\n",
    "    print(url,temp)\n",
    "\n",
    "\n",
    "feature_names=['UsingIP', 'LongURL', 'ShortURL', 'Symbol@', 'Redirecting//',\n",
    "       'PrefixSuffix-', 'SubDomains', 'HTTPS', 'DomainRegLen', 'Favicon',\n",
    "       'NonStdPort', 'HTTPSDomainURL', 'RequestURL', 'AnchorURL',\n",
    "       'LinksInScriptTags', 'ServerFormHandler', 'InfoEmail', 'AbnormalURL',\n",
    "       'WebsiteForwarding', 'StatusBarCust', 'DisableRightClick',\n",
    "       'UsingPopupWindow', 'IframeRedirection', 'AgeofDomain', 'DNSRecording',\n",
    "       'PageRank', 'GoogleIndex', 'LinksPointingToPage',\n",
    "       'StatsReport','ratioPath','countSpl','countSus','countCom','countQues','hasQuery','maxWordllength','minWordlength','lowerUpper','noDigits','noUpper','noLower','lengthURL','countHyp']\n",
    "\n",
    "print(len(feature_names))\n",
    "\n",
    "test_df2=pd.DataFrame(test_list2,columns=feature_names)\n",
    "test_df2.head()"
   ]
  },
  {
   "cell_type": "code",
   "execution_count": 119,
   "metadata": {},
   "outputs": [
    {
     "name": "stdout",
     "output_type": "stream",
     "text": [
      "[ 1  1  1  1 -1  1]\n"
     ]
    }
   ],
   "source": [
    "pred=log.predict(test_df)\n",
    "print(pred)"
   ]
  },
  {
   "cell_type": "code",
   "execution_count": 66,
   "metadata": {},
   "outputs": [
    {
     "name": "stdout",
     "output_type": "stream",
     "text": [
      "[1 1]\n"
     ]
    }
   ],
   "source": [
    "1-1"
   ]
  },
  {
   "cell_type": "code",
   "execution_count": null,
   "metadata": {},
   "outputs": [],
   "source": []
  },
  {
   "cell_type": "code",
   "execution_count": 73,
   "metadata": {},
   "outputs": [
    {
     "data": {
      "text/html": [
       "<style>#sk-container-id-2 {color: black;background-color: white;}#sk-container-id-2 pre{padding: 0;}#sk-container-id-2 div.sk-toggleable {background-color: white;}#sk-container-id-2 label.sk-toggleable__label {cursor: pointer;display: block;width: 100%;margin-bottom: 0;padding: 0.3em;box-sizing: border-box;text-align: center;}#sk-container-id-2 label.sk-toggleable__label-arrow:before {content: \"▸\";float: left;margin-right: 0.25em;color: #696969;}#sk-container-id-2 label.sk-toggleable__label-arrow:hover:before {color: black;}#sk-container-id-2 div.sk-estimator:hover label.sk-toggleable__label-arrow:before {color: black;}#sk-container-id-2 div.sk-toggleable__content {max-height: 0;max-width: 0;overflow: hidden;text-align: left;background-color: #f0f8ff;}#sk-container-id-2 div.sk-toggleable__content pre {margin: 0.2em;color: black;border-radius: 0.25em;background-color: #f0f8ff;}#sk-container-id-2 input.sk-toggleable__control:checked~div.sk-toggleable__content {max-height: 200px;max-width: 100%;overflow: auto;}#sk-container-id-2 input.sk-toggleable__control:checked~label.sk-toggleable__label-arrow:before {content: \"▾\";}#sk-container-id-2 div.sk-estimator input.sk-toggleable__control:checked~label.sk-toggleable__label {background-color: #d4ebff;}#sk-container-id-2 div.sk-label input.sk-toggleable__control:checked~label.sk-toggleable__label {background-color: #d4ebff;}#sk-container-id-2 input.sk-hidden--visually {border: 0;clip: rect(1px 1px 1px 1px);clip: rect(1px, 1px, 1px, 1px);height: 1px;margin: -1px;overflow: hidden;padding: 0;position: absolute;width: 1px;}#sk-container-id-2 div.sk-estimator {font-family: monospace;background-color: #f0f8ff;border: 1px dotted black;border-radius: 0.25em;box-sizing: border-box;margin-bottom: 0.5em;}#sk-container-id-2 div.sk-estimator:hover {background-color: #d4ebff;}#sk-container-id-2 div.sk-parallel-item::after {content: \"\";width: 100%;border-bottom: 1px solid gray;flex-grow: 1;}#sk-container-id-2 div.sk-label:hover label.sk-toggleable__label {background-color: #d4ebff;}#sk-container-id-2 div.sk-serial::before {content: \"\";position: absolute;border-left: 1px solid gray;box-sizing: border-box;top: 0;bottom: 0;left: 50%;z-index: 0;}#sk-container-id-2 div.sk-serial {display: flex;flex-direction: column;align-items: center;background-color: white;padding-right: 0.2em;padding-left: 0.2em;position: relative;}#sk-container-id-2 div.sk-item {position: relative;z-index: 1;}#sk-container-id-2 div.sk-parallel {display: flex;align-items: stretch;justify-content: center;background-color: white;position: relative;}#sk-container-id-2 div.sk-item::before, #sk-container-id-2 div.sk-parallel-item::before {content: \"\";position: absolute;border-left: 1px solid gray;box-sizing: border-box;top: 0;bottom: 0;left: 50%;z-index: -1;}#sk-container-id-2 div.sk-parallel-item {display: flex;flex-direction: column;z-index: 1;position: relative;background-color: white;}#sk-container-id-2 div.sk-parallel-item:first-child::after {align-self: flex-end;width: 50%;}#sk-container-id-2 div.sk-parallel-item:last-child::after {align-self: flex-start;width: 50%;}#sk-container-id-2 div.sk-parallel-item:only-child::after {width: 0;}#sk-container-id-2 div.sk-dashed-wrapped {border: 1px dashed gray;margin: 0 0.4em 0.5em 0.4em;box-sizing: border-box;padding-bottom: 0.4em;background-color: white;}#sk-container-id-2 div.sk-label label {font-family: monospace;font-weight: bold;display: inline-block;line-height: 1.2em;}#sk-container-id-2 div.sk-label-container {text-align: center;}#sk-container-id-2 div.sk-container {/* jupyter's `normalize.less` sets `[hidden] { display: none; }` but bootstrap.min.css set `[hidden] { display: none !important; }` so we also need the `!important` here to be able to override the default hidden behavior on the sphinx rendered scikit-learn.org. See: https://github.com/scikit-learn/scikit-learn/issues/21755 */display: inline-block !important;position: relative;}#sk-container-id-2 div.sk-text-repr-fallback {display: none;}</style><div id=\"sk-container-id-2\" class=\"sk-top-container\"><div class=\"sk-text-repr-fallback\"><pre>KNeighborsClassifier(n_neighbors=1)</pre><b>In a Jupyter environment, please rerun this cell to show the HTML representation or trust the notebook. <br />On GitHub, the HTML representation is unable to render, please try loading this page with nbviewer.org.</b></div><div class=\"sk-container\" hidden><div class=\"sk-item\"><div class=\"sk-estimator sk-toggleable\"><input class=\"sk-toggleable__control sk-hidden--visually\" id=\"sk-estimator-id-2\" type=\"checkbox\" checked><label for=\"sk-estimator-id-2\" class=\"sk-toggleable__label sk-toggleable__label-arrow\">KNeighborsClassifier</label><div class=\"sk-toggleable__content\"><pre>KNeighborsClassifier(n_neighbors=1)</pre></div></div></div></div></div>"
      ],
      "text/plain": [
       "KNeighborsClassifier(n_neighbors=1)"
      ]
     },
     "execution_count": 73,
     "metadata": {},
     "output_type": "execute_result"
    }
   ],
   "source": [
    "# K-Nearest Neighbors Classifier model\n",
    "from sklearn.neighbors import KNeighborsClassifier\n",
    "\n",
    "# instantiate the model\n",
    "knn = KNeighborsClassifier(n_neighbors=1)\n",
    "\n",
    "# fit the model \n",
    "knn.fit(X_train,y_train)"
   ]
  },
  {
   "cell_type": "code",
   "execution_count": 74,
   "metadata": {},
   "outputs": [],
   "source": [
    "#predicting the target value from the model for the samples\n",
    "y_train_knn = knn.predict(X_train)\n",
    "y_test_knn = knn.predict(X_test)"
   ]
  },
  {
   "cell_type": "code",
   "execution_count": 75,
   "metadata": {},
   "outputs": [
    {
     "name": "stdout",
     "output_type": "stream",
     "text": [
      "K-Nearest Neighbors : Accuracy on training Data: 1.000\n",
      "K-Nearest Neighbors : Accuracy on test Data: 0.932\n",
      "\n",
      "K-Nearest Neighbors : f1_score on training Data: 1.000\n",
      "K-Nearest Neighbors : f1_score on test Data: 0.898\n",
      "\n",
      "K-Nearest Neighborsn : Recall on training Data: 1.000\n",
      "Logistic Regression : Recall on test Data: 0.880\n",
      "\n",
      "K-Nearest Neighbors : precision on training Data: 1.000\n",
      "K-Nearest Neighbors : precision on test Data: 0.917\n"
     ]
    }
   ],
   "source": [
    "#computing the accuracy,f1_score,Recall,precision of the model performance\n",
    "\n",
    "acc_train_knn = metrics.accuracy_score(y_train,y_train_knn)\n",
    "acc_test_knn = metrics.accuracy_score(y_test,y_test_knn)\n",
    "print(\"K-Nearest Neighbors : Accuracy on training Data: {:.3f}\".format(acc_train_knn))\n",
    "print(\"K-Nearest Neighbors : Accuracy on test Data: {:.3f}\".format(acc_test_knn))\n",
    "print()\n",
    "\n",
    "f1_score_train_knn = metrics.f1_score(y_train,y_train_knn)\n",
    "f1_score_test_knn = metrics.f1_score(y_test,y_test_knn)\n",
    "print(\"K-Nearest Neighbors : f1_score on training Data: {:.3f}\".format(f1_score_train_knn))\n",
    "print(\"K-Nearest Neighbors : f1_score on test Data: {:.3f}\".format(f1_score_test_knn))\n",
    "print()\n",
    "\n",
    "recall_score_train_knn = metrics.recall_score(y_train,y_train_knn)\n",
    "recall_score_test_knn = metrics.recall_score(y_test,y_test_knn)\n",
    "print(\"K-Nearest Neighborsn : Recall on training Data: {:.3f}\".format(recall_score_train_knn))\n",
    "print(\"Logistic Regression : Recall on test Data: {:.3f}\".format(recall_score_test_knn))\n",
    "print()\n",
    "\n",
    "precision_score_train_knn = metrics.precision_score(y_train,y_train_knn)\n",
    "precision_score_test_knn = metrics.precision_score(y_test,y_test_knn)\n",
    "print(\"K-Nearest Neighbors : precision on training Data: {:.3f}\".format(precision_score_train_knn))\n",
    "print(\"K-Nearest Neighbors : precision on test Data: {:.3f}\".format(precision_score_test_knn))"
   ]
  },
  {
   "cell_type": "code",
   "execution_count": 76,
   "metadata": {},
   "outputs": [
    {
     "name": "stdout",
     "output_type": "stream",
     "text": [
      "              precision    recall  f1-score   support\n",
      "\n",
      "          -1       0.94      0.96      0.95        98\n",
      "           1       0.92      0.88      0.90        50\n",
      "\n",
      "    accuracy                           0.93       148\n",
      "   macro avg       0.93      0.92      0.92       148\n",
      "weighted avg       0.93      0.93      0.93       148\n",
      "\n"
     ]
    }
   ],
   "source": [
    "#computing the classification report of the model\n",
    "\n",
    "print(metrics.classification_report(y_test, y_test_knn))"
   ]
  },
  {
   "cell_type": "code",
   "execution_count": 120,
   "metadata": {},
   "outputs": [
    {
     "name": "stdout",
     "output_type": "stream",
     "text": [
      "[-1 -1 -1  1 -1  1]\n"
     ]
    }
   ],
   "source": [
    "pred=knn.predict(test_df)\n",
    "print(pred)"
   ]
  },
  {
   "cell_type": "code",
   "execution_count": null,
   "metadata": {},
   "outputs": [],
   "source": [
    "4-1"
   ]
  },
  {
   "cell_type": "code",
   "execution_count": 78,
   "metadata": {},
   "outputs": [
    {
     "data": {
      "text/html": [
       "<style>#sk-container-id-3 {color: black;background-color: white;}#sk-container-id-3 pre{padding: 0;}#sk-container-id-3 div.sk-toggleable {background-color: white;}#sk-container-id-3 label.sk-toggleable__label {cursor: pointer;display: block;width: 100%;margin-bottom: 0;padding: 0.3em;box-sizing: border-box;text-align: center;}#sk-container-id-3 label.sk-toggleable__label-arrow:before {content: \"▸\";float: left;margin-right: 0.25em;color: #696969;}#sk-container-id-3 label.sk-toggleable__label-arrow:hover:before {color: black;}#sk-container-id-3 div.sk-estimator:hover label.sk-toggleable__label-arrow:before {color: black;}#sk-container-id-3 div.sk-toggleable__content {max-height: 0;max-width: 0;overflow: hidden;text-align: left;background-color: #f0f8ff;}#sk-container-id-3 div.sk-toggleable__content pre {margin: 0.2em;color: black;border-radius: 0.25em;background-color: #f0f8ff;}#sk-container-id-3 input.sk-toggleable__control:checked~div.sk-toggleable__content {max-height: 200px;max-width: 100%;overflow: auto;}#sk-container-id-3 input.sk-toggleable__control:checked~label.sk-toggleable__label-arrow:before {content: \"▾\";}#sk-container-id-3 div.sk-estimator input.sk-toggleable__control:checked~label.sk-toggleable__label {background-color: #d4ebff;}#sk-container-id-3 div.sk-label input.sk-toggleable__control:checked~label.sk-toggleable__label {background-color: #d4ebff;}#sk-container-id-3 input.sk-hidden--visually {border: 0;clip: rect(1px 1px 1px 1px);clip: rect(1px, 1px, 1px, 1px);height: 1px;margin: -1px;overflow: hidden;padding: 0;position: absolute;width: 1px;}#sk-container-id-3 div.sk-estimator {font-family: monospace;background-color: #f0f8ff;border: 1px dotted black;border-radius: 0.25em;box-sizing: border-box;margin-bottom: 0.5em;}#sk-container-id-3 div.sk-estimator:hover {background-color: #d4ebff;}#sk-container-id-3 div.sk-parallel-item::after {content: \"\";width: 100%;border-bottom: 1px solid gray;flex-grow: 1;}#sk-container-id-3 div.sk-label:hover label.sk-toggleable__label {background-color: #d4ebff;}#sk-container-id-3 div.sk-serial::before {content: \"\";position: absolute;border-left: 1px solid gray;box-sizing: border-box;top: 0;bottom: 0;left: 50%;z-index: 0;}#sk-container-id-3 div.sk-serial {display: flex;flex-direction: column;align-items: center;background-color: white;padding-right: 0.2em;padding-left: 0.2em;position: relative;}#sk-container-id-3 div.sk-item {position: relative;z-index: 1;}#sk-container-id-3 div.sk-parallel {display: flex;align-items: stretch;justify-content: center;background-color: white;position: relative;}#sk-container-id-3 div.sk-item::before, #sk-container-id-3 div.sk-parallel-item::before {content: \"\";position: absolute;border-left: 1px solid gray;box-sizing: border-box;top: 0;bottom: 0;left: 50%;z-index: -1;}#sk-container-id-3 div.sk-parallel-item {display: flex;flex-direction: column;z-index: 1;position: relative;background-color: white;}#sk-container-id-3 div.sk-parallel-item:first-child::after {align-self: flex-end;width: 50%;}#sk-container-id-3 div.sk-parallel-item:last-child::after {align-self: flex-start;width: 50%;}#sk-container-id-3 div.sk-parallel-item:only-child::after {width: 0;}#sk-container-id-3 div.sk-dashed-wrapped {border: 1px dashed gray;margin: 0 0.4em 0.5em 0.4em;box-sizing: border-box;padding-bottom: 0.4em;background-color: white;}#sk-container-id-3 div.sk-label label {font-family: monospace;font-weight: bold;display: inline-block;line-height: 1.2em;}#sk-container-id-3 div.sk-label-container {text-align: center;}#sk-container-id-3 div.sk-container {/* jupyter's `normalize.less` sets `[hidden] { display: none; }` but bootstrap.min.css set `[hidden] { display: none !important; }` so we also need the `!important` here to be able to override the default hidden behavior on the sphinx rendered scikit-learn.org. See: https://github.com/scikit-learn/scikit-learn/issues/21755 */display: inline-block !important;position: relative;}#sk-container-id-3 div.sk-text-repr-fallback {display: none;}</style><div id=\"sk-container-id-3\" class=\"sk-top-container\"><div class=\"sk-text-repr-fallback\"><pre>GridSearchCV(estimator=SVC(),\n",
       "             param_grid={&#x27;gamma&#x27;: [0.1], &#x27;kernel&#x27;: [&#x27;rbf&#x27;, &#x27;linear&#x27;]})</pre><b>In a Jupyter environment, please rerun this cell to show the HTML representation or trust the notebook. <br />On GitHub, the HTML representation is unable to render, please try loading this page with nbviewer.org.</b></div><div class=\"sk-container\" hidden><div class=\"sk-item sk-dashed-wrapped\"><div class=\"sk-label-container\"><div class=\"sk-label sk-toggleable\"><input class=\"sk-toggleable__control sk-hidden--visually\" id=\"sk-estimator-id-3\" type=\"checkbox\" ><label for=\"sk-estimator-id-3\" class=\"sk-toggleable__label sk-toggleable__label-arrow\">GridSearchCV</label><div class=\"sk-toggleable__content\"><pre>GridSearchCV(estimator=SVC(),\n",
       "             param_grid={&#x27;gamma&#x27;: [0.1], &#x27;kernel&#x27;: [&#x27;rbf&#x27;, &#x27;linear&#x27;]})</pre></div></div></div><div class=\"sk-parallel\"><div class=\"sk-parallel-item\"><div class=\"sk-item\"><div class=\"sk-label-container\"><div class=\"sk-label sk-toggleable\"><input class=\"sk-toggleable__control sk-hidden--visually\" id=\"sk-estimator-id-4\" type=\"checkbox\" ><label for=\"sk-estimator-id-4\" class=\"sk-toggleable__label sk-toggleable__label-arrow\">estimator: SVC</label><div class=\"sk-toggleable__content\"><pre>SVC()</pre></div></div></div><div class=\"sk-serial\"><div class=\"sk-item\"><div class=\"sk-estimator sk-toggleable\"><input class=\"sk-toggleable__control sk-hidden--visually\" id=\"sk-estimator-id-5\" type=\"checkbox\" ><label for=\"sk-estimator-id-5\" class=\"sk-toggleable__label sk-toggleable__label-arrow\">SVC</label><div class=\"sk-toggleable__content\"><pre>SVC()</pre></div></div></div></div></div></div></div></div></div></div>"
      ],
      "text/plain": [
       "GridSearchCV(estimator=SVC(),\n",
       "             param_grid={'gamma': [0.1], 'kernel': ['rbf', 'linear']})"
      ]
     },
     "execution_count": 78,
     "metadata": {},
     "output_type": "execute_result"
    }
   ],
   "source": [
    "# Support Vector Classifier model \n",
    "from sklearn.svm import SVC\n",
    "from sklearn.model_selection import GridSearchCV\n",
    "\n",
    "# defining parameter range\n",
    "param_grid = {'gamma': [0.1],'kernel': ['rbf','linear']}\n",
    "\n",
    "svc = GridSearchCV(SVC(), param_grid)\n",
    "\n",
    "# fitting the model for grid search\n",
    "svc.fit(X_train, y_train)\n"
   ]
  },
  {
   "cell_type": "code",
   "execution_count": 79,
   "metadata": {},
   "outputs": [],
   "source": [
    "#predicting the target value from the model for the samples\n",
    "y_train_svc = svc.predict(X_train)\n",
    "y_test_svc = svc.predict(X_test)"
   ]
  },
  {
   "cell_type": "code",
   "execution_count": 80,
   "metadata": {},
   "outputs": [
    {
     "name": "stdout",
     "output_type": "stream",
     "text": [
      "Support Vector Machine : Accuracy on training Data: 0.973\n",
      "Support Vector Machine : Accuracy on test Data: 0.959\n",
      "\n",
      "Support Vector Machine : f1_score on training Data: 0.957\n",
      "Support Vector Machine : f1_score on test Data: 0.940\n",
      "\n",
      "Support Vector Machine : Recall on training Data: 0.963\n",
      "Support Vector Machine : Recall on test Data: 0.940\n",
      "\n",
      "Support Vector Machine : precision on training Data: 0.952\n",
      "Support Vector Machine : precision on test Data: 0.940\n"
     ]
    }
   ],
   "source": [
    "#computing the accuracy, f1_score, Recall, precision of the model performance\n",
    "\n",
    "acc_train_svc = metrics.accuracy_score(y_train,y_train_svc)\n",
    "acc_test_svc = metrics.accuracy_score(y_test,y_test_svc)\n",
    "print(\"Support Vector Machine : Accuracy on training Data: {:.3f}\".format(acc_train_svc))\n",
    "print(\"Support Vector Machine : Accuracy on test Data: {:.3f}\".format(acc_test_svc))\n",
    "print()\n",
    "\n",
    "f1_score_train_svc = metrics.f1_score(y_train,y_train_svc)\n",
    "f1_score_test_svc = metrics.f1_score(y_test,y_test_svc)\n",
    "print(\"Support Vector Machine : f1_score on training Data: {:.3f}\".format(f1_score_train_svc))\n",
    "print(\"Support Vector Machine : f1_score on test Data: {:.3f}\".format(f1_score_test_svc))\n",
    "print()\n",
    "\n",
    "recall_score_train_svc = metrics.recall_score(y_train,y_train_svc)\n",
    "recall_score_test_svc = metrics.recall_score(y_test,y_test_svc)\n",
    "print(\"Support Vector Machine : Recall on training Data: {:.3f}\".format(recall_score_train_svc))\n",
    "print(\"Support Vector Machine : Recall on test Data: {:.3f}\".format(recall_score_test_svc))\n",
    "print()\n",
    "\n",
    "precision_score_train_svc = metrics.precision_score(y_train,y_train_svc)\n",
    "precision_score_test_svc = metrics.precision_score(y_test,y_test_svc)\n",
    "print(\"Support Vector Machine : precision on training Data: {:.3f}\".format(precision_score_train_svc))\n",
    "print(\"Support Vector Machine : precision on test Data: {:.3f}\".format(precision_score_test_svc))"
   ]
  },
  {
   "cell_type": "code",
   "execution_count": 81,
   "metadata": {},
   "outputs": [
    {
     "name": "stdout",
     "output_type": "stream",
     "text": [
      "              precision    recall  f1-score   support\n",
      "\n",
      "          -1       0.97      0.97      0.97        98\n",
      "           1       0.94      0.94      0.94        50\n",
      "\n",
      "    accuracy                           0.96       148\n",
      "   macro avg       0.95      0.95      0.95       148\n",
      "weighted avg       0.96      0.96      0.96       148\n",
      "\n"
     ]
    }
   ],
   "source": [
    "#computing the classification report of the model\n",
    "\n",
    "print(metrics.classification_report(y_test, y_test_svc))"
   ]
  },
  {
   "cell_type": "code",
   "execution_count": 121,
   "metadata": {},
   "outputs": [
    {
     "name": "stdout",
     "output_type": "stream",
     "text": [
      "[ 1  1  1  1 -1  1]\n"
     ]
    }
   ],
   "source": [
    "pred=svc.predict(test_df)\n",
    "print(pred)"
   ]
  },
  {
   "cell_type": "code",
   "execution_count": null,
   "metadata": {},
   "outputs": [],
   "source": [
    "1-1"
   ]
  },
  {
   "cell_type": "code",
   "execution_count": 83,
   "metadata": {},
   "outputs": [
    {
     "data": {
      "text/html": [
       "<style>#sk-container-id-4 {color: black;background-color: white;}#sk-container-id-4 pre{padding: 0;}#sk-container-id-4 div.sk-toggleable {background-color: white;}#sk-container-id-4 label.sk-toggleable__label {cursor: pointer;display: block;width: 100%;margin-bottom: 0;padding: 0.3em;box-sizing: border-box;text-align: center;}#sk-container-id-4 label.sk-toggleable__label-arrow:before {content: \"▸\";float: left;margin-right: 0.25em;color: #696969;}#sk-container-id-4 label.sk-toggleable__label-arrow:hover:before {color: black;}#sk-container-id-4 div.sk-estimator:hover label.sk-toggleable__label-arrow:before {color: black;}#sk-container-id-4 div.sk-toggleable__content {max-height: 0;max-width: 0;overflow: hidden;text-align: left;background-color: #f0f8ff;}#sk-container-id-4 div.sk-toggleable__content pre {margin: 0.2em;color: black;border-radius: 0.25em;background-color: #f0f8ff;}#sk-container-id-4 input.sk-toggleable__control:checked~div.sk-toggleable__content {max-height: 200px;max-width: 100%;overflow: auto;}#sk-container-id-4 input.sk-toggleable__control:checked~label.sk-toggleable__label-arrow:before {content: \"▾\";}#sk-container-id-4 div.sk-estimator input.sk-toggleable__control:checked~label.sk-toggleable__label {background-color: #d4ebff;}#sk-container-id-4 div.sk-label input.sk-toggleable__control:checked~label.sk-toggleable__label {background-color: #d4ebff;}#sk-container-id-4 input.sk-hidden--visually {border: 0;clip: rect(1px 1px 1px 1px);clip: rect(1px, 1px, 1px, 1px);height: 1px;margin: -1px;overflow: hidden;padding: 0;position: absolute;width: 1px;}#sk-container-id-4 div.sk-estimator {font-family: monospace;background-color: #f0f8ff;border: 1px dotted black;border-radius: 0.25em;box-sizing: border-box;margin-bottom: 0.5em;}#sk-container-id-4 div.sk-estimator:hover {background-color: #d4ebff;}#sk-container-id-4 div.sk-parallel-item::after {content: \"\";width: 100%;border-bottom: 1px solid gray;flex-grow: 1;}#sk-container-id-4 div.sk-label:hover label.sk-toggleable__label {background-color: #d4ebff;}#sk-container-id-4 div.sk-serial::before {content: \"\";position: absolute;border-left: 1px solid gray;box-sizing: border-box;top: 0;bottom: 0;left: 50%;z-index: 0;}#sk-container-id-4 div.sk-serial {display: flex;flex-direction: column;align-items: center;background-color: white;padding-right: 0.2em;padding-left: 0.2em;position: relative;}#sk-container-id-4 div.sk-item {position: relative;z-index: 1;}#sk-container-id-4 div.sk-parallel {display: flex;align-items: stretch;justify-content: center;background-color: white;position: relative;}#sk-container-id-4 div.sk-item::before, #sk-container-id-4 div.sk-parallel-item::before {content: \"\";position: absolute;border-left: 1px solid gray;box-sizing: border-box;top: 0;bottom: 0;left: 50%;z-index: -1;}#sk-container-id-4 div.sk-parallel-item {display: flex;flex-direction: column;z-index: 1;position: relative;background-color: white;}#sk-container-id-4 div.sk-parallel-item:first-child::after {align-self: flex-end;width: 50%;}#sk-container-id-4 div.sk-parallel-item:last-child::after {align-self: flex-start;width: 50%;}#sk-container-id-4 div.sk-parallel-item:only-child::after {width: 0;}#sk-container-id-4 div.sk-dashed-wrapped {border: 1px dashed gray;margin: 0 0.4em 0.5em 0.4em;box-sizing: border-box;padding-bottom: 0.4em;background-color: white;}#sk-container-id-4 div.sk-label label {font-family: monospace;font-weight: bold;display: inline-block;line-height: 1.2em;}#sk-container-id-4 div.sk-label-container {text-align: center;}#sk-container-id-4 div.sk-container {/* jupyter's `normalize.less` sets `[hidden] { display: none; }` but bootstrap.min.css set `[hidden] { display: none !important; }` so we also need the `!important` here to be able to override the default hidden behavior on the sphinx rendered scikit-learn.org. See: https://github.com/scikit-learn/scikit-learn/issues/21755 */display: inline-block !important;position: relative;}#sk-container-id-4 div.sk-text-repr-fallback {display: none;}</style><div id=\"sk-container-id-4\" class=\"sk-top-container\"><div class=\"sk-text-repr-fallback\"><pre>GaussianNB()</pre><b>In a Jupyter environment, please rerun this cell to show the HTML representation or trust the notebook. <br />On GitHub, the HTML representation is unable to render, please try loading this page with nbviewer.org.</b></div><div class=\"sk-container\" hidden><div class=\"sk-item\"><div class=\"sk-estimator sk-toggleable\"><input class=\"sk-toggleable__control sk-hidden--visually\" id=\"sk-estimator-id-6\" type=\"checkbox\" checked><label for=\"sk-estimator-id-6\" class=\"sk-toggleable__label sk-toggleable__label-arrow\">GaussianNB</label><div class=\"sk-toggleable__content\"><pre>GaussianNB()</pre></div></div></div></div></div>"
      ],
      "text/plain": [
       "GaussianNB()"
      ]
     },
     "execution_count": 83,
     "metadata": {},
     "output_type": "execute_result"
    }
   ],
   "source": [
    "# Naive Bayes Classifier Model\n",
    "from sklearn.naive_bayes import GaussianNB\n",
    "from sklearn.pipeline import Pipeline\n",
    "\n",
    "# instantiate the model\n",
    "nb=  GaussianNB()\n",
    "\n",
    "# fit the model \n",
    "nb.fit(X_train,y_train)"
   ]
  },
  {
   "cell_type": "code",
   "execution_count": 84,
   "metadata": {},
   "outputs": [],
   "source": [
    "#predicting the target value from the model for the samples\n",
    "y_train_nb = nb.predict(X_train)\n",
    "y_test_nb = nb.predict(X_test)"
   ]
  },
  {
   "cell_type": "code",
   "execution_count": 85,
   "metadata": {},
   "outputs": [
    {
     "name": "stdout",
     "output_type": "stream",
     "text": [
      "Naive Bayes Classifier : Accuracy on training Data: 0.900\n",
      "Naive Bayes Classifier : Accuracy on test Data: 0.899\n",
      "\n",
      "Naive Bayes Classifier : f1_score on training Data: 0.858\n",
      "Naive Bayes Classifier : f1_score on test Data: 0.854\n",
      "\n",
      "Naive Bayes Classifier : Recall on training Data: 0.952\n",
      "Naive Bayes Classifier : Recall on test Data: 0.880\n",
      "\n",
      "Naive Bayes Classifier : precision on training Data: 0.781\n",
      "Naive Bayes Classifier : precision on test Data: 0.830\n"
     ]
    }
   ],
   "source": [
    "#computing the accuracy, f1_score, Recall, precision of the model performance\n",
    "\n",
    "acc_train_nb = metrics.accuracy_score(y_train,y_train_nb)\n",
    "acc_test_nb = metrics.accuracy_score(y_test,y_test_nb)\n",
    "print(\"Naive Bayes Classifier : Accuracy on training Data: {:.3f}\".format(acc_train_nb))\n",
    "print(\"Naive Bayes Classifier : Accuracy on test Data: {:.3f}\".format(acc_test_nb))\n",
    "print()\n",
    "\n",
    "f1_score_train_nb = metrics.f1_score(y_train,y_train_nb)\n",
    "f1_score_test_nb = metrics.f1_score(y_test,y_test_nb)\n",
    "print(\"Naive Bayes Classifier : f1_score on training Data: {:.3f}\".format(f1_score_train_nb))\n",
    "print(\"Naive Bayes Classifier : f1_score on test Data: {:.3f}\".format(f1_score_test_nb))\n",
    "print()\n",
    "\n",
    "recall_score_train_nb = metrics.recall_score(y_train,y_train_nb)\n",
    "recall_score_test_nb = metrics.recall_score(y_test,y_test_nb)\n",
    "print(\"Naive Bayes Classifier : Recall on training Data: {:.3f}\".format(recall_score_train_nb))\n",
    "print(\"Naive Bayes Classifier : Recall on test Data: {:.3f}\".format(recall_score_test_nb))\n",
    "print()\n",
    "\n",
    "precision_score_train_nb = metrics.precision_score(y_train,y_train_nb)\n",
    "precision_score_test_nb = metrics.precision_score(y_test,y_test_nb)\n",
    "print(\"Naive Bayes Classifier : precision on training Data: {:.3f}\".format(precision_score_train_nb))\n",
    "print(\"Naive Bayes Classifier : precision on test Data: {:.3f}\".format(precision_score_test_nb))"
   ]
  },
  {
   "cell_type": "code",
   "execution_count": 86,
   "metadata": {},
   "outputs": [
    {
     "name": "stdout",
     "output_type": "stream",
     "text": [
      "              precision    recall  f1-score   support\n",
      "\n",
      "          -1       0.97      0.97      0.97        98\n",
      "           1       0.94      0.94      0.94        50\n",
      "\n",
      "    accuracy                           0.96       148\n",
      "   macro avg       0.95      0.95      0.95       148\n",
      "weighted avg       0.96      0.96      0.96       148\n",
      "\n"
     ]
    }
   ],
   "source": [
    "#computing the classification report of the model\n",
    "\n",
    "print(metrics.classification_report(y_test, y_test_svc))"
   ]
  },
  {
   "cell_type": "code",
   "execution_count": 122,
   "metadata": {},
   "outputs": [
    {
     "name": "stdout",
     "output_type": "stream",
     "text": [
      "[1 1 1 1 1 1]\n"
     ]
    }
   ],
   "source": [
    "pred=nb.predict(test_df)\n",
    "print(pred)"
   ]
  },
  {
   "cell_type": "code",
   "execution_count": null,
   "metadata": {},
   "outputs": [],
   "source": [
    "0-3"
   ]
  },
  {
   "cell_type": "code",
   "execution_count": 88,
   "metadata": {},
   "outputs": [
    {
     "data": {
      "text/html": [
       "<style>#sk-container-id-5 {color: black;background-color: white;}#sk-container-id-5 pre{padding: 0;}#sk-container-id-5 div.sk-toggleable {background-color: white;}#sk-container-id-5 label.sk-toggleable__label {cursor: pointer;display: block;width: 100%;margin-bottom: 0;padding: 0.3em;box-sizing: border-box;text-align: center;}#sk-container-id-5 label.sk-toggleable__label-arrow:before {content: \"▸\";float: left;margin-right: 0.25em;color: #696969;}#sk-container-id-5 label.sk-toggleable__label-arrow:hover:before {color: black;}#sk-container-id-5 div.sk-estimator:hover label.sk-toggleable__label-arrow:before {color: black;}#sk-container-id-5 div.sk-toggleable__content {max-height: 0;max-width: 0;overflow: hidden;text-align: left;background-color: #f0f8ff;}#sk-container-id-5 div.sk-toggleable__content pre {margin: 0.2em;color: black;border-radius: 0.25em;background-color: #f0f8ff;}#sk-container-id-5 input.sk-toggleable__control:checked~div.sk-toggleable__content {max-height: 200px;max-width: 100%;overflow: auto;}#sk-container-id-5 input.sk-toggleable__control:checked~label.sk-toggleable__label-arrow:before {content: \"▾\";}#sk-container-id-5 div.sk-estimator input.sk-toggleable__control:checked~label.sk-toggleable__label {background-color: #d4ebff;}#sk-container-id-5 div.sk-label input.sk-toggleable__control:checked~label.sk-toggleable__label {background-color: #d4ebff;}#sk-container-id-5 input.sk-hidden--visually {border: 0;clip: rect(1px 1px 1px 1px);clip: rect(1px, 1px, 1px, 1px);height: 1px;margin: -1px;overflow: hidden;padding: 0;position: absolute;width: 1px;}#sk-container-id-5 div.sk-estimator {font-family: monospace;background-color: #f0f8ff;border: 1px dotted black;border-radius: 0.25em;box-sizing: border-box;margin-bottom: 0.5em;}#sk-container-id-5 div.sk-estimator:hover {background-color: #d4ebff;}#sk-container-id-5 div.sk-parallel-item::after {content: \"\";width: 100%;border-bottom: 1px solid gray;flex-grow: 1;}#sk-container-id-5 div.sk-label:hover label.sk-toggleable__label {background-color: #d4ebff;}#sk-container-id-5 div.sk-serial::before {content: \"\";position: absolute;border-left: 1px solid gray;box-sizing: border-box;top: 0;bottom: 0;left: 50%;z-index: 0;}#sk-container-id-5 div.sk-serial {display: flex;flex-direction: column;align-items: center;background-color: white;padding-right: 0.2em;padding-left: 0.2em;position: relative;}#sk-container-id-5 div.sk-item {position: relative;z-index: 1;}#sk-container-id-5 div.sk-parallel {display: flex;align-items: stretch;justify-content: center;background-color: white;position: relative;}#sk-container-id-5 div.sk-item::before, #sk-container-id-5 div.sk-parallel-item::before {content: \"\";position: absolute;border-left: 1px solid gray;box-sizing: border-box;top: 0;bottom: 0;left: 50%;z-index: -1;}#sk-container-id-5 div.sk-parallel-item {display: flex;flex-direction: column;z-index: 1;position: relative;background-color: white;}#sk-container-id-5 div.sk-parallel-item:first-child::after {align-self: flex-end;width: 50%;}#sk-container-id-5 div.sk-parallel-item:last-child::after {align-self: flex-start;width: 50%;}#sk-container-id-5 div.sk-parallel-item:only-child::after {width: 0;}#sk-container-id-5 div.sk-dashed-wrapped {border: 1px dashed gray;margin: 0 0.4em 0.5em 0.4em;box-sizing: border-box;padding-bottom: 0.4em;background-color: white;}#sk-container-id-5 div.sk-label label {font-family: monospace;font-weight: bold;display: inline-block;line-height: 1.2em;}#sk-container-id-5 div.sk-label-container {text-align: center;}#sk-container-id-5 div.sk-container {/* jupyter's `normalize.less` sets `[hidden] { display: none; }` but bootstrap.min.css set `[hidden] { display: none !important; }` so we also need the `!important` here to be able to override the default hidden behavior on the sphinx rendered scikit-learn.org. See: https://github.com/scikit-learn/scikit-learn/issues/21755 */display: inline-block !important;position: relative;}#sk-container-id-5 div.sk-text-repr-fallback {display: none;}</style><div id=\"sk-container-id-5\" class=\"sk-top-container\"><div class=\"sk-text-repr-fallback\"><pre>DecisionTreeClassifier(max_depth=30)</pre><b>In a Jupyter environment, please rerun this cell to show the HTML representation or trust the notebook. <br />On GitHub, the HTML representation is unable to render, please try loading this page with nbviewer.org.</b></div><div class=\"sk-container\" hidden><div class=\"sk-item\"><div class=\"sk-estimator sk-toggleable\"><input class=\"sk-toggleable__control sk-hidden--visually\" id=\"sk-estimator-id-7\" type=\"checkbox\" checked><label for=\"sk-estimator-id-7\" class=\"sk-toggleable__label sk-toggleable__label-arrow\">DecisionTreeClassifier</label><div class=\"sk-toggleable__content\"><pre>DecisionTreeClassifier(max_depth=30)</pre></div></div></div></div></div>"
      ],
      "text/plain": [
       "DecisionTreeClassifier(max_depth=30)"
      ]
     },
     "execution_count": 88,
     "metadata": {},
     "output_type": "execute_result"
    }
   ],
   "source": [
    "# Decision Tree Classifier model \n",
    "from sklearn.tree import DecisionTreeClassifier\n",
    "\n",
    "# instantiate the model \n",
    "tree = DecisionTreeClassifier(max_depth=30)\n",
    "\n",
    "# fit the model \n",
    "tree.fit(X_train, y_train)"
   ]
  },
  {
   "cell_type": "code",
   "execution_count": 89,
   "metadata": {},
   "outputs": [],
   "source": [
    "#predicting the target value from the model for the samples\n",
    "\n",
    "y_train_tree = tree.predict(X_train)\n",
    "y_test_tree = tree.predict(X_test)"
   ]
  },
  {
   "cell_type": "code",
   "execution_count": 90,
   "metadata": {},
   "outputs": [
    {
     "name": "stdout",
     "output_type": "stream",
     "text": [
      "Decision Tree : Accuracy on training Data: 1.000\n",
      "Decision Tree : Accuracy on test Data: 0.973\n",
      "\n",
      "Decision Tree : f1_score on training Data: 1.000\n",
      "Decision Tree : f1_score on test Data: 0.960\n",
      "\n",
      "Decision Tree : Recall on training Data: 1.000\n",
      "Decision Tree : Recall on test Data: 0.960\n",
      "\n",
      "Decision Tree : precision on training Data: 1.000\n",
      "Decision Tree : precision on test Data: 0.960\n"
     ]
    }
   ],
   "source": [
    "#computing the accuracy, f1_score, Recall, precision of the model performance\n",
    "\n",
    "acc_train_tree = metrics.accuracy_score(y_train,y_train_tree)\n",
    "acc_test_tree = metrics.accuracy_score(y_test,y_test_tree)\n",
    "print(\"Decision Tree : Accuracy on training Data: {:.3f}\".format(acc_train_tree))\n",
    "print(\"Decision Tree : Accuracy on test Data: {:.3f}\".format(acc_test_tree))\n",
    "print()\n",
    "\n",
    "f1_score_train_tree = metrics.f1_score(y_train,y_train_tree)\n",
    "f1_score_test_tree = metrics.f1_score(y_test,y_test_tree)\n",
    "print(\"Decision Tree : f1_score on training Data: {:.3f}\".format(f1_score_train_tree))\n",
    "print(\"Decision Tree : f1_score on test Data: {:.3f}\".format(f1_score_test_tree))\n",
    "print()\n",
    "\n",
    "recall_score_train_tree = metrics.recall_score(y_train,y_train_tree)\n",
    "recall_score_test_tree = metrics.recall_score(y_test,y_test_tree)\n",
    "print(\"Decision Tree : Recall on training Data: {:.3f}\".format(recall_score_train_tree))\n",
    "print(\"Decision Tree : Recall on test Data: {:.3f}\".format(recall_score_test_tree))\n",
    "print()\n",
    "\n",
    "precision_score_train_tree = metrics.precision_score(y_train,y_train_tree)\n",
    "precision_score_test_tree = metrics.precision_score(y_test,y_test_tree)\n",
    "print(\"Decision Tree : precision on training Data: {:.3f}\".format(precision_score_train_tree))\n",
    "print(\"Decision Tree : precision on test Data: {:.3f}\".format(precision_score_test_tree))"
   ]
  },
  {
   "cell_type": "code",
   "execution_count": 91,
   "metadata": {},
   "outputs": [
    {
     "name": "stdout",
     "output_type": "stream",
     "text": [
      "              precision    recall  f1-score   support\n",
      "\n",
      "          -1       0.98      0.98      0.98        98\n",
      "           1       0.96      0.96      0.96        50\n",
      "\n",
      "    accuracy                           0.97       148\n",
      "   macro avg       0.97      0.97      0.97       148\n",
      "weighted avg       0.97      0.97      0.97       148\n",
      "\n"
     ]
    }
   ],
   "source": [
    "#computing the classification report of the model\n",
    "\n",
    "print(metrics.classification_report(y_test, y_test_tree))"
   ]
  },
  {
   "cell_type": "code",
   "execution_count": 123,
   "metadata": {},
   "outputs": [
    {
     "name": "stdout",
     "output_type": "stream",
     "text": [
      "[1 1 1 1 1 1]\n"
     ]
    }
   ],
   "source": [
    "pred=tree.predict(test_df)\n",
    "print(pred)"
   ]
  },
  {
   "cell_type": "code",
   "execution_count": null,
   "metadata": {},
   "outputs": [],
   "source": [
    "0-5"
   ]
  },
  {
   "cell_type": "code",
   "execution_count": 93,
   "metadata": {},
   "outputs": [
    {
     "data": {
      "text/html": [
       "<style>#sk-container-id-6 {color: black;background-color: white;}#sk-container-id-6 pre{padding: 0;}#sk-container-id-6 div.sk-toggleable {background-color: white;}#sk-container-id-6 label.sk-toggleable__label {cursor: pointer;display: block;width: 100%;margin-bottom: 0;padding: 0.3em;box-sizing: border-box;text-align: center;}#sk-container-id-6 label.sk-toggleable__label-arrow:before {content: \"▸\";float: left;margin-right: 0.25em;color: #696969;}#sk-container-id-6 label.sk-toggleable__label-arrow:hover:before {color: black;}#sk-container-id-6 div.sk-estimator:hover label.sk-toggleable__label-arrow:before {color: black;}#sk-container-id-6 div.sk-toggleable__content {max-height: 0;max-width: 0;overflow: hidden;text-align: left;background-color: #f0f8ff;}#sk-container-id-6 div.sk-toggleable__content pre {margin: 0.2em;color: black;border-radius: 0.25em;background-color: #f0f8ff;}#sk-container-id-6 input.sk-toggleable__control:checked~div.sk-toggleable__content {max-height: 200px;max-width: 100%;overflow: auto;}#sk-container-id-6 input.sk-toggleable__control:checked~label.sk-toggleable__label-arrow:before {content: \"▾\";}#sk-container-id-6 div.sk-estimator input.sk-toggleable__control:checked~label.sk-toggleable__label {background-color: #d4ebff;}#sk-container-id-6 div.sk-label input.sk-toggleable__control:checked~label.sk-toggleable__label {background-color: #d4ebff;}#sk-container-id-6 input.sk-hidden--visually {border: 0;clip: rect(1px 1px 1px 1px);clip: rect(1px, 1px, 1px, 1px);height: 1px;margin: -1px;overflow: hidden;padding: 0;position: absolute;width: 1px;}#sk-container-id-6 div.sk-estimator {font-family: monospace;background-color: #f0f8ff;border: 1px dotted black;border-radius: 0.25em;box-sizing: border-box;margin-bottom: 0.5em;}#sk-container-id-6 div.sk-estimator:hover {background-color: #d4ebff;}#sk-container-id-6 div.sk-parallel-item::after {content: \"\";width: 100%;border-bottom: 1px solid gray;flex-grow: 1;}#sk-container-id-6 div.sk-label:hover label.sk-toggleable__label {background-color: #d4ebff;}#sk-container-id-6 div.sk-serial::before {content: \"\";position: absolute;border-left: 1px solid gray;box-sizing: border-box;top: 0;bottom: 0;left: 50%;z-index: 0;}#sk-container-id-6 div.sk-serial {display: flex;flex-direction: column;align-items: center;background-color: white;padding-right: 0.2em;padding-left: 0.2em;position: relative;}#sk-container-id-6 div.sk-item {position: relative;z-index: 1;}#sk-container-id-6 div.sk-parallel {display: flex;align-items: stretch;justify-content: center;background-color: white;position: relative;}#sk-container-id-6 div.sk-item::before, #sk-container-id-6 div.sk-parallel-item::before {content: \"\";position: absolute;border-left: 1px solid gray;box-sizing: border-box;top: 0;bottom: 0;left: 50%;z-index: -1;}#sk-container-id-6 div.sk-parallel-item {display: flex;flex-direction: column;z-index: 1;position: relative;background-color: white;}#sk-container-id-6 div.sk-parallel-item:first-child::after {align-self: flex-end;width: 50%;}#sk-container-id-6 div.sk-parallel-item:last-child::after {align-self: flex-start;width: 50%;}#sk-container-id-6 div.sk-parallel-item:only-child::after {width: 0;}#sk-container-id-6 div.sk-dashed-wrapped {border: 1px dashed gray;margin: 0 0.4em 0.5em 0.4em;box-sizing: border-box;padding-bottom: 0.4em;background-color: white;}#sk-container-id-6 div.sk-label label {font-family: monospace;font-weight: bold;display: inline-block;line-height: 1.2em;}#sk-container-id-6 div.sk-label-container {text-align: center;}#sk-container-id-6 div.sk-container {/* jupyter's `normalize.less` sets `[hidden] { display: none; }` but bootstrap.min.css set `[hidden] { display: none !important; }` so we also need the `!important` here to be able to override the default hidden behavior on the sphinx rendered scikit-learn.org. See: https://github.com/scikit-learn/scikit-learn/issues/21755 */display: inline-block !important;position: relative;}#sk-container-id-6 div.sk-text-repr-fallback {display: none;}</style><div id=\"sk-container-id-6\" class=\"sk-top-container\"><div class=\"sk-text-repr-fallback\"><pre>RandomForestClassifier(n_estimators=10)</pre><b>In a Jupyter environment, please rerun this cell to show the HTML representation or trust the notebook. <br />On GitHub, the HTML representation is unable to render, please try loading this page with nbviewer.org.</b></div><div class=\"sk-container\" hidden><div class=\"sk-item\"><div class=\"sk-estimator sk-toggleable\"><input class=\"sk-toggleable__control sk-hidden--visually\" id=\"sk-estimator-id-8\" type=\"checkbox\" checked><label for=\"sk-estimator-id-8\" class=\"sk-toggleable__label sk-toggleable__label-arrow\">RandomForestClassifier</label><div class=\"sk-toggleable__content\"><pre>RandomForestClassifier(n_estimators=10)</pre></div></div></div></div></div>"
      ],
      "text/plain": [
       "RandomForestClassifier(n_estimators=10)"
      ]
     },
     "execution_count": 93,
     "metadata": {},
     "output_type": "execute_result"
    }
   ],
   "source": [
    "# Random Forest Classifier Model\n",
    "from sklearn.ensemble import RandomForestClassifier\n",
    "\n",
    "# instantiate the model\n",
    "forest = RandomForestClassifier(n_estimators=10)\n",
    "\n",
    "# fit the model \n",
    "forest.fit(X_train,y_train)"
   ]
  },
  {
   "cell_type": "code",
   "execution_count": 124,
   "metadata": {},
   "outputs": [
    {
     "name": "stdout",
     "output_type": "stream",
     "text": [
      "[-1  1  1  1  1  1]\n"
     ]
    }
   ],
   "source": [
    "pred=forest.predict(test_df)\n",
    "print(pred)"
   ]
  },
  {
   "cell_type": "code",
   "execution_count": null,
   "metadata": {},
   "outputs": [],
   "source": [
    "1-3"
   ]
  },
  {
   "cell_type": "code",
   "execution_count": null,
   "metadata": {},
   "outputs": [],
   "source": []
  },
  {
   "cell_type": "code",
   "execution_count": 96,
   "metadata": {},
   "outputs": [
    {
     "data": {
      "text/html": [
       "<style>#sk-container-id-7 {color: black;background-color: white;}#sk-container-id-7 pre{padding: 0;}#sk-container-id-7 div.sk-toggleable {background-color: white;}#sk-container-id-7 label.sk-toggleable__label {cursor: pointer;display: block;width: 100%;margin-bottom: 0;padding: 0.3em;box-sizing: border-box;text-align: center;}#sk-container-id-7 label.sk-toggleable__label-arrow:before {content: \"▸\";float: left;margin-right: 0.25em;color: #696969;}#sk-container-id-7 label.sk-toggleable__label-arrow:hover:before {color: black;}#sk-container-id-7 div.sk-estimator:hover label.sk-toggleable__label-arrow:before {color: black;}#sk-container-id-7 div.sk-toggleable__content {max-height: 0;max-width: 0;overflow: hidden;text-align: left;background-color: #f0f8ff;}#sk-container-id-7 div.sk-toggleable__content pre {margin: 0.2em;color: black;border-radius: 0.25em;background-color: #f0f8ff;}#sk-container-id-7 input.sk-toggleable__control:checked~div.sk-toggleable__content {max-height: 200px;max-width: 100%;overflow: auto;}#sk-container-id-7 input.sk-toggleable__control:checked~label.sk-toggleable__label-arrow:before {content: \"▾\";}#sk-container-id-7 div.sk-estimator input.sk-toggleable__control:checked~label.sk-toggleable__label {background-color: #d4ebff;}#sk-container-id-7 div.sk-label input.sk-toggleable__control:checked~label.sk-toggleable__label {background-color: #d4ebff;}#sk-container-id-7 input.sk-hidden--visually {border: 0;clip: rect(1px 1px 1px 1px);clip: rect(1px, 1px, 1px, 1px);height: 1px;margin: -1px;overflow: hidden;padding: 0;position: absolute;width: 1px;}#sk-container-id-7 div.sk-estimator {font-family: monospace;background-color: #f0f8ff;border: 1px dotted black;border-radius: 0.25em;box-sizing: border-box;margin-bottom: 0.5em;}#sk-container-id-7 div.sk-estimator:hover {background-color: #d4ebff;}#sk-container-id-7 div.sk-parallel-item::after {content: \"\";width: 100%;border-bottom: 1px solid gray;flex-grow: 1;}#sk-container-id-7 div.sk-label:hover label.sk-toggleable__label {background-color: #d4ebff;}#sk-container-id-7 div.sk-serial::before {content: \"\";position: absolute;border-left: 1px solid gray;box-sizing: border-box;top: 0;bottom: 0;left: 50%;z-index: 0;}#sk-container-id-7 div.sk-serial {display: flex;flex-direction: column;align-items: center;background-color: white;padding-right: 0.2em;padding-left: 0.2em;position: relative;}#sk-container-id-7 div.sk-item {position: relative;z-index: 1;}#sk-container-id-7 div.sk-parallel {display: flex;align-items: stretch;justify-content: center;background-color: white;position: relative;}#sk-container-id-7 div.sk-item::before, #sk-container-id-7 div.sk-parallel-item::before {content: \"\";position: absolute;border-left: 1px solid gray;box-sizing: border-box;top: 0;bottom: 0;left: 50%;z-index: -1;}#sk-container-id-7 div.sk-parallel-item {display: flex;flex-direction: column;z-index: 1;position: relative;background-color: white;}#sk-container-id-7 div.sk-parallel-item:first-child::after {align-self: flex-end;width: 50%;}#sk-container-id-7 div.sk-parallel-item:last-child::after {align-self: flex-start;width: 50%;}#sk-container-id-7 div.sk-parallel-item:only-child::after {width: 0;}#sk-container-id-7 div.sk-dashed-wrapped {border: 1px dashed gray;margin: 0 0.4em 0.5em 0.4em;box-sizing: border-box;padding-bottom: 0.4em;background-color: white;}#sk-container-id-7 div.sk-label label {font-family: monospace;font-weight: bold;display: inline-block;line-height: 1.2em;}#sk-container-id-7 div.sk-label-container {text-align: center;}#sk-container-id-7 div.sk-container {/* jupyter's `normalize.less` sets `[hidden] { display: none; }` but bootstrap.min.css set `[hidden] { display: none !important; }` so we also need the `!important` here to be able to override the default hidden behavior on the sphinx rendered scikit-learn.org. See: https://github.com/scikit-learn/scikit-learn/issues/21755 */display: inline-block !important;position: relative;}#sk-container-id-7 div.sk-text-repr-fallback {display: none;}</style><div id=\"sk-container-id-7\" class=\"sk-top-container\"><div class=\"sk-text-repr-fallback\"><pre>GradientBoostingClassifier(learning_rate=0.7, max_depth=4)</pre><b>In a Jupyter environment, please rerun this cell to show the HTML representation or trust the notebook. <br />On GitHub, the HTML representation is unable to render, please try loading this page with nbviewer.org.</b></div><div class=\"sk-container\" hidden><div class=\"sk-item\"><div class=\"sk-estimator sk-toggleable\"><input class=\"sk-toggleable__control sk-hidden--visually\" id=\"sk-estimator-id-9\" type=\"checkbox\" checked><label for=\"sk-estimator-id-9\" class=\"sk-toggleable__label sk-toggleable__label-arrow\">GradientBoostingClassifier</label><div class=\"sk-toggleable__content\"><pre>GradientBoostingClassifier(learning_rate=0.7, max_depth=4)</pre></div></div></div></div></div>"
      ],
      "text/plain": [
       "GradientBoostingClassifier(learning_rate=0.7, max_depth=4)"
      ]
     },
     "execution_count": 96,
     "metadata": {},
     "output_type": "execute_result"
    }
   ],
   "source": [
    "# Gradient Boosting Classifier Model\n",
    "from sklearn.ensemble import GradientBoostingClassifier\n",
    "\n",
    "# instantiate the model\n",
    "gbc = GradientBoostingClassifier(max_depth=4,learning_rate=0.7)\n",
    "\n",
    "# fit the model \n",
    "gbc.fit(X_train,y_train)"
   ]
  },
  {
   "cell_type": "code",
   "execution_count": 125,
   "metadata": {},
   "outputs": [
    {
     "name": "stdout",
     "output_type": "stream",
     "text": [
      "[1 1 1 1 1 1]\n"
     ]
    }
   ],
   "source": [
    "pred=gbc.predict(test_df)\n",
    "print(pred)"
   ]
  },
  {
   "cell_type": "code",
   "execution_count": null,
   "metadata": {},
   "outputs": [],
   "source": [
    "0-3"
   ]
  },
  {
   "cell_type": "code",
   "execution_count": 98,
   "metadata": {},
   "outputs": [
    {
     "data": {
      "text/html": [
       "<style>#sk-container-id-8 {color: black;background-color: white;}#sk-container-id-8 pre{padding: 0;}#sk-container-id-8 div.sk-toggleable {background-color: white;}#sk-container-id-8 label.sk-toggleable__label {cursor: pointer;display: block;width: 100%;margin-bottom: 0;padding: 0.3em;box-sizing: border-box;text-align: center;}#sk-container-id-8 label.sk-toggleable__label-arrow:before {content: \"▸\";float: left;margin-right: 0.25em;color: #696969;}#sk-container-id-8 label.sk-toggleable__label-arrow:hover:before {color: black;}#sk-container-id-8 div.sk-estimator:hover label.sk-toggleable__label-arrow:before {color: black;}#sk-container-id-8 div.sk-toggleable__content {max-height: 0;max-width: 0;overflow: hidden;text-align: left;background-color: #f0f8ff;}#sk-container-id-8 div.sk-toggleable__content pre {margin: 0.2em;color: black;border-radius: 0.25em;background-color: #f0f8ff;}#sk-container-id-8 input.sk-toggleable__control:checked~div.sk-toggleable__content {max-height: 200px;max-width: 100%;overflow: auto;}#sk-container-id-8 input.sk-toggleable__control:checked~label.sk-toggleable__label-arrow:before {content: \"▾\";}#sk-container-id-8 div.sk-estimator input.sk-toggleable__control:checked~label.sk-toggleable__label {background-color: #d4ebff;}#sk-container-id-8 div.sk-label input.sk-toggleable__control:checked~label.sk-toggleable__label {background-color: #d4ebff;}#sk-container-id-8 input.sk-hidden--visually {border: 0;clip: rect(1px 1px 1px 1px);clip: rect(1px, 1px, 1px, 1px);height: 1px;margin: -1px;overflow: hidden;padding: 0;position: absolute;width: 1px;}#sk-container-id-8 div.sk-estimator {font-family: monospace;background-color: #f0f8ff;border: 1px dotted black;border-radius: 0.25em;box-sizing: border-box;margin-bottom: 0.5em;}#sk-container-id-8 div.sk-estimator:hover {background-color: #d4ebff;}#sk-container-id-8 div.sk-parallel-item::after {content: \"\";width: 100%;border-bottom: 1px solid gray;flex-grow: 1;}#sk-container-id-8 div.sk-label:hover label.sk-toggleable__label {background-color: #d4ebff;}#sk-container-id-8 div.sk-serial::before {content: \"\";position: absolute;border-left: 1px solid gray;box-sizing: border-box;top: 0;bottom: 0;left: 50%;z-index: 0;}#sk-container-id-8 div.sk-serial {display: flex;flex-direction: column;align-items: center;background-color: white;padding-right: 0.2em;padding-left: 0.2em;position: relative;}#sk-container-id-8 div.sk-item {position: relative;z-index: 1;}#sk-container-id-8 div.sk-parallel {display: flex;align-items: stretch;justify-content: center;background-color: white;position: relative;}#sk-container-id-8 div.sk-item::before, #sk-container-id-8 div.sk-parallel-item::before {content: \"\";position: absolute;border-left: 1px solid gray;box-sizing: border-box;top: 0;bottom: 0;left: 50%;z-index: -1;}#sk-container-id-8 div.sk-parallel-item {display: flex;flex-direction: column;z-index: 1;position: relative;background-color: white;}#sk-container-id-8 div.sk-parallel-item:first-child::after {align-self: flex-end;width: 50%;}#sk-container-id-8 div.sk-parallel-item:last-child::after {align-self: flex-start;width: 50%;}#sk-container-id-8 div.sk-parallel-item:only-child::after {width: 0;}#sk-container-id-8 div.sk-dashed-wrapped {border: 1px dashed gray;margin: 0 0.4em 0.5em 0.4em;box-sizing: border-box;padding-bottom: 0.4em;background-color: white;}#sk-container-id-8 div.sk-label label {font-family: monospace;font-weight: bold;display: inline-block;line-height: 1.2em;}#sk-container-id-8 div.sk-label-container {text-align: center;}#sk-container-id-8 div.sk-container {/* jupyter's `normalize.less` sets `[hidden] { display: none; }` but bootstrap.min.css set `[hidden] { display: none !important; }` so we also need the `!important` here to be able to override the default hidden behavior on the sphinx rendered scikit-learn.org. See: https://github.com/scikit-learn/scikit-learn/issues/21755 */display: inline-block !important;position: relative;}#sk-container-id-8 div.sk-text-repr-fallback {display: none;}</style><div id=\"sk-container-id-8\" class=\"sk-top-container\"><div class=\"sk-text-repr-fallback\"><pre>MLPClassifier()</pre><b>In a Jupyter environment, please rerun this cell to show the HTML representation or trust the notebook. <br />On GitHub, the HTML representation is unable to render, please try loading this page with nbviewer.org.</b></div><div class=\"sk-container\" hidden><div class=\"sk-item\"><div class=\"sk-estimator sk-toggleable\"><input class=\"sk-toggleable__control sk-hidden--visually\" id=\"sk-estimator-id-10\" type=\"checkbox\" checked><label for=\"sk-estimator-id-10\" class=\"sk-toggleable__label sk-toggleable__label-arrow\">MLPClassifier</label><div class=\"sk-toggleable__content\"><pre>MLPClassifier()</pre></div></div></div></div></div>"
      ],
      "text/plain": [
       "MLPClassifier()"
      ]
     },
     "execution_count": 98,
     "metadata": {},
     "output_type": "execute_result"
    }
   ],
   "source": [
    "# Multi-layer Perceptron Classifier Model\n",
    "from sklearn.neural_network import MLPClassifier\n",
    "\n",
    "# instantiate the model\n",
    "mlp = MLPClassifier()\n",
    "#mlp = GridSearchCV(mlpc, parameter_space)\n",
    "\n",
    "# fit the model \n",
    "mlp.fit(X_train,y_train)"
   ]
  },
  {
   "cell_type": "code",
   "execution_count": 126,
   "metadata": {},
   "outputs": [
    {
     "name": "stdout",
     "output_type": "stream",
     "text": [
      "[ 1  1  1  1 -1  1]\n"
     ]
    }
   ],
   "source": [
    "pred=mlp.predict(test_df)\n",
    "print(pred)"
   ]
  },
  {
   "cell_type": "code",
   "execution_count": null,
   "metadata": {},
   "outputs": [],
   "source": [
    "1-0"
   ]
  },
  {
   "cell_type": "code",
   "execution_count": null,
   "metadata": {},
   "outputs": [],
   "source": []
  },
  {
   "cell_type": "code",
   "execution_count": null,
   "metadata": {},
   "outputs": [],
   "source": []
  },
  {
   "cell_type": "code",
   "execution_count": null,
   "metadata": {},
   "outputs": [],
   "source": []
  },
  {
   "cell_type": "code",
   "execution_count": null,
   "metadata": {},
   "outputs": [],
   "source": []
  },
  {
   "cell_type": "code",
   "execution_count": null,
   "metadata": {},
   "outputs": [],
   "source": []
  },
  {
   "cell_type": "code",
   "execution_count": null,
   "metadata": {},
   "outputs": [],
   "source": []
  },
  {
   "cell_type": "code",
   "execution_count": 4,
   "metadata": {},
   "outputs": [
    {
     "name": "stdout",
     "output_type": "stream",
     "text": [
      "True\n"
     ]
    }
   ],
   "source": [
    "from urllib.parse import urlparse\n",
    "\n",
    "temp=urlparse('www.google.com')\n",
    "if temp.scheme == '':\n",
    "    print(True)"
   ]
  },
  {
   "cell_type": "code",
   "execution_count": 6,
   "metadata": {},
   "outputs": [],
   "source": [
    "def urllength(url):\n",
    "    return len(url)"
   ]
  },
  {
   "cell_type": "code",
   "execution_count": 7,
   "metadata": {},
   "outputs": [],
   "source": [
    "def longURL(url):\n",
    "    if len(url) > 54:\n",
    "        return 1\n",
    "    else:\n",
    "        return 0"
   ]
  },
  {
   "cell_type": "code",
   "execution_count": 9,
   "metadata": {},
   "outputs": [],
   "source": [
    "def shortURL(url):\n",
    "    match = re.search('bit\\.ly|goo\\.gl|shorte\\.st|go2l\\.ink|x\\.co|ow\\.ly|t\\.co|tinyurl|tr\\.im|is\\.gd|cli\\.gs|'\n",
    "                    'yfrog\\.com|migre\\.me|ff\\.im|tiny\\.cc|url4\\.eu|twit\\.ac|su\\.pr|twurl\\.nl|snipurl\\.com|'\n",
    "                    'short\\.to|BudURL\\.com|ping\\.fm|post\\.ly|Just\\.as|bkite\\.com|snipr\\.com|fic\\.kr|loopt\\.us|'\n",
    "                    'doiop\\.com|short\\.ie|kl\\.am|wp\\.me|rubyurl\\.com|om\\.ly|to\\.ly|bit\\.do|t\\.co|lnkd\\.in|'\n",
    "                    'db\\.tt|qr\\.ae|adf\\.ly|goo\\.gl|bitly\\.com|cur\\.lv|tinyurl\\.com|ow\\.ly|bit\\.ly|ity\\.im|'\n",
    "                    'q\\.gs|is\\.gd|po\\.st|bc\\.vc|twitthis\\.com|u\\.to|j\\.mp|buzurl\\.com|cutt\\.us|u\\.bb|yourls\\.org|'\n",
    "                    'x\\.co|prettylinkpro\\.com|scrnch\\.me|filoops\\.info|vzturl\\.com|qr\\.net|1url\\.com|tweez\\.me|v\\.gd|tr\\.im|link\\.zip\\.net', url)\n",
    "    if match:\n",
    "        return 1\n",
    "    else:\n",
    "        return 0"
   ]
  },
  {
   "cell_type": "code",
   "execution_count": 10,
   "metadata": {},
   "outputs": [],
   "source": [
    "def atSymbol(url):\n",
    "    if re.findall(\"@\",url):\n",
    "        return 1\n",
    "    else:\n",
    "        return 0"
   ]
  },
  {
   "cell_type": "code",
   "execution_count": 11,
   "metadata": {},
   "outputs": [],
   "source": [
    "def hasRedirecting(url):\n",
    "    if url.rfind('//') > 6:\n",
    "        return 1\n",
    "    else:\n",
    "        return 0"
   ]
  },
  {
   "cell_type": "code",
   "execution_count": 13,
   "metadata": {},
   "outputs": [],
   "source": [
    "from urllib.parse import urlparse\n",
    "\n",
    "def divideURL(url):\n",
    "    if 'https://' in url or 'http://' in url:\n",
    "        temp=urlparse(url)\n",
    "        print(temp)\n",
    "    else:\n",
    "        url='//' + url\n",
    "        temp=urlparse(url)\n",
    "        print(temp)"
   ]
  },
  {
   "cell_type": "code",
   "execution_count": 61,
   "metadata": {},
   "outputs": [],
   "source": [
    "def prefixSuffix(url):\n",
    "    if '-' in urlparse(url).netloc:\n",
    "        return 1\n",
    "    else:\n",
    "        return 0"
   ]
  },
  {
   "cell_type": "code",
   "execution_count": 41,
   "metadata": {},
   "outputs": [],
   "source": [
    "import re\n",
    "def  dotinDomain(domain):\n",
    "    if 'www' in domain:\n",
    "        domain=domain[4:]\n",
    "    dot_count = len(re.findall(\"\\.\", domain))\n",
    "    return dot_count"
   ]
  },
  {
   "cell_type": "code",
   "execution_count": 42,
   "metadata": {},
   "outputs": [
    {
     "name": "stdout",
     "output_type": "stream",
     "text": [
      "0\n"
     ]
    }
   ],
   "source": [
    "print(prefixSuffix('www.google.co.in'))"
   ]
  },
  {
   "cell_type": "code",
   "execution_count": 51,
   "metadata": {},
   "outputs": [],
   "source": [
    "from http.client import HTTPConnection, HTTPSConnection\n",
    "\n",
    "def protocolStatus(url):\n",
    "    def check_https_url(url):\n",
    "        if 'https://' in url:\n",
    "            HTTPS_URL = url\n",
    "        else:\n",
    "            HTTPS_URL = f'https://{url}'\n",
    "        print(HTTPS_URL)\n",
    "        try:\n",
    "            HTTPS_URL = urlparse(HTTPS_URL)\n",
    "            connection = HTTPSConnection(HTTPS_URL.netloc, timeout=2)\n",
    "            connection.request('HEAD', HTTPS_URL.path)\n",
    "            if connection.getresponse():\n",
    "                return True\n",
    "            else:\n",
    "                return False\n",
    "        except:\n",
    "            return False\n",
    "\n",
    "    def check_http_url(url):\n",
    "        if 'http://' in url:\n",
    "            HTTP_URL = url\n",
    "        else:\n",
    "            HTTP_URL = f'http://{url}'\n",
    "        print(HTTP_URL)\n",
    "        try:\n",
    "            HTTP_URL = urlparse(HTTP_URL)\n",
    "            connection = HTTPConnection(HTTP_URL.netloc)\n",
    "            connection.request('HEAD', HTTP_URL.path)\n",
    "            if connection.getresponse():\n",
    "                return True\n",
    "            else:\n",
    "                return False\n",
    "        except:\n",
    "            return False\n",
    "\n",
    "    if check_https_url(url):\n",
    "        return 0\n",
    "    elif check_http_url(url):\n",
    "        return 1\n",
    "    else:\n",
    "        return 1"
   ]
  },
  {
   "cell_type": "code",
   "execution_count": 56,
   "metadata": {},
   "outputs": [],
   "source": [
    "def havingIP(url):\n",
    "    try:\n",
    "        ipaddress.ip_address(url)\n",
    "        ip = 1\n",
    "    except:\n",
    "        ip = 0\n",
    "    return ip"
   ]
  },
  {
   "cell_type": "code",
   "execution_count": 59,
   "metadata": {},
   "outputs": [],
   "source": [
    "def getDepth(url):\n",
    "    s = urlparse(url).path.split('/')\n",
    "    depth = 0\n",
    "    for j in range(len(s)):\n",
    "        if len(s[j]) != 0:\n",
    "            depth = depth+1\n",
    "    return depth"
   ]
  },
  {
   "cell_type": "code",
   "execution_count": 58,
   "metadata": {},
   "outputs": [],
   "source": [
    "url='https://github.com/ESDAUNG/PhishDataset/blob/main/data_bal%20-%2020000.xlsx'"
   ]
  },
  {
   "cell_type": "code",
   "execution_count": 62,
   "metadata": {},
   "outputs": [],
   "source": [
    "domain_name='www.github.com'"
   ]
  },
  {
   "cell_type": "code",
   "execution_count": 73,
   "metadata": {},
   "outputs": [],
   "source": [
    "def domainAge(domain_name):\n",
    "    creation_date = domain_name.creation_date\n",
    "    expiration_date = domain_name.expiration_date\n",
    "    if (isinstance(creation_date, str) or isinstance(expiration_date, str)):\n",
    "        try:\n",
    "            creation_date = datetime.strptime(creation_date, '%Y-%m-%d')\n",
    "            expiration_date = datetime.strptime(expiration_date, \"%Y-%m-%d\")\n",
    "        except:\n",
    "            return 1\n",
    "    if ((expiration_date is None) or (creation_date is None)):\n",
    "        return 1\n",
    "    elif ((type(expiration_date) is list) or (type(creation_date) is list)):\n",
    "        return 1\n",
    "    else:\n",
    "        ageofdomain = abs((expiration_date - creation_date).days)\n",
    "        if ((ageofdomain/30) < 6):\n",
    "            age = 1\n",
    "        else:\n",
    "            age = 0\n",
    "    return age"
   ]
  },
  {
   "cell_type": "code",
   "execution_count": 74,
   "metadata": {},
   "outputs": [],
   "source": [
    "def domainEnd(domain_name):\n",
    "    expiration_date = domain_name.expiration_date\n",
    "    if isinstance(expiration_date, str):\n",
    "        try:\n",
    "            expiration_date = datetime.strptime(expiration_date, \"%Y-%m-%d\")\n",
    "        except:\n",
    "            return 1\n",
    "    if (expiration_date is None):\n",
    "        return 1\n",
    "    elif (type(expiration_date) is list):\n",
    "        return 1\n",
    "    else:\n",
    "        today = datetime.now()\n",
    "        end = abs((expiration_date - today).days)\n",
    "        if ((end/30) < 6):\n",
    "            end = 0\n",
    "        else:\n",
    "            end = 1\n",
    "    return end"
   ]
  },
  {
   "cell_type": "code",
   "execution_count": 75,
   "metadata": {},
   "outputs": [],
   "source": [
    "import requests"
   ]
  },
  {
   "cell_type": "code",
   "execution_count": 76,
   "metadata": {},
   "outputs": [],
   "source": [
    "def iframe(response):\n",
    "    if response == \"\":\n",
    "        return 1\n",
    "    else:\n",
    "        if re.findall(r\"[<iframe>|<frameBorder>]\", response.text):\n",
    "            return 0\n",
    "        else:\n",
    "            return 1"
   ]
  },
  {
   "cell_type": "code",
   "execution_count": 77,
   "metadata": {},
   "outputs": [],
   "source": [
    "def mouseOver(response):\n",
    "    if response == \"\":\n",
    "        return 1\n",
    "    else:\n",
    "        if re.findall(\"<script>.+onmouseover.+</script>\", response.text):\n",
    "            return 1\n",
    "        else:\n",
    "            return 0"
   ]
  },
  {
   "cell_type": "code",
   "execution_count": 78,
   "metadata": {},
   "outputs": [],
   "source": [
    "def rightClick(response):\n",
    "    if response == \"\":\n",
    "        return 1\n",
    "    else:\n",
    "        if re.findall(r\"event.button ?== ?2\", response.text):\n",
    "            return 0\n",
    "        else:\n",
    "            return 1"
   ]
  },
  {
   "cell_type": "code",
   "execution_count": 79,
   "metadata": {},
   "outputs": [],
   "source": [
    "def forwarding(response):\n",
    "    if response == \"\":\n",
    "        return 1\n",
    "    else:\n",
    "        if len(response.history) <= 2:\n",
    "            return 0\n",
    "        else:\n",
    "            return 1"
   ]
  },
  {
   "cell_type": "code",
   "execution_count": 85,
   "metadata": {},
   "outputs": [],
   "source": [
    "def UsingPopupWindow(self):\n",
    "    try:\n",
    "        if re.findall(r\"alert\\(\", self.response.text):\n",
    "            return 0\n",
    "        else:\n",
    "            return 1\n",
    "    except:\n",
    "        return 1"
   ]
  },
  {
   "cell_type": "code",
   "execution_count": 86,
   "metadata": {},
   "outputs": [],
   "source": [
    "def PageRank(self):\n",
    "    try:\n",
    "        prank_checker_response = requests.post(\n",
    "            \"https://www.checkpagerank.net/index.php\", {\"name\": self.domain})\n",
    "\n",
    "        global_rank = int(re.findall(\n",
    "            r\"Global Rank: ([0-9]+)\", rank_checker_response.text)[0])\n",
    "        if global_rank > 0 and global_rank < 100000:\n",
    "            return 0\n",
    "        return 1\n",
    "    except:\n",
    "        return 1"
   ]
  },
  {
   "cell_type": "code",
   "execution_count": 87,
   "metadata": {},
   "outputs": [],
   "source": [
    "def GoogleIndex(self):\n",
    "    try:\n",
    "        site = search(self.url, 5)\n",
    "        if site:\n",
    "            return 0\n",
    "        else:\n",
    "            return 1\n",
    "    except:\n",
    "        return 0"
   ]
  },
  {
   "cell_type": "code",
   "execution_count": 88,
   "metadata": {},
   "outputs": [],
   "source": [
    "def LinksPointingToPage(self):\n",
    "    try:\n",
    "        number_of_links = len(re.findall(r\"<a href=\", self.response.text))\n",
    "        if number_of_links == 0:\n",
    "            return 0\n",
    "        elif number_of_links <= 2:\n",
    "            return -1\n",
    "        else:\n",
    "            return 1\n",
    "    except:\n",
    "        return 1"
   ]
  },
  {
   "cell_type": "code",
   "execution_count": 89,
   "metadata": {},
   "outputs": [],
   "source": [
    "def StatsReport(self):\n",
    "    try:\n",
    "        url_match = re.search(\n",
    "            'at\\.ua|usa\\.cc|baltazarpresentes\\.com\\.br|pe\\.hu|esy\\.es|hol\\.es|sweddy\\.com|myjino\\.ru|96\\.lt|ow\\.ly', url)\n",
    "        ip_address = socket.gethostbyname(self.domain)\n",
    "        ip_match = re.search('146\\.112\\.61\\.108|213\\.174\\.157\\.151|121\\.50\\.168\\.88|192\\.185\\.217\\.116|78\\.46\\.211\\.158|181\\.174\\.165\\.13|46\\.242\\.145\\.103|121\\.50\\.168\\.40|83\\.125\\.22\\.219|46\\.242\\.145\\.98|'\n",
    "                             '107\\.151\\.148\\.44|107\\.151\\.148\\.107|64\\.70\\.19\\.203|199\\.184\\.144\\.27|107\\.151\\.148\\.108|107\\.151\\.148\\.109|119\\.28\\.52\\.61|54\\.83\\.43\\.69|52\\.69\\.166\\.231|216\\.58\\.192\\.225|'\n",
    "                             '118\\.184\\.25\\.86|67\\.208\\.74\\.71|23\\.253\\.126\\.58|104\\.239\\.157\\.210|175\\.126\\.123\\.219|141\\.8\\.224\\.221|10\\.10\\.10\\.10|43\\.229\\.108\\.32|103\\.232\\.215\\.140|69\\.172\\.201\\.153|'\n",
    "                             '216\\.218\\.185\\.162|54\\.225\\.104\\.146|103\\.243\\.24\\.98|199\\.59\\.243\\.120|31\\.170\\.160\\.61|213\\.19\\.128\\.77|62\\.113\\.226\\.131|208\\.100\\.26\\.234|195\\.16\\.127\\.102|195\\.16\\.127\\.157|'\n",
    "                             '34\\.196\\.13\\.28|103\\.224\\.212\\.222|172\\.217\\.4\\.225|54\\.72\\.9\\.51|192\\.64\\.147\\.141|198\\.200\\.56\\.183|23\\.253\\.164\\.103|52\\.48\\.191\\.26|52\\.214\\.197\\.72|87\\.98\\.255\\.18|209\\.99\\.17\\.27|'\n",
    "                             '216\\.38\\.62\\.18|104\\.130\\.124\\.96|47\\.89\\.58\\.141|78\\.46\\.211\\.158|54\\.86\\.225\\.156|54\\.82\\.156\\.19|37\\.157\\.192\\.102|204\\.11\\.56\\.48|110\\.34\\.231\\.42', ip_address)\n",
    "        if url_match:\n",
    "            return 1\n",
    "        elif ip_match:\n",
    "            return 1\n",
    "        return 0\n",
    "    except:\n",
    "        return 0"
   ]
  },
  {
   "cell_type": "code",
   "execution_count": 90,
   "metadata": {},
   "outputs": [],
   "source": [
    "def AbnormalURL(self):\n",
    "    try:\n",
    "        if self.response.text == self.whois_response:\n",
    "            return 0\n",
    "        else:\n",
    "            return 1\n",
    "    except:\n",
    "        return 1"
   ]
  },
  {
   "cell_type": "code",
   "execution_count": 91,
   "metadata": {},
   "outputs": [],
   "source": [
    "def InfoEmail(self):\n",
    "    try:\n",
    "        if re.findall(r\"[mail\\(\\)|mailto:?]\", self.soap):\n",
    "            return 1\n",
    "        else:\n",
    "            return 0\n",
    "    except:\n",
    "        return 1"
   ]
  },
  {
   "cell_type": "code",
   "execution_count": 92,
   "metadata": {},
   "outputs": [],
   "source": [
    "def ServerFormHandler(self):\n",
    "    try:\n",
    "        if len(self.soup.find_all('form', action=True)) == 0:\n",
    "            return 1\n",
    "        else:\n",
    "            for form in self.soup.find_all('form', action=True):\n",
    "                if form['action'] == \"\" or form['action'] == \"about:blank\":\n",
    "                    return 1\n",
    "                elif self.url not in form['action'] and self.domain not in form['action']:\n",
    "                    return -1\n",
    "                else:\n",
    "                    return 0\n",
    "    except:\n",
    "        return 1"
   ]
  },
  {
   "cell_type": "code",
   "execution_count": 93,
   "metadata": {},
   "outputs": [],
   "source": [
    "def LinksInScriptTags(self):\n",
    "        try:\n",
    "            i,success = 0,0\n",
    "        \n",
    "            for link in self.soup.find_all('link', href=True):\n",
    "                dots = [x.start(0) for x in re.finditer('\\.', link['href'])]\n",
    "                if self.url in link['href'] or self.domain in link['href'] or len(dots) == 1:\n",
    "                    success = success + 1\n",
    "                i = i+1\n",
    "\n",
    "            for script in self.soup.find_all('script', src=True):\n",
    "                dots = [x.start(0) for x in re.finditer('\\.', script['src'])]\n",
    "                if self.url in script['src'] or self.domain in script['src'] or len(dots) == 1:\n",
    "                    success = success + 1\n",
    "                i = i+1\n",
    "\n",
    "            try:\n",
    "                percentage = success / float(i) * 100\n",
    "                if percentage < 17.0:\n",
    "                    return 0\n",
    "                elif((percentage >= 17.0) and (percentage < 81.0)):\n",
    "                    return -1\n",
    "                else:\n",
    "                    return 1\n",
    "            except:\n",
    "                return -1\n",
    "        except:\n",
    "            return 1"
   ]
  },
  {
   "cell_type": "code",
   "execution_count": null,
   "metadata": {},
   "outputs": [],
   "source": [
    "def AnchorURL(self):\n",
    "        try:\n",
    "            i,unsafe = 0,0\n",
    "            for a in self.soup.find_all('a', href=True):\n",
    "                if \"#\" in a['href'] or \"javascript\" in a['href'].lower() or \"mailto\" in a['href'].lower() or not (url in a['href'] or self.domain in a['href']):\n",
    "                    unsafe = unsafe + 1\n",
    "                i = i + 1\n",
    "\n",
    "            try:\n",
    "                percentage = unsafe / float(i) * 100\n",
    "                if percentage < 31.0:\n",
    "                    return 1\n",
    "                elif ((percentage >= 31.0) and (percentage < 67.0)):\n",
    "                    return 0\n",
    "                else:\n",
    "                    return -1\n",
    "            except:\n",
    "                return -1\n",
    "\n",
    "        except:\n",
    "            return -1"
   ]
  },
  {
   "cell_type": "code",
   "execution_count": 96,
   "metadata": {},
   "outputs": [],
   "source": [
    "from nltk.tokenize import RegexpTokenizer  \n",
    "from nltk.stem.snowball import SnowballStemmer\n",
    "\n",
    "def countWords(self):\n",
    "    tokenizer = RegexpTokenizer(r'[A-Za-z]+')\n",
    "    temp = tokenizer.tokenize(self.url)\n",
    "    com=0\n",
    "    sus=0\n",
    "    for i in temp:\n",
    "        if i in common_word:\n",
    "            com+=1\n",
    "        elif i in suspicious_words:\n",
    "            sus+=1\n",
    "        else:\n",
    "            pass\n",
    "    return com,sus"
   ]
  },
  {
   "cell_type": "code",
   "execution_count": 2,
   "metadata": {},
   "outputs": [
    {
     "ename": "NameError",
     "evalue": "name 'RegexpTokenizer' is not defined",
     "output_type": "error",
     "traceback": [
      "\u001b[1;31m---------------------------------------------------------------------------\u001b[0m",
      "\u001b[1;31mNameError\u001b[0m                                 Traceback (most recent call last)",
      "Cell \u001b[1;32mIn[2], line 33\u001b[0m\n\u001b[0;32m     29\u001b[0m         \u001b[39mreturn\u001b[39;00m temp[\u001b[39m0\u001b[39m]\n\u001b[0;32m     32\u001b[0m pt\u001b[39m=\u001b[39mjunk(\u001b[39m'\u001b[39m\u001b[39mwww.google.com\u001b[39m\u001b[39m'\u001b[39m)\n\u001b[1;32m---> 33\u001b[0m \u001b[39mprint\u001b[39m(pt\u001b[39m.\u001b[39;49mcountSus())\n",
      "Cell \u001b[1;32mIn[2], line 24\u001b[0m, in \u001b[0;36mjunk.countSus\u001b[1;34m(self)\u001b[0m\n\u001b[0;32m     23\u001b[0m \u001b[39mdef\u001b[39;00m \u001b[39mcountSus\u001b[39m(\u001b[39mself\u001b[39m):\n\u001b[1;32m---> 24\u001b[0m     temp\u001b[39m=\u001b[39m\u001b[39mself\u001b[39;49m\u001b[39m.\u001b[39;49mcountWords()\n\u001b[0;32m     25\u001b[0m     \u001b[39mreturn\u001b[39;00m temp[\u001b[39m1\u001b[39m]\n",
      "Cell \u001b[1;32mIn[2], line 10\u001b[0m, in \u001b[0;36mjunk.countWords\u001b[1;34m(self)\u001b[0m\n\u001b[0;32m      9\u001b[0m \u001b[39mdef\u001b[39;00m \u001b[39mcountWords\u001b[39m(\u001b[39mself\u001b[39m):\n\u001b[1;32m---> 10\u001b[0m     tokenizer \u001b[39m=\u001b[39m RegexpTokenizer(\u001b[39mr\u001b[39m\u001b[39m'\u001b[39m\u001b[39m[A-Za-z]+\u001b[39m\u001b[39m'\u001b[39m)\n\u001b[0;32m     11\u001b[0m     temp \u001b[39m=\u001b[39m tokenizer\u001b[39m.\u001b[39mtokenize(\u001b[39mself\u001b[39m\u001b[39m.\u001b[39murl)\n\u001b[0;32m     12\u001b[0m     com\u001b[39m=\u001b[39m\u001b[39m0\u001b[39m\n",
      "\u001b[1;31mNameError\u001b[0m: name 'RegexpTokenizer' is not defined"
     ]
    }
   ],
   "source": [
    "class junk:\n",
    "    def __init__(self,url):\n",
    "        self.url=url\n",
    "\n",
    "        self.common_words=['google','amazon','paypal','flipkart','gmail','sbi']\n",
    "        self.suspicious_words=['click','verify','valid','update','account','confirm','banking','secure','signin','install','backup','paypal','password','username']\n",
    "        \n",
    "\n",
    "    def countWords(self):\n",
    "        tokenizer = RegexpTokenizer(r'[A-Za-z]+')\n",
    "        temp = tokenizer.tokenize(self.url)\n",
    "        com=0\n",
    "        sus=0\n",
    "        for i in temp:\n",
    "            if i.lower() in self.common_words:\n",
    "                com+=1\n",
    "            elif i.lower() in self.suspicious_words:\n",
    "                sus+=1\n",
    "            else:\n",
    "                pass\n",
    "        return com,sus\n",
    "    \n",
    "    def countSus(self):\n",
    "        temp=self.countWords()\n",
    "        return temp[1]\n",
    "    \n",
    "    def countCom(self):\n",
    "        temp=self.countWords()\n",
    "        return temp[0]\n",
    "\n",
    "\n",
    "pt=junk('www.google.com')\n",
    "print(pt.countSus())"
   ]
  },
  {
   "cell_type": "code",
   "execution_count": null,
   "metadata": {},
   "outputs": [],
   "source": []
  }
 ],
 "metadata": {
  "kernelspec": {
   "display_name": "hackathon",
   "language": "python",
   "name": "python3"
  },
  "language_info": {
   "codemirror_mode": {
    "name": "ipython",
    "version": 3
   },
   "file_extension": ".py",
   "mimetype": "text/x-python",
   "name": "python",
   "nbconvert_exporter": "python",
   "pygments_lexer": "ipython3",
   "version": "3.9.16"
  },
  "orig_nbformat": 4
 },
 "nbformat": 4,
 "nbformat_minor": 2
}
